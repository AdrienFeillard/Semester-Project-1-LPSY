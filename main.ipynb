{
 "cells": [
  {
   "cell_type": "code",
   "id": "initial_id",
   "metadata": {
    "collapsed": true,
    "ExecuteTime": {
     "end_time": "2025-01-09T19:59:29.660381Z",
     "start_time": "2025-01-09T19:59:29.628624Z"
    }
   },
   "source": [
    "import file_handling\n",
    "import data_processing\n",
    "import visualization\n",
    "import computation\n",
    "import RESS_filter\n",
    "import importlib\n",
    "\n",
    "importlib.reload(file_handling)\n",
    "importlib.reload(data_processing)\n",
    "importlib.reload(visualization)\n",
    "importlib.reload(computation)\n",
    "importlib.reload(RESS_filter)\n",
    "\n",
    "\n",
    "from file_handling import *\n",
    "from data_processing import *\n",
    "from visualization import *\n",
    "from computation import *\n",
    "from RESS_filter import *\n",
    "\n",
    "import matplotlib\n",
    "matplotlib.use('Agg')"
   ],
   "outputs": [],
   "execution_count": 73
  },
  {
   "metadata": {},
   "cell_type": "markdown",
   "source": "# Loading of the data",
   "id": "9ed550955d695cf5"
  },
  {
   "metadata": {
    "ExecuteTime": {
     "end_time": "2025-01-09T13:35:48.139155Z",
     "start_time": "2025-01-09T13:35:25.209508Z"
    }
   },
   "cell_type": "code",
   "source": [
    "adr_train,adr_electrodes_pos,adr_train_bad_ch = load_eeg('./Data/TrainData/ADR_train.mat')\n",
    "adr_test, _ , adr_test_bad_ch = load_eeg('./Data/TrainData/ADR_test.mat')\n",
    "\n",
    "p6_train, p6_electrodes_pos, p6_train_bad_ch = load_eeg('./Data/TrainData/P6_train.mat')\n",
    "p6_test, _ , p6_test_bad_ch = load_eeg('./Data/TrainData/P6_test.mat')\n",
    "\n",
    "p7_train, p7_electrodes_pos, p7_train_bad_ch = load_eeg('./Data/TrainData/P7_train.mat')\n",
    "p7_test, _ , p7_test_bad_ch = load_eeg('./Data/TrainData/P7_test.mat')\n",
    "\n",
    "p8_train, p8_electrodes_pos, p8_train_bad_ch = load_eeg('./Data/TrainData/P8_train.mat')\n",
    "p8_test, _ , p8_test_bad_ch = load_eeg('./Data/TrainData/P8_test.mat')"
   ],
   "id": "88f2bda51420d7db",
   "outputs": [
    {
     "name": "stdout",
     "output_type": "stream",
     "text": [
      "Loading EEG from ./Data/TrainData/ADR_train.mat\n",
      "Loading EEG from ./Data/TrainData/ADR_test.mat\n",
      "Loading EEG from ./Data/TrainData/P6_train.mat\n",
      "No bad channels in the data\n",
      "Loading EEG from ./Data/TrainData/P6_test.mat\n",
      "No bad channels in the data\n",
      "Loading EEG from ./Data/TrainData/P7_train.mat\n",
      "No bad channels in the data\n",
      "Loading EEG from ./Data/TrainData/P7_test.mat\n",
      "Loading EEG from ./Data/TrainData/P8_train.mat\n",
      "Loading EEG from ./Data/TrainData/P8_test.mat\n"
     ]
    }
   ],
   "execution_count": 2
  },
  {
   "metadata": {},
   "cell_type": "markdown",
   "source": "## Data pre-processing",
   "id": "a0e92ece42e6c472"
  },
  {
   "metadata": {
    "ExecuteTime": {
     "end_time": "2025-01-09T13:35:55.237136Z",
     "start_time": "2025-01-09T13:35:48.140271Z"
    }
   },
   "cell_type": "code",
   "source": [
    "print(\"ADR train dataset :\")\n",
    "adr_epochs_train,adr_train = create_epochs(adr_train,n_channels=128, ch_pos=adr_electrodes_pos, bad_channels= adr_train_bad_ch, baseline=None)\n",
    "print(\"ADR test dataset :\")\n",
    "adr_epochs_test,adr_test = create_epochs(adr_test,n_channels=128, ch_pos=adr_electrodes_pos, bad_channels= adr_test_bad_ch, baseline=None)\n",
    "\n",
    "adr_epochs_train, adr_epochs_test = synchronize_channels_directly(adr_epochs_train, adr_epochs_test)\n",
    "\n",
    "print(\"p6 train dataset :\")\n",
    "p6_epochs_train, p6_train = create_epochs(p6_train,n_channels=128, ch_pos=p6_electrodes_pos, bad_channels= p6_train_bad_ch, baseline=None)\n",
    "print(\"p6 test dataset :\")\n",
    "p6_epochs_test, p6_test = create_epochs(p6_test,n_channels=128, ch_pos=p6_electrodes_pos, bad_channels= p6_test_bad_ch, baseline=None)\n",
    "\n",
    "p6_epochs_train, p6_epochs_test = synchronize_channels_directly(p6_epochs_train, p6_epochs_test)\n",
    "\n",
    "print(\"p7 train dataset :\")\n",
    "p7_epochs_train, p7_train = create_epochs(p7_train,n_channels=128, ch_pos=p7_electrodes_pos, bad_channels= p7_train_bad_ch, baseline=None)\n",
    "print(\"p7 test dataset :\")\n",
    "p7_epochs_test, p7_test = create_epochs(p7_test,n_channels=128, ch_pos=p7_electrodes_pos, bad_channels= p7_test_bad_ch, baseline=None)\n",
    "\n",
    "p7_epochs_train, p7_epochs_test = synchronize_channels_directly(p7_epochs_train, p7_epochs_test)\n",
    "\n",
    "print(\"p8 train dataset :\")\n",
    "p8_epochs_train, p8_train = create_epochs(p8_train,n_channels=128, ch_pos=p8_electrodes_pos, bad_channels= p8_train_bad_ch, baseline=None)\n",
    "print(\"p8 test dataset :\")\n",
    "p8_epochs_test, p8_test = create_epochs(p8_test,n_channels=128, ch_pos=p8_electrodes_pos, bad_channels= p8_test_bad_ch, baseline=None)\n",
    "\n",
    "p8_epochs_train, p8_epochs_test = synchronize_channels_directly(p8_epochs_train, p8_epochs_test)"
   ],
   "id": "585d390ffbc7b32b",
   "outputs": [
    {
     "name": "stdout",
     "output_type": "stream",
     "text": [
      "ADR train dataset :\n",
      "Dropping bad channels: ['B3', 'C32', 'D6']\n",
      "Dropping zero channels: ['A1']\n",
      "Dropping zero epochs: [3, 31, 43, 72, 74, 80, 139, 147, 218, 259, 296, 300]\n",
      "ADR test dataset :\n",
      "Dropping bad channels: ['B3', 'C32', 'D6', 'D7']\n",
      "Dropping zero channels: ['A1']\n",
      "Dropping zero epochs: [169, 187, 200, 201, 212, 215, 260, 261, 262, 271, 290, 293, 300, 301]\n",
      "p6 train dataset :\n",
      "Dropping bad channels: []\n",
      "Dropping zero channels: []\n",
      "Dropping zero epochs: []\n",
      "p6 test dataset :\n",
      "Dropping bad channels: []\n",
      "Dropping zero channels: []\n",
      "Dropping zero epochs: []\n",
      "p7 train dataset :\n",
      "Dropping bad channels: []\n",
      "Dropping zero channels: []\n",
      "Dropping zero epochs: [71, 72, 73, 88, 89, 100, 120, 130, 131, 142, 161, 162, 188, 189, 190, 191, 192, 243, 252, 253, 263, 300, 301, 302, 303, 337, 353, 368, 387, 390, 395, 433, 437, 440, 457, 458, 459, 487, 488, 489, 490, 494]\n",
      "p7 test dataset :\n",
      "Dropping bad channels: ['B15']\n",
      "Dropping zero channels: []\n",
      "Dropping zero epochs: []\n",
      "p8 train dataset :\n",
      "Dropping bad channels: ['A26', 'A27']\n",
      "Dropping zero channels: []\n",
      "Dropping zero epochs: [17, 18, 19, 163, 164, 340, 440, 513]\n",
      "p8 test dataset :\n",
      "Dropping bad channels: ['A14', 'A25']\n",
      "Dropping zero channels: []\n",
      "Dropping zero epochs: [404, 405, 407, 409, 411, 417, 422]\n"
     ]
    }
   ],
   "execution_count": 3
  },
  {
   "metadata": {},
   "cell_type": "markdown",
   "source": "# Raw Data analysis",
   "id": "267ddaa8b5d1d46e"
  },
  {
   "metadata": {},
   "cell_type": "markdown",
   "source": "## PSD on raw data",
   "id": "3c407a6e07bcf90f"
  },
  {
   "metadata": {
    "ExecuteTime": {
     "end_time": "2025-01-09T19:59:14.698972Z",
     "start_time": "2025-01-09T19:57:11.158723Z"
    }
   },
   "cell_type": "code",
   "source": [
    "adr_psd_train = compute_psd(adr_epochs_train,tmin=0.0, tmax=3.0)\n",
    "save_psd_plot(adr_psd_train,output_dir='./Image/PSD_plots/Raw', filename= \"adr_train_psd_plot\", title= \"PSD ADR Train Raw data\")\n",
    "\n",
    "adr_psd_test = compute_psd(adr_epochs_test, tmin=0.0, tmax=3.0)\n",
    "save_psd_plot(adr_psd_test,output_dir='./Image/PSD_plots/Raw', filename=\"adr_test_psd_plot\", title= \"PSD ADR Test Raw data\")\n",
    "\n",
    "p6_psd_train = compute_psd(p6_epochs_train)\n",
    "save_psd_plot(p6_psd_train,output_dir='./Image/PSD_plots/Raw', filename=\"p6_train_psd_plot\", title= \"PSD P6 Train Raw data\")\n",
    "\n",
    "p6_psd_test = compute_psd(p6_epochs_test)\n",
    "save_psd_plot(p6_psd_test,output_dir='./Image/PSD_plots/Raw', filename=\"p6_test_psd_plot\", title= \"PSD P6 Test Raw data\")\n",
    "\n",
    "p7_psd_train = compute_psd(p7_epochs_train)\n",
    "save_psd_plot(p7_psd_train, output_dir='./Image/PSD_plots/Raw', filename=\"p7_train_psd_plot\", title= \"PSD P7 Train Raw data\")\n",
    "\n",
    "p7_psd_test = compute_psd(p7_epochs_test)\n",
    "save_psd_plot(p7_psd_test, output_dir='./Image/PSD_plots/Raw', filename=\"p7_test_psd_plot\", title= \"PSD P7 Test Raw data\")\n",
    "\n",
    "p8_psd_train = compute_psd(p8_epochs_train)\n",
    "save_psd_plot(p8_psd_train,output_dir='./Image/PSD_plots/Raw', filename=\"p8_train_psd_plot\", title= \"PSD P8 Train Raw data\")\n",
    "\n",
    "p8_psd_test = compute_psd(p8_epochs_test)\n",
    "save_psd_plot(p8_psd_test,output_dir='./Image/PSD_plots/Raw', filename=\"p8_test_psd_plot\", title= \"PSD P8 Test Raw data\")\n"
   ],
   "id": "8fd1aea45d9571c7",
   "outputs": [
    {
     "name": "stdout",
     "output_type": "stream",
     "text": [
      "Effective window size : 3.000 (s)\n",
      "Averaging across epochs...\n",
      "PSD plot saved as './Image/PSD_plots/Raw\\adr_train_psd_plot.png'\n",
      "Effective window size : 3.000 (s)\n",
      "Averaging across epochs...\n",
      "PSD plot saved as './Image/PSD_plots/Raw\\adr_test_psd_plot.png'\n",
      "Effective window size : 2.000 (s)\n",
      "Averaging across epochs...\n",
      "PSD plot saved as './Image/PSD_plots/Raw\\p6_train_psd_plot.png'\n",
      "Effective window size : 2.000 (s)\n",
      "Averaging across epochs...\n",
      "PSD plot saved as './Image/PSD_plots/Raw\\p6_test_psd_plot.png'\n",
      "Effective window size : 2.000 (s)\n",
      "Averaging across epochs...\n",
      "PSD plot saved as './Image/PSD_plots/Raw\\p7_train_psd_plot.png'\n",
      "Effective window size : 2.000 (s)\n",
      "Averaging across epochs...\n",
      "PSD plot saved as './Image/PSD_plots/Raw\\p7_test_psd_plot.png'\n",
      "Effective window size : 2.000 (s)\n",
      "Averaging across epochs...\n",
      "PSD plot saved as './Image/PSD_plots/Raw\\p8_train_psd_plot.png'\n",
      "Effective window size : 2.000 (s)\n",
      "Averaging across epochs...\n",
      "PSD plot saved as './Image/PSD_plots/Raw\\p8_test_psd_plot.png'\n"
     ]
    }
   ],
   "execution_count": 71
  },
  {
   "metadata": {
    "ExecuteTime": {
     "end_time": "2025-01-09T20:01:42.528682Z",
     "start_time": "2025-01-09T19:59:34.388639Z"
    }
   },
   "cell_type": "code",
   "source": [
    "datasets = {\n",
    "    \"P8\": [p8_epochs_train, p8_epochs_test],\n",
    "    \"P7\": [p7_epochs_train, p7_epochs_test],\n",
    "    \"P6\": [p6_epochs_train, p6_epochs_test],\n",
    "    \"ADR\": [adr_epochs_train, adr_epochs_test],\n",
    "}\n",
    "\n",
    "colors = ['b', 'g', 'r', 'c']\n",
    "i = 0\n",
    "for label, (train_epochs, test_epochs) in datasets.items():\n",
    "    save_path = f\"./Image/PSD_Topomap_plots/{label}_mean_psd.png\"\n",
    "    color = colors[i]\n",
    "    i += 1\n",
    "    compute_and_plot_mean_psd_topo(train_epochs, test_epochs, color=color, save_path=save_path)"
   ],
   "id": "f0392e9f458528f1",
   "outputs": [
    {
     "name": "stdout",
     "output_type": "stream",
     "text": [
      "Effective window size : 2.000 (s)\n",
      "Effective window size : 2.000 (s)\n",
      "Effective window size : 2.000 (s)\n",
      "Effective window size : 3.000 (s)\n"
     ]
    }
   ],
   "execution_count": 74
  },
  {
   "metadata": {},
   "cell_type": "markdown",
   "source": "## ICA on Raw data",
   "id": "28140d3980d0506f"
  },
  {
   "metadata": {
    "ExecuteTime": {
     "end_time": "2025-01-05T19:29:04.531859Z",
     "start_time": "2025-01-05T19:21:35.169407Z"
    }
   },
   "cell_type": "code",
   "source": [
    "import warnings\n",
    "\n",
    "warnings.filterwarnings(\n",
    "    \"ignore\",\n",
    "    category=RuntimeWarning,\n",
    "    message=\"The data has not been high-pass filtered.*\"\n",
    ")\n",
    "\n",
    "adr_ica_train = mne.preprocessing.ICA(n_components=10, method='infomax', random_state=42, verbose = 'CRITICAL')\n",
    "adr_ica_train.fit(inst=adr_epochs_train)\n",
    "adr_ica_test = mne.preprocessing.ICA(n_components=10, method='infomax', random_state=42, verbose = 'CRITICAL')\n",
    "adr_ica_test.fit(inst=adr_epochs_test)\n",
    "\n",
    "p6_ica_train = mne.preprocessing.ICA(n_components=10, method='infomax', random_state=42, verbose = 'CRITICAL')\n",
    "p6_ica_train.fit(inst=p6_epochs_train)\n",
    "p6_ica_test = mne.preprocessing.ICA(n_components=10, method='infomax', random_state=42, verbose = 'CRITICAL')\n",
    "p6_ica_test.fit(inst=p6_epochs_test)\n",
    "\n",
    "p7_ica_train = mne.preprocessing.ICA(n_components=10, method='infomax', random_state=42, verbose = 'CRITICAL')\n",
    "p7_ica_train.fit(inst=p7_epochs_train)\n",
    "p7_ica_test = mne.preprocessing.ICA(n_components=10, method='infomax', random_state=42, verbose = 'CRITICAL')\n",
    "p7_ica_test.fit(inst=p7_epochs_test)\n",
    "\n",
    "p8_ica_train = mne.preprocessing.ICA(n_components=10, method='infomax', random_state=42, verbose = 'CRITICAL')\n",
    "p8_ica_train.fit(inst=p8_epochs_train)\n",
    "p8_ica_test = mne.preprocessing.ICA(n_components=10, method='infomax', random_state=42, verbose = 'CRITICAL')\n",
    "p8_ica_test.fit(inst=p8_epochs_test)\n",
    "\n",
    "save_ica_component_properties(adr_ica_train, adr_epochs_train, \"adr_train\", output_dir=\"./Image/ICA/Raw Data/ADR Train\")\n",
    "save_ica_component_properties(adr_ica_test,adr_epochs_test, \"adr_test\", output_dir=\"./Image/ICA/Raw Data/ADR Test\")\n",
    "\n",
    "save_ica_component_properties(p6_ica_train, p6_epochs_train, \"p6_train\", output_dir=\"./Image/ICA/Raw Data/P6 Train\")\n",
    "save_ica_component_properties(p6_ica_test,p6_epochs_test, \"p6_test\", output_dir=\"./Image/ICA/Raw Data/P6 Test\")\n",
    "\n",
    "save_ica_component_properties(p7_ica_train,p7_epochs_train, \"p7_train\", output_dir=\"./Image/ICA/Raw Data/P7 Train\")\n",
    "save_ica_component_properties(p7_ica_test,p7_epochs_test, \"p7_test\", output_dir=\"./Image/ICA/Raw Data/P7 Test\")\n",
    "\n",
    "save_ica_component_properties(p8_ica_train, p8_epochs_train, \"p8_train\", output_dir=\"./Image/ICA/Raw Data/P8 Train\")\n",
    "save_ica_component_properties(p8_ica_test,p8_epochs_test, \"p8_test\", output_dir=\"./Image/ICA/Raw Data/P8 Test\")\n"
   ],
   "id": "a6c4d1fe0fc60802",
   "outputs": [
    {
     "name": "stdout",
     "output_type": "stream",
     "text": [
      "Fitting ICA to data using 123 channels (please be patient, this may take a while)\n",
      "Selecting by number: 10 components\n",
      " \n",
      "Fitting ICA took 45.6s.\n",
      "Fitting ICA to data using 123 channels (please be patient, this may take a while)\n",
      "Selecting by number: 10 components\n",
      " \n",
      "Fitting ICA took 38.3s.\n",
      "Fitting ICA to data using 128 channels (please be patient, this may take a while)\n",
      "Selecting by number: 10 components\n",
      " \n",
      "Fitting ICA took 41.6s.\n",
      "Fitting ICA to data using 128 channels (please be patient, this may take a while)\n",
      "Selecting by number: 10 components\n",
      " \n",
      "Fitting ICA took 43.1s.\n",
      "Fitting ICA to data using 127 channels (please be patient, this may take a while)\n",
      "Selecting by number: 10 components\n",
      " \n",
      "Fitting ICA took 39.4s.\n",
      "Fitting ICA to data using 127 channels (please be patient, this may take a while)\n",
      "Selecting by number: 10 components\n",
      " \n",
      "Fitting ICA took 44.5s.\n",
      "Fitting ICA to data using 124 channels (please be patient, this may take a while)\n",
      "Selecting by number: 10 components\n",
      " \n",
      "Fitting ICA took 42.6s.\n",
      "Fitting ICA to data using 124 channels (please be patient, this may take a while)\n",
      "Selecting by number: 10 components\n",
      " \n",
      "Fitting ICA took 42.3s.\n",
      "All ICA component properties saved to: ./Image/ICA/Raw Data/ADR Train\n",
      "All ICA component properties saved to: ./Image/ICA/Raw Data/ADR Test\n",
      "All ICA component properties saved to: ./Image/ICA/Raw Data/P6 Train\n",
      "All ICA component properties saved to: ./Image/ICA/Raw Data/P6 Test\n",
      "All ICA component properties saved to: ./Image/ICA/Raw Data/P7 Train\n",
      "All ICA component properties saved to: ./Image/ICA/Raw Data/P7 Test\n",
      "All ICA component properties saved to: ./Image/ICA/Raw Data/P8 Train\n",
      "All ICA component properties saved to: ./Image/ICA/Raw Data/P8 Test\n"
     ]
    }
   ],
   "execution_count": 5
  },
  {
   "metadata": {},
   "cell_type": "markdown",
   "source": "# Visual Contrast Threshold Prediction",
   "id": "43920bceb28d2e45"
  },
  {
   "metadata": {},
   "cell_type": "markdown",
   "source": "## LDA",
   "id": "d9e6ed76141e10b"
  },
  {
   "metadata": {
    "ExecuteTime": {
     "end_time": "2025-01-09T11:30:00.704197Z",
     "start_time": "2025-01-09T11:29:18.826388Z"
    }
   },
   "cell_type": "code",
   "source": [
    "compute_accuracy_vs_contrast_with_sigmoid(adr_epochs_train, adr_train, adr_epochs_test, adr_test, 'LDA', predict_baseline = False, plot = True, min_samples=5, output_dir ='./Image/Threshold_Prediction/Raw', filename='ADR_LDA', title = 'ADR Frequency Prediction Accuracy vs Contrast (LDA, Raw Data)'\n",
    "                                          )\n",
    "compute_accuracy_vs_contrast_with_sigmoid(p6_epochs_train, p6_train, p6_epochs_test, p6_test, 'LDA', predict_baseline = False, plot = True, min_samples=5, output_dir ='./Image/Threshold_Prediction/Raw', filename='P6_LDA',title = 'P6 Frequency Prediction Accuracy vs Contrast (LDA, Raw Data)'\n",
    "                                          )\n",
    "compute_accuracy_vs_contrast_with_sigmoid(p7_epochs_train, p7_train, p7_epochs_test, p7_test, 'LDA', predict_baseline = False, plot = True, min_samples=5, output_dir ='./Image/Threshold_Prediction/Raw', filename='P7_LDA',title = 'P7 Frequency Prediction Accuracy vs Contrast (LDA, Raw Data)'\n",
    "                                          )\n",
    "compute_accuracy_vs_contrast_with_sigmoid(p8_epochs_train, p8_train, p8_epochs_test, p8_test, 'LDA', predict_baseline = False, plot = True, min_samples=5, output_dir='./Image/Threshold_Prediction/Raw', filename='P8_LDA',title = 'P8 Frequency Prediction Accuracy vs Contrast (LDA, Raw Data)'\n",
    "                                          )"
   ],
   "id": "8d03d0a555f062a2",
   "outputs": [],
   "execution_count": 26
  },
  {
   "metadata": {},
   "cell_type": "markdown",
   "source": "# SVM",
   "id": "61893ffd5e150371"
  },
  {
   "metadata": {
    "ExecuteTime": {
     "end_time": "2025-01-09T11:34:26.481710Z",
     "start_time": "2025-01-09T11:30:00.705216Z"
    }
   },
   "cell_type": "code",
   "source": [
    "compute_accuracy_vs_contrast_with_sigmoid(adr_epochs_train, adr_train, adr_epochs_test, adr_test, 'SVM', predict_baseline = False, plot = True, min_samples=5, output_dir ='./Image/Threshold_Prediction/Raw', filename='ADR_SVM',title = 'ADR Frequency Prediction Accuracy vs Contrast (SVM, Raw Data)'\n",
    "                                          )\n",
    "compute_accuracy_vs_contrast_with_sigmoid(p6_epochs_train, p6_train, p6_epochs_test, p6_test, 'SVM', predict_baseline = False, plot = True, min_samples=5, output_dir ='./Image/Threshold_Prediction/Raw', filename='P6_SVM',title = 'P6 Frequency Prediction Accuracy vs Contrast (SVM, Raw Data)'\n",
    "                                          )\n",
    "compute_accuracy_vs_contrast_with_sigmoid(p7_epochs_train, p7_train, p7_epochs_test, p7_test, 'SVM', predict_baseline = False, plot = True, min_samples=5, output_dir ='./Image/Threshold_Prediction/Raw', filename='P7_SVM',title = 'P7 Frequency Prediction Accuracy vs Contrast (SVM, Raw Data)'\n",
    "                                          )\n",
    "compute_accuracy_vs_contrast_with_sigmoid(p8_epochs_train, p8_train, p8_epochs_test, p8_test, 'SVM', predict_baseline = False, plot = True, min_samples=5, output_dir='./Image/Threshold_Prediction/Raw', filename='P8_SVM',title = 'P8 Frequency Prediction Accuracy vs Contrast (SVM, Raw Data)'\n",
    "                                          )"
   ],
   "id": "1f07ad4cea08e95e",
   "outputs": [],
   "execution_count": 27
  },
  {
   "metadata": {},
   "cell_type": "markdown",
   "source": "## CNN",
   "id": "94cfc8ba170a4eb"
  },
  {
   "metadata": {
    "ExecuteTime": {
     "end_time": "2025-01-09T11:37:14.180096Z",
     "start_time": "2025-01-09T11:34:26.482712Z"
    }
   },
   "cell_type": "code",
   "source": [
    "compute_accuracy_vs_contrast_with_sigmoid(adr_epochs_train, adr_train, adr_epochs_test, adr_test, 'CNN', predict_baseline = False, plot = True, min_samples=5, output_dir ='./Image/Threshold_Prediction/Raw', filename='ADR_CNN',epochs_cnn=100,verbose_cnn=0,title = 'ADR Frequency Prediction Accuracy vs Contrast (CNN, Raw Data)', max_fev=100000\n",
    "                                          )\n",
    "compute_accuracy_vs_contrast_with_sigmoid(p6_epochs_train, p6_train, p6_epochs_test, p6_test, 'CNN', predict_baseline = False, plot = True, min_samples=5, output_dir ='./Image/Threshold_Prediction/Raw', filename='P6_CNN',epochs_cnn=100,verbose_cnn=0,title = 'P6 Frequency Prediction Accuracy vs Contrast (CNN, Raw Data)', max_fev=100000\n",
    "                                          )\n",
    "compute_accuracy_vs_contrast_with_sigmoid(p7_epochs_train, p7_train, p7_epochs_test, p7_test, 'CNN', predict_baseline = False, plot = True, min_samples=5, output_dir ='./Image/Threshold_Prediction/Raw', filename='P7_CNN',epochs_cnn=100,verbose_cnn=0,title = 'P7 Frequency Prediction Accuracy vs Contrast (CNN, Raw Data)', max_fev=100000\n",
    "                                          )\n",
    "compute_accuracy_vs_contrast_with_sigmoid(p8_epochs_train, p8_train, p8_epochs_test, p8_test, 'CNN', predict_baseline = False, plot = True, min_samples=5, output_dir='./Image/Threshold_Prediction/Raw', filename='P8_CNN',epochs_cnn=100,verbose_cnn=0,title = 'P8 Frequency Prediction Accuracy vs Contrast (CNN, Raw Data)', max_fev=100000\n",
    "                                          )"
   ],
   "id": "f476ff9c0b86315e",
   "outputs": [
    {
     "name": "stdout",
     "output_type": "stream",
     "text": [
      "10/10 [==============================] - 0s 8ms/step\n",
      "17/17 [==============================] - 0s 8ms/step\n",
      "17/17 [==============================] - 0s 7ms/step\n",
      "17/17 [==============================] - 0s 7ms/step\n"
     ]
    }
   ],
   "execution_count": 28
  },
  {
   "metadata": {},
   "cell_type": "markdown",
   "source": "## Filtering channels to keep the 60 bottom ones",
   "id": "d44efdde3aaa1f4"
  },
  {
   "metadata": {
    "ExecuteTime": {
     "end_time": "2025-01-09T10:39:15.032716Z",
     "start_time": "2025-01-09T10:39:14.004654Z"
    }
   },
   "cell_type": "code",
   "source": [
    "adr_epochs_train_ch_filter = filter_electrodes(adr_epochs_train)\n",
    "adr_epochs_test_ch_filter = filter_electrodes(adr_epochs_test)\n",
    "\n",
    "p6_epochs_train_ch_filter = filter_electrodes(p6_epochs_train)\n",
    "p6_epochs_test_ch_filter = filter_electrodes(p6_epochs_test)\n",
    "\n",
    "p7_epochs_train_ch_filter = filter_electrodes(p7_epochs_train)\n",
    "p7_epochs_test_ch_filter = filter_electrodes(p7_epochs_test)\n",
    "\n",
    "\n",
    "p8_epochs_train_ch_filter = filter_electrodes(p8_epochs_train)\n",
    "p8_epochs_test_ch_filter = filter_electrodes(p8_epochs_test)"
   ],
   "id": "7b553f49907ff3de",
   "outputs": [],
   "execution_count": 4
  },
  {
   "metadata": {},
   "cell_type": "markdown",
   "source": "# Visual Contrast Threshold Prediction on Raw Data with filtering of occipital electrode region",
   "id": "44d0391fa1a968eb"
  },
  {
   "metadata": {},
   "cell_type": "markdown",
   "source": "## LDA",
   "id": "d598aae5be4ffa78"
  },
  {
   "metadata": {
    "ExecuteTime": {
     "end_time": "2025-01-09T11:37:34.365427Z",
     "start_time": "2025-01-09T11:37:14.183099Z"
    }
   },
   "cell_type": "code",
   "source": [
    "compute_accuracy_vs_contrast_with_sigmoid(adr_epochs_train_ch_filter, adr_train, adr_epochs_test_ch_filter, adr_test, 'LDA', predict_baseline = False, plot = True, min_samples=5, output_dir ='./Image/Threshold_Prediction/Raw_ch_filter', filename='ADR_LDA', title = 'ADR Frequency Prediction Accuracy vs Contrast (LDA, Filtered channels)'\n",
    "                                          )\n",
    "compute_accuracy_vs_contrast_with_sigmoid(p6_epochs_train_ch_filter, p6_train, p6_epochs_test_ch_filter, p6_test, 'LDA', predict_baseline = False, plot = True, min_samples=5, output_dir ='./Image/Threshold_Prediction/Raw_ch_filter', filename='P6_LDA', title = 'P6 Frequency Prediction Accuracy vs Contrast (LDA, Filtered channels)'\n",
    "                                          )\n",
    "compute_accuracy_vs_contrast_with_sigmoid(p7_epochs_train_ch_filter, p7_train, p7_epochs_test_ch_filter, p7_test, 'LDA', predict_baseline = False, plot = True, min_samples=5, output_dir ='./Image/Threshold_Prediction/Raw_ch_filter', filename='P7_LDA', title = 'P7 Frequency Prediction Accuracy vs Contrast (LDA, Filtered channels)'\n",
    "                                          )\n",
    "compute_accuracy_vs_contrast_with_sigmoid(p8_epochs_train_ch_filter, p8_train, p8_epochs_test_ch_filter, p8_test, 'LDA', predict_baseline = False, plot = True, min_samples=5, output_dir='./Image/Threshold_Prediction/Raw_ch_filter', filename='P8_LDA', title = 'P8 Frequency Prediction Accuracy vs Contrast (LDA, Filtered channels)'\n",
    "                                          )"
   ],
   "id": "90207f350743dff2",
   "outputs": [],
   "execution_count": 29
  },
  {
   "metadata": {},
   "cell_type": "markdown",
   "source": "# SVM",
   "id": "fd6765f031863823"
  },
  {
   "metadata": {
    "ExecuteTime": {
     "end_time": "2025-01-09T11:38:25.388826Z",
     "start_time": "2025-01-09T11:37:34.367480Z"
    }
   },
   "cell_type": "code",
   "source": [
    "compute_accuracy_vs_contrast_with_sigmoid(adr_epochs_train_ch_filter, adr_train, adr_epochs_test_ch_filter, adr_test, 'SVM', predict_baseline = False, plot = True, min_samples=5, output_dir ='./Image/Threshold_Prediction/Raw_ch_filter', filename='ADR_SVM', title = 'ADR Frequency Prediction Accuracy vs Contrast (SVM, Filtered channels)'\n",
    "                                          )\n",
    "compute_accuracy_vs_contrast_with_sigmoid(p6_epochs_train_ch_filter, p6_train, p6_epochs_test_ch_filter, p6_test, 'SVM', predict_baseline = False, plot = True, min_samples=5, output_dir ='./Image/Threshold_Prediction/Raw_ch_filter', filename='P6_SVM', title = 'P6 Frequency Prediction Accuracy vs Contrast (SVM, Filtered channels)'\n",
    "                                          )\n",
    "compute_accuracy_vs_contrast_with_sigmoid(p7_epochs_train_ch_filter, p7_train, p7_epochs_test_ch_filter, p7_test, 'SVM', predict_baseline = False, plot = True, min_samples=5, output_dir ='./Image/Threshold_Prediction/Raw_ch_filter', filename='P7_SVM', title = 'P7 Frequency Prediction Accuracy vs Contrast (SVM, Filtered channels)'\n",
    "                                          )\n",
    "compute_accuracy_vs_contrast_with_sigmoid(p8_epochs_train_ch_filter, p8_train, p8_epochs_test_ch_filter, p8_test, 'SVM', predict_baseline = False, plot = True, min_samples=5, output_dir='./Image/Threshold_Prediction/Raw_ch_filter', filename='P8_SVM', title = 'P8 Frequency Prediction Accuracy vs Contrast (SVM, Filtered channels)'\n",
    "                                          )"
   ],
   "id": "ce4312408227933d",
   "outputs": [],
   "execution_count": 30
  },
  {
   "metadata": {},
   "cell_type": "markdown",
   "source": "# CNN",
   "id": "c07a8b5dfeca97a3"
  },
  {
   "metadata": {
    "ExecuteTime": {
     "end_time": "2025-01-09T11:40:02.405845Z",
     "start_time": "2025-01-09T11:38:25.389833Z"
    }
   },
   "cell_type": "code",
   "source": [
    "compute_accuracy_vs_contrast_with_sigmoid(adr_epochs_train_ch_filter, adr_train, adr_epochs_test_ch_filter, adr_test, 'CNN', predict_baseline = False, plot = True, min_samples=5, output_dir ='./Image/Threshold_Prediction/Raw_ch_filter', filename='ADR_CNN',epochs_cnn=100,verbose_cnn=0, title = 'ADR Frequency Prediction Accuracy vs Contrast (CNN, Filtered channels)', max_fev=100000, \n",
    "                                          )\n",
    "compute_accuracy_vs_contrast_with_sigmoid(p6_epochs_train_ch_filter, p6_train, p6_epochs_test_ch_filter, p6_test, 'CNN', predict_baseline = False, plot = True, min_samples=5, output_dir ='./Image/Threshold_Prediction/Raw_ch_filter', filename='P6_CNN',epochs_cnn=100,verbose_cnn=0, title = 'P6 Frequency Prediction Accuracy vs Contrast (CNN, Filtered channels)', max_fev=100000\n",
    "                                          )\n",
    "compute_accuracy_vs_contrast_with_sigmoid(p7_epochs_train_ch_filter, p7_train, p7_epochs_test_ch_filter, p7_test, 'CNN', predict_baseline = False, plot = True, min_samples=5, output_dir ='./Image/Threshold_Prediction/Raw_ch_filter', filename='P7_CNN',epochs_cnn=100,verbose_cnn=0, title = 'P7 Frequency Prediction Accuracy vs Contrast (CNN, Filtered channels)', max_fev=100000\n",
    "                                          )\n",
    "compute_accuracy_vs_contrast_with_sigmoid(p8_epochs_train_ch_filter, p8_train, p8_epochs_test_ch_filter, p8_test, 'CNN', predict_baseline = False, plot = True, min_samples=5, output_dir='./Image/Threshold_Prediction/Raw_ch_filter', filename='P8_CNN',epochs_cnn=100,verbose_cnn=0, title = 'P8 Frequency Prediction Accuracy vs Contrast (CNN, Filtered channels)', max_fev=100000\n",
    "                                          )"
   ],
   "id": "5955f6930ae0d47c",
   "outputs": [
    {
     "name": "stdout",
     "output_type": "stream",
     "text": [
      "10/10 [==============================] - 0s 6ms/step\n"
     ]
    },
    {
     "name": "stderr",
     "output_type": "stream",
     "text": [
      "C:\\Users\\Home\\Documents\\EPFL\\Semester project\\Code\\computation.py:76: RuntimeWarning: overflow encountered in exp\n",
      "  return a + (b - a) / (1.0 + np.exp(-c * (x - d)))\n",
      "C:\\Users\\Home\\.conda\\envs\\SP1\\lib\\site-packages\\scipy\\optimize\\_minpack_py.py:881: OptimizeWarning: Covariance of the parameters could not be estimated\n",
      "  warnings.warn('Covariance of the parameters could not be estimated',\n",
      "C:\\Users\\Home\\Documents\\EPFL\\Semester project\\Code\\visualization.py:304: RuntimeWarning: overflow encountered in exp\n",
      "  exp_term = np.exp(-c * (x - d))\n"
     ]
    },
    {
     "name": "stdout",
     "output_type": "stream",
     "text": [
      "17/17 [==============================] - 0s 5ms/step\n",
      "17/17 [==============================] - 0s 4ms/step\n",
      "17/17 [==============================] - 0s 4ms/step\n"
     ]
    }
   ],
   "execution_count": 31
  },
  {
   "metadata": {},
   "cell_type": "markdown",
   "source": "# RESS Filtering",
   "id": "29047de6b110b50d"
  },
  {
   "metadata": {
    "ExecuteTime": {
     "end_time": "2025-01-09T10:54:29.688825Z",
     "start_time": "2025-01-09T10:52:54.680877Z"
    }
   },
   "cell_type": "code",
   "source": [
    "p8_train_ress_ch_pre_filtered = ress_pipeline(p8_epochs_train_ch_filter, p8_train, target_freq_map={1: 12, 2:20}, fwhm_signal=0.6, fwhm_reference=1.0,\n",
    "                                          tmin=0.0, tmax=2.0, shrinkage=0.01, output_dir= './Image/RESS_matrix/Occipital', title_prefix=\"p8_train_ch_pre_filtered\")\n",
    "p8_test_ress_ch_pre_filtered = ress_pipeline(p8_epochs_test_ch_filter, p8_test, target_freq_map={1: 12, 2:20}, fwhm_signal=0.6, fwhm_reference=1.0,\n",
    "                                         tmin=0.0, tmax=2.0, shrinkage=0.01, output_dir= './Image/RESS_matrix/Occipital', title_prefix=\"p8_test_ch_pre_filtered\")\n",
    "\n",
    "p7_train_ress_ch_pre_filtered = ress_pipeline(p7_epochs_train_ch_filter, p7_train, target_freq_map={1: 12, 2:20}, fwhm_signal=0.6, fwhm_reference=1.0,\n",
    "                                          tmin=0.0, tmax=2.0, shrinkage=0.01, output_dir= './Image/RESS_matrix/Occipital', title_prefix=\"p7_train_ch_pre_filtered\")\n",
    "p7_test_ress_ch_pre_filtered = ress_pipeline(p7_epochs_test_ch_filter, p7_test, target_freq_map={1: 12, 2:20}, fwhm_signal=0.6, fwhm_reference=1.0,\n",
    "                                             tmin=0.0, tmax=2.0, shrinkage=0.01, output_dir= './Image/RESS_matrix/Occipital', title_prefix=\"p7_test_ch_pre_filtered\")\n",
    "\n",
    "p6_train_ress_ch_pre_filtered = ress_pipeline(p6_epochs_train_ch_filter, p6_train, target_freq_map={1: 12, 2:20}, fwhm_signal=0.6, fwhm_reference=1.0,\n",
    "                                          tmin=0.0, tmax=2.0, shrinkage=0.01, output_dir= './Image/RESS_matrix/Occipital', title_prefix=\"p6_train_ch_pre_filtered\")\n",
    "p6_test_ress_ch_pre_filtered = ress_pipeline(p6_epochs_test_ch_filter, p6_test, target_freq_map={1: 12, 2:20}, fwhm_signal=0.6, fwhm_reference=1.0,\n",
    "                                             tmin=0.0, tmax=2.0, shrinkage=0.01, output_dir= './Image/RESS_matrix/Occipital', title_prefix=\"p6_test_ch_pre_filtered\")\n",
    "\n",
    "adr_train_ress_ch_pre_filtered = ress_pipeline(adr_epochs_train_ch_filter, adr_train, target_freq_map={1: 40, 2:48}, fwhm_signal=0.6, fwhm_reference=1.0,\n",
    "                                           tmin=0.0, tmax=3.0, shrinkage=0.01, output_dir= './Image/RESS_matrix/Occipital', title_prefix=\"adr_train_ch_pre_filtered\")\n",
    "adr_test_ress_ch_pre_filtered = ress_pipeline(adr_epochs_test_ch_filter, adr_test, target_freq_map={1: 40, 2:48}, fwhm_signal=0.6, fwhm_reference=1.0,\n",
    "                                              tmin=0.0, tmax=3.0, shrinkage=0.01, output_dir= './Image/RESS_matrix/Occipital', title_prefix=\"adr_test_ch_pre_filtered\")"
   ],
   "id": "b6e8dab74c9a42cd",
   "outputs": [
    {
     "name": "stdout",
     "output_type": "stream",
     "text": [
      "\n",
      "Effective window size : 2.000 (s)\n",
      "Averaging across epochs...\n",
      "\n",
      "Processing Frequency ID: 1 -> Target Frequency: 12 Hz\n",
      "Finished processing Frequency ID: 1 -> 12 Hz\n",
      "\n",
      "Processing Frequency ID: 2 -> Target Frequency: 20 Hz\n",
      "Finished processing Frequency ID: 2 -> 20 Hz\n",
      "RESS pipeline completed for all target frequencies.\n",
      "\n",
      "Effective window size : 2.000 (s)\n",
      "Averaging across epochs...\n",
      "\n",
      "Processing Frequency ID: 2 -> Target Frequency: 20 Hz\n",
      "Finished processing Frequency ID: 2 -> 20 Hz\n",
      "\n",
      "Processing Frequency ID: 1 -> Target Frequency: 12 Hz\n",
      "Finished processing Frequency ID: 1 -> 12 Hz\n",
      "RESS pipeline completed for all target frequencies.\n",
      "\n",
      "Effective window size : 2.000 (s)\n",
      "Averaging across epochs...\n",
      "\n",
      "Processing Frequency ID: 2 -> Target Frequency: 20 Hz\n",
      "Finished processing Frequency ID: 2 -> 20 Hz\n",
      "\n",
      "Processing Frequency ID: 1 -> Target Frequency: 12 Hz\n",
      "Finished processing Frequency ID: 1 -> 12 Hz\n",
      "RESS pipeline completed for all target frequencies.\n",
      "\n",
      "Effective window size : 2.000 (s)\n",
      "Averaging across epochs...\n",
      "\n",
      "Processing Frequency ID: 1 -> Target Frequency: 12 Hz\n",
      "Finished processing Frequency ID: 1 -> 12 Hz\n",
      "\n",
      "Processing Frequency ID: 2 -> Target Frequency: 20 Hz\n",
      "Finished processing Frequency ID: 2 -> 20 Hz\n",
      "RESS pipeline completed for all target frequencies.\n",
      "\n",
      "Effective window size : 2.000 (s)\n",
      "Averaging across epochs...\n",
      "\n",
      "Processing Frequency ID: 2 -> Target Frequency: 20 Hz\n",
      "Finished processing Frequency ID: 2 -> 20 Hz\n",
      "\n",
      "Processing Frequency ID: 1 -> Target Frequency: 12 Hz\n",
      "Finished processing Frequency ID: 1 -> 12 Hz\n",
      "RESS pipeline completed for all target frequencies.\n",
      "\n",
      "Effective window size : 2.000 (s)\n",
      "Averaging across epochs...\n",
      "\n",
      "Processing Frequency ID: 2 -> Target Frequency: 20 Hz\n",
      "Finished processing Frequency ID: 2 -> 20 Hz\n",
      "\n",
      "Processing Frequency ID: 1 -> Target Frequency: 12 Hz\n",
      "Finished processing Frequency ID: 1 -> 12 Hz\n",
      "RESS pipeline completed for all target frequencies.\n",
      "\n",
      "Effective window size : 3.000 (s)\n",
      "Averaging across epochs...\n",
      "\n",
      "Processing Frequency ID: 2 -> Target Frequency: 48 Hz\n",
      "Finished processing Frequency ID: 2 -> 48 Hz\n",
      "\n",
      "Processing Frequency ID: 1 -> Target Frequency: 40 Hz\n",
      "Finished processing Frequency ID: 1 -> 40 Hz\n",
      "RESS pipeline completed for all target frequencies.\n",
      "\n",
      "Effective window size : 3.000 (s)\n",
      "Averaging across epochs...\n",
      "\n",
      "Processing Frequency ID: 1 -> Target Frequency: 40 Hz\n",
      "Finished processing Frequency ID: 1 -> 40 Hz\n",
      "\n",
      "Processing Frequency ID: 2 -> Target Frequency: 48 Hz\n",
      "Finished processing Frequency ID: 2 -> 48 Hz\n",
      "RESS pipeline completed for all target frequencies.\n"
     ]
    }
   ],
   "execution_count": 15
  },
  {
   "metadata": {
    "ExecuteTime": {
     "end_time": "2025-01-09T11:46:30.423466Z",
     "start_time": "2025-01-09T11:43:14.109917Z"
    }
   },
   "cell_type": "code",
   "source": [
    "p8_train_ress_raw = ress_pipeline(p8_epochs_train, p8_train, target_freq_map={1: 12, 2:20}, fwhm_signal=0.6, fwhm_reference=1.0,\n",
    "                                              tmin=0.0, tmax=2.0, shrinkage=0.01, output_dir= './Image/RESS_matrix/Raw', title_prefix=\"p8_train_raw\")\n",
    "p8_test_ress_raw = ress_pipeline(p8_epochs_test, p8_test, target_freq_map={1: 12, 2:20}, fwhm_signal=0.6, fwhm_reference=1.0,\n",
    "                                             tmin=0.0, tmax=2.0, shrinkage=0.01, output_dir= './Image/RESS_matrix/Raw', title_prefix=\"p8_test_raw\")\n",
    "\n",
    "p7_train_ress_raw = ress_pipeline(p7_epochs_train, p7_train, target_freq_map={1: 12, 2:20}, fwhm_signal=0.6, fwhm_reference=1.0,\n",
    "                                              tmin=0.0, tmax=2.0, shrinkage=0.01, output_dir= './Image/RESS_matrix/Raw', title_prefix=\"p7_train_raw\")\n",
    "p7_test_ress_raw = ress_pipeline(p7_epochs_test, p7_test, target_freq_map={1: 12, 2:20}, fwhm_signal=0.6, fwhm_reference=1.0,\n",
    "                                 tmin=0.0, tmax=2.0, shrinkage=0.01, output_dir= './Image/RESS_matrix/Raw', title_prefix=\"p7_test_raw\")\n",
    "\n",
    "p6_train_ress_raw = ress_pipeline(p6_epochs_train, p6_train, target_freq_map={1: 12, 2:20}, fwhm_signal=0.6, fwhm_reference=1.0,\n",
    "                                              tmin=0.0, tmax=2.0, shrinkage=0.01, output_dir= './Image/RESS_matrix/Raw', title_prefix=\"p6_train_raw\")\n",
    "p6_test_ress_raw = ress_pipeline(p6_epochs_test, p6_test, target_freq_map={1: 12, 2:20}, fwhm_signal=0.6, fwhm_reference=1.0,\n",
    "                                 tmin=0.0, tmax=2.0, shrinkage=0.01, output_dir= './Image/RESS_matrix/Raw', title_prefix=\"p6_test_raw\")\n",
    "\n",
    "adr_train_ress_raw = ress_pipeline(adr_epochs_train, adr_train, target_freq_map={1: 40, 2:48}, fwhm_signal=0.6, fwhm_reference=1.0,\n",
    "                                               tmin=0.0, tmax=3.0, shrinkage=0.01, output_dir= './Image/RESS_matrix/Raw', title_prefix=\"adr_train_raw\")\n",
    "adr_test_ress_raw = ress_pipeline(adr_epochs_test, adr_test, target_freq_map={1: 40, 2:48}, fwhm_signal=0.6, fwhm_reference=1.0,\n",
    "                                  tmin=0.0, tmax=3.0, shrinkage=0.01, output_dir= './Image/RESS_matrix/Raw', title_prefix=\"adr_test_raw\")"
   ],
   "id": "4b4d28c67a3a687",
   "outputs": [
    {
     "name": "stdout",
     "output_type": "stream",
     "text": [
      "\n",
      "Effective window size : 2.000 (s)\n",
      "Averaging across epochs...\n",
      "\n",
      "Processing Frequency ID: 1 -> Target Frequency: 12 Hz\n",
      "Finished processing Frequency ID: 1 -> 12 Hz\n",
      "\n",
      "Processing Frequency ID: 2 -> Target Frequency: 20 Hz\n",
      "Finished processing Frequency ID: 2 -> 20 Hz\n",
      "RESS pipeline completed for all target frequencies.\n",
      "\n",
      "Effective window size : 2.000 (s)\n",
      "Averaging across epochs...\n",
      "\n",
      "Processing Frequency ID: 2 -> Target Frequency: 20 Hz\n",
      "Finished processing Frequency ID: 2 -> 20 Hz\n",
      "\n",
      "Processing Frequency ID: 1 -> Target Frequency: 12 Hz\n",
      "Finished processing Frequency ID: 1 -> 12 Hz\n",
      "RESS pipeline completed for all target frequencies.\n",
      "\n",
      "Effective window size : 2.000 (s)\n",
      "Averaging across epochs...\n",
      "\n",
      "Processing Frequency ID: 2 -> Target Frequency: 20 Hz\n",
      "Finished processing Frequency ID: 2 -> 20 Hz\n",
      "\n",
      "Processing Frequency ID: 1 -> Target Frequency: 12 Hz\n",
      "Finished processing Frequency ID: 1 -> 12 Hz\n",
      "RESS pipeline completed for all target frequencies.\n",
      "\n",
      "Effective window size : 2.000 (s)\n",
      "Averaging across epochs...\n",
      "\n",
      "Processing Frequency ID: 1 -> Target Frequency: 12 Hz\n",
      "Finished processing Frequency ID: 1 -> 12 Hz\n",
      "\n",
      "Processing Frequency ID: 2 -> Target Frequency: 20 Hz\n",
      "Finished processing Frequency ID: 2 -> 20 Hz\n",
      "RESS pipeline completed for all target frequencies.\n",
      "\n",
      "Effective window size : 2.000 (s)\n",
      "Averaging across epochs...\n",
      "\n",
      "Processing Frequency ID: 2 -> Target Frequency: 20 Hz\n",
      "Finished processing Frequency ID: 2 -> 20 Hz\n",
      "\n",
      "Processing Frequency ID: 1 -> Target Frequency: 12 Hz\n",
      "Finished processing Frequency ID: 1 -> 12 Hz\n",
      "RESS pipeline completed for all target frequencies.\n",
      "\n",
      "Effective window size : 2.000 (s)\n",
      "Averaging across epochs...\n",
      "\n",
      "Processing Frequency ID: 2 -> Target Frequency: 20 Hz\n",
      "Finished processing Frequency ID: 2 -> 20 Hz\n",
      "\n",
      "Processing Frequency ID: 1 -> Target Frequency: 12 Hz\n",
      "Finished processing Frequency ID: 1 -> 12 Hz\n",
      "RESS pipeline completed for all target frequencies.\n",
      "\n",
      "Effective window size : 3.000 (s)\n",
      "Averaging across epochs...\n",
      "\n",
      "Processing Frequency ID: 2 -> Target Frequency: 48 Hz\n",
      "Finished processing Frequency ID: 2 -> 48 Hz\n",
      "\n",
      "Processing Frequency ID: 1 -> Target Frequency: 40 Hz\n",
      "Finished processing Frequency ID: 1 -> 40 Hz\n",
      "RESS pipeline completed for all target frequencies.\n",
      "\n",
      "Effective window size : 3.000 (s)\n",
      "Averaging across epochs...\n",
      "\n",
      "Processing Frequency ID: 1 -> Target Frequency: 40 Hz\n",
      "Finished processing Frequency ID: 1 -> 40 Hz\n",
      "\n",
      "Processing Frequency ID: 2 -> Target Frequency: 48 Hz\n",
      "Finished processing Frequency ID: 2 -> 48 Hz\n",
      "RESS pipeline completed for all target frequencies.\n"
     ]
    }
   ],
   "execution_count": 33
  },
  {
   "metadata": {
    "ExecuteTime": {
     "end_time": "2025-01-09T14:54:15.220650Z",
     "start_time": "2025-01-09T14:53:49.381037Z"
    }
   },
   "cell_type": "code",
   "source": [
    "import RESS_filter\n",
    "import visualization\n",
    "importlib.reload(RESS_filter)\n",
    "importlib.reload(visualization)\n",
    "from visualization import *\n",
    "from RESS_filter import *\n",
    "p8_train_ress_raw = ress_pipeline(p8_epochs_train, p8_train, target_freq_map={1: 12, 2:20}, fwhm_signal=0.6, fwhm_reference=1.0,\n",
    "                                  tmin=0.0, tmax=2.0, shrinkage=0.01, output_dir= './Image/RESS_matrix/Raw', title_prefix=\"p8_train_raw\")"
   ],
   "id": "66c9e19d65432123",
   "outputs": [
    {
     "name": "stdout",
     "output_type": "stream",
     "text": [
      "\n",
      "Effective window size : 2.000 (s)\n",
      "Averaging across epochs...\n",
      "\n",
      "Processing Frequency ID: 1 -> Target Frequency: 12 Hz\n",
      "High Variance channels:     Channel Name   Variance   Status\n",
      "89          C30  42.118283  Removed\n",
      "(1024,)\n",
      "Finished processing Frequency ID: 1 -> 12 Hz\n",
      "\n",
      "Processing Frequency ID: 2 -> Target Frequency: 20 Hz\n",
      "High Variance channels:  Empty DataFrame\n",
      "Columns: [Channel Name, Variance, Status]\n",
      "Index: []\n",
      "(1024,)\n",
      "Finished processing Frequency ID: 2 -> 20 Hz\n",
      "RESS pipeline completed for all target frequencies.\n"
     ]
    }
   ],
   "execution_count": 40
  },
  {
   "metadata": {},
   "cell_type": "markdown",
   "source": "## Visual Contrast Prediction on channel prefiltered data using ress components(LDA)",
   "id": "f6743982ac8acdd1"
  },
  {
   "metadata": {
    "ExecuteTime": {
     "end_time": "2025-01-09T10:57:46.435218Z",
     "start_time": "2025-01-09T10:57:44.103689Z"
    }
   },
   "cell_type": "code",
   "source": [
    "compute_accuracy_vs_contrast_with_sigmoid(p8_train_ress_ch_pre_filtered, p8_train, p8_test_ress_ch_pre_filtered, p8_test,'LDA', predict_baseline = False, plot = True, ress_filtered_data = True, output_dir='./Image/Threshold_Prediction/RESS_ch_filter',filename='P8_LDA_spatial_filter_12_20_Hz',title = 'P8 Frequency Prediction Accuracy vs Contrast (LDA,  Filtered channels and RESS filter)')\n",
    "compute_accuracy_vs_contrast_with_sigmoid(p7_train_ress_ch_pre_filtered, p7_train, p7_test_ress_ch_pre_filtered, p7_test,'LDA', predict_baseline = False, plot = True, ress_filtered_data = True, output_dir='./Image/Threshold_Prediction/RESS_ch_filter',filename='P7_LDA_spatial_filter_12_20_Hz',title = 'P7 Frequency Prediction Accuracy vs Contrast (LDA,  Filtered channels and RESS filter)')\n",
    "compute_accuracy_vs_contrast_with_sigmoid(p6_train_ress_ch_pre_filtered, p6_train, p6_test_ress_ch_pre_filtered, p6_test,'LDA', predict_baseline = False, plot = True, ress_filtered_data = True, output_dir='./Image/Threshold_Prediction/RESS_ch_filter',filename='P6_LDA_spatial_filter_12_20_Hz',title = 'P6 Frequency Prediction Accuracy vs Contrast (LDA,  Filtered channels and RESS filter)')\n",
    "compute_accuracy_vs_contrast_with_sigmoid(adr_train_ress_ch_pre_filtered, adr_train, adr_test_ress_ch_pre_filtered, adr_test,'LDA', predict_baseline = False, plot = True, ress_filtered_data = True, output_dir='./Image/Threshold_Prediction/RESS_ch_filter',filename='adr_LDA_spatial_filter_40_48_Hz',title = 'ADR Frequency Prediction Accuracy vs Contrast (LDA,  Filtered channels and RESS filter)')"
   ],
   "id": "c381b3db34147c66",
   "outputs": [],
   "execution_count": 17
  },
  {
   "metadata": {},
   "cell_type": "markdown",
   "source": "## Visual Contrast Prediction on Raw data using ress components(LDA)",
   "id": "6899cc3cbab69599"
  },
  {
   "metadata": {
    "ExecuteTime": {
     "end_time": "2025-01-09T10:57:48.087716Z",
     "start_time": "2025-01-09T10:57:46.436220Z"
    }
   },
   "cell_type": "code",
   "source": [
    "compute_accuracy_vs_contrast_with_sigmoid(p8_train_ress_raw, p8_train, p8_test_ress_raw, p8_test,'LDA', predict_baseline = False, plot = True, ress_filtered_data = True, output_dir='./Image/Threshold_Prediction/RESS_raw',filename='P8_LDA_spatial_filter_12_20_Hz',title = 'P8 Frequency Prediction Accuracy vs Contrast (LDA,  RESS filter)')\n",
    "compute_accuracy_vs_contrast_with_sigmoid(p7_train_ress_raw, p7_train, p7_test_ress_raw, p7_test,'LDA', predict_baseline = False, plot = True, ress_filtered_data = True, output_dir='./Image/Threshold_Prediction/RESS_raw',filename='P7_LDA_spatial_filter_12_20_Hz',title = 'P7 Frequency Prediction Accuracy vs Contrast (LDA,  RESS filter)')\n",
    "compute_accuracy_vs_contrast_with_sigmoid(p6_train_ress_raw, p6_train, p6_test_ress_raw, p6_test,'LDA', predict_baseline = False, plot = True, ress_filtered_data = True, output_dir='./Image/Threshold_Prediction/RESS_raw',filename='P6_LDA_spatial_filter_12_20_Hz',title = 'P6 Frequency Prediction Accuracy vs Contrast (LDA,  RESS filter)')\n",
    "compute_accuracy_vs_contrast_with_sigmoid(adr_train_ress_raw, adr_train, adr_test_ress_raw, adr_test,'LDA', predict_baseline = False, plot = True, ress_filtered_data = True, output_dir='./Image/Threshold_Prediction/RESS_raw',filename='adr_LDA_spatial_filter_40_48_Hz', max_fev=1000000,title = 'ADR Frequency Prediction Accuracy vs Contrast (LDA,  RESS filter)')"
   ],
   "id": "e786a037c905fb0a",
   "outputs": [],
   "execution_count": 18
  },
  {
   "metadata": {},
   "cell_type": "markdown",
   "source": "# Baseline Prediction",
   "id": "15346e46a1d03386"
  },
  {
   "metadata": {},
   "cell_type": "markdown",
   "source": "## Prediciton with no channels filtering and no RESS filtering",
   "id": "4a952959463843b6"
  },
  {
   "metadata": {},
   "cell_type": "markdown",
   "source": "LDA",
   "id": "4ba3fa9caa7c66e6"
  },
  {
   "metadata": {
    "ExecuteTime": {
     "end_time": "2025-01-09T10:59:31.755092Z",
     "start_time": "2025-01-09T10:57:48.088717Z"
    }
   },
   "cell_type": "code",
   "source": [
    "adr_epochs_train_augmented, adr_train_metadata = augment_with_shuffled_baseline(adr_epochs_train, adr_train)\n",
    "adr_epochs_test_augmented, adr_test_metadata = augment_with_shuffled_baseline(adr_epochs_test, adr_test)\n",
    "compute_accuracy_vs_contrast_with_sigmoid(adr_epochs_train_augmented, adr_train_metadata, adr_epochs_test_augmented,adr_test_metadata, 'LDA', predict_baseline=True, plot = True , output_dir='./Image/Threshold_Prediction/Baseline/adr', filename= 'adr_LDA',title = 'ADR Stimulus/Baseline Prediction Accuracy vs Contrast (LDA, Raw Data)',max_fev=10000)\n",
    "del adr_epochs_train_augmented, adr_train_metadata, adr_epochs_test_augmented, adr_test_metadata\n",
    "\n",
    "p6_epochs_train_augmented, p6_train_metadata = augment_with_shuffled_baseline(p6_epochs_train, p6_train)\n",
    "p6_epochs_test_augmented, p6_test_metadata = augment_with_shuffled_baseline(p6_epochs_test, p6_test)\n",
    "compute_accuracy_vs_contrast_with_sigmoid(p6_epochs_train_augmented, p6_train_metadata, p6_epochs_test_augmented,p6_test_metadata, 'LDA', predict_baseline=True, plot = True , output_dir='./Image/Threshold_Prediction/Baseline/p6', filename= 'p6_LDA',title = 'P6 Stimulus/Baseline Prediction Accuracy vs Contrast (LDA, Raw Data)')\n",
    "del p6_epochs_train_augmented, p6_train_metadata, p6_epochs_test_augmented, p6_test_metadata\n",
    "\n",
    "p7_epochs_train_augmented, p7_train_metadata = augment_with_shuffled_baseline(p7_epochs_train, p7_train)\n",
    "p7_epochs_test_augmented, p7_test_metadata = augment_with_shuffled_baseline(p7_epochs_test, p7_test)\n",
    "compute_accuracy_vs_contrast_with_sigmoid(p7_epochs_train_augmented, p7_train_metadata, p7_epochs_test_augmented,p7_test_metadata, 'LDA', predict_baseline=True, plot = True , output_dir='./Image/Threshold_Prediction/Baseline/p7', filename= 'p7_LDA',title = 'P7 Stimulus/Baseline Prediction Accuracy vs Contrast (LDA, Raw Data)',max_fev=10000)\n",
    "del p7_epochs_train_augmented, p7_train_metadata, p7_epochs_test_augmented, p7_test_metadata\n",
    "\n",
    "p8_epochs_train_augmented, p8_train_metadata = augment_with_shuffled_baseline(p8_epochs_train, p8_train)\n",
    "p8_epochs_test_augmented, p8_test_metadata = augment_with_shuffled_baseline(p8_epochs_test, p8_test)\n",
    "compute_accuracy_vs_contrast_with_sigmoid(p8_epochs_train_augmented, p8_train_metadata, p8_epochs_test_augmented,p8_test_metadata, 'LDA', predict_baseline=True, plot = True , output_dir='./Image/Threshold_Prediction/Baseline/p8', filename= 'p8_LDA',title = 'P8 Stimulus/Baseline Prediction Accuracy vs Contrast (LDA, Raw Data)')\n",
    "del p8_epochs_train_augmented, p8_train_metadata, p8_epochs_test_augmented, p8_test_metadata\n"
   ],
   "id": "a3e1081aa0e0e464",
   "outputs": [],
   "execution_count": 19
  },
  {
   "metadata": {},
   "cell_type": "markdown",
   "source": "SVM",
   "id": "879b45c43ffb510d"
  },
  {
   "metadata": {
    "ExecuteTime": {
     "end_time": "2025-01-09T11:16:19.983573Z",
     "start_time": "2025-01-09T10:59:31.758098Z"
    }
   },
   "cell_type": "code",
   "source": [
    "adr_epochs_train_augmented, adr_train_metadata = augment_with_shuffled_baseline(adr_epochs_train, adr_train)\n",
    "adr_epochs_test_augmented, adr_test_metadata = augment_with_shuffled_baseline(adr_epochs_test, adr_test)\n",
    "compute_accuracy_vs_contrast_with_sigmoid(adr_epochs_train_augmented, adr_train_metadata, adr_epochs_test_augmented,adr_test_metadata, 'SVM', predict_baseline=True, plot = True , output_dir='./Image/Threshold_Prediction/Baseline/adr', filename= 'adr_SVM',title = 'ADR Stimulus/Baseline Prediction Accuracy vs Contrast (SVM, Raw Data)',max_fev=10000)\n",
    "del adr_epochs_train_augmented, adr_train_metadata, adr_epochs_test_augmented, adr_test_metadata\n",
    "\n",
    "p6_epochs_train_augmented, p6_train_metadata = augment_with_shuffled_baseline(p6_epochs_train, p6_train)\n",
    "p6_epochs_test_augmented, p6_test_metadata = augment_with_shuffled_baseline(p6_epochs_test, p6_test)\n",
    "compute_accuracy_vs_contrast_with_sigmoid(p6_epochs_train_augmented, p6_train_metadata, p6_epochs_test_augmented,p6_test_metadata, 'SVM', predict_baseline=True, plot = True , output_dir='./Image/Threshold_Prediction/Baseline/p6', filename= 'p6_SVM',title = 'P6 Stimulus/Baseline Prediction Accuracy vs Contrast (SVM, Raw Data)')\n",
    "del p6_epochs_train_augmented, p6_train_metadata, p6_epochs_test_augmented, p6_test_metadata\n",
    "\n",
    "p7_epochs_train_augmented, p7_train_metadata = augment_with_shuffled_baseline(p7_epochs_train, p7_train)\n",
    "p7_epochs_test_augmented, p7_test_metadata = augment_with_shuffled_baseline(p7_epochs_test, p7_test)\n",
    "compute_accuracy_vs_contrast_with_sigmoid(p7_epochs_train_augmented, p7_train_metadata, p7_epochs_test_augmented,p7_test_metadata, 'SVM', predict_baseline=True, plot = True , output_dir='./Image/Threshold_Prediction/Baseline/p7', filename= 'p7_SVM',title = 'P7 Stimulus/Baseline Prediction Accuracy vs Contrast (SVM, Raw Data)',max_fev=10000)\n",
    "del p7_epochs_train_augmented, p7_train_metadata, p7_epochs_test_augmented, p7_test_metadata\n",
    "\n",
    "p8_epochs_train_augmented, p8_train_metadata = augment_with_shuffled_baseline(p8_epochs_train, p8_train)\n",
    "p8_epochs_test_augmented, p8_test_metadata = augment_with_shuffled_baseline(p8_epochs_test, p8_test)\n",
    "compute_accuracy_vs_contrast_with_sigmoid(p8_epochs_train_augmented, p8_train_metadata, p8_epochs_test_augmented,p8_test_metadata, 'SVM', predict_baseline=True, plot = True , output_dir='./Image/Threshold_Prediction/Baseline/p8', filename= 'p8_SVM',title = 'P8 Stimulus/Baseline Prediction Accuracy vs Contrast (SVM, Raw Data)')\n",
    "del p8_epochs_train_augmented, p8_train_metadata, p8_epochs_test_augmented, p8_test_metadata\n"
   ],
   "id": "42ea074bd68018bd",
   "outputs": [],
   "execution_count": 20
  },
  {
   "metadata": {},
   "cell_type": "markdown",
   "source": "CNN",
   "id": "a25c2c0d0e48564e"
  },
  {
   "metadata": {
    "ExecuteTime": {
     "end_time": "2025-01-09T11:22:03.060934Z",
     "start_time": "2025-01-09T11:16:19.984576Z"
    }
   },
   "cell_type": "code",
   "source": [
    "adr_epochs_train_augmented, adr_train_metadata = augment_with_shuffled_baseline(adr_epochs_train, adr_train)\n",
    "adr_epochs_test_augmented, adr_test_metadata = augment_with_shuffled_baseline(adr_epochs_test, adr_test)\n",
    "compute_accuracy_vs_contrast_with_sigmoid(adr_epochs_train_augmented, adr_train_metadata, adr_epochs_test_augmented,adr_test_metadata, 'CNN', predict_baseline=True, plot = True , output_dir='./Image/Threshold_Prediction/Baseline/adr', filename= 'adr_CNN',epochs_cnn=100,verbose_cnn=0,title = 'ADR Stimulus/Baseline Prediction Accuracy vs Contrast (CNN, Raw Data)',max_fev=100000)\n",
    "del adr_epochs_train_augmented, adr_train_metadata, adr_epochs_test_augmented, adr_test_metadata\n",
    "\n",
    "p6_epochs_train_augmented, p6_train_metadata = augment_with_shuffled_baseline(p6_epochs_train, p6_train)\n",
    "p6_epochs_test_augmented, p6_test_metadata = augment_with_shuffled_baseline(p6_epochs_test, p6_test)\n",
    "compute_accuracy_vs_contrast_with_sigmoid(p6_epochs_train_augmented, p6_train_metadata, p6_epochs_test_augmented,p6_test_metadata, 'CNN', predict_baseline=True, plot = True , output_dir='./Image/Threshold_Prediction/Baseline/p6', filename= 'p6_CNN',epochs_cnn=100,verbose_cnn=0,title = 'P6 Stimulus/Baseline Prediction Accuracy vs Contrast (CNN, Raw Data)',max_fev=100000)\n",
    "del p6_epochs_train_augmented, p6_train_metadata, p6_epochs_test_augmented, p6_test_metadata\n",
    "\n",
    "p7_epochs_train_augmented, p7_train_metadata = augment_with_shuffled_baseline(p7_epochs_train, p7_train)\n",
    "p7_epochs_test_augmented, p7_test_metadata = augment_with_shuffled_baseline(p7_epochs_test, p7_test)\n",
    "compute_accuracy_vs_contrast_with_sigmoid(p7_epochs_train_augmented, p7_train_metadata, p7_epochs_test_augmented,p7_test_metadata, 'CNN', predict_baseline=True, plot = True , output_dir='./Image/Threshold_Prediction/Baseline/p7', filename= 'p7_CNN',epochs_cnn=100,verbose_cnn=0,title = 'P7 Stimulus/Baseline Prediction Accuracy vs Contrast (CNN, Raw Data)',max_fev=100000)\n",
    "del p7_epochs_train_augmented, p7_train_metadata, p7_epochs_test_augmented, p7_test_metadata\n",
    "\n",
    "p8_epochs_train_augmented, p8_train_metadata = augment_with_shuffled_baseline(p8_epochs_train, p8_train)\n",
    "p8_epochs_test_augmented, p8_test_metadata = augment_with_shuffled_baseline(p8_epochs_test, p8_test)\n",
    "compute_accuracy_vs_contrast_with_sigmoid(p8_epochs_train_augmented, p8_train_metadata, p8_epochs_test_augmented,p8_test_metadata, 'CNN', predict_baseline=True, plot = True , output_dir='./Image/Threshold_Prediction/Baseline/p8', filename= 'p8_CNN',epochs_cnn=100,verbose_cnn=0,title = 'P8 Stimulus/Baseline Prediction Accuracy vs Contrast (CNN, Raw Data)',max_fev=100000)\n",
    "del p8_epochs_train_augmented, p8_train_metadata, p8_epochs_test_augmented, p8_test_metadata\n"
   ],
   "id": "1b42a1abed15cd97",
   "outputs": [
    {
     "name": "stdout",
     "output_type": "stream",
     "text": [
      "20/20 [==============================] - 0s 9ms/step\n",
      "33/33 [==============================] - 0s 7ms/step\n",
      "33/33 [==============================] - 0s 7ms/step\n"
     ]
    },
    {
     "name": "stderr",
     "output_type": "stream",
     "text": [
      "C:\\Users\\Home\\Documents\\EPFL\\Semester project\\Code\\visualization.py:334: RuntimeWarning: divide by zero encountered in scalar divide\n",
      "  return 1 - (ss_res / ss_tot)\n"
     ]
    },
    {
     "name": "stdout",
     "output_type": "stream",
     "text": [
      "33/33 [==============================] - 0s 7ms/step\n"
     ]
    }
   ],
   "execution_count": 21
  },
  {
   "metadata": {},
   "cell_type": "markdown",
   "source": "# Prediction with channels filtering & no RESS filtering",
   "id": "fe9641df365f1d2d"
  },
  {
   "metadata": {},
   "cell_type": "markdown",
   "source": "LDA",
   "id": "10e87644763cf74d"
  },
  {
   "metadata": {
    "ExecuteTime": {
     "end_time": "2025-01-09T11:22:52.879486Z",
     "start_time": "2025-01-09T11:22:03.061935Z"
    }
   },
   "cell_type": "code",
   "source": [
    "p8_epochs_train_ch_filter_augmented, p8_train_metadata = augment_with_shuffled_baseline(p8_epochs_train_ch_filter, p8_train)\n",
    "p8_epochs_test_ch_filter_augmented, p8_test_metadata = augment_with_shuffled_baseline(p8_epochs_test_ch_filter, p8_test)\n",
    "compute_accuracy_vs_contrast_with_sigmoid(p8_epochs_train_ch_filter_augmented, p8_train_metadata, p8_epochs_test_ch_filter_augmented,p8_test_metadata, 'LDA', predict_baseline=True, plot = True , output_dir='./Image/Threshold_Prediction/Baseline/p8', filename= 'p8_ch_filter_LDA',title = 'P8 Stimulus/Baseline Prediction Accuracy vs Contrast (LDA, Filtered channels)', max_fev=100000)\n",
    "\n",
    "del p8_epochs_train_ch_filter_augmented, p8_train_metadata, p8_epochs_test_ch_filter_augmented, p8_test_metadata\n",
    "\n",
    "p7_epochs_train_ch_filter_augmented, p7_train_metadata = augment_with_shuffled_baseline(p7_epochs_train_ch_filter, p7_train)\n",
    "p7_epochs_test_ch_filter_augmented, p7_test_metadata = augment_with_shuffled_baseline(p7_epochs_test_ch_filter, p7_test)\n",
    "compute_accuracy_vs_contrast_with_sigmoid(p7_epochs_train_ch_filter_augmented, p7_train_metadata, p7_epochs_test_ch_filter_augmented,p7_test_metadata, 'LDA', predict_baseline=True, plot = True , output_dir='./Image/Threshold_Prediction/Baseline/p7', filename= 'p7_ch_filter_LDA',title = 'P7 Stimulus/Baseline Prediction Accuracy vs Contrast (LDA, Filtered channels)', max_fev=100000)\n",
    "\n",
    "del p7_epochs_train_ch_filter_augmented, p7_train_metadata, p7_epochs_test_ch_filter_augmented, p7_test_metadata\n",
    "\n",
    "\n",
    "p6_epochs_train_ch_filter_augmented, p6_train_metadata = augment_with_shuffled_baseline(p6_epochs_train_ch_filter, p6_train)\n",
    "p6_epochs_test_ch_filter_augmented, p6_test_metadata = augment_with_shuffled_baseline(p6_epochs_test_ch_filter, p6_test)\n",
    "compute_accuracy_vs_contrast_with_sigmoid(p6_epochs_train_ch_filter_augmented, p6_train_metadata, p6_epochs_test_ch_filter_augmented,p6_test_metadata, 'LDA', predict_baseline=True, plot = True , output_dir='./Image/Threshold_Prediction/Baseline/p6', filename= 'p6_ch_filter_LDA',title = 'P6 Stimulus/Baseline Prediction Accuracy vs Contrast (LDA, Filtered channels)', max_fev=100000)\n",
    "\n",
    "del p6_epochs_train_ch_filter_augmented, p6_train_metadata, p6_epochs_test_ch_filter_augmented, p6_test_metadata\n",
    "\n",
    "adr_epochs_train_ch_filter_augmented, adr_train_metadata = augment_with_shuffled_baseline(adr_epochs_train_ch_filter, adr_train)\n",
    "adr_epochs_test_ch_filter_augmented, adr_test_metadata = augment_with_shuffled_baseline(adr_epochs_test_ch_filter, adr_test)\n",
    "compute_accuracy_vs_contrast_with_sigmoid(adr_epochs_train_ch_filter_augmented, adr_train_metadata, adr_epochs_test_ch_filter_augmented,adr_test_metadata, 'LDA', predict_baseline=True, plot = True , output_dir='./Image/Threshold_Prediction/Baseline/adr', filename= 'adr_ch_filter_LDA',title = 'ADR Stimulus/Baseline Prediction Accuracy vs Contrast (LDA, Filtered channels)', max_fev=10000)\n",
    "\n",
    "del adr_epochs_train_ch_filter_augmented, adr_train_metadata, adr_epochs_test_ch_filter_augmented, adr_test_metadata"
   ],
   "id": "6d77d70205ab35bc",
   "outputs": [],
   "execution_count": 22
  },
  {
   "metadata": {},
   "cell_type": "markdown",
   "source": "SVM",
   "id": "abc52a57228ddf6e"
  },
  {
   "metadata": {
    "ExecuteTime": {
     "end_time": "2025-01-09T11:25:52.308358Z",
     "start_time": "2025-01-09T11:22:52.880946Z"
    }
   },
   "cell_type": "code",
   "source": [
    "p8_epochs_train_ch_filter_augmented, p8_train_metadata = augment_with_shuffled_baseline(p8_epochs_train_ch_filter, p8_train)\n",
    "p8_epochs_test_ch_filter_augmented, p8_test_metadata = augment_with_shuffled_baseline(p8_epochs_test_ch_filter, p8_test)\n",
    "compute_accuracy_vs_contrast_with_sigmoid(p8_epochs_train_ch_filter_augmented, p8_train_metadata, p8_epochs_test_ch_filter_augmented,p8_test_metadata, 'SVM', predict_baseline=True, plot = True , output_dir='./Image/Threshold_Prediction/Baseline/p8', filename= 'p8_ch_filter_SVM',title = 'P8 Stimulus/Baseline Prediction Accuracy vs Contrast (SVM, Filtered channels)')\n",
    "\n",
    "del p8_epochs_train_ch_filter_augmented, p8_train_metadata, p8_epochs_test_ch_filter_augmented, p8_test_metadata\n",
    "\n",
    "p7_epochs_train_ch_filter_augmented, p7_train_metadata = augment_with_shuffled_baseline(p7_epochs_train_ch_filter, p7_train)\n",
    "p7_epochs_test_ch_filter_augmented, p7_test_metadata = augment_with_shuffled_baseline(p7_epochs_test_ch_filter, p7_test)\n",
    "compute_accuracy_vs_contrast_with_sigmoid(p7_epochs_train_ch_filter_augmented, p7_train_metadata, p7_epochs_test_ch_filter_augmented,p7_test_metadata, 'SVM', predict_baseline=True, plot = True , output_dir='./Image/Threshold_Prediction/Baseline/p7', filename= 'p7_ch_filter_SVM',title = 'P7 Stimulus/Baseline Prediction Accuracy vs Contrast (SVM, Filtered channels)', max_fev=10000)\n",
    "\n",
    "del p7_epochs_train_ch_filter_augmented, p7_train_metadata, p7_epochs_test_ch_filter_augmented, p7_test_metadata\n",
    "\n",
    "\n",
    "p6_epochs_train_ch_filter_augmented, p6_train_metadata = augment_with_shuffled_baseline(p6_epochs_train_ch_filter, p6_train)\n",
    "p6_epochs_test_ch_filter_augmented, p6_test_metadata = augment_with_shuffled_baseline(p6_epochs_test_ch_filter, p6_test)\n",
    "compute_accuracy_vs_contrast_with_sigmoid(p6_epochs_train_ch_filter_augmented, p6_train_metadata, p6_epochs_test_ch_filter_augmented,p6_test_metadata, 'SVM', predict_baseline=True, plot = True , output_dir='./Image/Threshold_Prediction/Baseline/p6', filename= 'p6_ch_filter_SVM',title = 'P6 Stimulus/Baseline Prediction Accuracy vs Contrast (SVM, Filtered channels)', max_fev=100000)\n",
    "\n",
    "del p6_epochs_train_ch_filter_augmented, p6_train_metadata, p6_epochs_test_ch_filter_augmented, p6_test_metadata\n",
    "\n",
    "adr_epochs_train_ch_filter_augmented, adr_train_metadata = augment_with_shuffled_baseline(adr_epochs_train_ch_filter, adr_train)\n",
    "adr_epochs_test_ch_filter_augmented, adr_test_metadata = augment_with_shuffled_baseline(adr_epochs_test_ch_filter, adr_test)\n",
    "compute_accuracy_vs_contrast_with_sigmoid(adr_epochs_train_ch_filter_augmented, adr_train_metadata, adr_epochs_test_ch_filter_augmented,adr_test_metadata, 'SVM', predict_baseline=True, plot = True , output_dir='./Image/Threshold_Prediction/Baseline/adr', filename= 'adr_ch_filter_SVM',title = 'ADR Stimulus/Baseline Prediction Accuracy vs Contrast (SVM, Filtered channels)', max_fev=10000)\n",
    "\n",
    "del adr_epochs_train_ch_filter_augmented, adr_train_metadata, adr_epochs_test_ch_filter_augmented, adr_test_metadata"
   ],
   "id": "bed3aa136f5e456b",
   "outputs": [],
   "execution_count": 23
  },
  {
   "metadata": {},
   "cell_type": "markdown",
   "source": "CNN",
   "id": "2af64de2084dbea7"
  },
  {
   "metadata": {
    "ExecuteTime": {
     "end_time": "2025-01-09T11:29:10.370457Z",
     "start_time": "2025-01-09T11:25:52.310358Z"
    }
   },
   "cell_type": "code",
   "source": [
    "p8_epochs_train_ch_filter_augmented, p8_train_metadata = augment_with_shuffled_baseline(p8_epochs_train_ch_filter, p8_train)\n",
    "p8_epochs_test_ch_filter_augmented, p8_test_metadata = augment_with_shuffled_baseline(p8_epochs_test_ch_filter, p8_test)\n",
    "compute_accuracy_vs_contrast_with_sigmoid(p8_epochs_train_ch_filter_augmented, p8_train_metadata, p8_epochs_test_ch_filter_augmented,p8_test_metadata, 'CNN', predict_baseline=True, plot = True , output_dir='./Image/Threshold_Prediction/Baseline/p8', filename= 'p8_ch_filter_CNN',epochs_cnn=100,verbose_cnn=0,title = 'P8 Stimulus/Baseline Prediction Accuracy vs Contrast (CNN, Filtered channels)',max_fev=100000)\n",
    "\n",
    "del p8_epochs_train_ch_filter_augmented, p8_train_metadata, p8_epochs_test_ch_filter_augmented, p8_test_metadata\n",
    "\n",
    "p7_epochs_train_ch_filter_augmented, p7_train_metadata = augment_with_shuffled_baseline(p7_epochs_train_ch_filter, p7_train)\n",
    "p7_epochs_test_ch_filter_augmented, p7_test_metadata = augment_with_shuffled_baseline(p7_epochs_test_ch_filter, p7_test)\n",
    "compute_accuracy_vs_contrast_with_sigmoid(p7_epochs_train_ch_filter_augmented, p7_train_metadata, p7_epochs_test_ch_filter_augmented,p7_test_metadata, 'CNN', predict_baseline=True, plot = True , output_dir='./Image/Threshold_Prediction/Baseline/p7', filename= 'p7_ch_filter_CNN',epochs_cnn=100,verbose_cnn=0,title = 'P7 Stimulus/Baseline Prediction Accuracy vs Contrast (CNN, Filtered channels)',max_fev=100000)\n",
    "\n",
    "del p7_epochs_train_ch_filter_augmented, p7_train_metadata, p7_epochs_test_ch_filter_augmented, p7_test_metadata\n",
    "\n",
    "\n",
    "p6_epochs_train_ch_filter_augmented, p6_train_metadata = augment_with_shuffled_baseline(p6_epochs_train_ch_filter, p6_train)\n",
    "p6_epochs_test_ch_filter_augmented, p6_test_metadata = augment_with_shuffled_baseline(p6_epochs_test_ch_filter, p6_test)\n",
    "compute_accuracy_vs_contrast_with_sigmoid(p6_epochs_train_ch_filter_augmented, p6_train_metadata, p6_epochs_test_ch_filter_augmented,p6_test_metadata, 'CNN', predict_baseline=True, plot = True , output_dir='./Image/Threshold_Prediction/Baseline/p6', filename= 'p6_ch_filter_CNN',epochs_cnn=100,verbose_cnn=0,title = 'P6 Stimulus/Baseline Prediction Accuracy vs Contrast (CNN, Filtered channels)', max_fev=100000)\n",
    "\n",
    "del p6_epochs_train_ch_filter_augmented, p6_train_metadata, p6_epochs_test_ch_filter_augmented, p6_test_metadata\n",
    "\n",
    "adr_epochs_train_ch_filter_augmented, adr_train_metadata = augment_with_shuffled_baseline(adr_epochs_train_ch_filter, adr_train)\n",
    "adr_epochs_test_ch_filter_augmented, adr_test_metadata = augment_with_shuffled_baseline(adr_epochs_test_ch_filter, adr_test)\n",
    "compute_accuracy_vs_contrast_with_sigmoid(adr_epochs_train_ch_filter_augmented, adr_train_metadata, adr_epochs_test_ch_filter_augmented,adr_test_metadata, 'CNN', predict_baseline=True, plot = True , output_dir='./Image/Threshold_Prediction/Baseline/adr', filename= 'adr_ch_filter_CNN',epochs_cnn=100,verbose_cnn=0,title = 'ADR Stimulus/Baseline Prediction Accuracy vs Contrast (CNN, Filtered channels)',max_fev=100000)\n",
    "\n",
    "del adr_epochs_train_ch_filter_augmented, adr_train_metadata, adr_epochs_test_ch_filter_augmented, adr_test_metadata"
   ],
   "id": "8751ded74b6a0f65",
   "outputs": [
    {
     "name": "stdout",
     "output_type": "stream",
     "text": [
      "33/33 [==============================] - 0s 5ms/step\n",
      "33/33 [==============================] - 0s 5ms/step\n",
      "33/33 [==============================] - 0s 6ms/step\n",
      "20/20 [==============================] - 0s 6ms/step\n"
     ]
    }
   ],
   "execution_count": 24
  },
  {
   "metadata": {},
   "cell_type": "markdown",
   "source": "## Prediction with channel filtering and RESS Filtering",
   "id": "f144ee522e53f767"
  },
  {
   "metadata": {},
   "cell_type": "markdown",
   "source": "LDA",
   "id": "52b63f9e6d38a060"
  },
  {
   "metadata": {
    "ExecuteTime": {
     "end_time": "2025-01-09T11:29:18.825386Z",
     "start_time": "2025-01-09T11:29:10.372213Z"
    }
   },
   "cell_type": "code",
   "source": [
    "p8_epochs_train_ch_filter_ress_augmented, p8_train_metadata = augment_with_shuffled_baseline(p8_train_ress_ch_pre_filtered, p8_train, ress = True)\n",
    "p8_epochs_test_ch_filter_ress_augmented, p8_test_metadata = augment_with_shuffled_baseline(p8_test_ress_ch_pre_filtered, p8_test, ress = True)\n",
    "compute_accuracy_vs_contrast_with_sigmoid(p8_epochs_train_ch_filter_ress_augmented, p8_train_metadata, p8_epochs_test_ch_filter_ress_augmented,p8_test_metadata, 'LDA', predict_baseline=True, plot = True, ress_filtered_data = True , output_dir='./Image/Threshold_Prediction/Baseline/p8', filename= 'p8_ress_ch_filter',title = 'P8 Stimulus/Baseline Prediction Accuracy vs Contrast (LDA, Filtered channels and RESS Filter)', max_fev=100000)\n",
    "del p8_epochs_train_ch_filter_ress_augmented, p8_train_metadata, p8_epochs_test_ch_filter_ress_augmented, p8_test_metadata\n",
    "\n",
    "p7_epochs_train_ch_filter_ress_augmented, p7_train_metadata = augment_with_shuffled_baseline(p7_train_ress_ch_pre_filtered, p7_train, ress = True)\n",
    "p7_epochs_test_ch_filter_ress_augmented, p7_test_metadata = augment_with_shuffled_baseline(p7_test_ress_ch_pre_filtered, p7_test, ress = True)\n",
    "compute_accuracy_vs_contrast_with_sigmoid(p7_epochs_train_ch_filter_ress_augmented, p7_train_metadata, p7_epochs_test_ch_filter_ress_augmented,p7_test_metadata, 'LDA', predict_baseline=True, plot = True, ress_filtered_data = True , output_dir='./Image/Threshold_Prediction/Baseline/p7', filename= 'p7_ress_ch_filter',title = 'P7 Stimulus/Baseline Prediction Accuracy vs Contrast (LDA, Filtered channels and RESS Filter)', max_fev=500000)\n",
    "del p7_epochs_train_ch_filter_ress_augmented, p7_train_metadata, p7_epochs_test_ch_filter_ress_augmented, p7_test_metadata\n",
    "\n",
    "p6_epochs_train_ch_filter_ress_augmented, p6_train_metadata = augment_with_shuffled_baseline(p6_train_ress_ch_pre_filtered, p6_train, ress = True)\n",
    "p6_epochs_test_ch_filter_ress_augmented, p6_test_metadata = augment_with_shuffled_baseline(p6_test_ress_ch_pre_filtered, p6_test, ress = True)\n",
    "compute_accuracy_vs_contrast_with_sigmoid(p6_epochs_train_ch_filter_ress_augmented, p6_train_metadata, p6_epochs_test_ch_filter_ress_augmented,p6_test_metadata, 'LDA', predict_baseline=True, plot = True, ress_filtered_data = True , output_dir='./Image/Threshold_Prediction/Baseline/p6', filename= 'p6_ress_ch_filter',title = 'P6 Stimulus/Baseline Prediction Accuracy vs Contrast (LDA, Filtered channels and RESS Filter)', max_fev=100000)\n",
    "del p6_epochs_train_ch_filter_ress_augmented, p6_train_metadata, p6_epochs_test_ch_filter_ress_augmented, p6_test_metadata\n",
    "\n",
    "adr_epochs_train_ch_filter_ress_augmented, adr_train_metadata = augment_with_shuffled_baseline(adr_train_ress_ch_pre_filtered, adr_train, ress = True)\n",
    "adr_epochs_test_ch_filter_ress_augmented, adr_test_metadata = augment_with_shuffled_baseline(adr_test_ress_ch_pre_filtered, adr_test, ress = True)\n",
    "compute_accuracy_vs_contrast_with_sigmoid(adr_epochs_train_ch_filter_ress_augmented, adr_train_metadata, adr_epochs_test_ch_filter_ress_augmented,adr_test_metadata, 'LDA', predict_baseline=True, plot = True, ress_filtered_data = True , output_dir='./Image/Threshold_Prediction/Baseline/adr', filename= 'adr_ress_ch_filter',title = 'ADR Stimulus/Baseline Prediction Accuracy vs Contrast (LDA, Filtered channels and RESS Filter)', max_fev=100000)\n",
    "del adr_epochs_train_ch_filter_ress_augmented, adr_train_metadata, adr_epochs_test_ch_filter_ress_augmented, adr_test_metadata\n"
   ],
   "id": "3070b09c170073f",
   "outputs": [],
   "execution_count": 25
  },
  {
   "metadata": {},
   "cell_type": "markdown",
   "source": "## Prediction with no channel filtering and ress filtering",
   "id": "78e9213986da6f1"
  },
  {
   "metadata": {},
   "cell_type": "markdown",
   "source": "LDA",
   "id": "460fe2b882dcd307"
  },
  {
   "metadata": {
    "ExecuteTime": {
     "end_time": "2025-01-09T10:50:30.831900Z",
     "start_time": "2025-01-09T10:50:16.104964Z"
    }
   },
   "cell_type": "code",
   "source": [
    "import visualization\n",
    "importlib.reload(visualization)\n",
    "from visualization import *\n",
    "\n",
    "p8_epochs_train_ress_augmented, p8_train_metadata = augment_with_shuffled_baseline(p8_train_ress_raw, p8_train, ress = True)\n",
    "p8_epochs_test_ress_augmented, p8_test_metadata = augment_with_shuffled_baseline(p8_test_ress_raw, p8_test, ress = True)\n",
    "compute_accuracy_vs_contrast_with_sigmoid(p8_epochs_train_ress_augmented, p8_train_metadata, p8_epochs_test_ress_augmented,p8_test_metadata, 'LDA', predict_baseline=True, plot = True, ress_filtered_data = True , output_dir='./Image/Threshold_Prediction/Baseline/p8', filename= 'p8_ress_filter',title = 'P8 Stimulus/Baseline Prediction Accuracy vs Contrast (LDA, Filtered channels and RESS Filter)', max_fev=100000)\n",
    "\n",
    "del p8_epochs_train_ress_augmented, p8_train_metadata, p8_epochs_test_ress_augmented, p8_test_metadata\n",
    "\n",
    "p7_epochs_train_ress_augmented, p7_train_metadata = augment_with_shuffled_baseline(p7_train_ress_raw, p7_train, ress = True)\n",
    "p7_epochs_test_ress_augmented, p7_test_metadata = augment_with_shuffled_baseline(p7_test_ress_raw, p7_test, ress = True)\n",
    "compute_accuracy_vs_contrast_with_sigmoid(p7_epochs_train_ress_augmented, p7_train_metadata, p7_epochs_test_ress_augmented,p7_test_metadata, 'LDA', predict_baseline=True, plot = True, ress_filtered_data = True , output_dir='./Image/Threshold_Prediction/Baseline/p7', filename= 'p7_ress_filter',title = 'P7 Stimulus/Baseline Prediction Accuracy vs Contrast (LDA, Filtered channels and RESS Filter)', max_fev=500000)\n",
    "\n",
    "del p7_epochs_train_ress_augmented, p7_train_metadata, p7_epochs_test_ress_augmented, p7_test_metadata\n",
    "\n",
    "\n",
    "p6_epochs_train_ress_augmented, p6_train_metadata = augment_with_shuffled_baseline(p6_train_ress_raw, p6_train, ress = True)\n",
    "p6_epochs_test_ress_augmented, p6_test_metadata = augment_with_shuffled_baseline(p6_test_ress_raw, p6_test, ress = True)\n",
    "compute_accuracy_vs_contrast_with_sigmoid(p6_epochs_train_ress_augmented, p6_train_metadata, p6_epochs_test_ress_augmented,p6_test_metadata, 'LDA', predict_baseline=True, plot = True, ress_filtered_data = True , output_dir='./Image/Threshold_Prediction/Baseline/p6', filename= 'p6_ress_filter',title = 'P6 Stimulus/Baseline Prediction Accuracy vs Contrast (LDA, Filtered channels and RESS Filter)', max_fev=100000)\n",
    "\n",
    "del p6_epochs_train_ress_augmented, p6_train_metadata, p6_epochs_test_ress_augmented, p6_test_metadata\n",
    "\n",
    "adr_epochs_train_ress_augmented, adr_train_metadata = augment_with_shuffled_baseline(adr_train_ress_raw, adr_train, ress = True)\n",
    "adr_epochs_test_ress_augmented, adr_test_metadata = augment_with_shuffled_baseline(adr_test_ress_raw, adr_test, ress = True)\n",
    "compute_accuracy_vs_contrast_with_sigmoid(adr_epochs_train_ress_augmented, adr_train_metadata, adr_epochs_test_ress_augmented,adr_test_metadata, 'LDA', predict_baseline=True, plot = True, ress_filtered_data = True , output_dir='./Image/Threshold_Prediction/Baseline/adr', filename= 'adr_ress_filter',title = 'ADR Stimulus/Baseline Prediction Accuracy vs Contrast (LDA, Filtered channels and RESS Filter)', max_fev=100000)\n",
    "\n",
    "del adr_epochs_train_ress_augmented, adr_train_metadata, adr_epochs_test_ress_augmented, adr_test_metadata"
   ],
   "id": "ec5e96e9d932731",
   "outputs": [],
   "execution_count": 11
  },
  {
   "metadata": {},
   "cell_type": "markdown",
   "source": "# Behavior Prediction",
   "id": "67cdf3e294c23797"
  },
  {
   "metadata": {},
   "cell_type": "code",
   "source": [
    "p8_behavior = parse_dv_file('./Data/Behavior/P8_contrast.dv')\n",
    "p7_behavior = parse_dv_file('./Data/Behavior/P7_contrast.dv')\n",
    "p6_behavior = parse_dv_file('./Data/Behavior/P6_contrast.dv')\n",
    "adr_behavior = parse_dv_file('./Data/Behavior/ADR_contrast.dv')"
   ],
   "id": "c0bdec6874c09e00",
   "outputs": [],
   "execution_count": null
  },
  {
   "metadata": {},
   "cell_type": "code",
   "source": [
    "importlib.reload(visualization)\n",
    "from visualization import *\n",
    "plot_accuracy_behavior(adr_behavior,'./Image/Behavior results', 'adr_behavior', 'ADR Accuracy vs Contrast (Behavior Data)')\n",
    "plot_accuracy_behavior(p6_behavior,'./Image/Behavior results', 'p6_behavior', 'P6 Accuracy vs Contrast (Behavior Data)')\n",
    "plot_accuracy_behavior(p7_behavior,'./Image/Behavior results', 'p7_behavior', 'P7 Accuracy vs Contrast (Behavior Data)')\n",
    "plot_accuracy_behavior(p8_behavior,'./Image/Behavior results', 'p8_behavior', 'P8 Accuracy vs Contrast (Behavior Data)')"
   ],
   "id": "3a96e5b5ee0d905b",
   "outputs": [],
   "execution_count": null
  },
  {
   "metadata": {},
   "cell_type": "code",
   "source": [
    "import re\n",
    "import os\n",
    "import pkg_resources\n",
    "\n",
    "# Path to your project directory\n",
    "project_directory = \"./\"  # Replace with your project directory\n",
    "\n",
    "# Function to extract imported packages from files\n",
    "def extract_imports_from_files(directory):\n",
    "    imports = set()\n",
    "    for root, _, files in os.walk(directory):\n",
    "        for file in files:\n",
    "            if file.endswith(\".py\") or file.endswith(\".ipynb\"):\n",
    "                file_path = os.path.join(root, file)\n",
    "                with open(file_path, \"r\", encoding=\"utf-8\") as f:\n",
    "                    content = f.read()\n",
    "                    # Regex to find imports and from-imports\n",
    "                    matches = re.findall(r\"^\\s*(?:import|from)\\s+([\\w\\.]+)\", content, re.MULTILINE)\n",
    "                    imports.update(match.split('.')[0] for match in matches)\n",
    "    return imports\n",
    "\n",
    "# Known packages used but not explicitly imported in the code\n",
    "manual_additions = {\"tensorflow\", \"scikit-learn\", \"jupyter\", \"jupyterlab\"}  # Add manually if needed\n",
    "\n",
    "# Get packages used in the project\n",
    "used_packages = extract_imports_from_files(project_directory) | manual_additions\n",
    "\n",
    "# Match with installed packages\n",
    "installed_packages = {pkg.project_name.lower(): pkg.version for pkg in pkg_resources.working_set}\n",
    "matched_packages = {pkg: installed_packages.get(pkg.lower(), \"Not Installed\") for pkg in used_packages}\n",
    "\n",
    "# Print the package names with versions in the desired format\n",
    "formatted_output = ', '.join(f'`{pkg}=={version}`' for pkg, version in sorted(matched_packages.items()))\n",
    "print(formatted_output)\n"
   ],
   "id": "f75548a1e6b030c0",
   "outputs": [],
   "execution_count": null
  },
  {
   "metadata": {
    "ExecuteTime": {
     "end_time": "2025-01-09T18:26:49.630398Z",
     "start_time": "2025-01-09T18:26:49.576295Z"
    }
   },
   "cell_type": "code",
   "source": "adr_evoked = mne.EvokedArray(data=adr_epochs_test.average().get_data(), info = adr_epochs_test.info)",
   "id": "a33deed5a0898efb",
   "outputs": [],
   "execution_count": 57
  },
  {
   "metadata": {
    "ExecuteTime": {
     "end_time": "2025-01-09T18:35:00.953911Z",
     "start_time": "2025-01-09T18:34:52.217077Z"
    }
   },
   "cell_type": "code",
   "source": [
    "create_topomap_animation(adr_evoked,\"topo_animation.gif\", fps=20)\n",
    "\n"
   ],
   "id": "a0e1e59bec4e8822",
   "outputs": [
    {
     "name": "stdout",
     "output_type": "stream",
     "text": [
      "Topomap video saved as 'topo_animation.gif'\n"
     ]
    }
   ],
   "execution_count": 70
  }
 ],
 "metadata": {
  "kernelspec": {
   "display_name": "Python 3",
   "language": "python",
   "name": "python3"
  },
  "language_info": {
   "codemirror_mode": {
    "name": "ipython",
    "version": 2
   },
   "file_extension": ".py",
   "mimetype": "text/x-python",
   "name": "python",
   "nbconvert_exporter": "python",
   "pygments_lexer": "ipython2",
   "version": "2.7.6"
  }
 },
 "nbformat": 4,
 "nbformat_minor": 5
}
