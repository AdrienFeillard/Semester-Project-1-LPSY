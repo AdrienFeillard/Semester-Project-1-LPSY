{
 "cells": [
  {
   "cell_type": "code",
   "id": "initial_id",
   "metadata": {
    "collapsed": true,
    "ExecuteTime": {
     "end_time": "2024-12-18T13:58:12.858659Z",
     "start_time": "2024-12-18T13:58:11.977074Z"
    }
   },
   "source": [
    "import utils\n",
    "import file_handling\n",
    "import data_processing\n",
    "import visualization\n",
    "import computation\n",
    "import RESS_filter\n",
    "import importlib\n",
    "\n",
    "importlib.reload(utils)\n",
    "importlib.reload(file_handling)\n",
    "importlib.reload(data_processing)\n",
    "importlib.reload(visualization)\n",
    "importlib.reload(computation)\n",
    "importlib.reload(RESS_filter)\n",
    "\n",
    "from file_handling import *\n",
    "from data_processing import *\n",
    "from utils import *\n",
    "from visualization import *\n",
    "from computation import *\n",
    "from RESS_filter import *\n",
    "\n",
    "\n"
   ],
   "outputs": [],
   "execution_count": 1
  },
  {
   "metadata": {},
   "cell_type": "markdown",
   "source": "# Loading of the data",
   "id": "9ed550955d695cf5"
  },
  {
   "metadata": {
    "ExecuteTime": {
     "end_time": "2024-12-18T13:58:37.422936Z",
     "start_time": "2024-12-18T13:58:12.859659Z"
    }
   },
   "cell_type": "code",
   "source": [
    "adr_train,adr_electrodes_pos = load_eeg('./Data/TrainData/ADR_train.mat')\n",
    "adr_test, _ = load_eeg('./Data/TrainData/ADR_test.mat')\n",
    "\n",
    "p6_train, p6_electrodes_pos = load_eeg('./Data/TrainData/P6_train.mat')\n",
    "p6_test, _ = load_eeg('./Data/TrainData/P6_test.mat')\n",
    "\n",
    "p7_train, p7_electrodes_pos = load_eeg('./Data/TrainData/P7_train.mat')\n",
    "p7_test, _ = load_eeg('./Data/TrainData/P7_test.mat')\n",
    "\n",
    "p8_train, p8_electrodes_pos = load_eeg('./Data/TrainData/P8_train.mat')\n",
    "p8_test, _ = load_eeg('./Data/TrainData/P8_test.mat')"
   ],
   "id": "88f2bda51420d7db",
   "outputs": [],
   "execution_count": 2
  },
  {
   "metadata": {},
   "cell_type": "markdown",
   "source": "## Data pre-processing",
   "id": "a0e92ece42e6c472"
  },
  {
   "metadata": {
    "ExecuteTime": {
     "end_time": "2024-12-18T13:58:49.711508Z",
     "start_time": "2024-12-18T13:58:37.426938Z"
    }
   },
   "cell_type": "code",
   "source": [
    "adr_data_array_train = preprocess_eeg_data(adr_train,  n_channels=128)\n",
    "adr_data_array_test = preprocess_eeg_data(adr_test,  n_channels=128)\n",
    "\n",
    "p6_data_array_train = preprocess_eeg_data(p6_train, n_channels=128)\n",
    "p6_data_array_test = preprocess_eeg_data(p6_test, n_channels=128)\n",
    "\n",
    "p7_data_array_train = preprocess_eeg_data(p7_train, n_channels=128)\n",
    "p7_data_array_test = preprocess_eeg_data(p7_test, n_channels=128)\n",
    "\n",
    "p8_data_array_train = preprocess_eeg_data(p8_train, n_channels=128)\n",
    "p8_data_array_test = preprocess_eeg_data(p8_test, n_channels=128)\n",
    "\n",
    "adr_info = create_mne_info(adr_train, adr_electrodes_pos)\n",
    "p6_info = create_mne_info(p6_train, p6_electrodes_pos)\n",
    "p7_info = create_mne_info(p7_train, p7_electrodes_pos)\n",
    "p8_info = create_mne_info(p8_train, p8_electrodes_pos)\n",
    "\n",
    "adr_epochs_train = create_epochs(adr_data_array_train, adr_info, baseline=None)\n",
    "adr_epochs_train = drop_data(adr_epochs_train, channels_to_drop=check_zero_channels(adr_train, adr_info['ch_names']),\n",
    "                             epoch_indices_to_drop=check_zero_epochs(adr_data_array_train))\n",
    "adr_epochs_test = create_epochs(adr_data_array_test, adr_info, baseline = None)\n",
    "adr_epochs_test = drop_data(adr_epochs_test, channels_to_drop=check_zero_channels(adr_test, adr_info['ch_names']),\n",
    "                            epoch_indices_to_drop=check_zero_epochs(adr_data_array_test))\n",
    "\n",
    "p6_epochs_train = create_epochs(p6_data_array_train, p6_info, baseline = None)\n",
    "p6_epochs_train = drop_data(p6_epochs_train, channels_to_drop= check_zero_channels(p6_train, p6_info['ch_names']),\n",
    "                            epoch_indices_to_drop=check_zero_epochs(p6_data_array_train))\n",
    "p6_epochs_test = create_epochs(p6_data_array_test, p6_info, baseline = None)\n",
    "p6_epochs_test = drop_data(p6_epochs_test, channels_to_drop= check_zero_channels(p6_train, p6_info['ch_names']),\n",
    "                           epoch_indices_to_drop=check_zero_epochs(p6_data_array_test))\n",
    "\n",
    "p7_epochs_train = create_epochs(p7_data_array_train, p7_info, baseline = None)\n",
    "p7_epochs_train = drop_data(p7_epochs_train, channels_to_drop= check_zero_channels(p7_train, p7_info['ch_names']),\n",
    "                            epoch_indices_to_drop=check_zero_epochs(p7_data_array_train))\n",
    "p7_epochs_test = create_epochs(p7_data_array_test, p7_info, baseline = None)\n",
    "p7_epochs_test= drop_data(p7_epochs_test,channels_to_drop=check_zero_channels(p7_test, p7_info['ch_names']),\n",
    "                          epoch_indices_to_drop= check_zero_epochs(p7_data_array_test))\n",
    "\n",
    "p8_epochs_train = create_epochs(p8_data_array_train, p8_info, baseline = None)\n",
    "p8_epochs_train = drop_data(p8_epochs_train,channels_to_drop=check_zero_channels(p8_train,p8_info['ch_names']),\n",
    "                            epoch_indices_to_drop=check_zero_epochs(p8_data_array_train))\n",
    "\n",
    "p8_epochs_test = create_epochs(p8_data_array_test, p8_info, baseline = None)\n",
    "p8_epochs_test = drop_data(p8_epochs_test, channels_to_drop=check_zero_channels(p8_train, p8_info['ch_names']),\n",
    "                           epoch_indices_to_drop=check_zero_epochs(p8_data_array_test))\n",
    "\n",
    "adr_train = adr_train.drop(check_zero_channels(adr_train, adr_info['ch_names']), axis=1)\n",
    "adr_train = adr_train.drop(check_zero_epochs(adr_data_array_train), axis=0)\n",
    "\n",
    "adr_test = adr_test.drop(check_zero_channels(adr_test, adr_info['ch_names']), axis=1)\n",
    "adr_test = adr_test.drop(check_zero_epochs(adr_data_array_test), axis=0)\n",
    "\n",
    "p6_test = p6_test.drop(check_zero_channels(p6_test, p6_info['ch_names']), axis=1)\n",
    "p6_test = p6_test.drop(check_zero_epochs(p6_data_array_test), axis=0)\n",
    "\n",
    "p6_train = p6_train.drop(check_zero_channels(p6_train, p6_info['ch_names']), axis=1)\n",
    "p6_train = p6_train.drop(check_zero_epochs(p6_data_array_train), axis=0)\n",
    "\n",
    "p7_train = p7_train.drop(check_zero_channels(p7_train, p7_info['ch_names']), axis=1)\n",
    "p7_train = p7_train.drop(check_zero_epochs(p7_data_array_train), axis=0)\n",
    "\n",
    "p7_test = p7_test.drop(check_zero_channels(p7_test, p7_info['ch_names']), axis=1)\n",
    "p7_test = p7_test.drop(check_zero_epochs(p7_data_array_test), axis=0)\n",
    "\n",
    "p8_train = p8_train.drop(check_zero_channels(p8_train, p8_info['ch_names']), axis=1)\n",
    "p8_train = p8_train.drop(check_zero_epochs(p8_data_array_train), axis=0)\n",
    "\n",
    "p8_test = p8_test.drop(check_zero_channels(p8_test, p8_info['ch_names']), axis=1)\n",
    "p8_test = p8_test.drop(check_zero_epochs(p8_data_array_test), axis=0)\n",
    "\n",
    "del adr_data_array_train, adr_data_array_test, p6_data_array_train, p6_data_array_test , p7_data_array_train, p7_data_array_test, p8_data_array_train, p8_data_array_test"
   ],
   "id": "4aaadbaaa39e66b5",
   "outputs": [
    {
     "name": "stderr",
     "output_type": "stream",
     "text": [
      "C:\\Users\\Home\\Documents\\EPFL\\Semester project\\Code\\data_processing.py:15: RuntimeWarning: Fiducial point nasion not found, assuming identity unknown to head transformation\n",
      "  info.set_montage(montage)\n",
      "C:\\Users\\Home\\Documents\\EPFL\\Semester project\\Code\\data_processing.py:15: RuntimeWarning: Fiducial point nasion not found, assuming identity unknown to head transformation\n",
      "  info.set_montage(montage)\n",
      "C:\\Users\\Home\\Documents\\EPFL\\Semester project\\Code\\data_processing.py:15: RuntimeWarning: Fiducial point nasion not found, assuming identity unknown to head transformation\n",
      "  info.set_montage(montage)\n",
      "C:\\Users\\Home\\Documents\\EPFL\\Semester project\\Code\\data_processing.py:15: RuntimeWarning: Fiducial point nasion not found, assuming identity unknown to head transformation\n",
      "  info.set_montage(montage)\n"
     ]
    },
    {
     "name": "stdout",
     "output_type": "stream",
     "text": [
      "Not setting metadata\n",
      "400 matching events found\n",
      "No baseline correction applied\n",
      "0 projection items activated\n",
      "Dropped 12 epochs: 3, 31, 43, 72, 74, 80, 139, 147, 218, 259, 296, 300\n",
      "Not setting metadata\n",
      "320 matching events found\n",
      "No baseline correction applied\n",
      "0 projection items activated\n",
      "Dropped 14 epochs: 169, 187, 200, 201, 212, 215, 260, 261, 262, 271, 290, 293, 300, 301\n",
      "Not setting metadata\n",
      "520 matching events found\n",
      "No baseline correction applied\n",
      "0 projection items activated\n",
      "Dropped 0 epochs: \n",
      "Not setting metadata\n",
      "520 matching events found\n",
      "No baseline correction applied\n",
      "0 projection items activated\n",
      "Dropped 0 epochs: \n",
      "Not setting metadata\n",
      "520 matching events found\n",
      "No baseline correction applied\n",
      "0 projection items activated\n",
      "Dropped 42 epochs: 71, 72, 73, 88, 89, 100, 120, 130, 131, 142, 161, 162, 188, 189, 190, 191, 192, 243, 252, 253, 263, 300, 301, 302, 303, 337, 353, 368, 387, 390, 395, 433, 437, 440, 457, 458, 459, 487, 488, 489, 490, 494\n",
      "Not setting metadata\n",
      "520 matching events found\n",
      "No baseline correction applied\n",
      "0 projection items activated\n",
      "Dropped 0 epochs: \n",
      "Not setting metadata\n",
      "520 matching events found\n",
      "No baseline correction applied\n",
      "0 projection items activated\n",
      "Dropped 8 epochs: 17, 18, 19, 163, 164, 340, 440, 513\n",
      "Not setting metadata\n",
      "520 matching events found\n",
      "No baseline correction applied\n",
      "0 projection items activated\n",
      "Dropped 7 epochs: 404, 405, 407, 409, 411, 417, 422\n"
     ]
    }
   ],
   "execution_count": 3
  },
  {
   "metadata": {},
   "cell_type": "markdown",
   "source": "# Raw Data analysis",
   "id": "267ddaa8b5d1d46e"
  },
  {
   "metadata": {},
   "cell_type": "markdown",
   "source": "## PSD on raw data",
   "id": "3c407a6e07bcf90f"
  },
  {
   "metadata": {
    "ExecuteTime": {
     "end_time": "2024-12-18T10:21:26.539946Z",
     "start_time": "2024-12-18T10:19:13.126850Z"
    }
   },
   "cell_type": "code",
   "source": [
    "adr_psd_train = compute_psd(adr_epochs_train)\n",
    "save_psd_plot(adr_psd_train,output_dir='./Image/PSD_plots/Raw', filename= \"adr_train_psd_plot\")\n",
    "plot_topomap(adr_psd_train, bands={\"10 Hz\": 10, \"20 Hz\": 20, \"20-30 Hz\": (20, 30), \"40-50 Hz\": (40, 50)},\n",
    "             output_dir='./Image/PSD_Topomap_plots/Raw',filename=\"adr_train_psd_plot_topo_raw\")\n",
    "\n",
    "adr_psd_test = compute_psd(adr_epochs_test)\n",
    "save_psd_plot(adr_psd_test,output_dir='./Image/PSD_plots/Raw', filename=\"adr_test_psd_plot\")\n",
    "plot_topomap(adr_psd_test, bands={\"10 Hz\": 10, \"20 Hz\": 20, \"20-30 Hz\": (20, 30), \"40-50 Hz\": (40, 50)},\n",
    "             output_dir='./Image/PSD_Topomap_plots/Raw',filename=\"adr_test_psd_plot_topo_raw\")\n",
    "\n",
    "p6_psd_train = compute_psd(p6_epochs_train)\n",
    "save_psd_plot(p6_psd_train,output_dir='./Image/PSD_plots/Raw', filename=\"p6_train_psd_plot\")\n",
    "plot_topomap(p6_psd_train, bands={\"10 Hz\": 10, \"20 Hz\": 20, \"10-25 Hz\": (10, 25), \"40-50 Hz\": (40, 50)},\n",
    "             output_dir='./Image/PSD_Topomap_plots/Raw',filename=\"p6_train_psd_plot_topo_raw\")\n",
    "\n",
    "p6_psd_test = compute_psd(p6_epochs_test)\n",
    "save_psd_plot(p6_psd_test,output_dir='./Image/PSD_plots/Raw', filename=\"p6_test_psd_plot\")\n",
    "plot_topomap(p6_psd_test, bands={\"10 Hz\": 10, \"20 Hz\": 20, \"10-25 Hz\": (10, 25), \"40-50 Hz\": (40, 50)},\n",
    "             output_dir='./Image/PSD_Topomap_plots/Raw',filename=\"p6_test_psd_plot_topo\")\n",
    "\n",
    "p7_psd_train = compute_psd(p7_epochs_train)\n",
    "save_psd_plot(p7_psd_train, output_dir='./Image/PSD_plots/Raw', filename=\"p7_train_psd_plot\")\n",
    "plot_topomap(p7_psd_train, bands={\"10 Hz\": 10, \"20 Hz\": 20, \"10-25 Hz\": (10, 25), \"40-50 Hz\": (40, 50)},\n",
    "             output_dir='./Image/PSD_Topomap_plots/Raw',filename=\"p7_train_psd_plot_topo_raw\")\n",
    "\n",
    "p7_psd_test = compute_psd(p7_epochs_test)\n",
    "save_psd_plot(p7_psd_test, output_dir='./Image/PSD_plots/Raw', filename=\"p7_test_psd_plot\")\n",
    "plot_topomap(p7_psd_test, bands={\"10 Hz\": 10, \"20 Hz\": 20, \"10-25 Hz\": (10, 25), \"40-50 Hz\": (40, 50)},\n",
    "             output_dir='./Image/PSD_Topomap_plots/Raw',filename=\"p7_test_psd_plot_topo\")\n",
    "\n",
    "p8_psd_train = compute_psd(p8_epochs_train)\n",
    "save_psd_plot(p8_psd_train,output_dir='./Image/PSD_plots/Raw', filename=\"p8_train_psd_plot\")\n",
    "plot_topomap(p8_psd_train, bands={\"10 Hz\": 10, \"20 Hz\": 20, \"10-25 Hz\": (10, 25), \"40-50 Hz\": (40, 50)},\n",
    "             output_dir='./Image/PSD_Topomap_plots/Raw',filename=\"p8_train_psd_plot_topo_raw\")\n",
    "\n",
    "p8_psd_test = compute_psd(p8_epochs_test)\n",
    "save_psd_plot(p8_psd_test,output_dir='./Image/PSD_plots/Raw', filename=\"p8_test_psd_plot\")\n",
    "plot_topomap(p8_psd_test, bands={\"10 Hz\": 10, \"20 Hz\": 20, \"10-25 Hz\": (10, 25), \"40-50 Hz\": (40, 50)},\n",
    "             output_dir='./Image/PSD_Topomap_plots/Raw',filename=\"p8_test_psd_plot_topo\")"
   ],
   "id": "8fd1aea45d9571c7",
   "outputs": [
    {
     "name": "stdout",
     "output_type": "stream",
     "text": [
      "Effective window size : 2.002 (s)\n",
      "Averaging across epochs...\n",
      "PSD plot saved as './Image/PSD_plots/Raw\\adr_train_psd_plot.png'\n",
      "Topomap plot saved as './Image/PSD_Topomap_plots/Raw\\adr_train_psd_plot_topo_raw.png'\n",
      "Effective window size : 2.002 (s)\n",
      "Averaging across epochs...\n",
      "PSD plot saved as './Image/PSD_plots/Raw\\adr_test_psd_plot.png'\n",
      "Topomap plot saved as './Image/PSD_Topomap_plots/Raw\\adr_test_psd_plot_topo_raw.png'\n",
      "Effective window size : 2.000 (s)\n",
      "Averaging across epochs...\n",
      "PSD plot saved as './Image/PSD_plots/Raw\\p6_train_psd_plot.png'\n",
      "Topomap plot saved as './Image/PSD_Topomap_plots/Raw\\p6_train_psd_plot_topo_raw.png'\n",
      "Effective window size : 2.000 (s)\n",
      "Averaging across epochs...\n",
      "PSD plot saved as './Image/PSD_plots/Raw\\p6_test_psd_plot.png'\n",
      "Topomap plot saved as './Image/PSD_Topomap_plots/Raw\\p6_test_psd_plot_topo.png'\n",
      "Effective window size : 2.000 (s)\n",
      "Averaging across epochs...\n",
      "PSD plot saved as './Image/PSD_plots/Raw\\p7_train_psd_plot.png'\n",
      "Topomap plot saved as './Image/PSD_Topomap_plots/Raw\\p7_train_psd_plot_topo_raw.png'\n",
      "Effective window size : 2.000 (s)\n",
      "Averaging across epochs...\n",
      "PSD plot saved as './Image/PSD_plots/Raw\\p7_test_psd_plot.png'\n",
      "Topomap plot saved as './Image/PSD_Topomap_plots/Raw\\p7_test_psd_plot_topo.png'\n",
      "Effective window size : 2.000 (s)\n",
      "Averaging across epochs...\n",
      "PSD plot saved as './Image/PSD_plots/Raw\\p8_train_psd_plot.png'\n",
      "Topomap plot saved as './Image/PSD_Topomap_plots/Raw\\p8_train_psd_plot_topo_raw.png'\n",
      "Effective window size : 2.000 (s)\n",
      "Averaging across epochs...\n",
      "PSD plot saved as './Image/PSD_plots/Raw\\p8_test_psd_plot.png'\n",
      "Topomap plot saved as './Image/PSD_Topomap_plots/Raw\\p8_test_psd_plot_topo.png'\n"
     ]
    }
   ],
   "execution_count": 6
  },
  {
   "metadata": {},
   "cell_type": "markdown",
   "source": "## ICA on Raw data",
   "id": "28140d3980d0506f"
  },
  {
   "metadata": {
    "ExecuteTime": {
     "end_time": "2024-12-18T13:12:38.985549Z",
     "start_time": "2024-12-18T13:12:35.198312Z"
    }
   },
   "cell_type": "code",
   "source": [
    "adr_ica_train = mne.preprocessing.ICA(n_components=20, method='infomax', random_state=42, verbose = 'CRITICAL')\n",
    "adr_ica_train.fit(inst=adr_epochs_train)\n",
    "adr_ica_test = mne.preprocessing.ICA(n_components=20, method='infomax', random_state=42, verbose = 'CRITICAL')\n",
    "adr_ica_test.fit(inst=adr_epochs_test)\n",
    "\n",
    "p6_ica_train = mne.preprocessing.ICA(n_components=20, method='infomax', random_state=42, verbose = 'CRITICAL')\n",
    "p6_ica_train.fit(inst=p6_epochs_train)\n",
    "p6_ica_test = mne.preprocessing.ICA(n_components=20, method='infomax', random_state=42, verbose = 'CRITICAL')\n",
    "p6_ica_test.fit(inst=p6_epochs_test)\n",
    "\n",
    "p7_ica_train = mne.preprocessing.ICA(n_components=20, method='infomax', random_state=42, verbose = 'CRITICAL')\n",
    "p7_ica_train.fit(inst=p7_epochs_train)\n",
    "p7_ica_test = mne.preprocessing.ICA(n_components=20, method='infomax', random_state=42, verbose = 'CRITICAL')\n",
    "p7_ica_test.fit(inst=p7_epochs_test)\n",
    "\n",
    "p8_ica_train = mne.preprocessing.ICA(n_components=20, method='infomax', random_state=42, verbose = 'CRITICAL')\n",
    "p8_ica_train.fit(inst=p8_epochs_train)\n",
    "p8_ica_test = mne.preprocessing.ICA(n_components=20, method='infomax', random_state=42, verbose = 'CRITICAL')\n",
    "p8_ica_test.fit(inst=p8_epochs_test)\n",
    "\n",
    "save_ica_component_properties(adr_ica_train, adr_epochs_train, \"adr_train\", output_dir=\"./Image/ADR_Train_ICA/Raw\")\n",
    "save_ica_component_properties(adr_ica_test,adr_epochs_test, \"adr_test\", output_dir=\"./Image/ADR_Test_ICA/Raw\")\n",
    "\n",
    "save_ica_component_properties(p6_ica_train, p6_epochs_train, \"p6_train\", output_dir=\"./Image/P6_Train_ICA/Raw\")\n",
    "save_ica_component_properties(p6_ica_test,p6_epochs_test, \"p6_test\", output_dir=\"./Image/P6_Test_ICA/Raw\")\n",
    "\n",
    "save_ica_component_properties(p7_ica_train,p7_epochs_train, \"p7_train\", output_dir=\"./Image/P7_Train_ICA/Raw\")\n",
    "save_ica_component_properties(p7_ica_test,p7_epochs_test, \"p7_test\", output_dir=\"./Image/P7_Test_ICA/Raw\")\n",
    "\n",
    "save_ica_component_properties(p8_ica_train, p8_epochs_train, \"p8_train\", output_dir=\"./Image/P8_Train_ICA/Raw\")\n",
    "save_ica_component_properties(p8_ica_test,p8_epochs_test, \"p8_test\", output_dir=\"./Image/P8_Test_ICA/Raw\")\n"
   ],
   "id": "a6c4d1fe0fc60802",
   "outputs": [
    {
     "name": "stdout",
     "output_type": "stream",
     "text": [
      "Fitting ICA to data using 127 channels (please be patient, this may take a while)\n"
     ]
    },
    {
     "name": "stderr",
     "output_type": "stream",
     "text": [
      "C:\\Users\\Home\\AppData\\Local\\Temp\\ipykernel_17316\\594758122.py:2: RuntimeWarning: The data has not been high-pass filtered. For good ICA performance, it should be high-pass filtered (e.g., with a 1.0 Hz lower bound) before fitting ICA.\n",
      "  adr_ica_train.fit(inst=adr_epochs_train)\n"
     ]
    },
    {
     "ename": "KeyboardInterrupt",
     "evalue": "",
     "output_type": "error",
     "traceback": [
      "\u001B[1;31m---------------------------------------------------------------------------\u001B[0m",
      "\u001B[1;31mKeyboardInterrupt\u001B[0m                         Traceback (most recent call last)",
      "Cell \u001B[1;32mIn[31], line 2\u001B[0m\n\u001B[0;32m      1\u001B[0m adr_ica_train \u001B[38;5;241m=\u001B[39m mne\u001B[38;5;241m.\u001B[39mpreprocessing\u001B[38;5;241m.\u001B[39mICA(n_components\u001B[38;5;241m=\u001B[39m\u001B[38;5;241m20\u001B[39m, method\u001B[38;5;241m=\u001B[39m\u001B[38;5;124m'\u001B[39m\u001B[38;5;124minfomax\u001B[39m\u001B[38;5;124m'\u001B[39m, random_state\u001B[38;5;241m=\u001B[39m\u001B[38;5;241m42\u001B[39m, verbose \u001B[38;5;241m=\u001B[39m \u001B[38;5;124m'\u001B[39m\u001B[38;5;124mCRITICAL\u001B[39m\u001B[38;5;124m'\u001B[39m)\n\u001B[1;32m----> 2\u001B[0m \u001B[43madr_ica_train\u001B[49m\u001B[38;5;241;43m.\u001B[39;49m\u001B[43mfit\u001B[49m\u001B[43m(\u001B[49m\u001B[43minst\u001B[49m\u001B[38;5;241;43m=\u001B[39;49m\u001B[43madr_epochs_train\u001B[49m\u001B[43m)\u001B[49m\n\u001B[0;32m      3\u001B[0m adr_ica_test \u001B[38;5;241m=\u001B[39m mne\u001B[38;5;241m.\u001B[39mpreprocessing\u001B[38;5;241m.\u001B[39mICA(n_components\u001B[38;5;241m=\u001B[39m\u001B[38;5;241m20\u001B[39m, method\u001B[38;5;241m=\u001B[39m\u001B[38;5;124m'\u001B[39m\u001B[38;5;124minfomax\u001B[39m\u001B[38;5;124m'\u001B[39m, random_state\u001B[38;5;241m=\u001B[39m\u001B[38;5;241m42\u001B[39m, verbose \u001B[38;5;241m=\u001B[39m \u001B[38;5;124m'\u001B[39m\u001B[38;5;124mCRITICAL\u001B[39m\u001B[38;5;124m'\u001B[39m)\n\u001B[0;32m      4\u001B[0m adr_ica_test\u001B[38;5;241m.\u001B[39mfit(inst\u001B[38;5;241m=\u001B[39madr_epochs_test)\n",
      "File \u001B[1;32m<decorator-gen-386>:12\u001B[0m, in \u001B[0;36mfit\u001B[1;34m(self, inst, picks, start, stop, decim, reject, flat, tstep, reject_by_annotation, verbose)\u001B[0m\n",
      "File \u001B[1;32m~\\.conda\\envs\\SP1\\lib\\site-packages\\mne\\preprocessing\\ica.py:750\u001B[0m, in \u001B[0;36mICA.fit\u001B[1;34m(self, inst, picks, start, stop, decim, reject, flat, tstep, reject_by_annotation, verbose)\u001B[0m\n\u001B[0;32m    748\u001B[0m \u001B[38;5;28;01melse\u001B[39;00m:\n\u001B[0;32m    749\u001B[0m     \u001B[38;5;28;01massert\u001B[39;00m \u001B[38;5;28misinstance\u001B[39m(inst, BaseEpochs)\n\u001B[1;32m--> 750\u001B[0m     \u001B[38;5;28;43mself\u001B[39;49m\u001B[38;5;241;43m.\u001B[39;49m\u001B[43m_fit_epochs\u001B[49m\u001B[43m(\u001B[49m\u001B[43minst\u001B[49m\u001B[43m,\u001B[49m\u001B[43m \u001B[49m\u001B[43mpicks\u001B[49m\u001B[43m,\u001B[49m\u001B[43m \u001B[49m\u001B[43mdecim\u001B[49m\u001B[43m,\u001B[49m\u001B[43m \u001B[49m\u001B[43mverbose\u001B[49m\u001B[43m)\u001B[49m\n\u001B[0;32m    752\u001B[0m \u001B[38;5;66;03m# sort ICA components by explained variance\u001B[39;00m\n\u001B[0;32m    753\u001B[0m var \u001B[38;5;241m=\u001B[39m _ica_explained_variance(\u001B[38;5;28mself\u001B[39m, inst)\n",
      "File \u001B[1;32m~\\.conda\\envs\\SP1\\lib\\site-packages\\mne\\preprocessing\\ica.py:826\u001B[0m, in \u001B[0;36mICA._fit_epochs\u001B[1;34m(self, epochs, picks, decim, verbose)\u001B[0m\n\u001B[0;32m    820\u001B[0m     \u001B[38;5;28;01mraise\u001B[39;00m \u001B[38;5;167;01mRuntimeError\u001B[39;00m(\n\u001B[0;32m    821\u001B[0m         \u001B[38;5;124m\"\u001B[39m\u001B[38;5;124mTried to fit ICA with epochs, but none were \u001B[39m\u001B[38;5;124m\"\u001B[39m\n\u001B[0;32m    822\u001B[0m         \u001B[38;5;124m'\u001B[39m\u001B[38;5;124mfound: epochs.events is \u001B[39m\u001B[38;5;124m\"\u001B[39m\u001B[38;5;132;01m{}\u001B[39;00m\u001B[38;5;124m\"\u001B[39m\u001B[38;5;124m.\u001B[39m\u001B[38;5;124m'\u001B[39m\u001B[38;5;241m.\u001B[39mformat(epochs\u001B[38;5;241m.\u001B[39mevents)\n\u001B[0;32m    823\u001B[0m     )\n\u001B[0;32m    825\u001B[0m \u001B[38;5;66;03m# this should be a copy (picks a list of int)\u001B[39;00m\n\u001B[1;32m--> 826\u001B[0m data \u001B[38;5;241m=\u001B[39m \u001B[43mepochs\u001B[49m\u001B[38;5;241;43m.\u001B[39;49m\u001B[43mget_data\u001B[49m\u001B[43m(\u001B[49m\u001B[43mpicks\u001B[49m\u001B[38;5;241;43m=\u001B[39;49m\u001B[43mpicks\u001B[49m\u001B[43m)\u001B[49m\n\u001B[0;32m    827\u001B[0m \u001B[38;5;66;03m# this will be a view\u001B[39;00m\n\u001B[0;32m    828\u001B[0m \u001B[38;5;28;01mif\u001B[39;00m decim \u001B[38;5;129;01mis\u001B[39;00m \u001B[38;5;129;01mnot\u001B[39;00m \u001B[38;5;28;01mNone\u001B[39;00m:\n",
      "File \u001B[1;32m<decorator-gen-202>:12\u001B[0m, in \u001B[0;36mget_data\u001B[1;34m(self, picks, item, units, tmin, tmax, copy, verbose)\u001B[0m\n",
      "File \u001B[1;32m~\\.conda\\envs\\SP1\\lib\\site-packages\\mne\\epochs.py:1916\u001B[0m, in \u001B[0;36mBaseEpochs.get_data\u001B[1;34m(self, picks, item, units, tmin, tmax, copy, verbose)\u001B[0m\n\u001B[0;32m   1856\u001B[0m \u001B[38;5;129m@verbose\u001B[39m\n\u001B[0;32m   1857\u001B[0m \u001B[38;5;28;01mdef\u001B[39;00m \u001B[38;5;21mget_data\u001B[39m(\n\u001B[0;32m   1858\u001B[0m     \u001B[38;5;28mself\u001B[39m,\n\u001B[1;32m   (...)\u001B[0m\n\u001B[0;32m   1866\u001B[0m     verbose\u001B[38;5;241m=\u001B[39m\u001B[38;5;28;01mNone\u001B[39;00m,\n\u001B[0;32m   1867\u001B[0m ):\n\u001B[0;32m   1868\u001B[0m \u001B[38;5;250m    \u001B[39m\u001B[38;5;124;03m\"\"\"Get all epochs as a 3D array.\u001B[39;00m\n\u001B[0;32m   1869\u001B[0m \n\u001B[0;32m   1870\u001B[0m \u001B[38;5;124;03m    Parameters\u001B[39;00m\n\u001B[1;32m   (...)\u001B[0m\n\u001B[0;32m   1914\u001B[0m \u001B[38;5;124;03m        when possible when ``copy=False``.\u001B[39;00m\n\u001B[0;32m   1915\u001B[0m \u001B[38;5;124;03m    \"\"\"\u001B[39;00m\n\u001B[1;32m-> 1916\u001B[0m     \u001B[38;5;28;01mreturn\u001B[39;00m \u001B[38;5;28;43mself\u001B[39;49m\u001B[38;5;241;43m.\u001B[39;49m\u001B[43m_get_data\u001B[49m\u001B[43m(\u001B[49m\n\u001B[0;32m   1917\u001B[0m \u001B[43m        \u001B[49m\u001B[43mpicks\u001B[49m\u001B[38;5;241;43m=\u001B[39;49m\u001B[43mpicks\u001B[49m\u001B[43m,\u001B[49m\u001B[43m \u001B[49m\u001B[43mitem\u001B[49m\u001B[38;5;241;43m=\u001B[39;49m\u001B[43mitem\u001B[49m\u001B[43m,\u001B[49m\u001B[43m \u001B[49m\u001B[43munits\u001B[49m\u001B[38;5;241;43m=\u001B[39;49m\u001B[43munits\u001B[49m\u001B[43m,\u001B[49m\u001B[43m \u001B[49m\u001B[43mtmin\u001B[49m\u001B[38;5;241;43m=\u001B[39;49m\u001B[43mtmin\u001B[49m\u001B[43m,\u001B[49m\u001B[43m \u001B[49m\u001B[43mtmax\u001B[49m\u001B[38;5;241;43m=\u001B[39;49m\u001B[43mtmax\u001B[49m\u001B[43m,\u001B[49m\u001B[43m \u001B[49m\u001B[43mcopy\u001B[49m\u001B[38;5;241;43m=\u001B[39;49m\u001B[43mcopy\u001B[49m\n\u001B[0;32m   1918\u001B[0m \u001B[43m    \u001B[49m\u001B[43m)\u001B[49m\n",
      "File \u001B[1;32m<decorator-gen-201>:12\u001B[0m, in \u001B[0;36m_get_data\u001B[1;34m(self, out, picks, item, units, tmin, tmax, copy, on_empty, verbose)\u001B[0m\n",
      "File \u001B[1;32m~\\.conda\\envs\\SP1\\lib\\site-packages\\mne\\epochs.py:1688\u001B[0m, in \u001B[0;36mBaseEpochs._get_data\u001B[1;34m(self, out, picks, item, units, tmin, tmax, copy, on_empty, verbose)\u001B[0m\n\u001B[0;32m   1686\u001B[0m     \u001B[38;5;28;01mreturn\u001B[39;00m\n\u001B[0;32m   1687\u001B[0m \u001B[38;5;28;01mif\u001B[39;00m \u001B[38;5;28mself\u001B[39m\u001B[38;5;241m.\u001B[39mpreload:\n\u001B[1;32m-> 1688\u001B[0m     \u001B[38;5;28;01mreturn\u001B[39;00m \u001B[38;5;28;43mself\u001B[39;49m\u001B[38;5;241;43m.\u001B[39;49m\u001B[43m_data_sel_copy_scale\u001B[49m\u001B[43m(\u001B[49m\n\u001B[0;32m   1689\u001B[0m \u001B[43m        \u001B[49m\u001B[43mdata\u001B[49m\u001B[43m,\u001B[49m\n\u001B[0;32m   1690\u001B[0m \u001B[43m        \u001B[49m\u001B[43mselect\u001B[49m\u001B[38;5;241;43m=\u001B[39;49m\u001B[43mselect\u001B[49m\u001B[43m,\u001B[49m\n\u001B[0;32m   1691\u001B[0m \u001B[43m        \u001B[49m\u001B[43morig_picks\u001B[49m\u001B[38;5;241;43m=\u001B[39;49m\u001B[43morig_picks\u001B[49m\u001B[43m,\u001B[49m\n\u001B[0;32m   1692\u001B[0m \u001B[43m        \u001B[49m\u001B[43mpicks\u001B[49m\u001B[38;5;241;43m=\u001B[39;49m\u001B[43mpicks\u001B[49m\u001B[43m,\u001B[49m\n\u001B[0;32m   1693\u001B[0m \u001B[43m        \u001B[49m\u001B[43mch_factors\u001B[49m\u001B[38;5;241;43m=\u001B[39;49m\u001B[43mch_factors\u001B[49m\u001B[43m,\u001B[49m\n\u001B[0;32m   1694\u001B[0m \u001B[43m        \u001B[49m\u001B[43mstart\u001B[49m\u001B[38;5;241;43m=\u001B[39;49m\u001B[43mstart\u001B[49m\u001B[43m,\u001B[49m\n\u001B[0;32m   1695\u001B[0m \u001B[43m        \u001B[49m\u001B[43mstop\u001B[49m\u001B[38;5;241;43m=\u001B[39;49m\u001B[43mstop\u001B[49m\u001B[43m,\u001B[49m\n\u001B[0;32m   1696\u001B[0m \u001B[43m        \u001B[49m\u001B[43mcopy\u001B[49m\u001B[38;5;241;43m=\u001B[39;49m\u001B[43mcopy\u001B[49m\u001B[43m,\u001B[49m\n\u001B[0;32m   1697\u001B[0m \u001B[43m    \u001B[49m\u001B[43m)\u001B[49m\n\u001B[0;32m   1699\u001B[0m \u001B[38;5;66;03m# we need to load from disk, drop, and return data\u001B[39;00m\n\u001B[0;32m   1700\u001B[0m detrend_picks \u001B[38;5;241m=\u001B[39m \u001B[38;5;28mself\u001B[39m\u001B[38;5;241m.\u001B[39m_detrend_picks\n",
      "File \u001B[1;32m~\\.conda\\envs\\SP1\\lib\\site-packages\\mne\\epochs.py:1822\u001B[0m, in \u001B[0;36mBaseEpochs._data_sel_copy_scale\u001B[1;34m(self, data, select, orig_picks, picks, ch_factors, start, stop, copy)\u001B[0m\n\u001B[0;32m   1820\u001B[0m     picks \u001B[38;5;241m=\u001B[39m \u001B[38;5;28mslice\u001B[39m(\u001B[38;5;28;01mNone\u001B[39;00m)\n\u001B[0;32m   1821\u001B[0m \u001B[38;5;28;01mif\u001B[39;00m \u001B[38;5;129;01mnot\u001B[39;00m \u001B[38;5;28mall\u001B[39m(\u001B[38;5;28misinstance\u001B[39m(x, \u001B[38;5;28mslice\u001B[39m) \u001B[38;5;129;01mand\u001B[39;00m x \u001B[38;5;241m==\u001B[39m \u001B[38;5;28mslice\u001B[39m(\u001B[38;5;28;01mNone\u001B[39;00m) \u001B[38;5;28;01mfor\u001B[39;00m x \u001B[38;5;129;01min\u001B[39;00m (select, picks)):\n\u001B[1;32m-> 1822\u001B[0m     data \u001B[38;5;241m=\u001B[39m \u001B[43mdata\u001B[49m\u001B[43m[\u001B[49m\u001B[43mselect\u001B[49m\u001B[43m]\u001B[49m\u001B[43m[\u001B[49m\u001B[43m:\u001B[49m\u001B[43m,\u001B[49m\u001B[43m \u001B[49m\u001B[43mpicks\u001B[49m\u001B[43m]\u001B[49m\n\u001B[0;32m   1823\u001B[0m \u001B[38;5;28;01mdel\u001B[39;00m picks\n\u001B[0;32m   1824\u001B[0m \u001B[38;5;28;01mif\u001B[39;00m start \u001B[38;5;241m!=\u001B[39m \u001B[38;5;241m0\u001B[39m \u001B[38;5;129;01mor\u001B[39;00m stop \u001B[38;5;241m!=\u001B[39m \u001B[38;5;28mself\u001B[39m\u001B[38;5;241m.\u001B[39mtimes\u001B[38;5;241m.\u001B[39msize:\n",
      "\u001B[1;31mKeyboardInterrupt\u001B[0m: "
     ]
    }
   ],
   "execution_count": 31
  },
  {
   "metadata": {},
   "cell_type": "markdown",
   "source": "# Visual Contrast Threshold Prediction (LDA)",
   "id": "43920bceb28d2e45"
  },
  {
   "metadata": {
    "ExecuteTime": {
     "end_time": "2024-12-18T10:57:45.056653Z",
     "start_time": "2024-12-18T10:56:47.636847Z"
    }
   },
   "cell_type": "code",
   "source": [
    "compute_accuracy_vs_contrast_with_sigmoid(adr_epochs_train.get_data(copy=True), adr_train, adr_epochs_test.get_data(copy=True), adr_test, 'LDA',\n",
    "                                          plot=False, min_samples=5, output_dir ='./Image/Threshold_Prediction/Raw', filename='ADR_LDA',\n",
    "                                          )\n",
    "compute_accuracy_vs_contrast_with_sigmoid(p6_epochs_train.get_data(copy=True), p6_train, p6_epochs_test.get_data(copy=True), p6_test, 'LDA',\n",
    "                                          plot=False, min_samples=5, output_dir ='./Image/Threshold_Prediction/Raw', filename='P6_LDA',\n",
    "                                          )\n",
    "compute_accuracy_vs_contrast_with_sigmoid(p7_epochs_train.get_data(copy=True), p7_train, p7_epochs_test.get_data(copy=True), p7_test, 'LDA',\n",
    "                                          plot=False, min_samples=5, output_dir ='./Image/Threshold_Prediction/Raw', filename='P7_LDA',\n",
    "                                          )\n",
    "compute_accuracy_vs_contrast_with_sigmoid(p8_epochs_train.get_data(copy=True), p8_train, p8_epochs_test.get_data(copy=True), p8_test, 'LDA',\n",
    "                                          plot=False, min_samples=5, output_dir='./Image/Threshold_Prediction/Raw', filename='P8_LDA',\n",
    "                                          )"
   ],
   "id": "8d03d0a555f062a2",
   "outputs": [
    {
     "name": "stdout",
     "output_type": "stream",
     "text": [
      "Warning: 75% accuracy not reached for fit.\n"
     ]
    },
    {
     "data": {
      "text/plain": [
       "(array([ 0.1   ,  0.1399,  0.1956,  0.2736,  0.3827,  0.5353,  0.7486,\n",
       "         1.0471,  1.4645,  2.0484,  2.865 ,  4.0072,  5.6047,  7.8392,\n",
       "        10.9643, 15.3354, 21.4491, 30.    ]),\n",
       " array([0.46153846, 0.56      , 0.57692308, 0.5       , 0.61538462,\n",
       "        0.61538462, 0.76923077, 0.32      , 0.38461538, 0.48      ,\n",
       "        0.57692308, 0.56      , 0.53846154, 0.72      , 0.84      ,\n",
       "        0.84615385, 0.92      , 0.98076923]),\n",
       " array([0.5294756 , 0.91304911, 0.70389844, 8.31726225]))"
      ]
     },
     "execution_count": 19,
     "metadata": {},
     "output_type": "execute_result"
    }
   ],
   "execution_count": 19
  },
  {
   "metadata": {},
   "cell_type": "markdown",
   "source": "# Visual Contrast Threshold Prediction (SVM)",
   "id": "61893ffd5e150371"
  },
  {
   "metadata": {
    "ExecuteTime": {
     "end_time": "2024-12-18T11:03:32.493611Z",
     "start_time": "2024-12-18T10:59:01.818590Z"
    }
   },
   "cell_type": "code",
   "source": [
    "compute_accuracy_vs_contrast_with_sigmoid(adr_epochs_train.get_data(copy=True), adr_train, adr_epochs_test.get_data(copy=True), adr_test, 'SVM',\n",
    "                                          plot=False, min_samples=5, output_dir ='./Image/Threshold_Prediction/Raw', filename='ADR_SVM',\n",
    "                                          )\n",
    "compute_accuracy_vs_contrast_with_sigmoid(p6_epochs_train.get_data(copy=True), p6_train, p6_epochs_test.get_data(copy=True), p6_test, 'SVM',\n",
    "                                          plot=False, min_samples=5, output_dir ='./Image/Threshold_Prediction/Raw', filename='P6_SVM',\n",
    "                                          )\n",
    "compute_accuracy_vs_contrast_with_sigmoid(p7_epochs_train.get_data(copy=True), p7_train, p7_epochs_test.get_data(copy=True), p7_test, 'SVM',\n",
    "                                          plot=False, min_samples=5, output_dir ='./Image/Threshold_Prediction/Raw', filename='P7_SVM',\n",
    "                                          )\n",
    "compute_accuracy_vs_contrast_with_sigmoid(p8_epochs_train.get_data(copy=True), p8_train, p8_epochs_test.get_data(copy=True), p8_test, 'SVM',\n",
    "                                          plot=False, min_samples=5, output_dir='./Image/Threshold_Prediction/Raw', filename='P8_SVM',\n",
    "                                          )"
   ],
   "id": "1f07ad4cea08e95e",
   "outputs": [
    {
     "name": "stdout",
     "output_type": "stream",
     "text": [
      "Warning: 75% accuracy not reached for fit.\n"
     ]
    },
    {
     "data": {
      "text/plain": [
       "(array([ 0.1   ,  0.1399,  0.1956,  0.2736,  0.3827,  0.5353,  0.7486,\n",
       "         1.0471,  1.4645,  2.0484,  2.865 ,  4.0072,  5.6047,  7.8392,\n",
       "        10.9643, 15.3354, 21.4491, 30.    ]),\n",
       " array([0.57692308, 0.44      , 0.57692308, 0.38461538, 0.46153846,\n",
       "        0.65384615, 0.73076923, 0.4       , 0.53846154, 0.44      ,\n",
       "        0.46153846, 0.48      , 0.53846154, 0.68      , 0.96      ,\n",
       "        0.88461538, 0.88      , 1.        ]),\n",
       " array([0.51371031, 0.93144302, 1.91311835, 8.04909499]))"
      ]
     },
     "execution_count": 22,
     "metadata": {},
     "output_type": "execute_result"
    }
   ],
   "execution_count": 22
  },
  {
   "metadata": {},
   "cell_type": "markdown",
   "source": "## Filtering channels to keep the 60 bottom ones",
   "id": "d44efdde3aaa1f4"
  },
  {
   "metadata": {
    "ExecuteTime": {
     "end_time": "2024-12-18T13:58:53.096704Z",
     "start_time": "2024-12-18T13:58:49.741622Z"
    }
   },
   "cell_type": "code",
   "source": [
    "adr_epochs_train_ch_filter = filter_electrodes(adr_epochs_train)\n",
    "adr_epochs_test_ch_filter = filter_electrodes(adr_epochs_test)\n",
    "\n",
    "p6_epochs_train_ch_filter = filter_electrodes(p6_epochs_train)\n",
    "p6_epochs_test_ch_filter = filter_electrodes(p6_epochs_test)\n",
    "\n",
    "p7_epochs_train_ch_filter = filter_electrodes(p7_epochs_train)\n",
    "p7_epochs_test_ch_filter = filter_electrodes(p7_epochs_test)\n",
    "\n",
    "\n",
    "p8_epochs_train_ch_filter = filter_electrodes(p8_epochs_train)\n",
    "p8_epochs_test_ch_filter = filter_electrodes(p8_epochs_test)"
   ],
   "id": "7b553f49907ff3de",
   "outputs": [
    {
     "name": "stdout",
     "output_type": "stream",
     "text": [
      "Not setting metadata\n",
      "388 matching events found\n",
      "No baseline correction applied\n",
      "0 projection items activated\n",
      "Not setting metadata\n",
      "306 matching events found\n",
      "No baseline correction applied\n",
      "0 projection items activated\n",
      "Not setting metadata\n",
      "520 matching events found\n",
      "No baseline correction applied\n",
      "0 projection items activated\n",
      "Not setting metadata\n",
      "520 matching events found\n",
      "No baseline correction applied\n",
      "0 projection items activated\n",
      "Not setting metadata\n",
      "478 matching events found\n",
      "No baseline correction applied\n",
      "0 projection items activated\n",
      "Not setting metadata\n",
      "520 matching events found\n",
      "No baseline correction applied\n",
      "0 projection items activated\n",
      "Not setting metadata\n",
      "512 matching events found\n",
      "No baseline correction applied\n",
      "0 projection items activated\n",
      "Not setting metadata\n",
      "513 matching events found\n",
      "No baseline correction applied\n",
      "0 projection items activated\n"
     ]
    }
   ],
   "execution_count": 4
  },
  {
   "metadata": {},
   "cell_type": "markdown",
   "source": "# RESS Filtering",
   "id": "29047de6b110b50d"
  },
  {
   "metadata": {
    "ExecuteTime": {
     "end_time": "2024-12-18T14:06:52.543076Z",
     "start_time": "2024-12-18T14:02:53.993272Z"
    }
   },
   "cell_type": "code",
   "source": [
    "p8_train_ress_ch_pre_filtered = ress_pipeline(p8_epochs_train_ch_filter, p8_train, target_freq_map={1: 12, 2:20}, fwhm_signal=0.6, fwhm_reference=1.0,\n",
    "                                          tmin=0.0, tmax=3.0, shrinkage=0.01, output_dir= './Image/RESS_matrix', title_prefix=\"p8_train_ch_pre_filtered\")\n",
    "p8_test_ress_ch_pre_filtered = ress_pipeline(p8_epochs_test_ch_filter, p8_test, target_freq_map={1: 12, 2:20}, fwhm_signal=0.6, fwhm_reference=1.0,\n",
    "                                         tmin=0.0, tmax=3.0, shrinkage=0.01, output_dir= './Image/RESS_matrix', title_prefix=\"p8_test_ch_pre_filtered\")\n",
    "\n",
    "p7_train_ress_ch_pre_filtered = ress_pipeline(p7_epochs_train_ch_filter, p7_train, target_freq_map={1: 12, 2:20}, fwhm_signal=0.6, fwhm_reference=1.0,\n",
    "                                          tmin=0.0, tmax=3.0, shrinkage=0.01, output_dir= './Image/RESS_matrix', title_prefix=\"p7_train_ch_pre_filtered\")\n",
    "p7_test_ress_ch_pre_filtered = ress_pipeline(p7_epochs_test_ch_filter, p7_test, target_freq_map={1: 12, 2:20}, fwhm_signal=0.6, fwhm_reference=1.0,\n",
    "                                             tmin=0.0, tmax=3.0, shrinkage=0.01, output_dir= './Image/RESS_matrix', title_prefix=\"p7_test_ch_pre_filtered\")\n",
    "\n",
    "p6_train_ress_ch_pre_filtered = ress_pipeline(p6_epochs_train_ch_filter, p6_train, target_freq_map={1: 12, 2:20}, fwhm_signal=0.6, fwhm_reference=1.0,\n",
    "                                          tmin=0.0, tmax=3.0, shrinkage=0.01, output_dir= './Image/RESS_matrix', title_prefix=\"p6_train_ch_pre_filtered\")\n",
    "p6_test_ress_ch_pre_filtered = ress_pipeline(p6_epochs_test_ch_filter, p6_test, target_freq_map={1: 12, 2:20}, fwhm_signal=0.6, fwhm_reference=1.0,\n",
    "                                             tmin=0.0, tmax=3.0, shrinkage=0.01, output_dir= './Image/RESS_matrix', title_prefix=\"p6_test_ch_pre_filtered\")\n",
    "\n",
    "adr_train_ress_ch_pre_filtered = ress_pipeline(adr_epochs_train_ch_filter, adr_train, target_freq_map={1: 40, 2:48}, fwhm_signal=0.6, fwhm_reference=1.0,\n",
    "                                           tmin=0.0, tmax=3.0, shrinkage=0.01, output_dir= './Image/RESS_matrix', title_prefix=\"adr_train_ch_pre_filtered\")\n",
    "adr_test_ress_ch_pre_filtered = ress_pipeline(adr_epochs_test_ch_filter, adr_test, target_freq_map={1: 40, 2:48}, fwhm_signal=0.6, fwhm_reference=1.0,\n",
    "                                              tmin=0.0, tmax=3.0, shrinkage=0.01, output_dir= './Image/RESS_matrix', title_prefix=\"adr_test_ch_pre_filtered\")"
   ],
   "id": "b6e8dab74c9a42cd",
   "outputs": [
    {
     "name": "stdout",
     "output_type": "stream",
     "text": [
      "Effective window size : 2.000 (s)\n",
      "Averaging across epochs...\n",
      "Processing Frequency ID: 1 -> Target Frequency: 12 Hz\n",
      "NOTE: pick_channels() is a legacy function. New code should use inst.pick(...).\n",
      "Finished processing Frequency ID: 1 -> 12 Hz\n",
      "Processing Frequency ID: 2 -> Target Frequency: 20 Hz\n",
      "NOTE: pick_channels() is a legacy function. New code should use inst.pick(...).\n",
      "Finished processing Frequency ID: 2 -> 20 Hz\n",
      "RESS pipeline completed for all target frequencies.\n",
      "Effective window size : 2.000 (s)\n",
      "Averaging across epochs...\n",
      "Processing Frequency ID: 2 -> Target Frequency: 20 Hz\n",
      "NOTE: pick_channels() is a legacy function. New code should use inst.pick(...).\n",
      "Finished processing Frequency ID: 2 -> 20 Hz\n",
      "Processing Frequency ID: 1 -> Target Frequency: 12 Hz\n",
      "NOTE: pick_channels() is a legacy function. New code should use inst.pick(...).\n",
      "Finished processing Frequency ID: 1 -> 12 Hz\n",
      "RESS pipeline completed for all target frequencies.\n",
      "Effective window size : 2.000 (s)\n",
      "Averaging across epochs...\n",
      "Processing Frequency ID: 2 -> Target Frequency: 20 Hz\n",
      "NOTE: pick_channels() is a legacy function. New code should use inst.pick(...).\n",
      "Finished processing Frequency ID: 2 -> 20 Hz\n",
      "Processing Frequency ID: 1 -> Target Frequency: 12 Hz\n",
      "NOTE: pick_channels() is a legacy function. New code should use inst.pick(...).\n",
      "Finished processing Frequency ID: 1 -> 12 Hz\n",
      "RESS pipeline completed for all target frequencies.\n",
      "Effective window size : 2.000 (s)\n",
      "Averaging across epochs...\n",
      "Processing Frequency ID: 1 -> Target Frequency: 12 Hz\n",
      "NOTE: pick_channels() is a legacy function. New code should use inst.pick(...).\n",
      "Finished processing Frequency ID: 1 -> 12 Hz\n",
      "Processing Frequency ID: 2 -> Target Frequency: 20 Hz\n",
      "NOTE: pick_channels() is a legacy function. New code should use inst.pick(...).\n",
      "Finished processing Frequency ID: 2 -> 20 Hz\n",
      "RESS pipeline completed for all target frequencies.\n",
      "Effective window size : 2.000 (s)\n",
      "Averaging across epochs...\n",
      "Processing Frequency ID: 2 -> Target Frequency: 20 Hz\n",
      "NOTE: pick_channels() is a legacy function. New code should use inst.pick(...).\n",
      "Finished processing Frequency ID: 2 -> 20 Hz\n",
      "Processing Frequency ID: 1 -> Target Frequency: 12 Hz\n",
      "NOTE: pick_channels() is a legacy function. New code should use inst.pick(...).\n",
      "Finished processing Frequency ID: 1 -> 12 Hz\n",
      "RESS pipeline completed for all target frequencies.\n",
      "Effective window size : 2.000 (s)\n",
      "Averaging across epochs...\n",
      "Processing Frequency ID: 2 -> Target Frequency: 20 Hz\n",
      "NOTE: pick_channels() is a legacy function. New code should use inst.pick(...).\n",
      "Finished processing Frequency ID: 2 -> 20 Hz\n",
      "Processing Frequency ID: 1 -> Target Frequency: 12 Hz\n",
      "NOTE: pick_channels() is a legacy function. New code should use inst.pick(...).\n",
      "Finished processing Frequency ID: 1 -> 12 Hz\n",
      "RESS pipeline completed for all target frequencies.\n",
      "Effective window size : 3.000 (s)\n",
      "Averaging across epochs...\n",
      "Processing Frequency ID: 2 -> Target Frequency: 48 Hz\n",
      "NOTE: pick_channels() is a legacy function. New code should use inst.pick(...).\n",
      "Finished processing Frequency ID: 2 -> 48 Hz\n",
      "Processing Frequency ID: 1 -> Target Frequency: 40 Hz\n",
      "NOTE: pick_channels() is a legacy function. New code should use inst.pick(...).\n",
      "Finished processing Frequency ID: 1 -> 40 Hz\n",
      "RESS pipeline completed for all target frequencies.\n",
      "Effective window size : 3.000 (s)\n",
      "Averaging across epochs...\n",
      "Processing Frequency ID: 1 -> Target Frequency: 40 Hz\n",
      "NOTE: pick_channels() is a legacy function. New code should use inst.pick(...).\n",
      "Finished processing Frequency ID: 1 -> 40 Hz\n",
      "Processing Frequency ID: 2 -> Target Frequency: 48 Hz\n",
      "NOTE: pick_channels() is a legacy function. New code should use inst.pick(...).\n",
      "Finished processing Frequency ID: 2 -> 48 Hz\n",
      "RESS pipeline completed for all target frequencies.\n"
     ]
    },
    {
     "ename": "AttributeError",
     "evalue": "'NoneType' object has no attribute '_get_renderer'",
     "output_type": "error",
     "traceback": [
      "\u001B[1;31m---------------------------------------------------------------------------\u001B[0m",
      "\u001B[1;31mAttributeError\u001B[0m                            Traceback (most recent call last)",
      "File \u001B[1;32m~\\.conda\\envs\\SP1\\lib\\site-packages\\IPython\\core\\formatters.py:340\u001B[0m, in \u001B[0;36mBaseFormatter.__call__\u001B[1;34m(self, obj)\u001B[0m\n\u001B[0;32m    338\u001B[0m     \u001B[38;5;28;01mpass\u001B[39;00m\n\u001B[0;32m    339\u001B[0m \u001B[38;5;28;01melse\u001B[39;00m:\n\u001B[1;32m--> 340\u001B[0m     \u001B[38;5;28;01mreturn\u001B[39;00m \u001B[43mprinter\u001B[49m\u001B[43m(\u001B[49m\u001B[43mobj\u001B[49m\u001B[43m)\u001B[49m\n\u001B[0;32m    341\u001B[0m \u001B[38;5;66;03m# Finally look for special method names\u001B[39;00m\n\u001B[0;32m    342\u001B[0m method \u001B[38;5;241m=\u001B[39m get_real_method(obj, \u001B[38;5;28mself\u001B[39m\u001B[38;5;241m.\u001B[39mprint_method)\n",
      "File \u001B[1;32m~\\.conda\\envs\\SP1\\lib\\site-packages\\IPython\\core\\pylabtools.py:152\u001B[0m, in \u001B[0;36mprint_figure\u001B[1;34m(fig, fmt, bbox_inches, base64, **kwargs)\u001B[0m\n\u001B[0;32m    149\u001B[0m     \u001B[38;5;28;01mfrom\u001B[39;00m \u001B[38;5;21;01mmatplotlib\u001B[39;00m\u001B[38;5;21;01m.\u001B[39;00m\u001B[38;5;21;01mbackend_bases\u001B[39;00m \u001B[38;5;28;01mimport\u001B[39;00m FigureCanvasBase\n\u001B[0;32m    150\u001B[0m     FigureCanvasBase(fig)\n\u001B[1;32m--> 152\u001B[0m \u001B[43mfig\u001B[49m\u001B[38;5;241;43m.\u001B[39;49m\u001B[43mcanvas\u001B[49m\u001B[38;5;241;43m.\u001B[39;49m\u001B[43mprint_figure\u001B[49m\u001B[43m(\u001B[49m\u001B[43mbytes_io\u001B[49m\u001B[43m,\u001B[49m\u001B[43m \u001B[49m\u001B[38;5;241;43m*\u001B[39;49m\u001B[38;5;241;43m*\u001B[39;49m\u001B[43mkw\u001B[49m\u001B[43m)\u001B[49m\n\u001B[0;32m    153\u001B[0m data \u001B[38;5;241m=\u001B[39m bytes_io\u001B[38;5;241m.\u001B[39mgetvalue()\n\u001B[0;32m    154\u001B[0m \u001B[38;5;28;01mif\u001B[39;00m fmt \u001B[38;5;241m==\u001B[39m \u001B[38;5;124m'\u001B[39m\u001B[38;5;124msvg\u001B[39m\u001B[38;5;124m'\u001B[39m:\n",
      "File \u001B[1;32m~\\.conda\\envs\\SP1\\lib\\site-packages\\matplotlib\\backend_bases.py:2353\u001B[0m, in \u001B[0;36mFigureCanvasBase.print_figure\u001B[1;34m(self, filename, dpi, facecolor, edgecolor, orientation, format, bbox_inches, pad_inches, bbox_extra_artists, backend, **kwargs)\u001B[0m\n\u001B[0;32m   2350\u001B[0m         bbox_inches \u001B[38;5;241m=\u001B[39m bbox_inches\u001B[38;5;241m.\u001B[39mpadded(pad_inches)\n\u001B[0;32m   2352\u001B[0m     \u001B[38;5;66;03m# call adjust_bbox to save only the given area\u001B[39;00m\n\u001B[1;32m-> 2353\u001B[0m     restore_bbox \u001B[38;5;241m=\u001B[39m \u001B[43m_tight_bbox\u001B[49m\u001B[38;5;241;43m.\u001B[39;49m\u001B[43madjust_bbox\u001B[49m\u001B[43m(\u001B[49m\n\u001B[0;32m   2354\u001B[0m \u001B[43m        \u001B[49m\u001B[38;5;28;43mself\u001B[39;49m\u001B[38;5;241;43m.\u001B[39;49m\u001B[43mfigure\u001B[49m\u001B[43m,\u001B[49m\u001B[43m \u001B[49m\u001B[43mbbox_inches\u001B[49m\u001B[43m,\u001B[49m\u001B[43m \u001B[49m\u001B[38;5;28;43mself\u001B[39;49m\u001B[38;5;241;43m.\u001B[39;49m\u001B[43mfigure\u001B[49m\u001B[38;5;241;43m.\u001B[39;49m\u001B[43mcanvas\u001B[49m\u001B[38;5;241;43m.\u001B[39;49m\u001B[43mfixed_dpi\u001B[49m\u001B[43m)\u001B[49m\n\u001B[0;32m   2356\u001B[0m     _bbox_inches_restore \u001B[38;5;241m=\u001B[39m (bbox_inches, restore_bbox)\n\u001B[0;32m   2357\u001B[0m \u001B[38;5;28;01melse\u001B[39;00m:\n",
      "File \u001B[1;32m~\\.conda\\envs\\SP1\\lib\\site-packages\\matplotlib\\_tight_bbox.py:28\u001B[0m, in \u001B[0;36madjust_bbox\u001B[1;34m(fig, bbox_inches, fixed_dpi)\u001B[0m\n\u001B[0;32m     26\u001B[0m locator \u001B[38;5;241m=\u001B[39m ax\u001B[38;5;241m.\u001B[39mget_axes_locator()\n\u001B[0;32m     27\u001B[0m \u001B[38;5;28;01mif\u001B[39;00m locator \u001B[38;5;129;01mis\u001B[39;00m \u001B[38;5;129;01mnot\u001B[39;00m \u001B[38;5;28;01mNone\u001B[39;00m:\n\u001B[1;32m---> 28\u001B[0m     ax\u001B[38;5;241m.\u001B[39mapply_aspect(\u001B[43mlocator\u001B[49m\u001B[43m(\u001B[49m\u001B[43max\u001B[49m\u001B[43m,\u001B[49m\u001B[43m \u001B[49m\u001B[38;5;28;43;01mNone\u001B[39;49;00m\u001B[43m)\u001B[49m)\n\u001B[0;32m     29\u001B[0m locator_list\u001B[38;5;241m.\u001B[39mappend(locator)\n\u001B[0;32m     30\u001B[0m current_pos \u001B[38;5;241m=\u001B[39m ax\u001B[38;5;241m.\u001B[39mget_position(original\u001B[38;5;241m=\u001B[39m\u001B[38;5;28;01mFalse\u001B[39;00m)\u001B[38;5;241m.\u001B[39mfrozen()\n",
      "File \u001B[1;32m~\\.conda\\envs\\SP1\\lib\\site-packages\\mpl_toolkits\\axes_grid1\\inset_locator.py:73\u001B[0m, in \u001B[0;36mAnchoredLocatorBase.__call__\u001B[1;34m(self, ax, renderer)\u001B[0m\n\u001B[0;32m     71\u001B[0m \u001B[38;5;28;01mdef\u001B[39;00m \u001B[38;5;21m__call__\u001B[39m(\u001B[38;5;28mself\u001B[39m, ax, renderer):\n\u001B[0;32m     72\u001B[0m     \u001B[38;5;28mself\u001B[39m\u001B[38;5;241m.\u001B[39maxes \u001B[38;5;241m=\u001B[39m ax\n\u001B[1;32m---> 73\u001B[0m     bbox \u001B[38;5;241m=\u001B[39m \u001B[38;5;28;43mself\u001B[39;49m\u001B[38;5;241;43m.\u001B[39;49m\u001B[43mget_window_extent\u001B[49m\u001B[43m(\u001B[49m\u001B[43mrenderer\u001B[49m\u001B[43m)\u001B[49m\n\u001B[0;32m     74\u001B[0m     px, py \u001B[38;5;241m=\u001B[39m \u001B[38;5;28mself\u001B[39m\u001B[38;5;241m.\u001B[39mget_offset(bbox\u001B[38;5;241m.\u001B[39mwidth, bbox\u001B[38;5;241m.\u001B[39mheight, \u001B[38;5;241m0\u001B[39m, \u001B[38;5;241m0\u001B[39m, renderer)\n\u001B[0;32m     75\u001B[0m     bbox_canvas \u001B[38;5;241m=\u001B[39m Bbox\u001B[38;5;241m.\u001B[39mfrom_bounds(px, py, bbox\u001B[38;5;241m.\u001B[39mwidth, bbox\u001B[38;5;241m.\u001B[39mheight)\n",
      "File \u001B[1;32m~\\.conda\\envs\\SP1\\lib\\site-packages\\matplotlib\\offsetbox.py:399\u001B[0m, in \u001B[0;36mOffsetBox.get_window_extent\u001B[1;34m(self, renderer)\u001B[0m\n\u001B[0;32m    396\u001B[0m \u001B[38;5;28;01mdef\u001B[39;00m \u001B[38;5;21mget_window_extent\u001B[39m(\u001B[38;5;28mself\u001B[39m, renderer\u001B[38;5;241m=\u001B[39m\u001B[38;5;28;01mNone\u001B[39;00m):\n\u001B[0;32m    397\u001B[0m     \u001B[38;5;66;03m# docstring inherited\u001B[39;00m\n\u001B[0;32m    398\u001B[0m     \u001B[38;5;28;01mif\u001B[39;00m renderer \u001B[38;5;129;01mis\u001B[39;00m \u001B[38;5;28;01mNone\u001B[39;00m:\n\u001B[1;32m--> 399\u001B[0m         renderer \u001B[38;5;241m=\u001B[39m \u001B[38;5;28;43mself\u001B[39;49m\u001B[38;5;241;43m.\u001B[39;49m\u001B[43mfigure\u001B[49m\u001B[38;5;241;43m.\u001B[39;49m\u001B[43m_get_renderer\u001B[49m()\n\u001B[0;32m    400\u001B[0m     bbox \u001B[38;5;241m=\u001B[39m \u001B[38;5;28mself\u001B[39m\u001B[38;5;241m.\u001B[39mget_bbox(renderer)\n\u001B[0;32m    401\u001B[0m     \u001B[38;5;28;01mtry\u001B[39;00m:  \u001B[38;5;66;03m# Some subclasses redefine get_offset to take no args.\u001B[39;00m\n",
      "\u001B[1;31mAttributeError\u001B[0m: 'NoneType' object has no attribute '_get_renderer'"
     ]
    },
    {
     "data": {
      "text/plain": [
       "<MNELineFigure size 1000x350 with 2 Axes>"
      ]
     },
     "metadata": {},
     "output_type": "display_data"
    },
    {
     "ename": "AttributeError",
     "evalue": "'NoneType' object has no attribute '_get_renderer'",
     "output_type": "error",
     "traceback": [
      "\u001B[1;31m---------------------------------------------------------------------------\u001B[0m",
      "\u001B[1;31mAttributeError\u001B[0m                            Traceback (most recent call last)",
      "File \u001B[1;32m~\\.conda\\envs\\SP1\\lib\\site-packages\\IPython\\core\\formatters.py:340\u001B[0m, in \u001B[0;36mBaseFormatter.__call__\u001B[1;34m(self, obj)\u001B[0m\n\u001B[0;32m    338\u001B[0m     \u001B[38;5;28;01mpass\u001B[39;00m\n\u001B[0;32m    339\u001B[0m \u001B[38;5;28;01melse\u001B[39;00m:\n\u001B[1;32m--> 340\u001B[0m     \u001B[38;5;28;01mreturn\u001B[39;00m \u001B[43mprinter\u001B[49m\u001B[43m(\u001B[49m\u001B[43mobj\u001B[49m\u001B[43m)\u001B[49m\n\u001B[0;32m    341\u001B[0m \u001B[38;5;66;03m# Finally look for special method names\u001B[39;00m\n\u001B[0;32m    342\u001B[0m method \u001B[38;5;241m=\u001B[39m get_real_method(obj, \u001B[38;5;28mself\u001B[39m\u001B[38;5;241m.\u001B[39mprint_method)\n",
      "File \u001B[1;32m~\\.conda\\envs\\SP1\\lib\\site-packages\\IPython\\core\\pylabtools.py:152\u001B[0m, in \u001B[0;36mprint_figure\u001B[1;34m(fig, fmt, bbox_inches, base64, **kwargs)\u001B[0m\n\u001B[0;32m    149\u001B[0m     \u001B[38;5;28;01mfrom\u001B[39;00m \u001B[38;5;21;01mmatplotlib\u001B[39;00m\u001B[38;5;21;01m.\u001B[39;00m\u001B[38;5;21;01mbackend_bases\u001B[39;00m \u001B[38;5;28;01mimport\u001B[39;00m FigureCanvasBase\n\u001B[0;32m    150\u001B[0m     FigureCanvasBase(fig)\n\u001B[1;32m--> 152\u001B[0m \u001B[43mfig\u001B[49m\u001B[38;5;241;43m.\u001B[39;49m\u001B[43mcanvas\u001B[49m\u001B[38;5;241;43m.\u001B[39;49m\u001B[43mprint_figure\u001B[49m\u001B[43m(\u001B[49m\u001B[43mbytes_io\u001B[49m\u001B[43m,\u001B[49m\u001B[43m \u001B[49m\u001B[38;5;241;43m*\u001B[39;49m\u001B[38;5;241;43m*\u001B[39;49m\u001B[43mkw\u001B[49m\u001B[43m)\u001B[49m\n\u001B[0;32m    153\u001B[0m data \u001B[38;5;241m=\u001B[39m bytes_io\u001B[38;5;241m.\u001B[39mgetvalue()\n\u001B[0;32m    154\u001B[0m \u001B[38;5;28;01mif\u001B[39;00m fmt \u001B[38;5;241m==\u001B[39m \u001B[38;5;124m'\u001B[39m\u001B[38;5;124msvg\u001B[39m\u001B[38;5;124m'\u001B[39m:\n",
      "File \u001B[1;32m~\\.conda\\envs\\SP1\\lib\\site-packages\\matplotlib\\backend_bases.py:2353\u001B[0m, in \u001B[0;36mFigureCanvasBase.print_figure\u001B[1;34m(self, filename, dpi, facecolor, edgecolor, orientation, format, bbox_inches, pad_inches, bbox_extra_artists, backend, **kwargs)\u001B[0m\n\u001B[0;32m   2350\u001B[0m         bbox_inches \u001B[38;5;241m=\u001B[39m bbox_inches\u001B[38;5;241m.\u001B[39mpadded(pad_inches)\n\u001B[0;32m   2352\u001B[0m     \u001B[38;5;66;03m# call adjust_bbox to save only the given area\u001B[39;00m\n\u001B[1;32m-> 2353\u001B[0m     restore_bbox \u001B[38;5;241m=\u001B[39m \u001B[43m_tight_bbox\u001B[49m\u001B[38;5;241;43m.\u001B[39;49m\u001B[43madjust_bbox\u001B[49m\u001B[43m(\u001B[49m\n\u001B[0;32m   2354\u001B[0m \u001B[43m        \u001B[49m\u001B[38;5;28;43mself\u001B[39;49m\u001B[38;5;241;43m.\u001B[39;49m\u001B[43mfigure\u001B[49m\u001B[43m,\u001B[49m\u001B[43m \u001B[49m\u001B[43mbbox_inches\u001B[49m\u001B[43m,\u001B[49m\u001B[43m \u001B[49m\u001B[38;5;28;43mself\u001B[39;49m\u001B[38;5;241;43m.\u001B[39;49m\u001B[43mfigure\u001B[49m\u001B[38;5;241;43m.\u001B[39;49m\u001B[43mcanvas\u001B[49m\u001B[38;5;241;43m.\u001B[39;49m\u001B[43mfixed_dpi\u001B[49m\u001B[43m)\u001B[49m\n\u001B[0;32m   2356\u001B[0m     _bbox_inches_restore \u001B[38;5;241m=\u001B[39m (bbox_inches, restore_bbox)\n\u001B[0;32m   2357\u001B[0m \u001B[38;5;28;01melse\u001B[39;00m:\n",
      "File \u001B[1;32m~\\.conda\\envs\\SP1\\lib\\site-packages\\matplotlib\\_tight_bbox.py:28\u001B[0m, in \u001B[0;36madjust_bbox\u001B[1;34m(fig, bbox_inches, fixed_dpi)\u001B[0m\n\u001B[0;32m     26\u001B[0m locator \u001B[38;5;241m=\u001B[39m ax\u001B[38;5;241m.\u001B[39mget_axes_locator()\n\u001B[0;32m     27\u001B[0m \u001B[38;5;28;01mif\u001B[39;00m locator \u001B[38;5;129;01mis\u001B[39;00m \u001B[38;5;129;01mnot\u001B[39;00m \u001B[38;5;28;01mNone\u001B[39;00m:\n\u001B[1;32m---> 28\u001B[0m     ax\u001B[38;5;241m.\u001B[39mapply_aspect(\u001B[43mlocator\u001B[49m\u001B[43m(\u001B[49m\u001B[43max\u001B[49m\u001B[43m,\u001B[49m\u001B[43m \u001B[49m\u001B[38;5;28;43;01mNone\u001B[39;49;00m\u001B[43m)\u001B[49m)\n\u001B[0;32m     29\u001B[0m locator_list\u001B[38;5;241m.\u001B[39mappend(locator)\n\u001B[0;32m     30\u001B[0m current_pos \u001B[38;5;241m=\u001B[39m ax\u001B[38;5;241m.\u001B[39mget_position(original\u001B[38;5;241m=\u001B[39m\u001B[38;5;28;01mFalse\u001B[39;00m)\u001B[38;5;241m.\u001B[39mfrozen()\n",
      "File \u001B[1;32m~\\.conda\\envs\\SP1\\lib\\site-packages\\mpl_toolkits\\axes_grid1\\inset_locator.py:73\u001B[0m, in \u001B[0;36mAnchoredLocatorBase.__call__\u001B[1;34m(self, ax, renderer)\u001B[0m\n\u001B[0;32m     71\u001B[0m \u001B[38;5;28;01mdef\u001B[39;00m \u001B[38;5;21m__call__\u001B[39m(\u001B[38;5;28mself\u001B[39m, ax, renderer):\n\u001B[0;32m     72\u001B[0m     \u001B[38;5;28mself\u001B[39m\u001B[38;5;241m.\u001B[39maxes \u001B[38;5;241m=\u001B[39m ax\n\u001B[1;32m---> 73\u001B[0m     bbox \u001B[38;5;241m=\u001B[39m \u001B[38;5;28;43mself\u001B[39;49m\u001B[38;5;241;43m.\u001B[39;49m\u001B[43mget_window_extent\u001B[49m\u001B[43m(\u001B[49m\u001B[43mrenderer\u001B[49m\u001B[43m)\u001B[49m\n\u001B[0;32m     74\u001B[0m     px, py \u001B[38;5;241m=\u001B[39m \u001B[38;5;28mself\u001B[39m\u001B[38;5;241m.\u001B[39mget_offset(bbox\u001B[38;5;241m.\u001B[39mwidth, bbox\u001B[38;5;241m.\u001B[39mheight, \u001B[38;5;241m0\u001B[39m, \u001B[38;5;241m0\u001B[39m, renderer)\n\u001B[0;32m     75\u001B[0m     bbox_canvas \u001B[38;5;241m=\u001B[39m Bbox\u001B[38;5;241m.\u001B[39mfrom_bounds(px, py, bbox\u001B[38;5;241m.\u001B[39mwidth, bbox\u001B[38;5;241m.\u001B[39mheight)\n",
      "File \u001B[1;32m~\\.conda\\envs\\SP1\\lib\\site-packages\\matplotlib\\offsetbox.py:399\u001B[0m, in \u001B[0;36mOffsetBox.get_window_extent\u001B[1;34m(self, renderer)\u001B[0m\n\u001B[0;32m    396\u001B[0m \u001B[38;5;28;01mdef\u001B[39;00m \u001B[38;5;21mget_window_extent\u001B[39m(\u001B[38;5;28mself\u001B[39m, renderer\u001B[38;5;241m=\u001B[39m\u001B[38;5;28;01mNone\u001B[39;00m):\n\u001B[0;32m    397\u001B[0m     \u001B[38;5;66;03m# docstring inherited\u001B[39;00m\n\u001B[0;32m    398\u001B[0m     \u001B[38;5;28;01mif\u001B[39;00m renderer \u001B[38;5;129;01mis\u001B[39;00m \u001B[38;5;28;01mNone\u001B[39;00m:\n\u001B[1;32m--> 399\u001B[0m         renderer \u001B[38;5;241m=\u001B[39m \u001B[38;5;28;43mself\u001B[39;49m\u001B[38;5;241;43m.\u001B[39;49m\u001B[43mfigure\u001B[49m\u001B[38;5;241;43m.\u001B[39;49m\u001B[43m_get_renderer\u001B[49m()\n\u001B[0;32m    400\u001B[0m     bbox \u001B[38;5;241m=\u001B[39m \u001B[38;5;28mself\u001B[39m\u001B[38;5;241m.\u001B[39mget_bbox(renderer)\n\u001B[0;32m    401\u001B[0m     \u001B[38;5;28;01mtry\u001B[39;00m:  \u001B[38;5;66;03m# Some subclasses redefine get_offset to take no args.\u001B[39;00m\n",
      "\u001B[1;31mAttributeError\u001B[0m: 'NoneType' object has no attribute '_get_renderer'"
     ]
    },
    {
     "data": {
      "text/plain": [
       "<MNELineFigure size 1000x350 with 2 Axes>"
      ]
     },
     "metadata": {},
     "output_type": "display_data"
    },
    {
     "ename": "AttributeError",
     "evalue": "'NoneType' object has no attribute '_get_renderer'",
     "output_type": "error",
     "traceback": [
      "\u001B[1;31m---------------------------------------------------------------------------\u001B[0m",
      "\u001B[1;31mAttributeError\u001B[0m                            Traceback (most recent call last)",
      "File \u001B[1;32m~\\.conda\\envs\\SP1\\lib\\site-packages\\IPython\\core\\formatters.py:340\u001B[0m, in \u001B[0;36mBaseFormatter.__call__\u001B[1;34m(self, obj)\u001B[0m\n\u001B[0;32m    338\u001B[0m     \u001B[38;5;28;01mpass\u001B[39;00m\n\u001B[0;32m    339\u001B[0m \u001B[38;5;28;01melse\u001B[39;00m:\n\u001B[1;32m--> 340\u001B[0m     \u001B[38;5;28;01mreturn\u001B[39;00m \u001B[43mprinter\u001B[49m\u001B[43m(\u001B[49m\u001B[43mobj\u001B[49m\u001B[43m)\u001B[49m\n\u001B[0;32m    341\u001B[0m \u001B[38;5;66;03m# Finally look for special method names\u001B[39;00m\n\u001B[0;32m    342\u001B[0m method \u001B[38;5;241m=\u001B[39m get_real_method(obj, \u001B[38;5;28mself\u001B[39m\u001B[38;5;241m.\u001B[39mprint_method)\n",
      "File \u001B[1;32m~\\.conda\\envs\\SP1\\lib\\site-packages\\IPython\\core\\pylabtools.py:152\u001B[0m, in \u001B[0;36mprint_figure\u001B[1;34m(fig, fmt, bbox_inches, base64, **kwargs)\u001B[0m\n\u001B[0;32m    149\u001B[0m     \u001B[38;5;28;01mfrom\u001B[39;00m \u001B[38;5;21;01mmatplotlib\u001B[39;00m\u001B[38;5;21;01m.\u001B[39;00m\u001B[38;5;21;01mbackend_bases\u001B[39;00m \u001B[38;5;28;01mimport\u001B[39;00m FigureCanvasBase\n\u001B[0;32m    150\u001B[0m     FigureCanvasBase(fig)\n\u001B[1;32m--> 152\u001B[0m \u001B[43mfig\u001B[49m\u001B[38;5;241;43m.\u001B[39;49m\u001B[43mcanvas\u001B[49m\u001B[38;5;241;43m.\u001B[39;49m\u001B[43mprint_figure\u001B[49m\u001B[43m(\u001B[49m\u001B[43mbytes_io\u001B[49m\u001B[43m,\u001B[49m\u001B[43m \u001B[49m\u001B[38;5;241;43m*\u001B[39;49m\u001B[38;5;241;43m*\u001B[39;49m\u001B[43mkw\u001B[49m\u001B[43m)\u001B[49m\n\u001B[0;32m    153\u001B[0m data \u001B[38;5;241m=\u001B[39m bytes_io\u001B[38;5;241m.\u001B[39mgetvalue()\n\u001B[0;32m    154\u001B[0m \u001B[38;5;28;01mif\u001B[39;00m fmt \u001B[38;5;241m==\u001B[39m \u001B[38;5;124m'\u001B[39m\u001B[38;5;124msvg\u001B[39m\u001B[38;5;124m'\u001B[39m:\n",
      "File \u001B[1;32m~\\.conda\\envs\\SP1\\lib\\site-packages\\matplotlib\\backend_bases.py:2353\u001B[0m, in \u001B[0;36mFigureCanvasBase.print_figure\u001B[1;34m(self, filename, dpi, facecolor, edgecolor, orientation, format, bbox_inches, pad_inches, bbox_extra_artists, backend, **kwargs)\u001B[0m\n\u001B[0;32m   2350\u001B[0m         bbox_inches \u001B[38;5;241m=\u001B[39m bbox_inches\u001B[38;5;241m.\u001B[39mpadded(pad_inches)\n\u001B[0;32m   2352\u001B[0m     \u001B[38;5;66;03m# call adjust_bbox to save only the given area\u001B[39;00m\n\u001B[1;32m-> 2353\u001B[0m     restore_bbox \u001B[38;5;241m=\u001B[39m \u001B[43m_tight_bbox\u001B[49m\u001B[38;5;241;43m.\u001B[39;49m\u001B[43madjust_bbox\u001B[49m\u001B[43m(\u001B[49m\n\u001B[0;32m   2354\u001B[0m \u001B[43m        \u001B[49m\u001B[38;5;28;43mself\u001B[39;49m\u001B[38;5;241;43m.\u001B[39;49m\u001B[43mfigure\u001B[49m\u001B[43m,\u001B[49m\u001B[43m \u001B[49m\u001B[43mbbox_inches\u001B[49m\u001B[43m,\u001B[49m\u001B[43m \u001B[49m\u001B[38;5;28;43mself\u001B[39;49m\u001B[38;5;241;43m.\u001B[39;49m\u001B[43mfigure\u001B[49m\u001B[38;5;241;43m.\u001B[39;49m\u001B[43mcanvas\u001B[49m\u001B[38;5;241;43m.\u001B[39;49m\u001B[43mfixed_dpi\u001B[49m\u001B[43m)\u001B[49m\n\u001B[0;32m   2356\u001B[0m     _bbox_inches_restore \u001B[38;5;241m=\u001B[39m (bbox_inches, restore_bbox)\n\u001B[0;32m   2357\u001B[0m \u001B[38;5;28;01melse\u001B[39;00m:\n",
      "File \u001B[1;32m~\\.conda\\envs\\SP1\\lib\\site-packages\\matplotlib\\_tight_bbox.py:28\u001B[0m, in \u001B[0;36madjust_bbox\u001B[1;34m(fig, bbox_inches, fixed_dpi)\u001B[0m\n\u001B[0;32m     26\u001B[0m locator \u001B[38;5;241m=\u001B[39m ax\u001B[38;5;241m.\u001B[39mget_axes_locator()\n\u001B[0;32m     27\u001B[0m \u001B[38;5;28;01mif\u001B[39;00m locator \u001B[38;5;129;01mis\u001B[39;00m \u001B[38;5;129;01mnot\u001B[39;00m \u001B[38;5;28;01mNone\u001B[39;00m:\n\u001B[1;32m---> 28\u001B[0m     ax\u001B[38;5;241m.\u001B[39mapply_aspect(\u001B[43mlocator\u001B[49m\u001B[43m(\u001B[49m\u001B[43max\u001B[49m\u001B[43m,\u001B[49m\u001B[43m \u001B[49m\u001B[38;5;28;43;01mNone\u001B[39;49;00m\u001B[43m)\u001B[49m)\n\u001B[0;32m     29\u001B[0m locator_list\u001B[38;5;241m.\u001B[39mappend(locator)\n\u001B[0;32m     30\u001B[0m current_pos \u001B[38;5;241m=\u001B[39m ax\u001B[38;5;241m.\u001B[39mget_position(original\u001B[38;5;241m=\u001B[39m\u001B[38;5;28;01mFalse\u001B[39;00m)\u001B[38;5;241m.\u001B[39mfrozen()\n",
      "File \u001B[1;32m~\\.conda\\envs\\SP1\\lib\\site-packages\\mpl_toolkits\\axes_grid1\\inset_locator.py:73\u001B[0m, in \u001B[0;36mAnchoredLocatorBase.__call__\u001B[1;34m(self, ax, renderer)\u001B[0m\n\u001B[0;32m     71\u001B[0m \u001B[38;5;28;01mdef\u001B[39;00m \u001B[38;5;21m__call__\u001B[39m(\u001B[38;5;28mself\u001B[39m, ax, renderer):\n\u001B[0;32m     72\u001B[0m     \u001B[38;5;28mself\u001B[39m\u001B[38;5;241m.\u001B[39maxes \u001B[38;5;241m=\u001B[39m ax\n\u001B[1;32m---> 73\u001B[0m     bbox \u001B[38;5;241m=\u001B[39m \u001B[38;5;28;43mself\u001B[39;49m\u001B[38;5;241;43m.\u001B[39;49m\u001B[43mget_window_extent\u001B[49m\u001B[43m(\u001B[49m\u001B[43mrenderer\u001B[49m\u001B[43m)\u001B[49m\n\u001B[0;32m     74\u001B[0m     px, py \u001B[38;5;241m=\u001B[39m \u001B[38;5;28mself\u001B[39m\u001B[38;5;241m.\u001B[39mget_offset(bbox\u001B[38;5;241m.\u001B[39mwidth, bbox\u001B[38;5;241m.\u001B[39mheight, \u001B[38;5;241m0\u001B[39m, \u001B[38;5;241m0\u001B[39m, renderer)\n\u001B[0;32m     75\u001B[0m     bbox_canvas \u001B[38;5;241m=\u001B[39m Bbox\u001B[38;5;241m.\u001B[39mfrom_bounds(px, py, bbox\u001B[38;5;241m.\u001B[39mwidth, bbox\u001B[38;5;241m.\u001B[39mheight)\n",
      "File \u001B[1;32m~\\.conda\\envs\\SP1\\lib\\site-packages\\matplotlib\\offsetbox.py:399\u001B[0m, in \u001B[0;36mOffsetBox.get_window_extent\u001B[1;34m(self, renderer)\u001B[0m\n\u001B[0;32m    396\u001B[0m \u001B[38;5;28;01mdef\u001B[39;00m \u001B[38;5;21mget_window_extent\u001B[39m(\u001B[38;5;28mself\u001B[39m, renderer\u001B[38;5;241m=\u001B[39m\u001B[38;5;28;01mNone\u001B[39;00m):\n\u001B[0;32m    397\u001B[0m     \u001B[38;5;66;03m# docstring inherited\u001B[39;00m\n\u001B[0;32m    398\u001B[0m     \u001B[38;5;28;01mif\u001B[39;00m renderer \u001B[38;5;129;01mis\u001B[39;00m \u001B[38;5;28;01mNone\u001B[39;00m:\n\u001B[1;32m--> 399\u001B[0m         renderer \u001B[38;5;241m=\u001B[39m \u001B[38;5;28;43mself\u001B[39;49m\u001B[38;5;241;43m.\u001B[39;49m\u001B[43mfigure\u001B[49m\u001B[38;5;241;43m.\u001B[39;49m\u001B[43m_get_renderer\u001B[49m()\n\u001B[0;32m    400\u001B[0m     bbox \u001B[38;5;241m=\u001B[39m \u001B[38;5;28mself\u001B[39m\u001B[38;5;241m.\u001B[39mget_bbox(renderer)\n\u001B[0;32m    401\u001B[0m     \u001B[38;5;28;01mtry\u001B[39;00m:  \u001B[38;5;66;03m# Some subclasses redefine get_offset to take no args.\u001B[39;00m\n",
      "\u001B[1;31mAttributeError\u001B[0m: 'NoneType' object has no attribute '_get_renderer'"
     ]
    },
    {
     "data": {
      "text/plain": [
       "<MNELineFigure size 1000x350 with 2 Axes>"
      ]
     },
     "metadata": {},
     "output_type": "display_data"
    },
    {
     "ename": "AttributeError",
     "evalue": "'NoneType' object has no attribute '_get_renderer'",
     "output_type": "error",
     "traceback": [
      "\u001B[1;31m---------------------------------------------------------------------------\u001B[0m",
      "\u001B[1;31mAttributeError\u001B[0m                            Traceback (most recent call last)",
      "File \u001B[1;32m~\\.conda\\envs\\SP1\\lib\\site-packages\\IPython\\core\\formatters.py:340\u001B[0m, in \u001B[0;36mBaseFormatter.__call__\u001B[1;34m(self, obj)\u001B[0m\n\u001B[0;32m    338\u001B[0m     \u001B[38;5;28;01mpass\u001B[39;00m\n\u001B[0;32m    339\u001B[0m \u001B[38;5;28;01melse\u001B[39;00m:\n\u001B[1;32m--> 340\u001B[0m     \u001B[38;5;28;01mreturn\u001B[39;00m \u001B[43mprinter\u001B[49m\u001B[43m(\u001B[49m\u001B[43mobj\u001B[49m\u001B[43m)\u001B[49m\n\u001B[0;32m    341\u001B[0m \u001B[38;5;66;03m# Finally look for special method names\u001B[39;00m\n\u001B[0;32m    342\u001B[0m method \u001B[38;5;241m=\u001B[39m get_real_method(obj, \u001B[38;5;28mself\u001B[39m\u001B[38;5;241m.\u001B[39mprint_method)\n",
      "File \u001B[1;32m~\\.conda\\envs\\SP1\\lib\\site-packages\\IPython\\core\\pylabtools.py:152\u001B[0m, in \u001B[0;36mprint_figure\u001B[1;34m(fig, fmt, bbox_inches, base64, **kwargs)\u001B[0m\n\u001B[0;32m    149\u001B[0m     \u001B[38;5;28;01mfrom\u001B[39;00m \u001B[38;5;21;01mmatplotlib\u001B[39;00m\u001B[38;5;21;01m.\u001B[39;00m\u001B[38;5;21;01mbackend_bases\u001B[39;00m \u001B[38;5;28;01mimport\u001B[39;00m FigureCanvasBase\n\u001B[0;32m    150\u001B[0m     FigureCanvasBase(fig)\n\u001B[1;32m--> 152\u001B[0m \u001B[43mfig\u001B[49m\u001B[38;5;241;43m.\u001B[39;49m\u001B[43mcanvas\u001B[49m\u001B[38;5;241;43m.\u001B[39;49m\u001B[43mprint_figure\u001B[49m\u001B[43m(\u001B[49m\u001B[43mbytes_io\u001B[49m\u001B[43m,\u001B[49m\u001B[43m \u001B[49m\u001B[38;5;241;43m*\u001B[39;49m\u001B[38;5;241;43m*\u001B[39;49m\u001B[43mkw\u001B[49m\u001B[43m)\u001B[49m\n\u001B[0;32m    153\u001B[0m data \u001B[38;5;241m=\u001B[39m bytes_io\u001B[38;5;241m.\u001B[39mgetvalue()\n\u001B[0;32m    154\u001B[0m \u001B[38;5;28;01mif\u001B[39;00m fmt \u001B[38;5;241m==\u001B[39m \u001B[38;5;124m'\u001B[39m\u001B[38;5;124msvg\u001B[39m\u001B[38;5;124m'\u001B[39m:\n",
      "File \u001B[1;32m~\\.conda\\envs\\SP1\\lib\\site-packages\\matplotlib\\backend_bases.py:2353\u001B[0m, in \u001B[0;36mFigureCanvasBase.print_figure\u001B[1;34m(self, filename, dpi, facecolor, edgecolor, orientation, format, bbox_inches, pad_inches, bbox_extra_artists, backend, **kwargs)\u001B[0m\n\u001B[0;32m   2350\u001B[0m         bbox_inches \u001B[38;5;241m=\u001B[39m bbox_inches\u001B[38;5;241m.\u001B[39mpadded(pad_inches)\n\u001B[0;32m   2352\u001B[0m     \u001B[38;5;66;03m# call adjust_bbox to save only the given area\u001B[39;00m\n\u001B[1;32m-> 2353\u001B[0m     restore_bbox \u001B[38;5;241m=\u001B[39m \u001B[43m_tight_bbox\u001B[49m\u001B[38;5;241;43m.\u001B[39;49m\u001B[43madjust_bbox\u001B[49m\u001B[43m(\u001B[49m\n\u001B[0;32m   2354\u001B[0m \u001B[43m        \u001B[49m\u001B[38;5;28;43mself\u001B[39;49m\u001B[38;5;241;43m.\u001B[39;49m\u001B[43mfigure\u001B[49m\u001B[43m,\u001B[49m\u001B[43m \u001B[49m\u001B[43mbbox_inches\u001B[49m\u001B[43m,\u001B[49m\u001B[43m \u001B[49m\u001B[38;5;28;43mself\u001B[39;49m\u001B[38;5;241;43m.\u001B[39;49m\u001B[43mfigure\u001B[49m\u001B[38;5;241;43m.\u001B[39;49m\u001B[43mcanvas\u001B[49m\u001B[38;5;241;43m.\u001B[39;49m\u001B[43mfixed_dpi\u001B[49m\u001B[43m)\u001B[49m\n\u001B[0;32m   2356\u001B[0m     _bbox_inches_restore \u001B[38;5;241m=\u001B[39m (bbox_inches, restore_bbox)\n\u001B[0;32m   2357\u001B[0m \u001B[38;5;28;01melse\u001B[39;00m:\n",
      "File \u001B[1;32m~\\.conda\\envs\\SP1\\lib\\site-packages\\matplotlib\\_tight_bbox.py:28\u001B[0m, in \u001B[0;36madjust_bbox\u001B[1;34m(fig, bbox_inches, fixed_dpi)\u001B[0m\n\u001B[0;32m     26\u001B[0m locator \u001B[38;5;241m=\u001B[39m ax\u001B[38;5;241m.\u001B[39mget_axes_locator()\n\u001B[0;32m     27\u001B[0m \u001B[38;5;28;01mif\u001B[39;00m locator \u001B[38;5;129;01mis\u001B[39;00m \u001B[38;5;129;01mnot\u001B[39;00m \u001B[38;5;28;01mNone\u001B[39;00m:\n\u001B[1;32m---> 28\u001B[0m     ax\u001B[38;5;241m.\u001B[39mapply_aspect(\u001B[43mlocator\u001B[49m\u001B[43m(\u001B[49m\u001B[43max\u001B[49m\u001B[43m,\u001B[49m\u001B[43m \u001B[49m\u001B[38;5;28;43;01mNone\u001B[39;49;00m\u001B[43m)\u001B[49m)\n\u001B[0;32m     29\u001B[0m locator_list\u001B[38;5;241m.\u001B[39mappend(locator)\n\u001B[0;32m     30\u001B[0m current_pos \u001B[38;5;241m=\u001B[39m ax\u001B[38;5;241m.\u001B[39mget_position(original\u001B[38;5;241m=\u001B[39m\u001B[38;5;28;01mFalse\u001B[39;00m)\u001B[38;5;241m.\u001B[39mfrozen()\n",
      "File \u001B[1;32m~\\.conda\\envs\\SP1\\lib\\site-packages\\mpl_toolkits\\axes_grid1\\inset_locator.py:73\u001B[0m, in \u001B[0;36mAnchoredLocatorBase.__call__\u001B[1;34m(self, ax, renderer)\u001B[0m\n\u001B[0;32m     71\u001B[0m \u001B[38;5;28;01mdef\u001B[39;00m \u001B[38;5;21m__call__\u001B[39m(\u001B[38;5;28mself\u001B[39m, ax, renderer):\n\u001B[0;32m     72\u001B[0m     \u001B[38;5;28mself\u001B[39m\u001B[38;5;241m.\u001B[39maxes \u001B[38;5;241m=\u001B[39m ax\n\u001B[1;32m---> 73\u001B[0m     bbox \u001B[38;5;241m=\u001B[39m \u001B[38;5;28;43mself\u001B[39;49m\u001B[38;5;241;43m.\u001B[39;49m\u001B[43mget_window_extent\u001B[49m\u001B[43m(\u001B[49m\u001B[43mrenderer\u001B[49m\u001B[43m)\u001B[49m\n\u001B[0;32m     74\u001B[0m     px, py \u001B[38;5;241m=\u001B[39m \u001B[38;5;28mself\u001B[39m\u001B[38;5;241m.\u001B[39mget_offset(bbox\u001B[38;5;241m.\u001B[39mwidth, bbox\u001B[38;5;241m.\u001B[39mheight, \u001B[38;5;241m0\u001B[39m, \u001B[38;5;241m0\u001B[39m, renderer)\n\u001B[0;32m     75\u001B[0m     bbox_canvas \u001B[38;5;241m=\u001B[39m Bbox\u001B[38;5;241m.\u001B[39mfrom_bounds(px, py, bbox\u001B[38;5;241m.\u001B[39mwidth, bbox\u001B[38;5;241m.\u001B[39mheight)\n",
      "File \u001B[1;32m~\\.conda\\envs\\SP1\\lib\\site-packages\\matplotlib\\offsetbox.py:399\u001B[0m, in \u001B[0;36mOffsetBox.get_window_extent\u001B[1;34m(self, renderer)\u001B[0m\n\u001B[0;32m    396\u001B[0m \u001B[38;5;28;01mdef\u001B[39;00m \u001B[38;5;21mget_window_extent\u001B[39m(\u001B[38;5;28mself\u001B[39m, renderer\u001B[38;5;241m=\u001B[39m\u001B[38;5;28;01mNone\u001B[39;00m):\n\u001B[0;32m    397\u001B[0m     \u001B[38;5;66;03m# docstring inherited\u001B[39;00m\n\u001B[0;32m    398\u001B[0m     \u001B[38;5;28;01mif\u001B[39;00m renderer \u001B[38;5;129;01mis\u001B[39;00m \u001B[38;5;28;01mNone\u001B[39;00m:\n\u001B[1;32m--> 399\u001B[0m         renderer \u001B[38;5;241m=\u001B[39m \u001B[38;5;28;43mself\u001B[39;49m\u001B[38;5;241;43m.\u001B[39;49m\u001B[43mfigure\u001B[49m\u001B[38;5;241;43m.\u001B[39;49m\u001B[43m_get_renderer\u001B[49m()\n\u001B[0;32m    400\u001B[0m     bbox \u001B[38;5;241m=\u001B[39m \u001B[38;5;28mself\u001B[39m\u001B[38;5;241m.\u001B[39mget_bbox(renderer)\n\u001B[0;32m    401\u001B[0m     \u001B[38;5;28;01mtry\u001B[39;00m:  \u001B[38;5;66;03m# Some subclasses redefine get_offset to take no args.\u001B[39;00m\n",
      "\u001B[1;31mAttributeError\u001B[0m: 'NoneType' object has no attribute '_get_renderer'"
     ]
    },
    {
     "data": {
      "text/plain": [
       "<MNELineFigure size 1000x350 with 2 Axes>"
      ]
     },
     "metadata": {},
     "output_type": "display_data"
    },
    {
     "ename": "AttributeError",
     "evalue": "'NoneType' object has no attribute '_get_renderer'",
     "output_type": "error",
     "traceback": [
      "\u001B[1;31m---------------------------------------------------------------------------\u001B[0m",
      "\u001B[1;31mAttributeError\u001B[0m                            Traceback (most recent call last)",
      "File \u001B[1;32m~\\.conda\\envs\\SP1\\lib\\site-packages\\IPython\\core\\formatters.py:340\u001B[0m, in \u001B[0;36mBaseFormatter.__call__\u001B[1;34m(self, obj)\u001B[0m\n\u001B[0;32m    338\u001B[0m     \u001B[38;5;28;01mpass\u001B[39;00m\n\u001B[0;32m    339\u001B[0m \u001B[38;5;28;01melse\u001B[39;00m:\n\u001B[1;32m--> 340\u001B[0m     \u001B[38;5;28;01mreturn\u001B[39;00m \u001B[43mprinter\u001B[49m\u001B[43m(\u001B[49m\u001B[43mobj\u001B[49m\u001B[43m)\u001B[49m\n\u001B[0;32m    341\u001B[0m \u001B[38;5;66;03m# Finally look for special method names\u001B[39;00m\n\u001B[0;32m    342\u001B[0m method \u001B[38;5;241m=\u001B[39m get_real_method(obj, \u001B[38;5;28mself\u001B[39m\u001B[38;5;241m.\u001B[39mprint_method)\n",
      "File \u001B[1;32m~\\.conda\\envs\\SP1\\lib\\site-packages\\IPython\\core\\pylabtools.py:152\u001B[0m, in \u001B[0;36mprint_figure\u001B[1;34m(fig, fmt, bbox_inches, base64, **kwargs)\u001B[0m\n\u001B[0;32m    149\u001B[0m     \u001B[38;5;28;01mfrom\u001B[39;00m \u001B[38;5;21;01mmatplotlib\u001B[39;00m\u001B[38;5;21;01m.\u001B[39;00m\u001B[38;5;21;01mbackend_bases\u001B[39;00m \u001B[38;5;28;01mimport\u001B[39;00m FigureCanvasBase\n\u001B[0;32m    150\u001B[0m     FigureCanvasBase(fig)\n\u001B[1;32m--> 152\u001B[0m \u001B[43mfig\u001B[49m\u001B[38;5;241;43m.\u001B[39;49m\u001B[43mcanvas\u001B[49m\u001B[38;5;241;43m.\u001B[39;49m\u001B[43mprint_figure\u001B[49m\u001B[43m(\u001B[49m\u001B[43mbytes_io\u001B[49m\u001B[43m,\u001B[49m\u001B[43m \u001B[49m\u001B[38;5;241;43m*\u001B[39;49m\u001B[38;5;241;43m*\u001B[39;49m\u001B[43mkw\u001B[49m\u001B[43m)\u001B[49m\n\u001B[0;32m    153\u001B[0m data \u001B[38;5;241m=\u001B[39m bytes_io\u001B[38;5;241m.\u001B[39mgetvalue()\n\u001B[0;32m    154\u001B[0m \u001B[38;5;28;01mif\u001B[39;00m fmt \u001B[38;5;241m==\u001B[39m \u001B[38;5;124m'\u001B[39m\u001B[38;5;124msvg\u001B[39m\u001B[38;5;124m'\u001B[39m:\n",
      "File \u001B[1;32m~\\.conda\\envs\\SP1\\lib\\site-packages\\matplotlib\\backend_bases.py:2353\u001B[0m, in \u001B[0;36mFigureCanvasBase.print_figure\u001B[1;34m(self, filename, dpi, facecolor, edgecolor, orientation, format, bbox_inches, pad_inches, bbox_extra_artists, backend, **kwargs)\u001B[0m\n\u001B[0;32m   2350\u001B[0m         bbox_inches \u001B[38;5;241m=\u001B[39m bbox_inches\u001B[38;5;241m.\u001B[39mpadded(pad_inches)\n\u001B[0;32m   2352\u001B[0m     \u001B[38;5;66;03m# call adjust_bbox to save only the given area\u001B[39;00m\n\u001B[1;32m-> 2353\u001B[0m     restore_bbox \u001B[38;5;241m=\u001B[39m \u001B[43m_tight_bbox\u001B[49m\u001B[38;5;241;43m.\u001B[39;49m\u001B[43madjust_bbox\u001B[49m\u001B[43m(\u001B[49m\n\u001B[0;32m   2354\u001B[0m \u001B[43m        \u001B[49m\u001B[38;5;28;43mself\u001B[39;49m\u001B[38;5;241;43m.\u001B[39;49m\u001B[43mfigure\u001B[49m\u001B[43m,\u001B[49m\u001B[43m \u001B[49m\u001B[43mbbox_inches\u001B[49m\u001B[43m,\u001B[49m\u001B[43m \u001B[49m\u001B[38;5;28;43mself\u001B[39;49m\u001B[38;5;241;43m.\u001B[39;49m\u001B[43mfigure\u001B[49m\u001B[38;5;241;43m.\u001B[39;49m\u001B[43mcanvas\u001B[49m\u001B[38;5;241;43m.\u001B[39;49m\u001B[43mfixed_dpi\u001B[49m\u001B[43m)\u001B[49m\n\u001B[0;32m   2356\u001B[0m     _bbox_inches_restore \u001B[38;5;241m=\u001B[39m (bbox_inches, restore_bbox)\n\u001B[0;32m   2357\u001B[0m \u001B[38;5;28;01melse\u001B[39;00m:\n",
      "File \u001B[1;32m~\\.conda\\envs\\SP1\\lib\\site-packages\\matplotlib\\_tight_bbox.py:28\u001B[0m, in \u001B[0;36madjust_bbox\u001B[1;34m(fig, bbox_inches, fixed_dpi)\u001B[0m\n\u001B[0;32m     26\u001B[0m locator \u001B[38;5;241m=\u001B[39m ax\u001B[38;5;241m.\u001B[39mget_axes_locator()\n\u001B[0;32m     27\u001B[0m \u001B[38;5;28;01mif\u001B[39;00m locator \u001B[38;5;129;01mis\u001B[39;00m \u001B[38;5;129;01mnot\u001B[39;00m \u001B[38;5;28;01mNone\u001B[39;00m:\n\u001B[1;32m---> 28\u001B[0m     ax\u001B[38;5;241m.\u001B[39mapply_aspect(\u001B[43mlocator\u001B[49m\u001B[43m(\u001B[49m\u001B[43max\u001B[49m\u001B[43m,\u001B[49m\u001B[43m \u001B[49m\u001B[38;5;28;43;01mNone\u001B[39;49;00m\u001B[43m)\u001B[49m)\n\u001B[0;32m     29\u001B[0m locator_list\u001B[38;5;241m.\u001B[39mappend(locator)\n\u001B[0;32m     30\u001B[0m current_pos \u001B[38;5;241m=\u001B[39m ax\u001B[38;5;241m.\u001B[39mget_position(original\u001B[38;5;241m=\u001B[39m\u001B[38;5;28;01mFalse\u001B[39;00m)\u001B[38;5;241m.\u001B[39mfrozen()\n",
      "File \u001B[1;32m~\\.conda\\envs\\SP1\\lib\\site-packages\\mpl_toolkits\\axes_grid1\\inset_locator.py:73\u001B[0m, in \u001B[0;36mAnchoredLocatorBase.__call__\u001B[1;34m(self, ax, renderer)\u001B[0m\n\u001B[0;32m     71\u001B[0m \u001B[38;5;28;01mdef\u001B[39;00m \u001B[38;5;21m__call__\u001B[39m(\u001B[38;5;28mself\u001B[39m, ax, renderer):\n\u001B[0;32m     72\u001B[0m     \u001B[38;5;28mself\u001B[39m\u001B[38;5;241m.\u001B[39maxes \u001B[38;5;241m=\u001B[39m ax\n\u001B[1;32m---> 73\u001B[0m     bbox \u001B[38;5;241m=\u001B[39m \u001B[38;5;28;43mself\u001B[39;49m\u001B[38;5;241;43m.\u001B[39;49m\u001B[43mget_window_extent\u001B[49m\u001B[43m(\u001B[49m\u001B[43mrenderer\u001B[49m\u001B[43m)\u001B[49m\n\u001B[0;32m     74\u001B[0m     px, py \u001B[38;5;241m=\u001B[39m \u001B[38;5;28mself\u001B[39m\u001B[38;5;241m.\u001B[39mget_offset(bbox\u001B[38;5;241m.\u001B[39mwidth, bbox\u001B[38;5;241m.\u001B[39mheight, \u001B[38;5;241m0\u001B[39m, \u001B[38;5;241m0\u001B[39m, renderer)\n\u001B[0;32m     75\u001B[0m     bbox_canvas \u001B[38;5;241m=\u001B[39m Bbox\u001B[38;5;241m.\u001B[39mfrom_bounds(px, py, bbox\u001B[38;5;241m.\u001B[39mwidth, bbox\u001B[38;5;241m.\u001B[39mheight)\n",
      "File \u001B[1;32m~\\.conda\\envs\\SP1\\lib\\site-packages\\matplotlib\\offsetbox.py:399\u001B[0m, in \u001B[0;36mOffsetBox.get_window_extent\u001B[1;34m(self, renderer)\u001B[0m\n\u001B[0;32m    396\u001B[0m \u001B[38;5;28;01mdef\u001B[39;00m \u001B[38;5;21mget_window_extent\u001B[39m(\u001B[38;5;28mself\u001B[39m, renderer\u001B[38;5;241m=\u001B[39m\u001B[38;5;28;01mNone\u001B[39;00m):\n\u001B[0;32m    397\u001B[0m     \u001B[38;5;66;03m# docstring inherited\u001B[39;00m\n\u001B[0;32m    398\u001B[0m     \u001B[38;5;28;01mif\u001B[39;00m renderer \u001B[38;5;129;01mis\u001B[39;00m \u001B[38;5;28;01mNone\u001B[39;00m:\n\u001B[1;32m--> 399\u001B[0m         renderer \u001B[38;5;241m=\u001B[39m \u001B[38;5;28;43mself\u001B[39;49m\u001B[38;5;241;43m.\u001B[39;49m\u001B[43mfigure\u001B[49m\u001B[38;5;241;43m.\u001B[39;49m\u001B[43m_get_renderer\u001B[49m()\n\u001B[0;32m    400\u001B[0m     bbox \u001B[38;5;241m=\u001B[39m \u001B[38;5;28mself\u001B[39m\u001B[38;5;241m.\u001B[39mget_bbox(renderer)\n\u001B[0;32m    401\u001B[0m     \u001B[38;5;28;01mtry\u001B[39;00m:  \u001B[38;5;66;03m# Some subclasses redefine get_offset to take no args.\u001B[39;00m\n",
      "\u001B[1;31mAttributeError\u001B[0m: 'NoneType' object has no attribute '_get_renderer'"
     ]
    },
    {
     "data": {
      "text/plain": [
       "<MNELineFigure size 1000x350 with 2 Axes>"
      ]
     },
     "metadata": {},
     "output_type": "display_data"
    },
    {
     "ename": "AttributeError",
     "evalue": "'NoneType' object has no attribute '_get_renderer'",
     "output_type": "error",
     "traceback": [
      "\u001B[1;31m---------------------------------------------------------------------------\u001B[0m",
      "\u001B[1;31mAttributeError\u001B[0m                            Traceback (most recent call last)",
      "File \u001B[1;32m~\\.conda\\envs\\SP1\\lib\\site-packages\\IPython\\core\\formatters.py:340\u001B[0m, in \u001B[0;36mBaseFormatter.__call__\u001B[1;34m(self, obj)\u001B[0m\n\u001B[0;32m    338\u001B[0m     \u001B[38;5;28;01mpass\u001B[39;00m\n\u001B[0;32m    339\u001B[0m \u001B[38;5;28;01melse\u001B[39;00m:\n\u001B[1;32m--> 340\u001B[0m     \u001B[38;5;28;01mreturn\u001B[39;00m \u001B[43mprinter\u001B[49m\u001B[43m(\u001B[49m\u001B[43mobj\u001B[49m\u001B[43m)\u001B[49m\n\u001B[0;32m    341\u001B[0m \u001B[38;5;66;03m# Finally look for special method names\u001B[39;00m\n\u001B[0;32m    342\u001B[0m method \u001B[38;5;241m=\u001B[39m get_real_method(obj, \u001B[38;5;28mself\u001B[39m\u001B[38;5;241m.\u001B[39mprint_method)\n",
      "File \u001B[1;32m~\\.conda\\envs\\SP1\\lib\\site-packages\\IPython\\core\\pylabtools.py:152\u001B[0m, in \u001B[0;36mprint_figure\u001B[1;34m(fig, fmt, bbox_inches, base64, **kwargs)\u001B[0m\n\u001B[0;32m    149\u001B[0m     \u001B[38;5;28;01mfrom\u001B[39;00m \u001B[38;5;21;01mmatplotlib\u001B[39;00m\u001B[38;5;21;01m.\u001B[39;00m\u001B[38;5;21;01mbackend_bases\u001B[39;00m \u001B[38;5;28;01mimport\u001B[39;00m FigureCanvasBase\n\u001B[0;32m    150\u001B[0m     FigureCanvasBase(fig)\n\u001B[1;32m--> 152\u001B[0m \u001B[43mfig\u001B[49m\u001B[38;5;241;43m.\u001B[39;49m\u001B[43mcanvas\u001B[49m\u001B[38;5;241;43m.\u001B[39;49m\u001B[43mprint_figure\u001B[49m\u001B[43m(\u001B[49m\u001B[43mbytes_io\u001B[49m\u001B[43m,\u001B[49m\u001B[43m \u001B[49m\u001B[38;5;241;43m*\u001B[39;49m\u001B[38;5;241;43m*\u001B[39;49m\u001B[43mkw\u001B[49m\u001B[43m)\u001B[49m\n\u001B[0;32m    153\u001B[0m data \u001B[38;5;241m=\u001B[39m bytes_io\u001B[38;5;241m.\u001B[39mgetvalue()\n\u001B[0;32m    154\u001B[0m \u001B[38;5;28;01mif\u001B[39;00m fmt \u001B[38;5;241m==\u001B[39m \u001B[38;5;124m'\u001B[39m\u001B[38;5;124msvg\u001B[39m\u001B[38;5;124m'\u001B[39m:\n",
      "File \u001B[1;32m~\\.conda\\envs\\SP1\\lib\\site-packages\\matplotlib\\backend_bases.py:2353\u001B[0m, in \u001B[0;36mFigureCanvasBase.print_figure\u001B[1;34m(self, filename, dpi, facecolor, edgecolor, orientation, format, bbox_inches, pad_inches, bbox_extra_artists, backend, **kwargs)\u001B[0m\n\u001B[0;32m   2350\u001B[0m         bbox_inches \u001B[38;5;241m=\u001B[39m bbox_inches\u001B[38;5;241m.\u001B[39mpadded(pad_inches)\n\u001B[0;32m   2352\u001B[0m     \u001B[38;5;66;03m# call adjust_bbox to save only the given area\u001B[39;00m\n\u001B[1;32m-> 2353\u001B[0m     restore_bbox \u001B[38;5;241m=\u001B[39m \u001B[43m_tight_bbox\u001B[49m\u001B[38;5;241;43m.\u001B[39;49m\u001B[43madjust_bbox\u001B[49m\u001B[43m(\u001B[49m\n\u001B[0;32m   2354\u001B[0m \u001B[43m        \u001B[49m\u001B[38;5;28;43mself\u001B[39;49m\u001B[38;5;241;43m.\u001B[39;49m\u001B[43mfigure\u001B[49m\u001B[43m,\u001B[49m\u001B[43m \u001B[49m\u001B[43mbbox_inches\u001B[49m\u001B[43m,\u001B[49m\u001B[43m \u001B[49m\u001B[38;5;28;43mself\u001B[39;49m\u001B[38;5;241;43m.\u001B[39;49m\u001B[43mfigure\u001B[49m\u001B[38;5;241;43m.\u001B[39;49m\u001B[43mcanvas\u001B[49m\u001B[38;5;241;43m.\u001B[39;49m\u001B[43mfixed_dpi\u001B[49m\u001B[43m)\u001B[49m\n\u001B[0;32m   2356\u001B[0m     _bbox_inches_restore \u001B[38;5;241m=\u001B[39m (bbox_inches, restore_bbox)\n\u001B[0;32m   2357\u001B[0m \u001B[38;5;28;01melse\u001B[39;00m:\n",
      "File \u001B[1;32m~\\.conda\\envs\\SP1\\lib\\site-packages\\matplotlib\\_tight_bbox.py:28\u001B[0m, in \u001B[0;36madjust_bbox\u001B[1;34m(fig, bbox_inches, fixed_dpi)\u001B[0m\n\u001B[0;32m     26\u001B[0m locator \u001B[38;5;241m=\u001B[39m ax\u001B[38;5;241m.\u001B[39mget_axes_locator()\n\u001B[0;32m     27\u001B[0m \u001B[38;5;28;01mif\u001B[39;00m locator \u001B[38;5;129;01mis\u001B[39;00m \u001B[38;5;129;01mnot\u001B[39;00m \u001B[38;5;28;01mNone\u001B[39;00m:\n\u001B[1;32m---> 28\u001B[0m     ax\u001B[38;5;241m.\u001B[39mapply_aspect(\u001B[43mlocator\u001B[49m\u001B[43m(\u001B[49m\u001B[43max\u001B[49m\u001B[43m,\u001B[49m\u001B[43m \u001B[49m\u001B[38;5;28;43;01mNone\u001B[39;49;00m\u001B[43m)\u001B[49m)\n\u001B[0;32m     29\u001B[0m locator_list\u001B[38;5;241m.\u001B[39mappend(locator)\n\u001B[0;32m     30\u001B[0m current_pos \u001B[38;5;241m=\u001B[39m ax\u001B[38;5;241m.\u001B[39mget_position(original\u001B[38;5;241m=\u001B[39m\u001B[38;5;28;01mFalse\u001B[39;00m)\u001B[38;5;241m.\u001B[39mfrozen()\n",
      "File \u001B[1;32m~\\.conda\\envs\\SP1\\lib\\site-packages\\mpl_toolkits\\axes_grid1\\inset_locator.py:73\u001B[0m, in \u001B[0;36mAnchoredLocatorBase.__call__\u001B[1;34m(self, ax, renderer)\u001B[0m\n\u001B[0;32m     71\u001B[0m \u001B[38;5;28;01mdef\u001B[39;00m \u001B[38;5;21m__call__\u001B[39m(\u001B[38;5;28mself\u001B[39m, ax, renderer):\n\u001B[0;32m     72\u001B[0m     \u001B[38;5;28mself\u001B[39m\u001B[38;5;241m.\u001B[39maxes \u001B[38;5;241m=\u001B[39m ax\n\u001B[1;32m---> 73\u001B[0m     bbox \u001B[38;5;241m=\u001B[39m \u001B[38;5;28;43mself\u001B[39;49m\u001B[38;5;241;43m.\u001B[39;49m\u001B[43mget_window_extent\u001B[49m\u001B[43m(\u001B[49m\u001B[43mrenderer\u001B[49m\u001B[43m)\u001B[49m\n\u001B[0;32m     74\u001B[0m     px, py \u001B[38;5;241m=\u001B[39m \u001B[38;5;28mself\u001B[39m\u001B[38;5;241m.\u001B[39mget_offset(bbox\u001B[38;5;241m.\u001B[39mwidth, bbox\u001B[38;5;241m.\u001B[39mheight, \u001B[38;5;241m0\u001B[39m, \u001B[38;5;241m0\u001B[39m, renderer)\n\u001B[0;32m     75\u001B[0m     bbox_canvas \u001B[38;5;241m=\u001B[39m Bbox\u001B[38;5;241m.\u001B[39mfrom_bounds(px, py, bbox\u001B[38;5;241m.\u001B[39mwidth, bbox\u001B[38;5;241m.\u001B[39mheight)\n",
      "File \u001B[1;32m~\\.conda\\envs\\SP1\\lib\\site-packages\\matplotlib\\offsetbox.py:399\u001B[0m, in \u001B[0;36mOffsetBox.get_window_extent\u001B[1;34m(self, renderer)\u001B[0m\n\u001B[0;32m    396\u001B[0m \u001B[38;5;28;01mdef\u001B[39;00m \u001B[38;5;21mget_window_extent\u001B[39m(\u001B[38;5;28mself\u001B[39m, renderer\u001B[38;5;241m=\u001B[39m\u001B[38;5;28;01mNone\u001B[39;00m):\n\u001B[0;32m    397\u001B[0m     \u001B[38;5;66;03m# docstring inherited\u001B[39;00m\n\u001B[0;32m    398\u001B[0m     \u001B[38;5;28;01mif\u001B[39;00m renderer \u001B[38;5;129;01mis\u001B[39;00m \u001B[38;5;28;01mNone\u001B[39;00m:\n\u001B[1;32m--> 399\u001B[0m         renderer \u001B[38;5;241m=\u001B[39m \u001B[38;5;28;43mself\u001B[39;49m\u001B[38;5;241;43m.\u001B[39;49m\u001B[43mfigure\u001B[49m\u001B[38;5;241;43m.\u001B[39;49m\u001B[43m_get_renderer\u001B[49m()\n\u001B[0;32m    400\u001B[0m     bbox \u001B[38;5;241m=\u001B[39m \u001B[38;5;28mself\u001B[39m\u001B[38;5;241m.\u001B[39mget_bbox(renderer)\n\u001B[0;32m    401\u001B[0m     \u001B[38;5;28;01mtry\u001B[39;00m:  \u001B[38;5;66;03m# Some subclasses redefine get_offset to take no args.\u001B[39;00m\n",
      "\u001B[1;31mAttributeError\u001B[0m: 'NoneType' object has no attribute '_get_renderer'"
     ]
    },
    {
     "data": {
      "text/plain": [
       "<MNELineFigure size 1000x350 with 2 Axes>"
      ]
     },
     "metadata": {},
     "output_type": "display_data"
    },
    {
     "ename": "AttributeError",
     "evalue": "'NoneType' object has no attribute '_get_renderer'",
     "output_type": "error",
     "traceback": [
      "\u001B[1;31m---------------------------------------------------------------------------\u001B[0m",
      "\u001B[1;31mAttributeError\u001B[0m                            Traceback (most recent call last)",
      "File \u001B[1;32m~\\.conda\\envs\\SP1\\lib\\site-packages\\IPython\\core\\formatters.py:340\u001B[0m, in \u001B[0;36mBaseFormatter.__call__\u001B[1;34m(self, obj)\u001B[0m\n\u001B[0;32m    338\u001B[0m     \u001B[38;5;28;01mpass\u001B[39;00m\n\u001B[0;32m    339\u001B[0m \u001B[38;5;28;01melse\u001B[39;00m:\n\u001B[1;32m--> 340\u001B[0m     \u001B[38;5;28;01mreturn\u001B[39;00m \u001B[43mprinter\u001B[49m\u001B[43m(\u001B[49m\u001B[43mobj\u001B[49m\u001B[43m)\u001B[49m\n\u001B[0;32m    341\u001B[0m \u001B[38;5;66;03m# Finally look for special method names\u001B[39;00m\n\u001B[0;32m    342\u001B[0m method \u001B[38;5;241m=\u001B[39m get_real_method(obj, \u001B[38;5;28mself\u001B[39m\u001B[38;5;241m.\u001B[39mprint_method)\n",
      "File \u001B[1;32m~\\.conda\\envs\\SP1\\lib\\site-packages\\IPython\\core\\pylabtools.py:152\u001B[0m, in \u001B[0;36mprint_figure\u001B[1;34m(fig, fmt, bbox_inches, base64, **kwargs)\u001B[0m\n\u001B[0;32m    149\u001B[0m     \u001B[38;5;28;01mfrom\u001B[39;00m \u001B[38;5;21;01mmatplotlib\u001B[39;00m\u001B[38;5;21;01m.\u001B[39;00m\u001B[38;5;21;01mbackend_bases\u001B[39;00m \u001B[38;5;28;01mimport\u001B[39;00m FigureCanvasBase\n\u001B[0;32m    150\u001B[0m     FigureCanvasBase(fig)\n\u001B[1;32m--> 152\u001B[0m \u001B[43mfig\u001B[49m\u001B[38;5;241;43m.\u001B[39;49m\u001B[43mcanvas\u001B[49m\u001B[38;5;241;43m.\u001B[39;49m\u001B[43mprint_figure\u001B[49m\u001B[43m(\u001B[49m\u001B[43mbytes_io\u001B[49m\u001B[43m,\u001B[49m\u001B[43m \u001B[49m\u001B[38;5;241;43m*\u001B[39;49m\u001B[38;5;241;43m*\u001B[39;49m\u001B[43mkw\u001B[49m\u001B[43m)\u001B[49m\n\u001B[0;32m    153\u001B[0m data \u001B[38;5;241m=\u001B[39m bytes_io\u001B[38;5;241m.\u001B[39mgetvalue()\n\u001B[0;32m    154\u001B[0m \u001B[38;5;28;01mif\u001B[39;00m fmt \u001B[38;5;241m==\u001B[39m \u001B[38;5;124m'\u001B[39m\u001B[38;5;124msvg\u001B[39m\u001B[38;5;124m'\u001B[39m:\n",
      "File \u001B[1;32m~\\.conda\\envs\\SP1\\lib\\site-packages\\matplotlib\\backend_bases.py:2353\u001B[0m, in \u001B[0;36mFigureCanvasBase.print_figure\u001B[1;34m(self, filename, dpi, facecolor, edgecolor, orientation, format, bbox_inches, pad_inches, bbox_extra_artists, backend, **kwargs)\u001B[0m\n\u001B[0;32m   2350\u001B[0m         bbox_inches \u001B[38;5;241m=\u001B[39m bbox_inches\u001B[38;5;241m.\u001B[39mpadded(pad_inches)\n\u001B[0;32m   2352\u001B[0m     \u001B[38;5;66;03m# call adjust_bbox to save only the given area\u001B[39;00m\n\u001B[1;32m-> 2353\u001B[0m     restore_bbox \u001B[38;5;241m=\u001B[39m \u001B[43m_tight_bbox\u001B[49m\u001B[38;5;241;43m.\u001B[39;49m\u001B[43madjust_bbox\u001B[49m\u001B[43m(\u001B[49m\n\u001B[0;32m   2354\u001B[0m \u001B[43m        \u001B[49m\u001B[38;5;28;43mself\u001B[39;49m\u001B[38;5;241;43m.\u001B[39;49m\u001B[43mfigure\u001B[49m\u001B[43m,\u001B[49m\u001B[43m \u001B[49m\u001B[43mbbox_inches\u001B[49m\u001B[43m,\u001B[49m\u001B[43m \u001B[49m\u001B[38;5;28;43mself\u001B[39;49m\u001B[38;5;241;43m.\u001B[39;49m\u001B[43mfigure\u001B[49m\u001B[38;5;241;43m.\u001B[39;49m\u001B[43mcanvas\u001B[49m\u001B[38;5;241;43m.\u001B[39;49m\u001B[43mfixed_dpi\u001B[49m\u001B[43m)\u001B[49m\n\u001B[0;32m   2356\u001B[0m     _bbox_inches_restore \u001B[38;5;241m=\u001B[39m (bbox_inches, restore_bbox)\n\u001B[0;32m   2357\u001B[0m \u001B[38;5;28;01melse\u001B[39;00m:\n",
      "File \u001B[1;32m~\\.conda\\envs\\SP1\\lib\\site-packages\\matplotlib\\_tight_bbox.py:28\u001B[0m, in \u001B[0;36madjust_bbox\u001B[1;34m(fig, bbox_inches, fixed_dpi)\u001B[0m\n\u001B[0;32m     26\u001B[0m locator \u001B[38;5;241m=\u001B[39m ax\u001B[38;5;241m.\u001B[39mget_axes_locator()\n\u001B[0;32m     27\u001B[0m \u001B[38;5;28;01mif\u001B[39;00m locator \u001B[38;5;129;01mis\u001B[39;00m \u001B[38;5;129;01mnot\u001B[39;00m \u001B[38;5;28;01mNone\u001B[39;00m:\n\u001B[1;32m---> 28\u001B[0m     ax\u001B[38;5;241m.\u001B[39mapply_aspect(\u001B[43mlocator\u001B[49m\u001B[43m(\u001B[49m\u001B[43max\u001B[49m\u001B[43m,\u001B[49m\u001B[43m \u001B[49m\u001B[38;5;28;43;01mNone\u001B[39;49;00m\u001B[43m)\u001B[49m)\n\u001B[0;32m     29\u001B[0m locator_list\u001B[38;5;241m.\u001B[39mappend(locator)\n\u001B[0;32m     30\u001B[0m current_pos \u001B[38;5;241m=\u001B[39m ax\u001B[38;5;241m.\u001B[39mget_position(original\u001B[38;5;241m=\u001B[39m\u001B[38;5;28;01mFalse\u001B[39;00m)\u001B[38;5;241m.\u001B[39mfrozen()\n",
      "File \u001B[1;32m~\\.conda\\envs\\SP1\\lib\\site-packages\\mpl_toolkits\\axes_grid1\\inset_locator.py:73\u001B[0m, in \u001B[0;36mAnchoredLocatorBase.__call__\u001B[1;34m(self, ax, renderer)\u001B[0m\n\u001B[0;32m     71\u001B[0m \u001B[38;5;28;01mdef\u001B[39;00m \u001B[38;5;21m__call__\u001B[39m(\u001B[38;5;28mself\u001B[39m, ax, renderer):\n\u001B[0;32m     72\u001B[0m     \u001B[38;5;28mself\u001B[39m\u001B[38;5;241m.\u001B[39maxes \u001B[38;5;241m=\u001B[39m ax\n\u001B[1;32m---> 73\u001B[0m     bbox \u001B[38;5;241m=\u001B[39m \u001B[38;5;28;43mself\u001B[39;49m\u001B[38;5;241;43m.\u001B[39;49m\u001B[43mget_window_extent\u001B[49m\u001B[43m(\u001B[49m\u001B[43mrenderer\u001B[49m\u001B[43m)\u001B[49m\n\u001B[0;32m     74\u001B[0m     px, py \u001B[38;5;241m=\u001B[39m \u001B[38;5;28mself\u001B[39m\u001B[38;5;241m.\u001B[39mget_offset(bbox\u001B[38;5;241m.\u001B[39mwidth, bbox\u001B[38;5;241m.\u001B[39mheight, \u001B[38;5;241m0\u001B[39m, \u001B[38;5;241m0\u001B[39m, renderer)\n\u001B[0;32m     75\u001B[0m     bbox_canvas \u001B[38;5;241m=\u001B[39m Bbox\u001B[38;5;241m.\u001B[39mfrom_bounds(px, py, bbox\u001B[38;5;241m.\u001B[39mwidth, bbox\u001B[38;5;241m.\u001B[39mheight)\n",
      "File \u001B[1;32m~\\.conda\\envs\\SP1\\lib\\site-packages\\matplotlib\\offsetbox.py:399\u001B[0m, in \u001B[0;36mOffsetBox.get_window_extent\u001B[1;34m(self, renderer)\u001B[0m\n\u001B[0;32m    396\u001B[0m \u001B[38;5;28;01mdef\u001B[39;00m \u001B[38;5;21mget_window_extent\u001B[39m(\u001B[38;5;28mself\u001B[39m, renderer\u001B[38;5;241m=\u001B[39m\u001B[38;5;28;01mNone\u001B[39;00m):\n\u001B[0;32m    397\u001B[0m     \u001B[38;5;66;03m# docstring inherited\u001B[39;00m\n\u001B[0;32m    398\u001B[0m     \u001B[38;5;28;01mif\u001B[39;00m renderer \u001B[38;5;129;01mis\u001B[39;00m \u001B[38;5;28;01mNone\u001B[39;00m:\n\u001B[1;32m--> 399\u001B[0m         renderer \u001B[38;5;241m=\u001B[39m \u001B[38;5;28;43mself\u001B[39;49m\u001B[38;5;241;43m.\u001B[39;49m\u001B[43mfigure\u001B[49m\u001B[38;5;241;43m.\u001B[39;49m\u001B[43m_get_renderer\u001B[49m()\n\u001B[0;32m    400\u001B[0m     bbox \u001B[38;5;241m=\u001B[39m \u001B[38;5;28mself\u001B[39m\u001B[38;5;241m.\u001B[39mget_bbox(renderer)\n\u001B[0;32m    401\u001B[0m     \u001B[38;5;28;01mtry\u001B[39;00m:  \u001B[38;5;66;03m# Some subclasses redefine get_offset to take no args.\u001B[39;00m\n",
      "\u001B[1;31mAttributeError\u001B[0m: 'NoneType' object has no attribute '_get_renderer'"
     ]
    },
    {
     "data": {
      "text/plain": [
       "<MNELineFigure size 1000x350 with 2 Axes>"
      ]
     },
     "metadata": {},
     "output_type": "display_data"
    },
    {
     "ename": "AttributeError",
     "evalue": "'NoneType' object has no attribute '_get_renderer'",
     "output_type": "error",
     "traceback": [
      "\u001B[1;31m---------------------------------------------------------------------------\u001B[0m",
      "\u001B[1;31mAttributeError\u001B[0m                            Traceback (most recent call last)",
      "File \u001B[1;32m~\\.conda\\envs\\SP1\\lib\\site-packages\\IPython\\core\\formatters.py:340\u001B[0m, in \u001B[0;36mBaseFormatter.__call__\u001B[1;34m(self, obj)\u001B[0m\n\u001B[0;32m    338\u001B[0m     \u001B[38;5;28;01mpass\u001B[39;00m\n\u001B[0;32m    339\u001B[0m \u001B[38;5;28;01melse\u001B[39;00m:\n\u001B[1;32m--> 340\u001B[0m     \u001B[38;5;28;01mreturn\u001B[39;00m \u001B[43mprinter\u001B[49m\u001B[43m(\u001B[49m\u001B[43mobj\u001B[49m\u001B[43m)\u001B[49m\n\u001B[0;32m    341\u001B[0m \u001B[38;5;66;03m# Finally look for special method names\u001B[39;00m\n\u001B[0;32m    342\u001B[0m method \u001B[38;5;241m=\u001B[39m get_real_method(obj, \u001B[38;5;28mself\u001B[39m\u001B[38;5;241m.\u001B[39mprint_method)\n",
      "File \u001B[1;32m~\\.conda\\envs\\SP1\\lib\\site-packages\\IPython\\core\\pylabtools.py:152\u001B[0m, in \u001B[0;36mprint_figure\u001B[1;34m(fig, fmt, bbox_inches, base64, **kwargs)\u001B[0m\n\u001B[0;32m    149\u001B[0m     \u001B[38;5;28;01mfrom\u001B[39;00m \u001B[38;5;21;01mmatplotlib\u001B[39;00m\u001B[38;5;21;01m.\u001B[39;00m\u001B[38;5;21;01mbackend_bases\u001B[39;00m \u001B[38;5;28;01mimport\u001B[39;00m FigureCanvasBase\n\u001B[0;32m    150\u001B[0m     FigureCanvasBase(fig)\n\u001B[1;32m--> 152\u001B[0m \u001B[43mfig\u001B[49m\u001B[38;5;241;43m.\u001B[39;49m\u001B[43mcanvas\u001B[49m\u001B[38;5;241;43m.\u001B[39;49m\u001B[43mprint_figure\u001B[49m\u001B[43m(\u001B[49m\u001B[43mbytes_io\u001B[49m\u001B[43m,\u001B[49m\u001B[43m \u001B[49m\u001B[38;5;241;43m*\u001B[39;49m\u001B[38;5;241;43m*\u001B[39;49m\u001B[43mkw\u001B[49m\u001B[43m)\u001B[49m\n\u001B[0;32m    153\u001B[0m data \u001B[38;5;241m=\u001B[39m bytes_io\u001B[38;5;241m.\u001B[39mgetvalue()\n\u001B[0;32m    154\u001B[0m \u001B[38;5;28;01mif\u001B[39;00m fmt \u001B[38;5;241m==\u001B[39m \u001B[38;5;124m'\u001B[39m\u001B[38;5;124msvg\u001B[39m\u001B[38;5;124m'\u001B[39m:\n",
      "File \u001B[1;32m~\\.conda\\envs\\SP1\\lib\\site-packages\\matplotlib\\backend_bases.py:2353\u001B[0m, in \u001B[0;36mFigureCanvasBase.print_figure\u001B[1;34m(self, filename, dpi, facecolor, edgecolor, orientation, format, bbox_inches, pad_inches, bbox_extra_artists, backend, **kwargs)\u001B[0m\n\u001B[0;32m   2350\u001B[0m         bbox_inches \u001B[38;5;241m=\u001B[39m bbox_inches\u001B[38;5;241m.\u001B[39mpadded(pad_inches)\n\u001B[0;32m   2352\u001B[0m     \u001B[38;5;66;03m# call adjust_bbox to save only the given area\u001B[39;00m\n\u001B[1;32m-> 2353\u001B[0m     restore_bbox \u001B[38;5;241m=\u001B[39m \u001B[43m_tight_bbox\u001B[49m\u001B[38;5;241;43m.\u001B[39;49m\u001B[43madjust_bbox\u001B[49m\u001B[43m(\u001B[49m\n\u001B[0;32m   2354\u001B[0m \u001B[43m        \u001B[49m\u001B[38;5;28;43mself\u001B[39;49m\u001B[38;5;241;43m.\u001B[39;49m\u001B[43mfigure\u001B[49m\u001B[43m,\u001B[49m\u001B[43m \u001B[49m\u001B[43mbbox_inches\u001B[49m\u001B[43m,\u001B[49m\u001B[43m \u001B[49m\u001B[38;5;28;43mself\u001B[39;49m\u001B[38;5;241;43m.\u001B[39;49m\u001B[43mfigure\u001B[49m\u001B[38;5;241;43m.\u001B[39;49m\u001B[43mcanvas\u001B[49m\u001B[38;5;241;43m.\u001B[39;49m\u001B[43mfixed_dpi\u001B[49m\u001B[43m)\u001B[49m\n\u001B[0;32m   2356\u001B[0m     _bbox_inches_restore \u001B[38;5;241m=\u001B[39m (bbox_inches, restore_bbox)\n\u001B[0;32m   2357\u001B[0m \u001B[38;5;28;01melse\u001B[39;00m:\n",
      "File \u001B[1;32m~\\.conda\\envs\\SP1\\lib\\site-packages\\matplotlib\\_tight_bbox.py:28\u001B[0m, in \u001B[0;36madjust_bbox\u001B[1;34m(fig, bbox_inches, fixed_dpi)\u001B[0m\n\u001B[0;32m     26\u001B[0m locator \u001B[38;5;241m=\u001B[39m ax\u001B[38;5;241m.\u001B[39mget_axes_locator()\n\u001B[0;32m     27\u001B[0m \u001B[38;5;28;01mif\u001B[39;00m locator \u001B[38;5;129;01mis\u001B[39;00m \u001B[38;5;129;01mnot\u001B[39;00m \u001B[38;5;28;01mNone\u001B[39;00m:\n\u001B[1;32m---> 28\u001B[0m     ax\u001B[38;5;241m.\u001B[39mapply_aspect(\u001B[43mlocator\u001B[49m\u001B[43m(\u001B[49m\u001B[43max\u001B[49m\u001B[43m,\u001B[49m\u001B[43m \u001B[49m\u001B[38;5;28;43;01mNone\u001B[39;49;00m\u001B[43m)\u001B[49m)\n\u001B[0;32m     29\u001B[0m locator_list\u001B[38;5;241m.\u001B[39mappend(locator)\n\u001B[0;32m     30\u001B[0m current_pos \u001B[38;5;241m=\u001B[39m ax\u001B[38;5;241m.\u001B[39mget_position(original\u001B[38;5;241m=\u001B[39m\u001B[38;5;28;01mFalse\u001B[39;00m)\u001B[38;5;241m.\u001B[39mfrozen()\n",
      "File \u001B[1;32m~\\.conda\\envs\\SP1\\lib\\site-packages\\mpl_toolkits\\axes_grid1\\inset_locator.py:73\u001B[0m, in \u001B[0;36mAnchoredLocatorBase.__call__\u001B[1;34m(self, ax, renderer)\u001B[0m\n\u001B[0;32m     71\u001B[0m \u001B[38;5;28;01mdef\u001B[39;00m \u001B[38;5;21m__call__\u001B[39m(\u001B[38;5;28mself\u001B[39m, ax, renderer):\n\u001B[0;32m     72\u001B[0m     \u001B[38;5;28mself\u001B[39m\u001B[38;5;241m.\u001B[39maxes \u001B[38;5;241m=\u001B[39m ax\n\u001B[1;32m---> 73\u001B[0m     bbox \u001B[38;5;241m=\u001B[39m \u001B[38;5;28;43mself\u001B[39;49m\u001B[38;5;241;43m.\u001B[39;49m\u001B[43mget_window_extent\u001B[49m\u001B[43m(\u001B[49m\u001B[43mrenderer\u001B[49m\u001B[43m)\u001B[49m\n\u001B[0;32m     74\u001B[0m     px, py \u001B[38;5;241m=\u001B[39m \u001B[38;5;28mself\u001B[39m\u001B[38;5;241m.\u001B[39mget_offset(bbox\u001B[38;5;241m.\u001B[39mwidth, bbox\u001B[38;5;241m.\u001B[39mheight, \u001B[38;5;241m0\u001B[39m, \u001B[38;5;241m0\u001B[39m, renderer)\n\u001B[0;32m     75\u001B[0m     bbox_canvas \u001B[38;5;241m=\u001B[39m Bbox\u001B[38;5;241m.\u001B[39mfrom_bounds(px, py, bbox\u001B[38;5;241m.\u001B[39mwidth, bbox\u001B[38;5;241m.\u001B[39mheight)\n",
      "File \u001B[1;32m~\\.conda\\envs\\SP1\\lib\\site-packages\\matplotlib\\offsetbox.py:399\u001B[0m, in \u001B[0;36mOffsetBox.get_window_extent\u001B[1;34m(self, renderer)\u001B[0m\n\u001B[0;32m    396\u001B[0m \u001B[38;5;28;01mdef\u001B[39;00m \u001B[38;5;21mget_window_extent\u001B[39m(\u001B[38;5;28mself\u001B[39m, renderer\u001B[38;5;241m=\u001B[39m\u001B[38;5;28;01mNone\u001B[39;00m):\n\u001B[0;32m    397\u001B[0m     \u001B[38;5;66;03m# docstring inherited\u001B[39;00m\n\u001B[0;32m    398\u001B[0m     \u001B[38;5;28;01mif\u001B[39;00m renderer \u001B[38;5;129;01mis\u001B[39;00m \u001B[38;5;28;01mNone\u001B[39;00m:\n\u001B[1;32m--> 399\u001B[0m         renderer \u001B[38;5;241m=\u001B[39m \u001B[38;5;28;43mself\u001B[39;49m\u001B[38;5;241;43m.\u001B[39;49m\u001B[43mfigure\u001B[49m\u001B[38;5;241;43m.\u001B[39;49m\u001B[43m_get_renderer\u001B[49m()\n\u001B[0;32m    400\u001B[0m     bbox \u001B[38;5;241m=\u001B[39m \u001B[38;5;28mself\u001B[39m\u001B[38;5;241m.\u001B[39mget_bbox(renderer)\n\u001B[0;32m    401\u001B[0m     \u001B[38;5;28;01mtry\u001B[39;00m:  \u001B[38;5;66;03m# Some subclasses redefine get_offset to take no args.\u001B[39;00m\n",
      "\u001B[1;31mAttributeError\u001B[0m: 'NoneType' object has no attribute '_get_renderer'"
     ]
    },
    {
     "data": {
      "text/plain": [
       "<MNELineFigure size 1000x350 with 2 Axes>"
      ]
     },
     "metadata": {},
     "output_type": "display_data"
    }
   ],
   "execution_count": 6
  },
  {
   "metadata": {
    "ExecuteTime": {
     "end_time": "2024-12-18T14:13:20.114644Z",
     "start_time": "2024-12-18T14:08:13.159190Z"
    }
   },
   "cell_type": "code",
   "source": [
    "p8_train_ress_raw = ress_pipeline(p8_epochs_train, p8_train, target_freq_map={1: 12, 2:20}, fwhm_signal=0.6, fwhm_reference=1.0,\n",
    "                                              tmin=0.0, tmax=3.0, shrinkage=0.01, output_dir= './Image/RESS_matrix', title_prefix=\"p8_train_raw\")\n",
    "p8_test_ress_raw = ress_pipeline(p8_epochs_test, p8_test, target_freq_map={1: 12, 2:20}, fwhm_signal=0.6, fwhm_reference=1.0,\n",
    "                                             tmin=0.0, tmax=3.0, shrinkage=0.01, output_dir= './Image/RESS_matrix', title_prefix=\"p8_test_raw\")\n",
    "\n",
    "p7_train_ress_raw = ress_pipeline(p7_epochs_train, p7_train, target_freq_map={1: 12, 2:20}, fwhm_signal=0.6, fwhm_reference=1.0,\n",
    "                                              tmin=0.0, tmax=3.0, shrinkage=0.01, output_dir= './Image/RESS_matrix', title_prefix=\"p7_train_raw\")\n",
    "p7_test_ress_raw = ress_pipeline(p7_epochs_test, p7_test, target_freq_map={1: 12, 2:20}, fwhm_signal=0.6, fwhm_reference=1.0,\n",
    "                                 tmin=0.0, tmax=3.0, shrinkage=0.01, output_dir= './Image/RESS_matrix', title_prefix=\"p7_test_raw\")\n",
    "\n",
    "p6_train_ress_raw = ress_pipeline(p6_epochs_train, p6_train, target_freq_map={1: 12, 2:20}, fwhm_signal=0.6, fwhm_reference=1.0,\n",
    "                                              tmin=0.0, tmax=3.0, shrinkage=0.01, output_dir= './Image/RESS_matrix', title_prefix=\"p6_train_raw\")\n",
    "p6_test_ress_raw = ress_pipeline(p6_epochs_test, p6_test, target_freq_map={1: 12, 2:20}, fwhm_signal=0.6, fwhm_reference=1.0,\n",
    "                                 tmin=0.0, tmax=3.0, shrinkage=0.01, output_dir= './Image/RESS_matrix', title_prefix=\"p6_test_raw\")\n",
    "\n",
    "adr_train_ress_raw = ress_pipeline(adr_epochs_train, adr_train, target_freq_map={1: 40, 2:48}, fwhm_signal=0.6, fwhm_reference=1.0,\n",
    "                                               tmin=0.0, tmax=3.0, shrinkage=0.01, output_dir= './Image/RESS_matrix', title_prefix=\"adr_train_raw\")\n",
    "adr_test_ress_raw = ress_pipeline(adr_epochs_test, adr_test, target_freq_map={1: 40, 2:48}, fwhm_signal=0.6, fwhm_reference=1.0,\n",
    "                                  tmin=0.0, tmax=3.0, shrinkage=0.01, output_dir= './Image/RESS_matrix', title_prefix=\"adr_test_raw\")"
   ],
   "id": "4b4d28c67a3a687",
   "outputs": [
    {
     "name": "stdout",
     "output_type": "stream",
     "text": [
      "Effective window size : 2.000 (s)\n",
      "Averaging across epochs...\n",
      "Processing Frequency ID: 1 -> Target Frequency: 12 Hz\n",
      "NOTE: pick_channels() is a legacy function. New code should use inst.pick(...).\n",
      "Finished processing Frequency ID: 1 -> 12 Hz\n",
      "Processing Frequency ID: 2 -> Target Frequency: 20 Hz\n",
      "NOTE: pick_channels() is a legacy function. New code should use inst.pick(...).\n",
      "Finished processing Frequency ID: 2 -> 20 Hz\n",
      "RESS pipeline completed for all target frequencies.\n",
      "Effective window size : 2.000 (s)\n",
      "Averaging across epochs...\n",
      "Processing Frequency ID: 2 -> Target Frequency: 20 Hz\n",
      "NOTE: pick_channels() is a legacy function. New code should use inst.pick(...).\n",
      "Finished processing Frequency ID: 2 -> 20 Hz\n",
      "Processing Frequency ID: 1 -> Target Frequency: 12 Hz\n",
      "NOTE: pick_channels() is a legacy function. New code should use inst.pick(...).\n",
      "Finished processing Frequency ID: 1 -> 12 Hz\n",
      "RESS pipeline completed for all target frequencies.\n",
      "Effective window size : 2.000 (s)\n",
      "Averaging across epochs...\n",
      "Processing Frequency ID: 2 -> Target Frequency: 20 Hz\n",
      "NOTE: pick_channels() is a legacy function. New code should use inst.pick(...).\n",
      "Finished processing Frequency ID: 2 -> 20 Hz\n",
      "Processing Frequency ID: 1 -> Target Frequency: 12 Hz\n",
      "NOTE: pick_channels() is a legacy function. New code should use inst.pick(...).\n",
      "Finished processing Frequency ID: 1 -> 12 Hz\n",
      "RESS pipeline completed for all target frequencies.\n",
      "Effective window size : 2.000 (s)\n",
      "Averaging across epochs...\n",
      "Processing Frequency ID: 1 -> Target Frequency: 12 Hz\n",
      "NOTE: pick_channels() is a legacy function. New code should use inst.pick(...).\n",
      "Finished processing Frequency ID: 1 -> 12 Hz\n",
      "Processing Frequency ID: 2 -> Target Frequency: 20 Hz\n",
      "NOTE: pick_channels() is a legacy function. New code should use inst.pick(...).\n",
      "Finished processing Frequency ID: 2 -> 20 Hz\n",
      "RESS pipeline completed for all target frequencies.\n",
      "Effective window size : 2.000 (s)\n",
      "Averaging across epochs...\n",
      "Processing Frequency ID: 2 -> Target Frequency: 20 Hz\n",
      "NOTE: pick_channels() is a legacy function. New code should use inst.pick(...).\n",
      "Finished processing Frequency ID: 2 -> 20 Hz\n",
      "Processing Frequency ID: 1 -> Target Frequency: 12 Hz\n",
      "NOTE: pick_channels() is a legacy function. New code should use inst.pick(...).\n",
      "Finished processing Frequency ID: 1 -> 12 Hz\n",
      "RESS pipeline completed for all target frequencies.\n",
      "Effective window size : 2.000 (s)\n",
      "Averaging across epochs...\n",
      "Processing Frequency ID: 2 -> Target Frequency: 20 Hz\n",
      "NOTE: pick_channels() is a legacy function. New code should use inst.pick(...).\n",
      "Finished processing Frequency ID: 2 -> 20 Hz\n",
      "Processing Frequency ID: 1 -> Target Frequency: 12 Hz\n",
      "NOTE: pick_channels() is a legacy function. New code should use inst.pick(...).\n",
      "Finished processing Frequency ID: 1 -> 12 Hz\n",
      "RESS pipeline completed for all target frequencies.\n",
      "Effective window size : 3.000 (s)\n",
      "Averaging across epochs...\n",
      "Processing Frequency ID: 2 -> Target Frequency: 48 Hz\n",
      "NOTE: pick_channels() is a legacy function. New code should use inst.pick(...).\n",
      "Finished processing Frequency ID: 2 -> 48 Hz\n",
      "Processing Frequency ID: 1 -> Target Frequency: 40 Hz\n",
      "NOTE: pick_channels() is a legacy function. New code should use inst.pick(...).\n",
      "Finished processing Frequency ID: 1 -> 40 Hz\n",
      "RESS pipeline completed for all target frequencies.\n",
      "Effective window size : 3.000 (s)\n",
      "Averaging across epochs...\n",
      "Processing Frequency ID: 1 -> Target Frequency: 40 Hz\n",
      "NOTE: pick_channels() is a legacy function. New code should use inst.pick(...).\n",
      "Finished processing Frequency ID: 1 -> 40 Hz\n",
      "Processing Frequency ID: 2 -> Target Frequency: 48 Hz\n",
      "NOTE: pick_channels() is a legacy function. New code should use inst.pick(...).\n",
      "Finished processing Frequency ID: 2 -> 48 Hz\n",
      "RESS pipeline completed for all target frequencies.\n"
     ]
    },
    {
     "ename": "AttributeError",
     "evalue": "'NoneType' object has no attribute '_get_renderer'",
     "output_type": "error",
     "traceback": [
      "\u001B[1;31m---------------------------------------------------------------------------\u001B[0m",
      "\u001B[1;31mAttributeError\u001B[0m                            Traceback (most recent call last)",
      "File \u001B[1;32m~\\.conda\\envs\\SP1\\lib\\site-packages\\IPython\\core\\formatters.py:340\u001B[0m, in \u001B[0;36mBaseFormatter.__call__\u001B[1;34m(self, obj)\u001B[0m\n\u001B[0;32m    338\u001B[0m     \u001B[38;5;28;01mpass\u001B[39;00m\n\u001B[0;32m    339\u001B[0m \u001B[38;5;28;01melse\u001B[39;00m:\n\u001B[1;32m--> 340\u001B[0m     \u001B[38;5;28;01mreturn\u001B[39;00m \u001B[43mprinter\u001B[49m\u001B[43m(\u001B[49m\u001B[43mobj\u001B[49m\u001B[43m)\u001B[49m\n\u001B[0;32m    341\u001B[0m \u001B[38;5;66;03m# Finally look for special method names\u001B[39;00m\n\u001B[0;32m    342\u001B[0m method \u001B[38;5;241m=\u001B[39m get_real_method(obj, \u001B[38;5;28mself\u001B[39m\u001B[38;5;241m.\u001B[39mprint_method)\n",
      "File \u001B[1;32m~\\.conda\\envs\\SP1\\lib\\site-packages\\IPython\\core\\pylabtools.py:152\u001B[0m, in \u001B[0;36mprint_figure\u001B[1;34m(fig, fmt, bbox_inches, base64, **kwargs)\u001B[0m\n\u001B[0;32m    149\u001B[0m     \u001B[38;5;28;01mfrom\u001B[39;00m \u001B[38;5;21;01mmatplotlib\u001B[39;00m\u001B[38;5;21;01m.\u001B[39;00m\u001B[38;5;21;01mbackend_bases\u001B[39;00m \u001B[38;5;28;01mimport\u001B[39;00m FigureCanvasBase\n\u001B[0;32m    150\u001B[0m     FigureCanvasBase(fig)\n\u001B[1;32m--> 152\u001B[0m \u001B[43mfig\u001B[49m\u001B[38;5;241;43m.\u001B[39;49m\u001B[43mcanvas\u001B[49m\u001B[38;5;241;43m.\u001B[39;49m\u001B[43mprint_figure\u001B[49m\u001B[43m(\u001B[49m\u001B[43mbytes_io\u001B[49m\u001B[43m,\u001B[49m\u001B[43m \u001B[49m\u001B[38;5;241;43m*\u001B[39;49m\u001B[38;5;241;43m*\u001B[39;49m\u001B[43mkw\u001B[49m\u001B[43m)\u001B[49m\n\u001B[0;32m    153\u001B[0m data \u001B[38;5;241m=\u001B[39m bytes_io\u001B[38;5;241m.\u001B[39mgetvalue()\n\u001B[0;32m    154\u001B[0m \u001B[38;5;28;01mif\u001B[39;00m fmt \u001B[38;5;241m==\u001B[39m \u001B[38;5;124m'\u001B[39m\u001B[38;5;124msvg\u001B[39m\u001B[38;5;124m'\u001B[39m:\n",
      "File \u001B[1;32m~\\.conda\\envs\\SP1\\lib\\site-packages\\matplotlib\\backend_bases.py:2353\u001B[0m, in \u001B[0;36mFigureCanvasBase.print_figure\u001B[1;34m(self, filename, dpi, facecolor, edgecolor, orientation, format, bbox_inches, pad_inches, bbox_extra_artists, backend, **kwargs)\u001B[0m\n\u001B[0;32m   2350\u001B[0m         bbox_inches \u001B[38;5;241m=\u001B[39m bbox_inches\u001B[38;5;241m.\u001B[39mpadded(pad_inches)\n\u001B[0;32m   2352\u001B[0m     \u001B[38;5;66;03m# call adjust_bbox to save only the given area\u001B[39;00m\n\u001B[1;32m-> 2353\u001B[0m     restore_bbox \u001B[38;5;241m=\u001B[39m \u001B[43m_tight_bbox\u001B[49m\u001B[38;5;241;43m.\u001B[39;49m\u001B[43madjust_bbox\u001B[49m\u001B[43m(\u001B[49m\n\u001B[0;32m   2354\u001B[0m \u001B[43m        \u001B[49m\u001B[38;5;28;43mself\u001B[39;49m\u001B[38;5;241;43m.\u001B[39;49m\u001B[43mfigure\u001B[49m\u001B[43m,\u001B[49m\u001B[43m \u001B[49m\u001B[43mbbox_inches\u001B[49m\u001B[43m,\u001B[49m\u001B[43m \u001B[49m\u001B[38;5;28;43mself\u001B[39;49m\u001B[38;5;241;43m.\u001B[39;49m\u001B[43mfigure\u001B[49m\u001B[38;5;241;43m.\u001B[39;49m\u001B[43mcanvas\u001B[49m\u001B[38;5;241;43m.\u001B[39;49m\u001B[43mfixed_dpi\u001B[49m\u001B[43m)\u001B[49m\n\u001B[0;32m   2356\u001B[0m     _bbox_inches_restore \u001B[38;5;241m=\u001B[39m (bbox_inches, restore_bbox)\n\u001B[0;32m   2357\u001B[0m \u001B[38;5;28;01melse\u001B[39;00m:\n",
      "File \u001B[1;32m~\\.conda\\envs\\SP1\\lib\\site-packages\\matplotlib\\_tight_bbox.py:28\u001B[0m, in \u001B[0;36madjust_bbox\u001B[1;34m(fig, bbox_inches, fixed_dpi)\u001B[0m\n\u001B[0;32m     26\u001B[0m locator \u001B[38;5;241m=\u001B[39m ax\u001B[38;5;241m.\u001B[39mget_axes_locator()\n\u001B[0;32m     27\u001B[0m \u001B[38;5;28;01mif\u001B[39;00m locator \u001B[38;5;129;01mis\u001B[39;00m \u001B[38;5;129;01mnot\u001B[39;00m \u001B[38;5;28;01mNone\u001B[39;00m:\n\u001B[1;32m---> 28\u001B[0m     ax\u001B[38;5;241m.\u001B[39mapply_aspect(\u001B[43mlocator\u001B[49m\u001B[43m(\u001B[49m\u001B[43max\u001B[49m\u001B[43m,\u001B[49m\u001B[43m \u001B[49m\u001B[38;5;28;43;01mNone\u001B[39;49;00m\u001B[43m)\u001B[49m)\n\u001B[0;32m     29\u001B[0m locator_list\u001B[38;5;241m.\u001B[39mappend(locator)\n\u001B[0;32m     30\u001B[0m current_pos \u001B[38;5;241m=\u001B[39m ax\u001B[38;5;241m.\u001B[39mget_position(original\u001B[38;5;241m=\u001B[39m\u001B[38;5;28;01mFalse\u001B[39;00m)\u001B[38;5;241m.\u001B[39mfrozen()\n",
      "File \u001B[1;32m~\\.conda\\envs\\SP1\\lib\\site-packages\\mpl_toolkits\\axes_grid1\\inset_locator.py:73\u001B[0m, in \u001B[0;36mAnchoredLocatorBase.__call__\u001B[1;34m(self, ax, renderer)\u001B[0m\n\u001B[0;32m     71\u001B[0m \u001B[38;5;28;01mdef\u001B[39;00m \u001B[38;5;21m__call__\u001B[39m(\u001B[38;5;28mself\u001B[39m, ax, renderer):\n\u001B[0;32m     72\u001B[0m     \u001B[38;5;28mself\u001B[39m\u001B[38;5;241m.\u001B[39maxes \u001B[38;5;241m=\u001B[39m ax\n\u001B[1;32m---> 73\u001B[0m     bbox \u001B[38;5;241m=\u001B[39m \u001B[38;5;28;43mself\u001B[39;49m\u001B[38;5;241;43m.\u001B[39;49m\u001B[43mget_window_extent\u001B[49m\u001B[43m(\u001B[49m\u001B[43mrenderer\u001B[49m\u001B[43m)\u001B[49m\n\u001B[0;32m     74\u001B[0m     px, py \u001B[38;5;241m=\u001B[39m \u001B[38;5;28mself\u001B[39m\u001B[38;5;241m.\u001B[39mget_offset(bbox\u001B[38;5;241m.\u001B[39mwidth, bbox\u001B[38;5;241m.\u001B[39mheight, \u001B[38;5;241m0\u001B[39m, \u001B[38;5;241m0\u001B[39m, renderer)\n\u001B[0;32m     75\u001B[0m     bbox_canvas \u001B[38;5;241m=\u001B[39m Bbox\u001B[38;5;241m.\u001B[39mfrom_bounds(px, py, bbox\u001B[38;5;241m.\u001B[39mwidth, bbox\u001B[38;5;241m.\u001B[39mheight)\n",
      "File \u001B[1;32m~\\.conda\\envs\\SP1\\lib\\site-packages\\matplotlib\\offsetbox.py:399\u001B[0m, in \u001B[0;36mOffsetBox.get_window_extent\u001B[1;34m(self, renderer)\u001B[0m\n\u001B[0;32m    396\u001B[0m \u001B[38;5;28;01mdef\u001B[39;00m \u001B[38;5;21mget_window_extent\u001B[39m(\u001B[38;5;28mself\u001B[39m, renderer\u001B[38;5;241m=\u001B[39m\u001B[38;5;28;01mNone\u001B[39;00m):\n\u001B[0;32m    397\u001B[0m     \u001B[38;5;66;03m# docstring inherited\u001B[39;00m\n\u001B[0;32m    398\u001B[0m     \u001B[38;5;28;01mif\u001B[39;00m renderer \u001B[38;5;129;01mis\u001B[39;00m \u001B[38;5;28;01mNone\u001B[39;00m:\n\u001B[1;32m--> 399\u001B[0m         renderer \u001B[38;5;241m=\u001B[39m \u001B[38;5;28;43mself\u001B[39;49m\u001B[38;5;241;43m.\u001B[39;49m\u001B[43mfigure\u001B[49m\u001B[38;5;241;43m.\u001B[39;49m\u001B[43m_get_renderer\u001B[49m()\n\u001B[0;32m    400\u001B[0m     bbox \u001B[38;5;241m=\u001B[39m \u001B[38;5;28mself\u001B[39m\u001B[38;5;241m.\u001B[39mget_bbox(renderer)\n\u001B[0;32m    401\u001B[0m     \u001B[38;5;28;01mtry\u001B[39;00m:  \u001B[38;5;66;03m# Some subclasses redefine get_offset to take no args.\u001B[39;00m\n",
      "\u001B[1;31mAttributeError\u001B[0m: 'NoneType' object has no attribute '_get_renderer'"
     ]
    },
    {
     "data": {
      "text/plain": [
       "<MNELineFigure size 1000x350 with 2 Axes>"
      ]
     },
     "metadata": {},
     "output_type": "display_data"
    },
    {
     "ename": "AttributeError",
     "evalue": "'NoneType' object has no attribute '_get_renderer'",
     "output_type": "error",
     "traceback": [
      "\u001B[1;31m---------------------------------------------------------------------------\u001B[0m",
      "\u001B[1;31mAttributeError\u001B[0m                            Traceback (most recent call last)",
      "File \u001B[1;32m~\\.conda\\envs\\SP1\\lib\\site-packages\\IPython\\core\\formatters.py:340\u001B[0m, in \u001B[0;36mBaseFormatter.__call__\u001B[1;34m(self, obj)\u001B[0m\n\u001B[0;32m    338\u001B[0m     \u001B[38;5;28;01mpass\u001B[39;00m\n\u001B[0;32m    339\u001B[0m \u001B[38;5;28;01melse\u001B[39;00m:\n\u001B[1;32m--> 340\u001B[0m     \u001B[38;5;28;01mreturn\u001B[39;00m \u001B[43mprinter\u001B[49m\u001B[43m(\u001B[49m\u001B[43mobj\u001B[49m\u001B[43m)\u001B[49m\n\u001B[0;32m    341\u001B[0m \u001B[38;5;66;03m# Finally look for special method names\u001B[39;00m\n\u001B[0;32m    342\u001B[0m method \u001B[38;5;241m=\u001B[39m get_real_method(obj, \u001B[38;5;28mself\u001B[39m\u001B[38;5;241m.\u001B[39mprint_method)\n",
      "File \u001B[1;32m~\\.conda\\envs\\SP1\\lib\\site-packages\\IPython\\core\\pylabtools.py:152\u001B[0m, in \u001B[0;36mprint_figure\u001B[1;34m(fig, fmt, bbox_inches, base64, **kwargs)\u001B[0m\n\u001B[0;32m    149\u001B[0m     \u001B[38;5;28;01mfrom\u001B[39;00m \u001B[38;5;21;01mmatplotlib\u001B[39;00m\u001B[38;5;21;01m.\u001B[39;00m\u001B[38;5;21;01mbackend_bases\u001B[39;00m \u001B[38;5;28;01mimport\u001B[39;00m FigureCanvasBase\n\u001B[0;32m    150\u001B[0m     FigureCanvasBase(fig)\n\u001B[1;32m--> 152\u001B[0m \u001B[43mfig\u001B[49m\u001B[38;5;241;43m.\u001B[39;49m\u001B[43mcanvas\u001B[49m\u001B[38;5;241;43m.\u001B[39;49m\u001B[43mprint_figure\u001B[49m\u001B[43m(\u001B[49m\u001B[43mbytes_io\u001B[49m\u001B[43m,\u001B[49m\u001B[43m \u001B[49m\u001B[38;5;241;43m*\u001B[39;49m\u001B[38;5;241;43m*\u001B[39;49m\u001B[43mkw\u001B[49m\u001B[43m)\u001B[49m\n\u001B[0;32m    153\u001B[0m data \u001B[38;5;241m=\u001B[39m bytes_io\u001B[38;5;241m.\u001B[39mgetvalue()\n\u001B[0;32m    154\u001B[0m \u001B[38;5;28;01mif\u001B[39;00m fmt \u001B[38;5;241m==\u001B[39m \u001B[38;5;124m'\u001B[39m\u001B[38;5;124msvg\u001B[39m\u001B[38;5;124m'\u001B[39m:\n",
      "File \u001B[1;32m~\\.conda\\envs\\SP1\\lib\\site-packages\\matplotlib\\backend_bases.py:2353\u001B[0m, in \u001B[0;36mFigureCanvasBase.print_figure\u001B[1;34m(self, filename, dpi, facecolor, edgecolor, orientation, format, bbox_inches, pad_inches, bbox_extra_artists, backend, **kwargs)\u001B[0m\n\u001B[0;32m   2350\u001B[0m         bbox_inches \u001B[38;5;241m=\u001B[39m bbox_inches\u001B[38;5;241m.\u001B[39mpadded(pad_inches)\n\u001B[0;32m   2352\u001B[0m     \u001B[38;5;66;03m# call adjust_bbox to save only the given area\u001B[39;00m\n\u001B[1;32m-> 2353\u001B[0m     restore_bbox \u001B[38;5;241m=\u001B[39m \u001B[43m_tight_bbox\u001B[49m\u001B[38;5;241;43m.\u001B[39;49m\u001B[43madjust_bbox\u001B[49m\u001B[43m(\u001B[49m\n\u001B[0;32m   2354\u001B[0m \u001B[43m        \u001B[49m\u001B[38;5;28;43mself\u001B[39;49m\u001B[38;5;241;43m.\u001B[39;49m\u001B[43mfigure\u001B[49m\u001B[43m,\u001B[49m\u001B[43m \u001B[49m\u001B[43mbbox_inches\u001B[49m\u001B[43m,\u001B[49m\u001B[43m \u001B[49m\u001B[38;5;28;43mself\u001B[39;49m\u001B[38;5;241;43m.\u001B[39;49m\u001B[43mfigure\u001B[49m\u001B[38;5;241;43m.\u001B[39;49m\u001B[43mcanvas\u001B[49m\u001B[38;5;241;43m.\u001B[39;49m\u001B[43mfixed_dpi\u001B[49m\u001B[43m)\u001B[49m\n\u001B[0;32m   2356\u001B[0m     _bbox_inches_restore \u001B[38;5;241m=\u001B[39m (bbox_inches, restore_bbox)\n\u001B[0;32m   2357\u001B[0m \u001B[38;5;28;01melse\u001B[39;00m:\n",
      "File \u001B[1;32m~\\.conda\\envs\\SP1\\lib\\site-packages\\matplotlib\\_tight_bbox.py:28\u001B[0m, in \u001B[0;36madjust_bbox\u001B[1;34m(fig, bbox_inches, fixed_dpi)\u001B[0m\n\u001B[0;32m     26\u001B[0m locator \u001B[38;5;241m=\u001B[39m ax\u001B[38;5;241m.\u001B[39mget_axes_locator()\n\u001B[0;32m     27\u001B[0m \u001B[38;5;28;01mif\u001B[39;00m locator \u001B[38;5;129;01mis\u001B[39;00m \u001B[38;5;129;01mnot\u001B[39;00m \u001B[38;5;28;01mNone\u001B[39;00m:\n\u001B[1;32m---> 28\u001B[0m     ax\u001B[38;5;241m.\u001B[39mapply_aspect(\u001B[43mlocator\u001B[49m\u001B[43m(\u001B[49m\u001B[43max\u001B[49m\u001B[43m,\u001B[49m\u001B[43m \u001B[49m\u001B[38;5;28;43;01mNone\u001B[39;49;00m\u001B[43m)\u001B[49m)\n\u001B[0;32m     29\u001B[0m locator_list\u001B[38;5;241m.\u001B[39mappend(locator)\n\u001B[0;32m     30\u001B[0m current_pos \u001B[38;5;241m=\u001B[39m ax\u001B[38;5;241m.\u001B[39mget_position(original\u001B[38;5;241m=\u001B[39m\u001B[38;5;28;01mFalse\u001B[39;00m)\u001B[38;5;241m.\u001B[39mfrozen()\n",
      "File \u001B[1;32m~\\.conda\\envs\\SP1\\lib\\site-packages\\mpl_toolkits\\axes_grid1\\inset_locator.py:73\u001B[0m, in \u001B[0;36mAnchoredLocatorBase.__call__\u001B[1;34m(self, ax, renderer)\u001B[0m\n\u001B[0;32m     71\u001B[0m \u001B[38;5;28;01mdef\u001B[39;00m \u001B[38;5;21m__call__\u001B[39m(\u001B[38;5;28mself\u001B[39m, ax, renderer):\n\u001B[0;32m     72\u001B[0m     \u001B[38;5;28mself\u001B[39m\u001B[38;5;241m.\u001B[39maxes \u001B[38;5;241m=\u001B[39m ax\n\u001B[1;32m---> 73\u001B[0m     bbox \u001B[38;5;241m=\u001B[39m \u001B[38;5;28;43mself\u001B[39;49m\u001B[38;5;241;43m.\u001B[39;49m\u001B[43mget_window_extent\u001B[49m\u001B[43m(\u001B[49m\u001B[43mrenderer\u001B[49m\u001B[43m)\u001B[49m\n\u001B[0;32m     74\u001B[0m     px, py \u001B[38;5;241m=\u001B[39m \u001B[38;5;28mself\u001B[39m\u001B[38;5;241m.\u001B[39mget_offset(bbox\u001B[38;5;241m.\u001B[39mwidth, bbox\u001B[38;5;241m.\u001B[39mheight, \u001B[38;5;241m0\u001B[39m, \u001B[38;5;241m0\u001B[39m, renderer)\n\u001B[0;32m     75\u001B[0m     bbox_canvas \u001B[38;5;241m=\u001B[39m Bbox\u001B[38;5;241m.\u001B[39mfrom_bounds(px, py, bbox\u001B[38;5;241m.\u001B[39mwidth, bbox\u001B[38;5;241m.\u001B[39mheight)\n",
      "File \u001B[1;32m~\\.conda\\envs\\SP1\\lib\\site-packages\\matplotlib\\offsetbox.py:399\u001B[0m, in \u001B[0;36mOffsetBox.get_window_extent\u001B[1;34m(self, renderer)\u001B[0m\n\u001B[0;32m    396\u001B[0m \u001B[38;5;28;01mdef\u001B[39;00m \u001B[38;5;21mget_window_extent\u001B[39m(\u001B[38;5;28mself\u001B[39m, renderer\u001B[38;5;241m=\u001B[39m\u001B[38;5;28;01mNone\u001B[39;00m):\n\u001B[0;32m    397\u001B[0m     \u001B[38;5;66;03m# docstring inherited\u001B[39;00m\n\u001B[0;32m    398\u001B[0m     \u001B[38;5;28;01mif\u001B[39;00m renderer \u001B[38;5;129;01mis\u001B[39;00m \u001B[38;5;28;01mNone\u001B[39;00m:\n\u001B[1;32m--> 399\u001B[0m         renderer \u001B[38;5;241m=\u001B[39m \u001B[38;5;28;43mself\u001B[39;49m\u001B[38;5;241;43m.\u001B[39;49m\u001B[43mfigure\u001B[49m\u001B[38;5;241;43m.\u001B[39;49m\u001B[43m_get_renderer\u001B[49m()\n\u001B[0;32m    400\u001B[0m     bbox \u001B[38;5;241m=\u001B[39m \u001B[38;5;28mself\u001B[39m\u001B[38;5;241m.\u001B[39mget_bbox(renderer)\n\u001B[0;32m    401\u001B[0m     \u001B[38;5;28;01mtry\u001B[39;00m:  \u001B[38;5;66;03m# Some subclasses redefine get_offset to take no args.\u001B[39;00m\n",
      "\u001B[1;31mAttributeError\u001B[0m: 'NoneType' object has no attribute '_get_renderer'"
     ]
    },
    {
     "data": {
      "text/plain": [
       "<MNELineFigure size 1000x350 with 2 Axes>"
      ]
     },
     "metadata": {},
     "output_type": "display_data"
    },
    {
     "ename": "AttributeError",
     "evalue": "'NoneType' object has no attribute '_get_renderer'",
     "output_type": "error",
     "traceback": [
      "\u001B[1;31m---------------------------------------------------------------------------\u001B[0m",
      "\u001B[1;31mAttributeError\u001B[0m                            Traceback (most recent call last)",
      "File \u001B[1;32m~\\.conda\\envs\\SP1\\lib\\site-packages\\IPython\\core\\formatters.py:340\u001B[0m, in \u001B[0;36mBaseFormatter.__call__\u001B[1;34m(self, obj)\u001B[0m\n\u001B[0;32m    338\u001B[0m     \u001B[38;5;28;01mpass\u001B[39;00m\n\u001B[0;32m    339\u001B[0m \u001B[38;5;28;01melse\u001B[39;00m:\n\u001B[1;32m--> 340\u001B[0m     \u001B[38;5;28;01mreturn\u001B[39;00m \u001B[43mprinter\u001B[49m\u001B[43m(\u001B[49m\u001B[43mobj\u001B[49m\u001B[43m)\u001B[49m\n\u001B[0;32m    341\u001B[0m \u001B[38;5;66;03m# Finally look for special method names\u001B[39;00m\n\u001B[0;32m    342\u001B[0m method \u001B[38;5;241m=\u001B[39m get_real_method(obj, \u001B[38;5;28mself\u001B[39m\u001B[38;5;241m.\u001B[39mprint_method)\n",
      "File \u001B[1;32m~\\.conda\\envs\\SP1\\lib\\site-packages\\IPython\\core\\pylabtools.py:152\u001B[0m, in \u001B[0;36mprint_figure\u001B[1;34m(fig, fmt, bbox_inches, base64, **kwargs)\u001B[0m\n\u001B[0;32m    149\u001B[0m     \u001B[38;5;28;01mfrom\u001B[39;00m \u001B[38;5;21;01mmatplotlib\u001B[39;00m\u001B[38;5;21;01m.\u001B[39;00m\u001B[38;5;21;01mbackend_bases\u001B[39;00m \u001B[38;5;28;01mimport\u001B[39;00m FigureCanvasBase\n\u001B[0;32m    150\u001B[0m     FigureCanvasBase(fig)\n\u001B[1;32m--> 152\u001B[0m \u001B[43mfig\u001B[49m\u001B[38;5;241;43m.\u001B[39;49m\u001B[43mcanvas\u001B[49m\u001B[38;5;241;43m.\u001B[39;49m\u001B[43mprint_figure\u001B[49m\u001B[43m(\u001B[49m\u001B[43mbytes_io\u001B[49m\u001B[43m,\u001B[49m\u001B[43m \u001B[49m\u001B[38;5;241;43m*\u001B[39;49m\u001B[38;5;241;43m*\u001B[39;49m\u001B[43mkw\u001B[49m\u001B[43m)\u001B[49m\n\u001B[0;32m    153\u001B[0m data \u001B[38;5;241m=\u001B[39m bytes_io\u001B[38;5;241m.\u001B[39mgetvalue()\n\u001B[0;32m    154\u001B[0m \u001B[38;5;28;01mif\u001B[39;00m fmt \u001B[38;5;241m==\u001B[39m \u001B[38;5;124m'\u001B[39m\u001B[38;5;124msvg\u001B[39m\u001B[38;5;124m'\u001B[39m:\n",
      "File \u001B[1;32m~\\.conda\\envs\\SP1\\lib\\site-packages\\matplotlib\\backend_bases.py:2353\u001B[0m, in \u001B[0;36mFigureCanvasBase.print_figure\u001B[1;34m(self, filename, dpi, facecolor, edgecolor, orientation, format, bbox_inches, pad_inches, bbox_extra_artists, backend, **kwargs)\u001B[0m\n\u001B[0;32m   2350\u001B[0m         bbox_inches \u001B[38;5;241m=\u001B[39m bbox_inches\u001B[38;5;241m.\u001B[39mpadded(pad_inches)\n\u001B[0;32m   2352\u001B[0m     \u001B[38;5;66;03m# call adjust_bbox to save only the given area\u001B[39;00m\n\u001B[1;32m-> 2353\u001B[0m     restore_bbox \u001B[38;5;241m=\u001B[39m \u001B[43m_tight_bbox\u001B[49m\u001B[38;5;241;43m.\u001B[39;49m\u001B[43madjust_bbox\u001B[49m\u001B[43m(\u001B[49m\n\u001B[0;32m   2354\u001B[0m \u001B[43m        \u001B[49m\u001B[38;5;28;43mself\u001B[39;49m\u001B[38;5;241;43m.\u001B[39;49m\u001B[43mfigure\u001B[49m\u001B[43m,\u001B[49m\u001B[43m \u001B[49m\u001B[43mbbox_inches\u001B[49m\u001B[43m,\u001B[49m\u001B[43m \u001B[49m\u001B[38;5;28;43mself\u001B[39;49m\u001B[38;5;241;43m.\u001B[39;49m\u001B[43mfigure\u001B[49m\u001B[38;5;241;43m.\u001B[39;49m\u001B[43mcanvas\u001B[49m\u001B[38;5;241;43m.\u001B[39;49m\u001B[43mfixed_dpi\u001B[49m\u001B[43m)\u001B[49m\n\u001B[0;32m   2356\u001B[0m     _bbox_inches_restore \u001B[38;5;241m=\u001B[39m (bbox_inches, restore_bbox)\n\u001B[0;32m   2357\u001B[0m \u001B[38;5;28;01melse\u001B[39;00m:\n",
      "File \u001B[1;32m~\\.conda\\envs\\SP1\\lib\\site-packages\\matplotlib\\_tight_bbox.py:28\u001B[0m, in \u001B[0;36madjust_bbox\u001B[1;34m(fig, bbox_inches, fixed_dpi)\u001B[0m\n\u001B[0;32m     26\u001B[0m locator \u001B[38;5;241m=\u001B[39m ax\u001B[38;5;241m.\u001B[39mget_axes_locator()\n\u001B[0;32m     27\u001B[0m \u001B[38;5;28;01mif\u001B[39;00m locator \u001B[38;5;129;01mis\u001B[39;00m \u001B[38;5;129;01mnot\u001B[39;00m \u001B[38;5;28;01mNone\u001B[39;00m:\n\u001B[1;32m---> 28\u001B[0m     ax\u001B[38;5;241m.\u001B[39mapply_aspect(\u001B[43mlocator\u001B[49m\u001B[43m(\u001B[49m\u001B[43max\u001B[49m\u001B[43m,\u001B[49m\u001B[43m \u001B[49m\u001B[38;5;28;43;01mNone\u001B[39;49;00m\u001B[43m)\u001B[49m)\n\u001B[0;32m     29\u001B[0m locator_list\u001B[38;5;241m.\u001B[39mappend(locator)\n\u001B[0;32m     30\u001B[0m current_pos \u001B[38;5;241m=\u001B[39m ax\u001B[38;5;241m.\u001B[39mget_position(original\u001B[38;5;241m=\u001B[39m\u001B[38;5;28;01mFalse\u001B[39;00m)\u001B[38;5;241m.\u001B[39mfrozen()\n",
      "File \u001B[1;32m~\\.conda\\envs\\SP1\\lib\\site-packages\\mpl_toolkits\\axes_grid1\\inset_locator.py:73\u001B[0m, in \u001B[0;36mAnchoredLocatorBase.__call__\u001B[1;34m(self, ax, renderer)\u001B[0m\n\u001B[0;32m     71\u001B[0m \u001B[38;5;28;01mdef\u001B[39;00m \u001B[38;5;21m__call__\u001B[39m(\u001B[38;5;28mself\u001B[39m, ax, renderer):\n\u001B[0;32m     72\u001B[0m     \u001B[38;5;28mself\u001B[39m\u001B[38;5;241m.\u001B[39maxes \u001B[38;5;241m=\u001B[39m ax\n\u001B[1;32m---> 73\u001B[0m     bbox \u001B[38;5;241m=\u001B[39m \u001B[38;5;28;43mself\u001B[39;49m\u001B[38;5;241;43m.\u001B[39;49m\u001B[43mget_window_extent\u001B[49m\u001B[43m(\u001B[49m\u001B[43mrenderer\u001B[49m\u001B[43m)\u001B[49m\n\u001B[0;32m     74\u001B[0m     px, py \u001B[38;5;241m=\u001B[39m \u001B[38;5;28mself\u001B[39m\u001B[38;5;241m.\u001B[39mget_offset(bbox\u001B[38;5;241m.\u001B[39mwidth, bbox\u001B[38;5;241m.\u001B[39mheight, \u001B[38;5;241m0\u001B[39m, \u001B[38;5;241m0\u001B[39m, renderer)\n\u001B[0;32m     75\u001B[0m     bbox_canvas \u001B[38;5;241m=\u001B[39m Bbox\u001B[38;5;241m.\u001B[39mfrom_bounds(px, py, bbox\u001B[38;5;241m.\u001B[39mwidth, bbox\u001B[38;5;241m.\u001B[39mheight)\n",
      "File \u001B[1;32m~\\.conda\\envs\\SP1\\lib\\site-packages\\matplotlib\\offsetbox.py:399\u001B[0m, in \u001B[0;36mOffsetBox.get_window_extent\u001B[1;34m(self, renderer)\u001B[0m\n\u001B[0;32m    396\u001B[0m \u001B[38;5;28;01mdef\u001B[39;00m \u001B[38;5;21mget_window_extent\u001B[39m(\u001B[38;5;28mself\u001B[39m, renderer\u001B[38;5;241m=\u001B[39m\u001B[38;5;28;01mNone\u001B[39;00m):\n\u001B[0;32m    397\u001B[0m     \u001B[38;5;66;03m# docstring inherited\u001B[39;00m\n\u001B[0;32m    398\u001B[0m     \u001B[38;5;28;01mif\u001B[39;00m renderer \u001B[38;5;129;01mis\u001B[39;00m \u001B[38;5;28;01mNone\u001B[39;00m:\n\u001B[1;32m--> 399\u001B[0m         renderer \u001B[38;5;241m=\u001B[39m \u001B[38;5;28;43mself\u001B[39;49m\u001B[38;5;241;43m.\u001B[39;49m\u001B[43mfigure\u001B[49m\u001B[38;5;241;43m.\u001B[39;49m\u001B[43m_get_renderer\u001B[49m()\n\u001B[0;32m    400\u001B[0m     bbox \u001B[38;5;241m=\u001B[39m \u001B[38;5;28mself\u001B[39m\u001B[38;5;241m.\u001B[39mget_bbox(renderer)\n\u001B[0;32m    401\u001B[0m     \u001B[38;5;28;01mtry\u001B[39;00m:  \u001B[38;5;66;03m# Some subclasses redefine get_offset to take no args.\u001B[39;00m\n",
      "\u001B[1;31mAttributeError\u001B[0m: 'NoneType' object has no attribute '_get_renderer'"
     ]
    },
    {
     "data": {
      "text/plain": [
       "<MNELineFigure size 1000x350 with 2 Axes>"
      ]
     },
     "metadata": {},
     "output_type": "display_data"
    },
    {
     "ename": "AttributeError",
     "evalue": "'NoneType' object has no attribute '_get_renderer'",
     "output_type": "error",
     "traceback": [
      "\u001B[1;31m---------------------------------------------------------------------------\u001B[0m",
      "\u001B[1;31mAttributeError\u001B[0m                            Traceback (most recent call last)",
      "File \u001B[1;32m~\\.conda\\envs\\SP1\\lib\\site-packages\\IPython\\core\\formatters.py:340\u001B[0m, in \u001B[0;36mBaseFormatter.__call__\u001B[1;34m(self, obj)\u001B[0m\n\u001B[0;32m    338\u001B[0m     \u001B[38;5;28;01mpass\u001B[39;00m\n\u001B[0;32m    339\u001B[0m \u001B[38;5;28;01melse\u001B[39;00m:\n\u001B[1;32m--> 340\u001B[0m     \u001B[38;5;28;01mreturn\u001B[39;00m \u001B[43mprinter\u001B[49m\u001B[43m(\u001B[49m\u001B[43mobj\u001B[49m\u001B[43m)\u001B[49m\n\u001B[0;32m    341\u001B[0m \u001B[38;5;66;03m# Finally look for special method names\u001B[39;00m\n\u001B[0;32m    342\u001B[0m method \u001B[38;5;241m=\u001B[39m get_real_method(obj, \u001B[38;5;28mself\u001B[39m\u001B[38;5;241m.\u001B[39mprint_method)\n",
      "File \u001B[1;32m~\\.conda\\envs\\SP1\\lib\\site-packages\\IPython\\core\\pylabtools.py:152\u001B[0m, in \u001B[0;36mprint_figure\u001B[1;34m(fig, fmt, bbox_inches, base64, **kwargs)\u001B[0m\n\u001B[0;32m    149\u001B[0m     \u001B[38;5;28;01mfrom\u001B[39;00m \u001B[38;5;21;01mmatplotlib\u001B[39;00m\u001B[38;5;21;01m.\u001B[39;00m\u001B[38;5;21;01mbackend_bases\u001B[39;00m \u001B[38;5;28;01mimport\u001B[39;00m FigureCanvasBase\n\u001B[0;32m    150\u001B[0m     FigureCanvasBase(fig)\n\u001B[1;32m--> 152\u001B[0m \u001B[43mfig\u001B[49m\u001B[38;5;241;43m.\u001B[39;49m\u001B[43mcanvas\u001B[49m\u001B[38;5;241;43m.\u001B[39;49m\u001B[43mprint_figure\u001B[49m\u001B[43m(\u001B[49m\u001B[43mbytes_io\u001B[49m\u001B[43m,\u001B[49m\u001B[43m \u001B[49m\u001B[38;5;241;43m*\u001B[39;49m\u001B[38;5;241;43m*\u001B[39;49m\u001B[43mkw\u001B[49m\u001B[43m)\u001B[49m\n\u001B[0;32m    153\u001B[0m data \u001B[38;5;241m=\u001B[39m bytes_io\u001B[38;5;241m.\u001B[39mgetvalue()\n\u001B[0;32m    154\u001B[0m \u001B[38;5;28;01mif\u001B[39;00m fmt \u001B[38;5;241m==\u001B[39m \u001B[38;5;124m'\u001B[39m\u001B[38;5;124msvg\u001B[39m\u001B[38;5;124m'\u001B[39m:\n",
      "File \u001B[1;32m~\\.conda\\envs\\SP1\\lib\\site-packages\\matplotlib\\backend_bases.py:2353\u001B[0m, in \u001B[0;36mFigureCanvasBase.print_figure\u001B[1;34m(self, filename, dpi, facecolor, edgecolor, orientation, format, bbox_inches, pad_inches, bbox_extra_artists, backend, **kwargs)\u001B[0m\n\u001B[0;32m   2350\u001B[0m         bbox_inches \u001B[38;5;241m=\u001B[39m bbox_inches\u001B[38;5;241m.\u001B[39mpadded(pad_inches)\n\u001B[0;32m   2352\u001B[0m     \u001B[38;5;66;03m# call adjust_bbox to save only the given area\u001B[39;00m\n\u001B[1;32m-> 2353\u001B[0m     restore_bbox \u001B[38;5;241m=\u001B[39m \u001B[43m_tight_bbox\u001B[49m\u001B[38;5;241;43m.\u001B[39;49m\u001B[43madjust_bbox\u001B[49m\u001B[43m(\u001B[49m\n\u001B[0;32m   2354\u001B[0m \u001B[43m        \u001B[49m\u001B[38;5;28;43mself\u001B[39;49m\u001B[38;5;241;43m.\u001B[39;49m\u001B[43mfigure\u001B[49m\u001B[43m,\u001B[49m\u001B[43m \u001B[49m\u001B[43mbbox_inches\u001B[49m\u001B[43m,\u001B[49m\u001B[43m \u001B[49m\u001B[38;5;28;43mself\u001B[39;49m\u001B[38;5;241;43m.\u001B[39;49m\u001B[43mfigure\u001B[49m\u001B[38;5;241;43m.\u001B[39;49m\u001B[43mcanvas\u001B[49m\u001B[38;5;241;43m.\u001B[39;49m\u001B[43mfixed_dpi\u001B[49m\u001B[43m)\u001B[49m\n\u001B[0;32m   2356\u001B[0m     _bbox_inches_restore \u001B[38;5;241m=\u001B[39m (bbox_inches, restore_bbox)\n\u001B[0;32m   2357\u001B[0m \u001B[38;5;28;01melse\u001B[39;00m:\n",
      "File \u001B[1;32m~\\.conda\\envs\\SP1\\lib\\site-packages\\matplotlib\\_tight_bbox.py:28\u001B[0m, in \u001B[0;36madjust_bbox\u001B[1;34m(fig, bbox_inches, fixed_dpi)\u001B[0m\n\u001B[0;32m     26\u001B[0m locator \u001B[38;5;241m=\u001B[39m ax\u001B[38;5;241m.\u001B[39mget_axes_locator()\n\u001B[0;32m     27\u001B[0m \u001B[38;5;28;01mif\u001B[39;00m locator \u001B[38;5;129;01mis\u001B[39;00m \u001B[38;5;129;01mnot\u001B[39;00m \u001B[38;5;28;01mNone\u001B[39;00m:\n\u001B[1;32m---> 28\u001B[0m     ax\u001B[38;5;241m.\u001B[39mapply_aspect(\u001B[43mlocator\u001B[49m\u001B[43m(\u001B[49m\u001B[43max\u001B[49m\u001B[43m,\u001B[49m\u001B[43m \u001B[49m\u001B[38;5;28;43;01mNone\u001B[39;49;00m\u001B[43m)\u001B[49m)\n\u001B[0;32m     29\u001B[0m locator_list\u001B[38;5;241m.\u001B[39mappend(locator)\n\u001B[0;32m     30\u001B[0m current_pos \u001B[38;5;241m=\u001B[39m ax\u001B[38;5;241m.\u001B[39mget_position(original\u001B[38;5;241m=\u001B[39m\u001B[38;5;28;01mFalse\u001B[39;00m)\u001B[38;5;241m.\u001B[39mfrozen()\n",
      "File \u001B[1;32m~\\.conda\\envs\\SP1\\lib\\site-packages\\mpl_toolkits\\axes_grid1\\inset_locator.py:73\u001B[0m, in \u001B[0;36mAnchoredLocatorBase.__call__\u001B[1;34m(self, ax, renderer)\u001B[0m\n\u001B[0;32m     71\u001B[0m \u001B[38;5;28;01mdef\u001B[39;00m \u001B[38;5;21m__call__\u001B[39m(\u001B[38;5;28mself\u001B[39m, ax, renderer):\n\u001B[0;32m     72\u001B[0m     \u001B[38;5;28mself\u001B[39m\u001B[38;5;241m.\u001B[39maxes \u001B[38;5;241m=\u001B[39m ax\n\u001B[1;32m---> 73\u001B[0m     bbox \u001B[38;5;241m=\u001B[39m \u001B[38;5;28;43mself\u001B[39;49m\u001B[38;5;241;43m.\u001B[39;49m\u001B[43mget_window_extent\u001B[49m\u001B[43m(\u001B[49m\u001B[43mrenderer\u001B[49m\u001B[43m)\u001B[49m\n\u001B[0;32m     74\u001B[0m     px, py \u001B[38;5;241m=\u001B[39m \u001B[38;5;28mself\u001B[39m\u001B[38;5;241m.\u001B[39mget_offset(bbox\u001B[38;5;241m.\u001B[39mwidth, bbox\u001B[38;5;241m.\u001B[39mheight, \u001B[38;5;241m0\u001B[39m, \u001B[38;5;241m0\u001B[39m, renderer)\n\u001B[0;32m     75\u001B[0m     bbox_canvas \u001B[38;5;241m=\u001B[39m Bbox\u001B[38;5;241m.\u001B[39mfrom_bounds(px, py, bbox\u001B[38;5;241m.\u001B[39mwidth, bbox\u001B[38;5;241m.\u001B[39mheight)\n",
      "File \u001B[1;32m~\\.conda\\envs\\SP1\\lib\\site-packages\\matplotlib\\offsetbox.py:399\u001B[0m, in \u001B[0;36mOffsetBox.get_window_extent\u001B[1;34m(self, renderer)\u001B[0m\n\u001B[0;32m    396\u001B[0m \u001B[38;5;28;01mdef\u001B[39;00m \u001B[38;5;21mget_window_extent\u001B[39m(\u001B[38;5;28mself\u001B[39m, renderer\u001B[38;5;241m=\u001B[39m\u001B[38;5;28;01mNone\u001B[39;00m):\n\u001B[0;32m    397\u001B[0m     \u001B[38;5;66;03m# docstring inherited\u001B[39;00m\n\u001B[0;32m    398\u001B[0m     \u001B[38;5;28;01mif\u001B[39;00m renderer \u001B[38;5;129;01mis\u001B[39;00m \u001B[38;5;28;01mNone\u001B[39;00m:\n\u001B[1;32m--> 399\u001B[0m         renderer \u001B[38;5;241m=\u001B[39m \u001B[38;5;28;43mself\u001B[39;49m\u001B[38;5;241;43m.\u001B[39;49m\u001B[43mfigure\u001B[49m\u001B[38;5;241;43m.\u001B[39;49m\u001B[43m_get_renderer\u001B[49m()\n\u001B[0;32m    400\u001B[0m     bbox \u001B[38;5;241m=\u001B[39m \u001B[38;5;28mself\u001B[39m\u001B[38;5;241m.\u001B[39mget_bbox(renderer)\n\u001B[0;32m    401\u001B[0m     \u001B[38;5;28;01mtry\u001B[39;00m:  \u001B[38;5;66;03m# Some subclasses redefine get_offset to take no args.\u001B[39;00m\n",
      "\u001B[1;31mAttributeError\u001B[0m: 'NoneType' object has no attribute '_get_renderer'"
     ]
    },
    {
     "data": {
      "text/plain": [
       "<MNELineFigure size 1000x350 with 2 Axes>"
      ]
     },
     "metadata": {},
     "output_type": "display_data"
    },
    {
     "ename": "AttributeError",
     "evalue": "'NoneType' object has no attribute '_get_renderer'",
     "output_type": "error",
     "traceback": [
      "\u001B[1;31m---------------------------------------------------------------------------\u001B[0m",
      "\u001B[1;31mAttributeError\u001B[0m                            Traceback (most recent call last)",
      "File \u001B[1;32m~\\.conda\\envs\\SP1\\lib\\site-packages\\IPython\\core\\formatters.py:340\u001B[0m, in \u001B[0;36mBaseFormatter.__call__\u001B[1;34m(self, obj)\u001B[0m\n\u001B[0;32m    338\u001B[0m     \u001B[38;5;28;01mpass\u001B[39;00m\n\u001B[0;32m    339\u001B[0m \u001B[38;5;28;01melse\u001B[39;00m:\n\u001B[1;32m--> 340\u001B[0m     \u001B[38;5;28;01mreturn\u001B[39;00m \u001B[43mprinter\u001B[49m\u001B[43m(\u001B[49m\u001B[43mobj\u001B[49m\u001B[43m)\u001B[49m\n\u001B[0;32m    341\u001B[0m \u001B[38;5;66;03m# Finally look for special method names\u001B[39;00m\n\u001B[0;32m    342\u001B[0m method \u001B[38;5;241m=\u001B[39m get_real_method(obj, \u001B[38;5;28mself\u001B[39m\u001B[38;5;241m.\u001B[39mprint_method)\n",
      "File \u001B[1;32m~\\.conda\\envs\\SP1\\lib\\site-packages\\IPython\\core\\pylabtools.py:152\u001B[0m, in \u001B[0;36mprint_figure\u001B[1;34m(fig, fmt, bbox_inches, base64, **kwargs)\u001B[0m\n\u001B[0;32m    149\u001B[0m     \u001B[38;5;28;01mfrom\u001B[39;00m \u001B[38;5;21;01mmatplotlib\u001B[39;00m\u001B[38;5;21;01m.\u001B[39;00m\u001B[38;5;21;01mbackend_bases\u001B[39;00m \u001B[38;5;28;01mimport\u001B[39;00m FigureCanvasBase\n\u001B[0;32m    150\u001B[0m     FigureCanvasBase(fig)\n\u001B[1;32m--> 152\u001B[0m \u001B[43mfig\u001B[49m\u001B[38;5;241;43m.\u001B[39;49m\u001B[43mcanvas\u001B[49m\u001B[38;5;241;43m.\u001B[39;49m\u001B[43mprint_figure\u001B[49m\u001B[43m(\u001B[49m\u001B[43mbytes_io\u001B[49m\u001B[43m,\u001B[49m\u001B[43m \u001B[49m\u001B[38;5;241;43m*\u001B[39;49m\u001B[38;5;241;43m*\u001B[39;49m\u001B[43mkw\u001B[49m\u001B[43m)\u001B[49m\n\u001B[0;32m    153\u001B[0m data \u001B[38;5;241m=\u001B[39m bytes_io\u001B[38;5;241m.\u001B[39mgetvalue()\n\u001B[0;32m    154\u001B[0m \u001B[38;5;28;01mif\u001B[39;00m fmt \u001B[38;5;241m==\u001B[39m \u001B[38;5;124m'\u001B[39m\u001B[38;5;124msvg\u001B[39m\u001B[38;5;124m'\u001B[39m:\n",
      "File \u001B[1;32m~\\.conda\\envs\\SP1\\lib\\site-packages\\matplotlib\\backend_bases.py:2353\u001B[0m, in \u001B[0;36mFigureCanvasBase.print_figure\u001B[1;34m(self, filename, dpi, facecolor, edgecolor, orientation, format, bbox_inches, pad_inches, bbox_extra_artists, backend, **kwargs)\u001B[0m\n\u001B[0;32m   2350\u001B[0m         bbox_inches \u001B[38;5;241m=\u001B[39m bbox_inches\u001B[38;5;241m.\u001B[39mpadded(pad_inches)\n\u001B[0;32m   2352\u001B[0m     \u001B[38;5;66;03m# call adjust_bbox to save only the given area\u001B[39;00m\n\u001B[1;32m-> 2353\u001B[0m     restore_bbox \u001B[38;5;241m=\u001B[39m \u001B[43m_tight_bbox\u001B[49m\u001B[38;5;241;43m.\u001B[39;49m\u001B[43madjust_bbox\u001B[49m\u001B[43m(\u001B[49m\n\u001B[0;32m   2354\u001B[0m \u001B[43m        \u001B[49m\u001B[38;5;28;43mself\u001B[39;49m\u001B[38;5;241;43m.\u001B[39;49m\u001B[43mfigure\u001B[49m\u001B[43m,\u001B[49m\u001B[43m \u001B[49m\u001B[43mbbox_inches\u001B[49m\u001B[43m,\u001B[49m\u001B[43m \u001B[49m\u001B[38;5;28;43mself\u001B[39;49m\u001B[38;5;241;43m.\u001B[39;49m\u001B[43mfigure\u001B[49m\u001B[38;5;241;43m.\u001B[39;49m\u001B[43mcanvas\u001B[49m\u001B[38;5;241;43m.\u001B[39;49m\u001B[43mfixed_dpi\u001B[49m\u001B[43m)\u001B[49m\n\u001B[0;32m   2356\u001B[0m     _bbox_inches_restore \u001B[38;5;241m=\u001B[39m (bbox_inches, restore_bbox)\n\u001B[0;32m   2357\u001B[0m \u001B[38;5;28;01melse\u001B[39;00m:\n",
      "File \u001B[1;32m~\\.conda\\envs\\SP1\\lib\\site-packages\\matplotlib\\_tight_bbox.py:28\u001B[0m, in \u001B[0;36madjust_bbox\u001B[1;34m(fig, bbox_inches, fixed_dpi)\u001B[0m\n\u001B[0;32m     26\u001B[0m locator \u001B[38;5;241m=\u001B[39m ax\u001B[38;5;241m.\u001B[39mget_axes_locator()\n\u001B[0;32m     27\u001B[0m \u001B[38;5;28;01mif\u001B[39;00m locator \u001B[38;5;129;01mis\u001B[39;00m \u001B[38;5;129;01mnot\u001B[39;00m \u001B[38;5;28;01mNone\u001B[39;00m:\n\u001B[1;32m---> 28\u001B[0m     ax\u001B[38;5;241m.\u001B[39mapply_aspect(\u001B[43mlocator\u001B[49m\u001B[43m(\u001B[49m\u001B[43max\u001B[49m\u001B[43m,\u001B[49m\u001B[43m \u001B[49m\u001B[38;5;28;43;01mNone\u001B[39;49;00m\u001B[43m)\u001B[49m)\n\u001B[0;32m     29\u001B[0m locator_list\u001B[38;5;241m.\u001B[39mappend(locator)\n\u001B[0;32m     30\u001B[0m current_pos \u001B[38;5;241m=\u001B[39m ax\u001B[38;5;241m.\u001B[39mget_position(original\u001B[38;5;241m=\u001B[39m\u001B[38;5;28;01mFalse\u001B[39;00m)\u001B[38;5;241m.\u001B[39mfrozen()\n",
      "File \u001B[1;32m~\\.conda\\envs\\SP1\\lib\\site-packages\\mpl_toolkits\\axes_grid1\\inset_locator.py:73\u001B[0m, in \u001B[0;36mAnchoredLocatorBase.__call__\u001B[1;34m(self, ax, renderer)\u001B[0m\n\u001B[0;32m     71\u001B[0m \u001B[38;5;28;01mdef\u001B[39;00m \u001B[38;5;21m__call__\u001B[39m(\u001B[38;5;28mself\u001B[39m, ax, renderer):\n\u001B[0;32m     72\u001B[0m     \u001B[38;5;28mself\u001B[39m\u001B[38;5;241m.\u001B[39maxes \u001B[38;5;241m=\u001B[39m ax\n\u001B[1;32m---> 73\u001B[0m     bbox \u001B[38;5;241m=\u001B[39m \u001B[38;5;28;43mself\u001B[39;49m\u001B[38;5;241;43m.\u001B[39;49m\u001B[43mget_window_extent\u001B[49m\u001B[43m(\u001B[49m\u001B[43mrenderer\u001B[49m\u001B[43m)\u001B[49m\n\u001B[0;32m     74\u001B[0m     px, py \u001B[38;5;241m=\u001B[39m \u001B[38;5;28mself\u001B[39m\u001B[38;5;241m.\u001B[39mget_offset(bbox\u001B[38;5;241m.\u001B[39mwidth, bbox\u001B[38;5;241m.\u001B[39mheight, \u001B[38;5;241m0\u001B[39m, \u001B[38;5;241m0\u001B[39m, renderer)\n\u001B[0;32m     75\u001B[0m     bbox_canvas \u001B[38;5;241m=\u001B[39m Bbox\u001B[38;5;241m.\u001B[39mfrom_bounds(px, py, bbox\u001B[38;5;241m.\u001B[39mwidth, bbox\u001B[38;5;241m.\u001B[39mheight)\n",
      "File \u001B[1;32m~\\.conda\\envs\\SP1\\lib\\site-packages\\matplotlib\\offsetbox.py:399\u001B[0m, in \u001B[0;36mOffsetBox.get_window_extent\u001B[1;34m(self, renderer)\u001B[0m\n\u001B[0;32m    396\u001B[0m \u001B[38;5;28;01mdef\u001B[39;00m \u001B[38;5;21mget_window_extent\u001B[39m(\u001B[38;5;28mself\u001B[39m, renderer\u001B[38;5;241m=\u001B[39m\u001B[38;5;28;01mNone\u001B[39;00m):\n\u001B[0;32m    397\u001B[0m     \u001B[38;5;66;03m# docstring inherited\u001B[39;00m\n\u001B[0;32m    398\u001B[0m     \u001B[38;5;28;01mif\u001B[39;00m renderer \u001B[38;5;129;01mis\u001B[39;00m \u001B[38;5;28;01mNone\u001B[39;00m:\n\u001B[1;32m--> 399\u001B[0m         renderer \u001B[38;5;241m=\u001B[39m \u001B[38;5;28;43mself\u001B[39;49m\u001B[38;5;241;43m.\u001B[39;49m\u001B[43mfigure\u001B[49m\u001B[38;5;241;43m.\u001B[39;49m\u001B[43m_get_renderer\u001B[49m()\n\u001B[0;32m    400\u001B[0m     bbox \u001B[38;5;241m=\u001B[39m \u001B[38;5;28mself\u001B[39m\u001B[38;5;241m.\u001B[39mget_bbox(renderer)\n\u001B[0;32m    401\u001B[0m     \u001B[38;5;28;01mtry\u001B[39;00m:  \u001B[38;5;66;03m# Some subclasses redefine get_offset to take no args.\u001B[39;00m\n",
      "\u001B[1;31mAttributeError\u001B[0m: 'NoneType' object has no attribute '_get_renderer'"
     ]
    },
    {
     "data": {
      "text/plain": [
       "<MNELineFigure size 1000x350 with 2 Axes>"
      ]
     },
     "metadata": {},
     "output_type": "display_data"
    },
    {
     "ename": "AttributeError",
     "evalue": "'NoneType' object has no attribute '_get_renderer'",
     "output_type": "error",
     "traceback": [
      "\u001B[1;31m---------------------------------------------------------------------------\u001B[0m",
      "\u001B[1;31mAttributeError\u001B[0m                            Traceback (most recent call last)",
      "File \u001B[1;32m~\\.conda\\envs\\SP1\\lib\\site-packages\\IPython\\core\\formatters.py:340\u001B[0m, in \u001B[0;36mBaseFormatter.__call__\u001B[1;34m(self, obj)\u001B[0m\n\u001B[0;32m    338\u001B[0m     \u001B[38;5;28;01mpass\u001B[39;00m\n\u001B[0;32m    339\u001B[0m \u001B[38;5;28;01melse\u001B[39;00m:\n\u001B[1;32m--> 340\u001B[0m     \u001B[38;5;28;01mreturn\u001B[39;00m \u001B[43mprinter\u001B[49m\u001B[43m(\u001B[49m\u001B[43mobj\u001B[49m\u001B[43m)\u001B[49m\n\u001B[0;32m    341\u001B[0m \u001B[38;5;66;03m# Finally look for special method names\u001B[39;00m\n\u001B[0;32m    342\u001B[0m method \u001B[38;5;241m=\u001B[39m get_real_method(obj, \u001B[38;5;28mself\u001B[39m\u001B[38;5;241m.\u001B[39mprint_method)\n",
      "File \u001B[1;32m~\\.conda\\envs\\SP1\\lib\\site-packages\\IPython\\core\\pylabtools.py:152\u001B[0m, in \u001B[0;36mprint_figure\u001B[1;34m(fig, fmt, bbox_inches, base64, **kwargs)\u001B[0m\n\u001B[0;32m    149\u001B[0m     \u001B[38;5;28;01mfrom\u001B[39;00m \u001B[38;5;21;01mmatplotlib\u001B[39;00m\u001B[38;5;21;01m.\u001B[39;00m\u001B[38;5;21;01mbackend_bases\u001B[39;00m \u001B[38;5;28;01mimport\u001B[39;00m FigureCanvasBase\n\u001B[0;32m    150\u001B[0m     FigureCanvasBase(fig)\n\u001B[1;32m--> 152\u001B[0m \u001B[43mfig\u001B[49m\u001B[38;5;241;43m.\u001B[39;49m\u001B[43mcanvas\u001B[49m\u001B[38;5;241;43m.\u001B[39;49m\u001B[43mprint_figure\u001B[49m\u001B[43m(\u001B[49m\u001B[43mbytes_io\u001B[49m\u001B[43m,\u001B[49m\u001B[43m \u001B[49m\u001B[38;5;241;43m*\u001B[39;49m\u001B[38;5;241;43m*\u001B[39;49m\u001B[43mkw\u001B[49m\u001B[43m)\u001B[49m\n\u001B[0;32m    153\u001B[0m data \u001B[38;5;241m=\u001B[39m bytes_io\u001B[38;5;241m.\u001B[39mgetvalue()\n\u001B[0;32m    154\u001B[0m \u001B[38;5;28;01mif\u001B[39;00m fmt \u001B[38;5;241m==\u001B[39m \u001B[38;5;124m'\u001B[39m\u001B[38;5;124msvg\u001B[39m\u001B[38;5;124m'\u001B[39m:\n",
      "File \u001B[1;32m~\\.conda\\envs\\SP1\\lib\\site-packages\\matplotlib\\backend_bases.py:2353\u001B[0m, in \u001B[0;36mFigureCanvasBase.print_figure\u001B[1;34m(self, filename, dpi, facecolor, edgecolor, orientation, format, bbox_inches, pad_inches, bbox_extra_artists, backend, **kwargs)\u001B[0m\n\u001B[0;32m   2350\u001B[0m         bbox_inches \u001B[38;5;241m=\u001B[39m bbox_inches\u001B[38;5;241m.\u001B[39mpadded(pad_inches)\n\u001B[0;32m   2352\u001B[0m     \u001B[38;5;66;03m# call adjust_bbox to save only the given area\u001B[39;00m\n\u001B[1;32m-> 2353\u001B[0m     restore_bbox \u001B[38;5;241m=\u001B[39m \u001B[43m_tight_bbox\u001B[49m\u001B[38;5;241;43m.\u001B[39;49m\u001B[43madjust_bbox\u001B[49m\u001B[43m(\u001B[49m\n\u001B[0;32m   2354\u001B[0m \u001B[43m        \u001B[49m\u001B[38;5;28;43mself\u001B[39;49m\u001B[38;5;241;43m.\u001B[39;49m\u001B[43mfigure\u001B[49m\u001B[43m,\u001B[49m\u001B[43m \u001B[49m\u001B[43mbbox_inches\u001B[49m\u001B[43m,\u001B[49m\u001B[43m \u001B[49m\u001B[38;5;28;43mself\u001B[39;49m\u001B[38;5;241;43m.\u001B[39;49m\u001B[43mfigure\u001B[49m\u001B[38;5;241;43m.\u001B[39;49m\u001B[43mcanvas\u001B[49m\u001B[38;5;241;43m.\u001B[39;49m\u001B[43mfixed_dpi\u001B[49m\u001B[43m)\u001B[49m\n\u001B[0;32m   2356\u001B[0m     _bbox_inches_restore \u001B[38;5;241m=\u001B[39m (bbox_inches, restore_bbox)\n\u001B[0;32m   2357\u001B[0m \u001B[38;5;28;01melse\u001B[39;00m:\n",
      "File \u001B[1;32m~\\.conda\\envs\\SP1\\lib\\site-packages\\matplotlib\\_tight_bbox.py:28\u001B[0m, in \u001B[0;36madjust_bbox\u001B[1;34m(fig, bbox_inches, fixed_dpi)\u001B[0m\n\u001B[0;32m     26\u001B[0m locator \u001B[38;5;241m=\u001B[39m ax\u001B[38;5;241m.\u001B[39mget_axes_locator()\n\u001B[0;32m     27\u001B[0m \u001B[38;5;28;01mif\u001B[39;00m locator \u001B[38;5;129;01mis\u001B[39;00m \u001B[38;5;129;01mnot\u001B[39;00m \u001B[38;5;28;01mNone\u001B[39;00m:\n\u001B[1;32m---> 28\u001B[0m     ax\u001B[38;5;241m.\u001B[39mapply_aspect(\u001B[43mlocator\u001B[49m\u001B[43m(\u001B[49m\u001B[43max\u001B[49m\u001B[43m,\u001B[49m\u001B[43m \u001B[49m\u001B[38;5;28;43;01mNone\u001B[39;49;00m\u001B[43m)\u001B[49m)\n\u001B[0;32m     29\u001B[0m locator_list\u001B[38;5;241m.\u001B[39mappend(locator)\n\u001B[0;32m     30\u001B[0m current_pos \u001B[38;5;241m=\u001B[39m ax\u001B[38;5;241m.\u001B[39mget_position(original\u001B[38;5;241m=\u001B[39m\u001B[38;5;28;01mFalse\u001B[39;00m)\u001B[38;5;241m.\u001B[39mfrozen()\n",
      "File \u001B[1;32m~\\.conda\\envs\\SP1\\lib\\site-packages\\mpl_toolkits\\axes_grid1\\inset_locator.py:73\u001B[0m, in \u001B[0;36mAnchoredLocatorBase.__call__\u001B[1;34m(self, ax, renderer)\u001B[0m\n\u001B[0;32m     71\u001B[0m \u001B[38;5;28;01mdef\u001B[39;00m \u001B[38;5;21m__call__\u001B[39m(\u001B[38;5;28mself\u001B[39m, ax, renderer):\n\u001B[0;32m     72\u001B[0m     \u001B[38;5;28mself\u001B[39m\u001B[38;5;241m.\u001B[39maxes \u001B[38;5;241m=\u001B[39m ax\n\u001B[1;32m---> 73\u001B[0m     bbox \u001B[38;5;241m=\u001B[39m \u001B[38;5;28;43mself\u001B[39;49m\u001B[38;5;241;43m.\u001B[39;49m\u001B[43mget_window_extent\u001B[49m\u001B[43m(\u001B[49m\u001B[43mrenderer\u001B[49m\u001B[43m)\u001B[49m\n\u001B[0;32m     74\u001B[0m     px, py \u001B[38;5;241m=\u001B[39m \u001B[38;5;28mself\u001B[39m\u001B[38;5;241m.\u001B[39mget_offset(bbox\u001B[38;5;241m.\u001B[39mwidth, bbox\u001B[38;5;241m.\u001B[39mheight, \u001B[38;5;241m0\u001B[39m, \u001B[38;5;241m0\u001B[39m, renderer)\n\u001B[0;32m     75\u001B[0m     bbox_canvas \u001B[38;5;241m=\u001B[39m Bbox\u001B[38;5;241m.\u001B[39mfrom_bounds(px, py, bbox\u001B[38;5;241m.\u001B[39mwidth, bbox\u001B[38;5;241m.\u001B[39mheight)\n",
      "File \u001B[1;32m~\\.conda\\envs\\SP1\\lib\\site-packages\\matplotlib\\offsetbox.py:399\u001B[0m, in \u001B[0;36mOffsetBox.get_window_extent\u001B[1;34m(self, renderer)\u001B[0m\n\u001B[0;32m    396\u001B[0m \u001B[38;5;28;01mdef\u001B[39;00m \u001B[38;5;21mget_window_extent\u001B[39m(\u001B[38;5;28mself\u001B[39m, renderer\u001B[38;5;241m=\u001B[39m\u001B[38;5;28;01mNone\u001B[39;00m):\n\u001B[0;32m    397\u001B[0m     \u001B[38;5;66;03m# docstring inherited\u001B[39;00m\n\u001B[0;32m    398\u001B[0m     \u001B[38;5;28;01mif\u001B[39;00m renderer \u001B[38;5;129;01mis\u001B[39;00m \u001B[38;5;28;01mNone\u001B[39;00m:\n\u001B[1;32m--> 399\u001B[0m         renderer \u001B[38;5;241m=\u001B[39m \u001B[38;5;28;43mself\u001B[39;49m\u001B[38;5;241;43m.\u001B[39;49m\u001B[43mfigure\u001B[49m\u001B[38;5;241;43m.\u001B[39;49m\u001B[43m_get_renderer\u001B[49m()\n\u001B[0;32m    400\u001B[0m     bbox \u001B[38;5;241m=\u001B[39m \u001B[38;5;28mself\u001B[39m\u001B[38;5;241m.\u001B[39mget_bbox(renderer)\n\u001B[0;32m    401\u001B[0m     \u001B[38;5;28;01mtry\u001B[39;00m:  \u001B[38;5;66;03m# Some subclasses redefine get_offset to take no args.\u001B[39;00m\n",
      "\u001B[1;31mAttributeError\u001B[0m: 'NoneType' object has no attribute '_get_renderer'"
     ]
    },
    {
     "data": {
      "text/plain": [
       "<MNELineFigure size 1000x350 with 2 Axes>"
      ]
     },
     "metadata": {},
     "output_type": "display_data"
    },
    {
     "ename": "AttributeError",
     "evalue": "'NoneType' object has no attribute '_get_renderer'",
     "output_type": "error",
     "traceback": [
      "\u001B[1;31m---------------------------------------------------------------------------\u001B[0m",
      "\u001B[1;31mAttributeError\u001B[0m                            Traceback (most recent call last)",
      "File \u001B[1;32m~\\.conda\\envs\\SP1\\lib\\site-packages\\IPython\\core\\formatters.py:340\u001B[0m, in \u001B[0;36mBaseFormatter.__call__\u001B[1;34m(self, obj)\u001B[0m\n\u001B[0;32m    338\u001B[0m     \u001B[38;5;28;01mpass\u001B[39;00m\n\u001B[0;32m    339\u001B[0m \u001B[38;5;28;01melse\u001B[39;00m:\n\u001B[1;32m--> 340\u001B[0m     \u001B[38;5;28;01mreturn\u001B[39;00m \u001B[43mprinter\u001B[49m\u001B[43m(\u001B[49m\u001B[43mobj\u001B[49m\u001B[43m)\u001B[49m\n\u001B[0;32m    341\u001B[0m \u001B[38;5;66;03m# Finally look for special method names\u001B[39;00m\n\u001B[0;32m    342\u001B[0m method \u001B[38;5;241m=\u001B[39m get_real_method(obj, \u001B[38;5;28mself\u001B[39m\u001B[38;5;241m.\u001B[39mprint_method)\n",
      "File \u001B[1;32m~\\.conda\\envs\\SP1\\lib\\site-packages\\IPython\\core\\pylabtools.py:152\u001B[0m, in \u001B[0;36mprint_figure\u001B[1;34m(fig, fmt, bbox_inches, base64, **kwargs)\u001B[0m\n\u001B[0;32m    149\u001B[0m     \u001B[38;5;28;01mfrom\u001B[39;00m \u001B[38;5;21;01mmatplotlib\u001B[39;00m\u001B[38;5;21;01m.\u001B[39;00m\u001B[38;5;21;01mbackend_bases\u001B[39;00m \u001B[38;5;28;01mimport\u001B[39;00m FigureCanvasBase\n\u001B[0;32m    150\u001B[0m     FigureCanvasBase(fig)\n\u001B[1;32m--> 152\u001B[0m \u001B[43mfig\u001B[49m\u001B[38;5;241;43m.\u001B[39;49m\u001B[43mcanvas\u001B[49m\u001B[38;5;241;43m.\u001B[39;49m\u001B[43mprint_figure\u001B[49m\u001B[43m(\u001B[49m\u001B[43mbytes_io\u001B[49m\u001B[43m,\u001B[49m\u001B[43m \u001B[49m\u001B[38;5;241;43m*\u001B[39;49m\u001B[38;5;241;43m*\u001B[39;49m\u001B[43mkw\u001B[49m\u001B[43m)\u001B[49m\n\u001B[0;32m    153\u001B[0m data \u001B[38;5;241m=\u001B[39m bytes_io\u001B[38;5;241m.\u001B[39mgetvalue()\n\u001B[0;32m    154\u001B[0m \u001B[38;5;28;01mif\u001B[39;00m fmt \u001B[38;5;241m==\u001B[39m \u001B[38;5;124m'\u001B[39m\u001B[38;5;124msvg\u001B[39m\u001B[38;5;124m'\u001B[39m:\n",
      "File \u001B[1;32m~\\.conda\\envs\\SP1\\lib\\site-packages\\matplotlib\\backend_bases.py:2353\u001B[0m, in \u001B[0;36mFigureCanvasBase.print_figure\u001B[1;34m(self, filename, dpi, facecolor, edgecolor, orientation, format, bbox_inches, pad_inches, bbox_extra_artists, backend, **kwargs)\u001B[0m\n\u001B[0;32m   2350\u001B[0m         bbox_inches \u001B[38;5;241m=\u001B[39m bbox_inches\u001B[38;5;241m.\u001B[39mpadded(pad_inches)\n\u001B[0;32m   2352\u001B[0m     \u001B[38;5;66;03m# call adjust_bbox to save only the given area\u001B[39;00m\n\u001B[1;32m-> 2353\u001B[0m     restore_bbox \u001B[38;5;241m=\u001B[39m \u001B[43m_tight_bbox\u001B[49m\u001B[38;5;241;43m.\u001B[39;49m\u001B[43madjust_bbox\u001B[49m\u001B[43m(\u001B[49m\n\u001B[0;32m   2354\u001B[0m \u001B[43m        \u001B[49m\u001B[38;5;28;43mself\u001B[39;49m\u001B[38;5;241;43m.\u001B[39;49m\u001B[43mfigure\u001B[49m\u001B[43m,\u001B[49m\u001B[43m \u001B[49m\u001B[43mbbox_inches\u001B[49m\u001B[43m,\u001B[49m\u001B[43m \u001B[49m\u001B[38;5;28;43mself\u001B[39;49m\u001B[38;5;241;43m.\u001B[39;49m\u001B[43mfigure\u001B[49m\u001B[38;5;241;43m.\u001B[39;49m\u001B[43mcanvas\u001B[49m\u001B[38;5;241;43m.\u001B[39;49m\u001B[43mfixed_dpi\u001B[49m\u001B[43m)\u001B[49m\n\u001B[0;32m   2356\u001B[0m     _bbox_inches_restore \u001B[38;5;241m=\u001B[39m (bbox_inches, restore_bbox)\n\u001B[0;32m   2357\u001B[0m \u001B[38;5;28;01melse\u001B[39;00m:\n",
      "File \u001B[1;32m~\\.conda\\envs\\SP1\\lib\\site-packages\\matplotlib\\_tight_bbox.py:28\u001B[0m, in \u001B[0;36madjust_bbox\u001B[1;34m(fig, bbox_inches, fixed_dpi)\u001B[0m\n\u001B[0;32m     26\u001B[0m locator \u001B[38;5;241m=\u001B[39m ax\u001B[38;5;241m.\u001B[39mget_axes_locator()\n\u001B[0;32m     27\u001B[0m \u001B[38;5;28;01mif\u001B[39;00m locator \u001B[38;5;129;01mis\u001B[39;00m \u001B[38;5;129;01mnot\u001B[39;00m \u001B[38;5;28;01mNone\u001B[39;00m:\n\u001B[1;32m---> 28\u001B[0m     ax\u001B[38;5;241m.\u001B[39mapply_aspect(\u001B[43mlocator\u001B[49m\u001B[43m(\u001B[49m\u001B[43max\u001B[49m\u001B[43m,\u001B[49m\u001B[43m \u001B[49m\u001B[38;5;28;43;01mNone\u001B[39;49;00m\u001B[43m)\u001B[49m)\n\u001B[0;32m     29\u001B[0m locator_list\u001B[38;5;241m.\u001B[39mappend(locator)\n\u001B[0;32m     30\u001B[0m current_pos \u001B[38;5;241m=\u001B[39m ax\u001B[38;5;241m.\u001B[39mget_position(original\u001B[38;5;241m=\u001B[39m\u001B[38;5;28;01mFalse\u001B[39;00m)\u001B[38;5;241m.\u001B[39mfrozen()\n",
      "File \u001B[1;32m~\\.conda\\envs\\SP1\\lib\\site-packages\\mpl_toolkits\\axes_grid1\\inset_locator.py:73\u001B[0m, in \u001B[0;36mAnchoredLocatorBase.__call__\u001B[1;34m(self, ax, renderer)\u001B[0m\n\u001B[0;32m     71\u001B[0m \u001B[38;5;28;01mdef\u001B[39;00m \u001B[38;5;21m__call__\u001B[39m(\u001B[38;5;28mself\u001B[39m, ax, renderer):\n\u001B[0;32m     72\u001B[0m     \u001B[38;5;28mself\u001B[39m\u001B[38;5;241m.\u001B[39maxes \u001B[38;5;241m=\u001B[39m ax\n\u001B[1;32m---> 73\u001B[0m     bbox \u001B[38;5;241m=\u001B[39m \u001B[38;5;28;43mself\u001B[39;49m\u001B[38;5;241;43m.\u001B[39;49m\u001B[43mget_window_extent\u001B[49m\u001B[43m(\u001B[49m\u001B[43mrenderer\u001B[49m\u001B[43m)\u001B[49m\n\u001B[0;32m     74\u001B[0m     px, py \u001B[38;5;241m=\u001B[39m \u001B[38;5;28mself\u001B[39m\u001B[38;5;241m.\u001B[39mget_offset(bbox\u001B[38;5;241m.\u001B[39mwidth, bbox\u001B[38;5;241m.\u001B[39mheight, \u001B[38;5;241m0\u001B[39m, \u001B[38;5;241m0\u001B[39m, renderer)\n\u001B[0;32m     75\u001B[0m     bbox_canvas \u001B[38;5;241m=\u001B[39m Bbox\u001B[38;5;241m.\u001B[39mfrom_bounds(px, py, bbox\u001B[38;5;241m.\u001B[39mwidth, bbox\u001B[38;5;241m.\u001B[39mheight)\n",
      "File \u001B[1;32m~\\.conda\\envs\\SP1\\lib\\site-packages\\matplotlib\\offsetbox.py:399\u001B[0m, in \u001B[0;36mOffsetBox.get_window_extent\u001B[1;34m(self, renderer)\u001B[0m\n\u001B[0;32m    396\u001B[0m \u001B[38;5;28;01mdef\u001B[39;00m \u001B[38;5;21mget_window_extent\u001B[39m(\u001B[38;5;28mself\u001B[39m, renderer\u001B[38;5;241m=\u001B[39m\u001B[38;5;28;01mNone\u001B[39;00m):\n\u001B[0;32m    397\u001B[0m     \u001B[38;5;66;03m# docstring inherited\u001B[39;00m\n\u001B[0;32m    398\u001B[0m     \u001B[38;5;28;01mif\u001B[39;00m renderer \u001B[38;5;129;01mis\u001B[39;00m \u001B[38;5;28;01mNone\u001B[39;00m:\n\u001B[1;32m--> 399\u001B[0m         renderer \u001B[38;5;241m=\u001B[39m \u001B[38;5;28;43mself\u001B[39;49m\u001B[38;5;241;43m.\u001B[39;49m\u001B[43mfigure\u001B[49m\u001B[38;5;241;43m.\u001B[39;49m\u001B[43m_get_renderer\u001B[49m()\n\u001B[0;32m    400\u001B[0m     bbox \u001B[38;5;241m=\u001B[39m \u001B[38;5;28mself\u001B[39m\u001B[38;5;241m.\u001B[39mget_bbox(renderer)\n\u001B[0;32m    401\u001B[0m     \u001B[38;5;28;01mtry\u001B[39;00m:  \u001B[38;5;66;03m# Some subclasses redefine get_offset to take no args.\u001B[39;00m\n",
      "\u001B[1;31mAttributeError\u001B[0m: 'NoneType' object has no attribute '_get_renderer'"
     ]
    },
    {
     "data": {
      "text/plain": [
       "<MNELineFigure size 1000x350 with 2 Axes>"
      ]
     },
     "metadata": {},
     "output_type": "display_data"
    },
    {
     "ename": "AttributeError",
     "evalue": "'NoneType' object has no attribute '_get_renderer'",
     "output_type": "error",
     "traceback": [
      "\u001B[1;31m---------------------------------------------------------------------------\u001B[0m",
      "\u001B[1;31mAttributeError\u001B[0m                            Traceback (most recent call last)",
      "File \u001B[1;32m~\\.conda\\envs\\SP1\\lib\\site-packages\\IPython\\core\\formatters.py:340\u001B[0m, in \u001B[0;36mBaseFormatter.__call__\u001B[1;34m(self, obj)\u001B[0m\n\u001B[0;32m    338\u001B[0m     \u001B[38;5;28;01mpass\u001B[39;00m\n\u001B[0;32m    339\u001B[0m \u001B[38;5;28;01melse\u001B[39;00m:\n\u001B[1;32m--> 340\u001B[0m     \u001B[38;5;28;01mreturn\u001B[39;00m \u001B[43mprinter\u001B[49m\u001B[43m(\u001B[49m\u001B[43mobj\u001B[49m\u001B[43m)\u001B[49m\n\u001B[0;32m    341\u001B[0m \u001B[38;5;66;03m# Finally look for special method names\u001B[39;00m\n\u001B[0;32m    342\u001B[0m method \u001B[38;5;241m=\u001B[39m get_real_method(obj, \u001B[38;5;28mself\u001B[39m\u001B[38;5;241m.\u001B[39mprint_method)\n",
      "File \u001B[1;32m~\\.conda\\envs\\SP1\\lib\\site-packages\\IPython\\core\\pylabtools.py:152\u001B[0m, in \u001B[0;36mprint_figure\u001B[1;34m(fig, fmt, bbox_inches, base64, **kwargs)\u001B[0m\n\u001B[0;32m    149\u001B[0m     \u001B[38;5;28;01mfrom\u001B[39;00m \u001B[38;5;21;01mmatplotlib\u001B[39;00m\u001B[38;5;21;01m.\u001B[39;00m\u001B[38;5;21;01mbackend_bases\u001B[39;00m \u001B[38;5;28;01mimport\u001B[39;00m FigureCanvasBase\n\u001B[0;32m    150\u001B[0m     FigureCanvasBase(fig)\n\u001B[1;32m--> 152\u001B[0m \u001B[43mfig\u001B[49m\u001B[38;5;241;43m.\u001B[39;49m\u001B[43mcanvas\u001B[49m\u001B[38;5;241;43m.\u001B[39;49m\u001B[43mprint_figure\u001B[49m\u001B[43m(\u001B[49m\u001B[43mbytes_io\u001B[49m\u001B[43m,\u001B[49m\u001B[43m \u001B[49m\u001B[38;5;241;43m*\u001B[39;49m\u001B[38;5;241;43m*\u001B[39;49m\u001B[43mkw\u001B[49m\u001B[43m)\u001B[49m\n\u001B[0;32m    153\u001B[0m data \u001B[38;5;241m=\u001B[39m bytes_io\u001B[38;5;241m.\u001B[39mgetvalue()\n\u001B[0;32m    154\u001B[0m \u001B[38;5;28;01mif\u001B[39;00m fmt \u001B[38;5;241m==\u001B[39m \u001B[38;5;124m'\u001B[39m\u001B[38;5;124msvg\u001B[39m\u001B[38;5;124m'\u001B[39m:\n",
      "File \u001B[1;32m~\\.conda\\envs\\SP1\\lib\\site-packages\\matplotlib\\backend_bases.py:2353\u001B[0m, in \u001B[0;36mFigureCanvasBase.print_figure\u001B[1;34m(self, filename, dpi, facecolor, edgecolor, orientation, format, bbox_inches, pad_inches, bbox_extra_artists, backend, **kwargs)\u001B[0m\n\u001B[0;32m   2350\u001B[0m         bbox_inches \u001B[38;5;241m=\u001B[39m bbox_inches\u001B[38;5;241m.\u001B[39mpadded(pad_inches)\n\u001B[0;32m   2352\u001B[0m     \u001B[38;5;66;03m# call adjust_bbox to save only the given area\u001B[39;00m\n\u001B[1;32m-> 2353\u001B[0m     restore_bbox \u001B[38;5;241m=\u001B[39m \u001B[43m_tight_bbox\u001B[49m\u001B[38;5;241;43m.\u001B[39;49m\u001B[43madjust_bbox\u001B[49m\u001B[43m(\u001B[49m\n\u001B[0;32m   2354\u001B[0m \u001B[43m        \u001B[49m\u001B[38;5;28;43mself\u001B[39;49m\u001B[38;5;241;43m.\u001B[39;49m\u001B[43mfigure\u001B[49m\u001B[43m,\u001B[49m\u001B[43m \u001B[49m\u001B[43mbbox_inches\u001B[49m\u001B[43m,\u001B[49m\u001B[43m \u001B[49m\u001B[38;5;28;43mself\u001B[39;49m\u001B[38;5;241;43m.\u001B[39;49m\u001B[43mfigure\u001B[49m\u001B[38;5;241;43m.\u001B[39;49m\u001B[43mcanvas\u001B[49m\u001B[38;5;241;43m.\u001B[39;49m\u001B[43mfixed_dpi\u001B[49m\u001B[43m)\u001B[49m\n\u001B[0;32m   2356\u001B[0m     _bbox_inches_restore \u001B[38;5;241m=\u001B[39m (bbox_inches, restore_bbox)\n\u001B[0;32m   2357\u001B[0m \u001B[38;5;28;01melse\u001B[39;00m:\n",
      "File \u001B[1;32m~\\.conda\\envs\\SP1\\lib\\site-packages\\matplotlib\\_tight_bbox.py:28\u001B[0m, in \u001B[0;36madjust_bbox\u001B[1;34m(fig, bbox_inches, fixed_dpi)\u001B[0m\n\u001B[0;32m     26\u001B[0m locator \u001B[38;5;241m=\u001B[39m ax\u001B[38;5;241m.\u001B[39mget_axes_locator()\n\u001B[0;32m     27\u001B[0m \u001B[38;5;28;01mif\u001B[39;00m locator \u001B[38;5;129;01mis\u001B[39;00m \u001B[38;5;129;01mnot\u001B[39;00m \u001B[38;5;28;01mNone\u001B[39;00m:\n\u001B[1;32m---> 28\u001B[0m     ax\u001B[38;5;241m.\u001B[39mapply_aspect(\u001B[43mlocator\u001B[49m\u001B[43m(\u001B[49m\u001B[43max\u001B[49m\u001B[43m,\u001B[49m\u001B[43m \u001B[49m\u001B[38;5;28;43;01mNone\u001B[39;49;00m\u001B[43m)\u001B[49m)\n\u001B[0;32m     29\u001B[0m locator_list\u001B[38;5;241m.\u001B[39mappend(locator)\n\u001B[0;32m     30\u001B[0m current_pos \u001B[38;5;241m=\u001B[39m ax\u001B[38;5;241m.\u001B[39mget_position(original\u001B[38;5;241m=\u001B[39m\u001B[38;5;28;01mFalse\u001B[39;00m)\u001B[38;5;241m.\u001B[39mfrozen()\n",
      "File \u001B[1;32m~\\.conda\\envs\\SP1\\lib\\site-packages\\mpl_toolkits\\axes_grid1\\inset_locator.py:73\u001B[0m, in \u001B[0;36mAnchoredLocatorBase.__call__\u001B[1;34m(self, ax, renderer)\u001B[0m\n\u001B[0;32m     71\u001B[0m \u001B[38;5;28;01mdef\u001B[39;00m \u001B[38;5;21m__call__\u001B[39m(\u001B[38;5;28mself\u001B[39m, ax, renderer):\n\u001B[0;32m     72\u001B[0m     \u001B[38;5;28mself\u001B[39m\u001B[38;5;241m.\u001B[39maxes \u001B[38;5;241m=\u001B[39m ax\n\u001B[1;32m---> 73\u001B[0m     bbox \u001B[38;5;241m=\u001B[39m \u001B[38;5;28;43mself\u001B[39;49m\u001B[38;5;241;43m.\u001B[39;49m\u001B[43mget_window_extent\u001B[49m\u001B[43m(\u001B[49m\u001B[43mrenderer\u001B[49m\u001B[43m)\u001B[49m\n\u001B[0;32m     74\u001B[0m     px, py \u001B[38;5;241m=\u001B[39m \u001B[38;5;28mself\u001B[39m\u001B[38;5;241m.\u001B[39mget_offset(bbox\u001B[38;5;241m.\u001B[39mwidth, bbox\u001B[38;5;241m.\u001B[39mheight, \u001B[38;5;241m0\u001B[39m, \u001B[38;5;241m0\u001B[39m, renderer)\n\u001B[0;32m     75\u001B[0m     bbox_canvas \u001B[38;5;241m=\u001B[39m Bbox\u001B[38;5;241m.\u001B[39mfrom_bounds(px, py, bbox\u001B[38;5;241m.\u001B[39mwidth, bbox\u001B[38;5;241m.\u001B[39mheight)\n",
      "File \u001B[1;32m~\\.conda\\envs\\SP1\\lib\\site-packages\\matplotlib\\offsetbox.py:399\u001B[0m, in \u001B[0;36mOffsetBox.get_window_extent\u001B[1;34m(self, renderer)\u001B[0m\n\u001B[0;32m    396\u001B[0m \u001B[38;5;28;01mdef\u001B[39;00m \u001B[38;5;21mget_window_extent\u001B[39m(\u001B[38;5;28mself\u001B[39m, renderer\u001B[38;5;241m=\u001B[39m\u001B[38;5;28;01mNone\u001B[39;00m):\n\u001B[0;32m    397\u001B[0m     \u001B[38;5;66;03m# docstring inherited\u001B[39;00m\n\u001B[0;32m    398\u001B[0m     \u001B[38;5;28;01mif\u001B[39;00m renderer \u001B[38;5;129;01mis\u001B[39;00m \u001B[38;5;28;01mNone\u001B[39;00m:\n\u001B[1;32m--> 399\u001B[0m         renderer \u001B[38;5;241m=\u001B[39m \u001B[38;5;28;43mself\u001B[39;49m\u001B[38;5;241;43m.\u001B[39;49m\u001B[43mfigure\u001B[49m\u001B[38;5;241;43m.\u001B[39;49m\u001B[43m_get_renderer\u001B[49m()\n\u001B[0;32m    400\u001B[0m     bbox \u001B[38;5;241m=\u001B[39m \u001B[38;5;28mself\u001B[39m\u001B[38;5;241m.\u001B[39mget_bbox(renderer)\n\u001B[0;32m    401\u001B[0m     \u001B[38;5;28;01mtry\u001B[39;00m:  \u001B[38;5;66;03m# Some subclasses redefine get_offset to take no args.\u001B[39;00m\n",
      "\u001B[1;31mAttributeError\u001B[0m: 'NoneType' object has no attribute '_get_renderer'"
     ]
    },
    {
     "data": {
      "text/plain": [
       "<MNELineFigure size 1000x350 with 2 Axes>"
      ]
     },
     "metadata": {},
     "output_type": "display_data"
    }
   ],
   "execution_count": 8
  },
  {
   "metadata": {},
   "cell_type": "markdown",
   "source": "## Visual Contrast Prediction on channel prefiltered data using ress components(LDA)",
   "id": "f6743982ac8acdd1"
  },
  {
   "metadata": {
    "ExecuteTime": {
     "end_time": "2024-12-18T14:08:07.842289Z",
     "start_time": "2024-12-18T14:08:06.537090Z"
    }
   },
   "cell_type": "code",
   "source": [
    "compute_accuracy_vs_contrast_with_sigmoid(p8_train_ress_ch_pre_filtered, p8_train, p8_test_ress_ch_pre_filtered, p8_test,'LDA',plot=False, output_dir='./Image/Threshold_Prediction/RESS_ch_filter',filename='P8_LDA_spatial_filter_12_20_Hz')\n",
    "compute_accuracy_vs_contrast_with_sigmoid(p7_train_ress_ch_pre_filtered, p7_train, p7_test_ress_ch_pre_filtered, p7_test,'LDA',plot=False, output_dir='./Image/Threshold_Prediction/RESS_ch_filter',filename='P7_LDA_spatial_filter_12_20_Hz')\n",
    "compute_accuracy_vs_contrast_with_sigmoid(p6_train_ress_ch_pre_filtered, p6_train, p6_test_ress_ch_pre_filtered, p6_test,'LDA',plot=False, output_dir='./Image/Threshold_Prediction/RESS_ch_filter',filename='P6_LDA_spatial_filter_12_20_Hz')\n",
    "compute_accuracy_vs_contrast_with_sigmoid(adr_train_ress_ch_pre_filtered, adr_train, adr_test_ress_ch_pre_filtered, adr_test,'LDA',plot=False, output_dir='./Image/Threshold_Prediction/RESS_ch_filter',filename='adr_LDA_spatial_filter_40_48_Hz')"
   ],
   "id": "c381b3db34147c66",
   "outputs": [
    {
     "name": "stdout",
     "output_type": "stream",
     "text": [
      "Warning: 75% accuracy not reached for fit.\n"
     ]
    },
    {
     "data": {
      "text/plain": [
       "(array([ 0.1   ,  0.1399,  0.1956,  0.2736,  0.3827,  0.5353,  0.7486,\n",
       "         1.0471,  1.4645,  2.0484,  2.865 ,  4.0072,  5.6047,  7.8392,\n",
       "        10.9643, 15.3354, 21.4491, 30.    ]),\n",
       " array([0.53125   , 0.4375    , 0.375     , 0.6       , 0.5625    ,\n",
       "        0.4       , 0.4       , 0.6       , 0.6       , 0.26666667,\n",
       "        0.5625    , 0.4       , 0.625     , 0.4375    , 0.875     ,\n",
       "        1.        , 0.93333333, 0.65384615]),\n",
       " array([0.48556528, 0.86554936, 6.85742306, 9.51940607]))"
      ]
     },
     "execution_count": 7,
     "metadata": {},
     "output_type": "execute_result"
    }
   ],
   "execution_count": 7
  },
  {
   "metadata": {},
   "cell_type": "markdown",
   "source": "## Visual Contrast Prediction on Raw data using ress components(LDA)",
   "id": "6899cc3cbab69599"
  },
  {
   "metadata": {
    "ExecuteTime": {
     "end_time": "2024-12-18T14:14:37.584177Z",
     "start_time": "2024-12-18T14:14:34.973426Z"
    }
   },
   "cell_type": "code",
   "source": [
    "compute_accuracy_vs_contrast_with_sigmoid(p8_train_ress_raw, p8_train, p8_test_ress_raw, p8_test,'LDA',plot=False, output_dir='./Image/Threshold_Prediction/RESS_raw',filename='P8_LDA_spatial_filter_12_20_Hz')\n",
    "compute_accuracy_vs_contrast_with_sigmoid(p7_train_ress_raw, p7_train, p7_test_ress_raw, p7_test,'LDA',plot=False, output_dir='./Image/Threshold_Prediction/RESS_raw',filename='P7_LDA_spatial_filter_12_20_Hz')\n",
    "compute_accuracy_vs_contrast_with_sigmoid(p6_train_ress_raw, p6_train, p6_test_ress_raw, p6_test,'LDA',plot=False, output_dir='./Image/Threshold_Prediction/RESS_raw',filename='P6_LDA_spatial_filter_12_20_Hz')\n",
    "compute_accuracy_vs_contrast_with_sigmoid(adr_train_ress_raw, adr_train, adr_test_ress_raw, adr_test,'LDA',plot=False, output_dir='./Image/Threshold_Prediction/RESS_raw',filename='adr_LDA_spatial_filter_40_48_Hz', max_fev=1000000)"
   ],
   "id": "e786a037c905fb0a",
   "outputs": [
    {
     "name": "stdout",
     "output_type": "stream",
     "text": [
      "Warning: 75% accuracy not reached for fit.\n"
     ]
    },
    {
     "data": {
      "text/plain": [
       "(array([ 0.1   ,  0.1399,  0.1956,  0.2736,  0.3827,  0.5353,  0.7486,\n",
       "         1.0471,  1.4645,  2.0484,  2.865 ,  4.0072,  5.6047,  7.8392,\n",
       "        10.9643, 15.3354, 21.4491, 30.    ]),\n",
       " array([0.5       , 0.4375    , 0.375     , 0.6       , 0.5625    ,\n",
       "        0.4       , 0.4       , 0.6       , 0.6       , 0.26666667,\n",
       "        0.5625    , 0.4       , 0.75      , 0.4375    , 0.6875    ,\n",
       "        0.875     , 0.53333333, 0.42307692]),\n",
       " array([ 0.47534739,  0.61773166, 10.56124769,  4.77821844]))"
      ]
     },
     "execution_count": 9,
     "metadata": {},
     "output_type": "execute_result"
    }
   ],
   "execution_count": 9
  },
  {
   "metadata": {},
   "cell_type": "markdown",
   "source": "According to the result in the folder ./Image/Threshold_Prediction P7 channel filtering seems to be discarding essential channels for the RESS filtering",
   "id": "dd8b51969edec20b"
  },
  {
   "metadata": {},
   "cell_type": "markdown",
   "source": "# Baseline Prediction",
   "id": "15346e46a1d03386"
  },
  {
   "metadata": {},
   "cell_type": "markdown",
   "source": "Prediction with channels filtering & no RESS filtering",
   "id": "fe9641df365f1d2d"
  },
  {
   "metadata": {
    "ExecuteTime": {
     "end_time": "2024-12-18T14:41:35.758353Z",
     "start_time": "2024-12-18T14:39:42.518415Z"
    }
   },
   "cell_type": "code",
   "source": [
    "p8_epochs_train_ch_filter_augmented, p8_train_metadata = augment_with_shuffled_baseline(p8_epochs_train_ch_filter.get_data(copy=True), p8_train)\n",
    "p8_epochs_test_ch_filter_augmented, p8_test_metadata = augment_with_shuffled_baseline(p8_epochs_test_ch_filter.get_data(copy=True), p8_test)\n",
    "compute_accuracy_vs_contrast_with_sigmoid(p8_epochs_train_ch_filter_augmented, p8_train_metadata, p8_epochs_test_ch_filter_augmented,p8_test_metadata, 'LDA', plot = False , output_dir='./Image/Threshold_Prediction/Baseline', filename= 'p8_ch_filter')\n",
    "\n",
    "del p8_epochs_train_ch_filter_augmented, p8_train_metadata, p8_epochs_test_ch_filter_augmented, p8_test_metadata\n",
    "\n",
    "p7_epochs_train_ch_filter_augmented, p7_train_metadata = augment_with_shuffled_baseline(p7_epochs_train_ch_filter.get_data(copy=True), p7_train)\n",
    "p7_epochs_test_ch_filter_augmented, p7_test_metadata = augment_with_shuffled_baseline(p7_epochs_test_ch_filter.get_data(copy=True), p7_test)\n",
    "compute_accuracy_vs_contrast_with_sigmoid(p7_epochs_train_ch_filter_augmented, p7_train_metadata, p7_epochs_test_ch_filter_augmented,p7_test_metadata, 'LDA', plot = False , output_dir='./Image/Threshold_Prediction/Baseline', filename= 'p7_ch_filter', max_fev=10000)\n",
    "\n",
    "del p7_epochs_train_ch_filter_augmented, p7_train_metadata, p7_epochs_test_ch_filter_augmented, p7_test_metadata\n",
    "\n",
    "\n",
    "p6_epochs_train_ch_filter_augmented, p6_train_metadata = augment_with_shuffled_baseline(p6_epochs_train_ch_filter.get_data(copy=True), p6_train)\n",
    "p6_epochs_test_ch_filter_augmented, p6_test_metadata = augment_with_shuffled_baseline(p6_epochs_test_ch_filter.get_data(copy=True), p6_test)\n",
    "compute_accuracy_vs_contrast_with_sigmoid(p6_epochs_train_ch_filter_augmented, p6_train_metadata, p6_epochs_test_ch_filter_augmented,p6_test_metadata, 'LDA', plot = False , output_dir='./Image/Threshold_Prediction/Baseline', filename= 'p6_ch_filter', max_fev=100000)\n",
    "\n",
    "del p6_epochs_train_ch_filter_augmented, p6_train_metadata, p6_epochs_test_ch_filter_augmented, p6_test_metadata\n",
    "\n",
    "adr_epochs_train_ch_filter_augmented, adr_train_metadata = augment_with_shuffled_baseline(adr_epochs_train_ch_filter.get_data(copy=True), adr_train)\n",
    "adr_epochs_test_ch_filter_augmented, adr_test_metadata = augment_with_shuffled_baseline(adr_epochs_test_ch_filter.get_data(copy=True), adr_test)\n",
    "compute_accuracy_vs_contrast_with_sigmoid(adr_epochs_train_ch_filter_augmented, adr_train_metadata, adr_epochs_test_ch_filter_augmented,adr_test_metadata, 'LDA', plot = False , output_dir='./Image/Threshold_Prediction/Baseline', filename= 'adr_ch_filter', max_fev=10000)\n",
    "\n",
    "del adr_epochs_train_ch_filter_augmented, adr_train_metadata, adr_epochs_test_ch_filter_augmented, adr_test_metadata"
   ],
   "id": "6d77d70205ab35bc",
   "outputs": [],
   "execution_count": 22
  },
  {
   "metadata": {},
   "cell_type": "markdown",
   "source": "Prediction with channel filtering and RESS Filtering",
   "id": "f144ee522e53f767"
  },
  {
   "metadata": {
    "ExecuteTime": {
     "end_time": "2024-12-18T14:39:20.205608Z",
     "start_time": "2024-12-18T14:39:17.952361Z"
    }
   },
   "cell_type": "code",
   "source": [
    "p8_epochs_train_ch_filter_ress_augmented, p8_train_metadata = augment_with_shuffled_baseline(p8_train_ress_ch_pre_filtered, p8_train, ress = True)\n",
    "p8_epochs_test_ch_filter_ress_augmented, p8_test_metadata = augment_with_shuffled_baseline(p8_test_ress_ch_pre_filtered, p8_test, ress = True)\n",
    "compute_accuracy_vs_contrast_with_sigmoid(p8_epochs_train_ch_filter_ress_augmented, p8_train_metadata, p8_epochs_test_ch_filter_ress_augmented,p8_test_metadata, 'LDA', plot = False , output_dir='./Image/Threshold_Prediction/Baseline', filename= 'p8_ress_ch_filter', max_fev=100000)\n",
    "del p8_epochs_train_ch_filter_ress_augmented, p8_train_metadata, p8_epochs_test_ch_filter_ress_augmented, p8_test_metadata\n",
    "\n",
    "p7_epochs_train_ch_filter_ress_augmented, p7_train_metadata = augment_with_shuffled_baseline(p7_train_ress_ch_pre_filtered, p7_train, ress = True)\n",
    "p7_epochs_test_ch_filter_ress_augmented, p7_test_metadata = augment_with_shuffled_baseline(p7_test_ress_ch_pre_filtered, p7_test, ress = True)\n",
    "compute_accuracy_vs_contrast_with_sigmoid(p7_epochs_train_ch_filter_ress_augmented, p7_train_metadata, p7_epochs_test_ch_filter_ress_augmented,p7_test_metadata, 'LDA', plot = False , output_dir='./Image/Threshold_Prediction/Baseline', filename= 'p7_ress_ch_filter', max_fev=100000)\n",
    "del p7_epochs_train_ch_filter_ress_augmented, p7_train_metadata, p7_epochs_test_ch_filter_ress_augmented, p7_test_metadata\n",
    "\n",
    "p6_epochs_train_ch_filter_ress_augmented, p6_train_metadata = augment_with_shuffled_baseline(p6_train_ress_ch_pre_filtered, p6_train, ress = True)\n",
    "p6_epochs_test_ch_filter_ress_augmented, p6_test_metadata = augment_with_shuffled_baseline(p6_test_ress_ch_pre_filtered, p6_test, ress = True)\n",
    "compute_accuracy_vs_contrast_with_sigmoid(p6_epochs_train_ch_filter_ress_augmented, p6_train_metadata, p6_epochs_test_ch_filter_ress_augmented,p6_test_metadata, 'LDA', plot = False , output_dir='./Image/Threshold_Prediction/Baseline', filename= 'p6_ress_ch_filter', max_fev=100000)\n",
    "del p6_epochs_train_ch_filter_ress_augmented, p6_train_metadata, p6_epochs_test_ch_filter_ress_augmented, p6_test_metadata\n",
    "\n",
    "adr_epochs_train_ch_filter_ress_augmented, adr_train_metadata = augment_with_shuffled_baseline(adr_train_ress_ch_pre_filtered, adr_train, ress = True)\n",
    "adr_epochs_test_ch_filter_ress_augmented, adr_test_metadata = augment_with_shuffled_baseline(adr_test_ress_ch_pre_filtered, adr_test, ress = True)\n",
    "compute_accuracy_vs_contrast_with_sigmoid(adr_epochs_train_ch_filter_ress_augmented, adr_train_metadata, adr_epochs_test_ch_filter_ress_augmented,adr_test_metadata, 'LDA', plot = False , output_dir='./Image/Threshold_Prediction/Baseline', filename= 'adr_ress_ch_filter', max_fev=100000)\n",
    "del adr_epochs_train_ch_filter_ress_augmented, adr_train_metadata, adr_epochs_test_ch_filter_ress_augmented, adr_test_metadata\n"
   ],
   "id": "3070b09c170073f",
   "outputs": [
    {
     "name": "stdout",
     "output_type": "stream",
     "text": [
      "Warning: 75% accuracy not reached for fit.\n",
      "Warning: 75% accuracy not reached for fit.\n"
     ]
    }
   ],
   "execution_count": 21
  },
  {
   "metadata": {},
   "cell_type": "markdown",
   "source": "Prediction with no channel filtering and ress filtering",
   "id": "78e9213986da6f1"
  },
  {
   "metadata": {
    "ExecuteTime": {
     "end_time": "2024-12-18T14:41:56.937221Z",
     "start_time": "2024-12-18T14:41:54.333685Z"
    }
   },
   "cell_type": "code",
   "source": [
    "p8_epochs_train_ress_augmented, p8_train_metadata = augment_with_shuffled_baseline(p8_train_ress_raw, p8_train, ress = True)\n",
    "p8_epochs_test_ress_augmented, p8_test_metadata = augment_with_shuffled_baseline(p8_test_ress_raw, p8_test, ress = True)\n",
    "compute_accuracy_vs_contrast_with_sigmoid(p8_epochs_train_ress_augmented, p8_train_metadata, p8_epochs_test_ress_augmented,p8_test_metadata, 'LDA', plot = False , output_dir='./Image/Threshold_Prediction/Baseline', filename= 'p8_ress_filter')\n",
    "\n",
    "del p8_epochs_train_ress_augmented, p8_train_metadata, p8_epochs_test_ress_augmented, p8_test_metadata\n",
    "\n",
    "p7_epochs_train_ress_augmented, p7_train_metadata = augment_with_shuffled_baseline(p7_train_ress_raw, p7_train, ress = True)\n",
    "p7_epochs_test_ress_augmented, p7_test_metadata = augment_with_shuffled_baseline(p7_test_ress_raw, p7_test, ress = True)\n",
    "compute_accuracy_vs_contrast_with_sigmoid(p7_epochs_train_ress_augmented, p7_train_metadata, p7_epochs_test_ress_augmented,p7_test_metadata, 'LDA', plot = False , output_dir='./Image/Threshold_Prediction/Baseline', filename= 'p7_ress_filter', max_fev=10000)\n",
    "\n",
    "del p7_epochs_train_ress_augmented, p7_train_metadata, p7_epochs_test_ress_augmented, p7_test_metadata\n",
    "\n",
    "\n",
    "p6_epochs_train_ress_augmented, p6_train_metadata = augment_with_shuffled_baseline(p6_train_ress_raw, p6_train, ress = True)\n",
    "p6_epochs_test_ress_augmented, p6_test_metadata = augment_with_shuffled_baseline(p6_test_ress_raw, p6_test, ress = True)\n",
    "compute_accuracy_vs_contrast_with_sigmoid(p6_epochs_train_ress_augmented, p6_train_metadata, p6_epochs_test_ress_augmented,p6_test_metadata, 'LDA', plot = False , output_dir='./Image/Threshold_Prediction/Baseline', filename= 'p6_ress_filter', max_fev=100000)\n",
    "\n",
    "del p6_epochs_train_ress_augmented, p6_train_metadata, p6_epochs_test_ress_augmented, p6_test_metadata\n",
    "\n",
    "adr_epochs_train_ress_augmented, adr_train_metadata = augment_with_shuffled_baseline(adr_train_ress_raw, adr_train, ress = True)\n",
    "adr_epochs_test_ress_augmented, adr_test_metadata = augment_with_shuffled_baseline(adr_test_ress_raw, adr_test, ress = True)\n",
    "compute_accuracy_vs_contrast_with_sigmoid(adr_epochs_train_ress_augmented, adr_train_metadata, adr_epochs_test_ress_augmented,adr_test_metadata, 'LDA', plot = False , output_dir='./Image/Threshold_Prediction/Baseline', filename= 'adr_ress_filter', max_fev=100000)\n",
    "\n",
    "del adr_epochs_train_ress_augmented, adr_train_metadata, adr_epochs_test_ress_augmented, adr_test_metadata"
   ],
   "id": "ec5e96e9d932731",
   "outputs": [
    {
     "name": "stdout",
     "output_type": "stream",
     "text": [
      "Warning: 75% accuracy not reached for fit.\n",
      "Warning: 75% accuracy not reached for fit.\n",
      "Warning: 75% accuracy not reached for fit.\n"
     ]
    }
   ],
   "execution_count": 24
  }
 ],
 "metadata": {
  "kernelspec": {
   "display_name": "Python 3",
   "language": "python",
   "name": "python3"
  },
  "language_info": {
   "codemirror_mode": {
    "name": "ipython",
    "version": 2
   },
   "file_extension": ".py",
   "mimetype": "text/x-python",
   "name": "python",
   "nbconvert_exporter": "python",
   "pygments_lexer": "ipython2",
   "version": "2.7.6"
  }
 },
 "nbformat": 4,
 "nbformat_minor": 5
}
