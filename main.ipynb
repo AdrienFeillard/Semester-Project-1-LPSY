{
 "cells": [
  {
   "cell_type": "code",
   "id": "initial_id",
   "metadata": {
    "collapsed": true,
    "ExecuteTime": {
     "end_time": "2025-01-03T23:24:19.787026Z",
     "start_time": "2025-01-03T23:24:19.758024Z"
    }
   },
   "source": [
    "import file_handling\n",
    "import data_processing\n",
    "import visualization\n",
    "import computation\n",
    "import RESS_filter\n",
    "import importlib\n",
    "\n",
    "importlib.reload(file_handling)\n",
    "importlib.reload(data_processing)\n",
    "importlib.reload(visualization)\n",
    "importlib.reload(computation)\n",
    "importlib.reload(RESS_filter)\n",
    "\n",
    "from file_handling import *\n",
    "from data_processing import *\n",
    "from visualization import *\n",
    "from computation import *\n",
    "from RESS_filter import *"
   ],
   "outputs": [],
   "execution_count": 31
  },
  {
   "metadata": {},
   "cell_type": "markdown",
   "source": "# Loading of the data",
   "id": "9ed550955d695cf5"
  },
  {
   "metadata": {
    "ExecuteTime": {
     "end_time": "2025-01-03T22:40:13.931796Z",
     "start_time": "2025-01-03T22:39:50.782018Z"
    }
   },
   "cell_type": "code",
   "source": [
    "adr_train,adr_electrodes_pos,adr_train_bad_ch = load_eeg('./Data/TrainData/ADR_train.mat')\n",
    "adr_test, _ , adr_test_bad_ch = load_eeg('./Data/TrainData/ADR_test.mat')\n",
    "\n",
    "p6_train, p6_electrodes_pos, p6_train_bad_ch = load_eeg('./Data/TrainData/P6_train.mat')\n",
    "p6_test, _ , p6_test_bad_ch = load_eeg('./Data/TrainData/P6_test.mat')\n",
    "\n",
    "p7_train, p7_electrodes_pos, p7_train_bad_ch = load_eeg('./Data/TrainData/P7_train.mat')\n",
    "p7_test, _ , p7_test_bad_ch = load_eeg('./Data/TrainData/P7_test.mat')\n",
    "\n",
    "p8_train, p8_electrodes_pos, p8_train_bad_ch = load_eeg('./Data/TrainData/P8_train.mat')\n",
    "p8_test, _ , p8_test_bad_ch = load_eeg('./Data/TrainData/P8_test.mat')"
   ],
   "id": "88f2bda51420d7db",
   "outputs": [
    {
     "name": "stdout",
     "output_type": "stream",
     "text": [
      "Loading EEG from ./Data/TrainData/ADR_train.mat\n",
      "Loading EEG from ./Data/TrainData/ADR_test.mat\n",
      "Loading EEG from ./Data/TrainData/P6_train.mat\n",
      "No bad channels in the data\n",
      "Loading EEG from ./Data/TrainData/P6_test.mat\n",
      "No bad channels in the data\n",
      "Loading EEG from ./Data/TrainData/P7_train.mat\n",
      "No bad channels in the data\n",
      "Loading EEG from ./Data/TrainData/P7_test.mat\n",
      "Loading EEG from ./Data/TrainData/P8_train.mat\n",
      "Loading EEG from ./Data/TrainData/P8_test.mat\n"
     ]
    }
   ],
   "execution_count": 2
  },
  {
   "metadata": {},
   "cell_type": "markdown",
   "source": "## Data pre-processing",
   "id": "a0e92ece42e6c472"
  },
  {
   "metadata": {
    "ExecuteTime": {
     "end_time": "2025-01-03T22:40:20.416288Z",
     "start_time": "2025-01-03T22:40:13.932798Z"
    }
   },
   "cell_type": "code",
   "source": [
    "print(\"ADR train dataset :\")\n",
    "adr_epochs_train,adr_train = create_epochs(adr_train,n_channels=128, ch_pos=adr_electrodes_pos, bad_channels= adr_train_bad_ch, baseline=None)\n",
    "print(\"ADR test dataset :\")\n",
    "adr_epochs_test,adr_test = create_epochs(adr_test,n_channels=128, ch_pos=adr_electrodes_pos, bad_channels= adr_test_bad_ch, baseline=None)\n",
    "\n",
    "adr_epochs_train, adr_epochs_test = synchronize_channels_directly(adr_epochs_train, adr_epochs_test)\n",
    "\n",
    "print(\"p6 train dataset :\")\n",
    "p6_epochs_train, p6_train = create_epochs(p6_train,n_channels=128, ch_pos=p6_electrodes_pos, bad_channels= p6_train_bad_ch, baseline=None)\n",
    "print(\"p6 test dataset :\")\n",
    "p6_epochs_test, p6_test = create_epochs(p6_test,n_channels=128, ch_pos=p6_electrodes_pos, bad_channels= p6_test_bad_ch, baseline=None)\n",
    "\n",
    "p6_epochs_train, p6_epochs_test = synchronize_channels_directly(p6_epochs_train, p6_epochs_test)\n",
    "\n",
    "print(\"p7 train dataset :\")\n",
    "p7_epochs_train, p7_train = create_epochs(p7_train,n_channels=128, ch_pos=p7_electrodes_pos, bad_channels= p7_train_bad_ch, baseline=None)\n",
    "print(\"p7 test dataset :\")\n",
    "p7_epochs_test, p7_test = create_epochs(p7_test,n_channels=128, ch_pos=p7_electrodes_pos, bad_channels= p7_test_bad_ch, baseline=None)\n",
    "\n",
    "p7_epochs_train, p7_epochs_test = synchronize_channels_directly(p7_epochs_train, p7_epochs_test)\n",
    "\n",
    "print(\"p8 train dataset :\")\n",
    "p8_epochs_train, p8_train = create_epochs(p8_train,n_channels=128, ch_pos=p8_electrodes_pos, bad_channels= p8_train_bad_ch, baseline=None)\n",
    "print(\"p8 test dataset :\")\n",
    "p8_epochs_test, p8_test = create_epochs(p8_test,n_channels=128, ch_pos=p8_electrodes_pos, bad_channels= p8_test_bad_ch, baseline=None)\n",
    "\n",
    "p8_epochs_train, p8_epochs_test = synchronize_channels_directly(p8_epochs_train, p8_epochs_test)"
   ],
   "id": "585d390ffbc7b32b",
   "outputs": [
    {
     "name": "stdout",
     "output_type": "stream",
     "text": [
      "ADR train dataset :\n",
      "Dropping bad channels: ['B3', 'C32', 'D6']\n",
      "Dropping zero channels: ['A1']\n",
      "Dropping zero epochs: [3, 31, 43, 72, 74, 80, 139, 147, 218, 259, 296, 300]\n",
      "ADR test dataset :\n",
      "Dropping bad channels: ['B3', 'C32', 'D6', 'D7']\n",
      "Dropping zero channels: ['A1']\n",
      "Dropping zero epochs: [169, 187, 200, 201, 212, 215, 260, 261, 262, 271, 290, 293, 300, 301]\n",
      "p6 train dataset :\n",
      "Dropping bad channels: []\n",
      "Dropping zero channels: []\n",
      "Dropping zero epochs: []\n",
      "p6 test dataset :\n",
      "Dropping bad channels: []\n",
      "Dropping zero channels: []\n",
      "Dropping zero epochs: []\n",
      "p7 train dataset :\n",
      "Dropping bad channels: []\n",
      "Dropping zero channels: []\n",
      "Dropping zero epochs: [71, 72, 73, 88, 89, 100, 120, 130, 131, 142, 161, 162, 188, 189, 190, 191, 192, 243, 252, 253, 263, 300, 301, 302, 303, 337, 353, 368, 387, 390, 395, 433, 437, 440, 457, 458, 459, 487, 488, 489, 490, 494]\n",
      "p7 test dataset :\n",
      "Dropping bad channels: ['B15']\n",
      "Dropping zero channels: []\n",
      "Dropping zero epochs: []\n",
      "p8 train dataset :\n",
      "Dropping bad channels: ['A26', 'A27']\n",
      "Dropping zero channels: []\n",
      "Dropping zero epochs: [17, 18, 19, 163, 164, 340, 440, 513]\n",
      "p8 test dataset :\n",
      "Dropping bad channels: ['A14', 'A25']\n",
      "Dropping zero channels: []\n",
      "Dropping zero epochs: [404, 405, 407, 409, 411, 417, 422]\n"
     ]
    }
   ],
   "execution_count": 3
  },
  {
   "metadata": {},
   "cell_type": "markdown",
   "source": "# Raw Data analysis",
   "id": "267ddaa8b5d1d46e"
  },
  {
   "metadata": {},
   "cell_type": "markdown",
   "source": "## PSD on raw data",
   "id": "3c407a6e07bcf90f"
  },
  {
   "metadata": {
    "ExecuteTime": {
     "end_time": "2025-01-03T22:42:25.673952Z",
     "start_time": "2025-01-03T22:40:20.418296Z"
    }
   },
   "cell_type": "code",
   "source": [
    "adr_psd_train = compute_psd(adr_epochs_train,tmin=0.0, tmax=3.0)\n",
    "save_psd_plot(adr_psd_train,output_dir='./Image/PSD_plots/Raw', filename= \"adr_train_psd_plot\", title= \"PSD ADR Train Raw data\")\n",
    "plot_topomap(adr_psd_train, bands={\"10 Hz\": 10, \"20 Hz\": 20, \"20-30 Hz\": (20, 30), \"40-50 Hz\": (40, 50)},\n",
    "             output_dir='./Image/PSD_Topomap_plots/Raw',filename=\"adr_train_psd_plot_topo_raw\")\n",
    "\n",
    "adr_psd_test = compute_psd(adr_epochs_test, tmin=0.0, tmax=3.0)\n",
    "save_psd_plot(adr_psd_test,output_dir='./Image/PSD_plots/Raw', filename=\"adr_test_psd_plot\", title= \"PSD ADR Test Raw data\")\n",
    "plot_topomap(adr_psd_test, bands={\"10 Hz\": 10, \"20 Hz\": 20, \"20-30 Hz\": (20, 30), \"40-50 Hz\": (40, 50)},\n",
    "             output_dir='./Image/PSD_Topomap_plots/Raw',filename=\"adr_test_psd_plot_topo_raw\")\n",
    "\n",
    "p6_psd_train = compute_psd(p6_epochs_train)\n",
    "save_psd_plot(p6_psd_train,output_dir='./Image/PSD_plots/Raw', filename=\"p6_train_psd_plot\", title= \"PSD P6 Train Raw data\")\n",
    "plot_topomap(p6_psd_train, bands={\"10 Hz\": 10, \"20 Hz\": 20, \"10-25 Hz\": (10, 25), \"40-50 Hz\": (40, 50)},\n",
    "             output_dir='./Image/PSD_Topomap_plots/Raw',filename=\"p6_train_psd_plot_topo_raw\")\n",
    "\n",
    "p6_psd_test = compute_psd(p6_epochs_test)\n",
    "save_psd_plot(p6_psd_test,output_dir='./Image/PSD_plots/Raw', filename=\"p6_test_psd_plot\", title= \"PSD P6 Test Raw data\")\n",
    "plot_topomap(p6_psd_test, bands={\"10 Hz\": 10, \"20 Hz\": 20, \"10-25 Hz\": (10, 25), \"40-50 Hz\": (40, 50)},\n",
    "             output_dir='./Image/PSD_Topomap_plots/Raw',filename=\"p6_test_psd_plot_topo\")\n",
    "\n",
    "p7_psd_train = compute_psd(p7_epochs_train)\n",
    "save_psd_plot(p7_psd_train, output_dir='./Image/PSD_plots/Raw', filename=\"p7_train_psd_plot\", title= \"PSD P7 Train Raw data\")\n",
    "plot_topomap(p7_psd_train, bands={\"10 Hz\": 10, \"20 Hz\": 20, \"10-25 Hz\": (10, 25), \"40-50 Hz\": (40, 50)},\n",
    "             output_dir='./Image/PSD_Topomap_plots/Raw',filename=\"p7_train_psd_plot_topo_raw\")\n",
    "\n",
    "p7_psd_test = compute_psd(p7_epochs_test)\n",
    "save_psd_plot(p7_psd_test, output_dir='./Image/PSD_plots/Raw', filename=\"p7_test_psd_plot\", title= \"PSD P7 Test Raw data\")\n",
    "plot_topomap(p7_psd_test, bands={\"10 Hz\": 10, \"20 Hz\": 20, \"10-25 Hz\": (10, 25), \"40-50 Hz\": (40, 50)},\n",
    "             output_dir='./Image/PSD_Topomap_plots/Raw',filename=\"p7_test_psd_plot_topo\")\n",
    "\n",
    "p8_psd_train = compute_psd(p8_epochs_train)\n",
    "save_psd_plot(p8_psd_train,output_dir='./Image/PSD_plots/Raw', filename=\"p8_train_psd_plot\", title= \"PSD P8 Train Raw data\")\n",
    "plot_topomap(p8_psd_train, bands={\"10 Hz\": 10, \"20 Hz\": 20, \"10-25 Hz\": (10, 25), \"40-50 Hz\": (40, 50)},\n",
    "             output_dir='./Image/PSD_Topomap_plots/Raw',filename=\"p8_train_psd_plot_topo_raw\")\n",
    "\n",
    "p8_psd_test = compute_psd(p8_epochs_test)\n",
    "save_psd_plot(p8_psd_test,output_dir='./Image/PSD_plots/Raw', filename=\"p8_test_psd_plot\", title= \"PSD P8 Test Raw data\")\n",
    "plot_topomap(p8_psd_test, bands={\"10 Hz\": 10, \"20 Hz\": 20, \"10-25 Hz\": (10, 25), \"40-50 Hz\": (40, 50)},\n",
    "             output_dir='./Image/PSD_Topomap_plots/Raw',filename=\"p8_test_psd_plot_topo\")"
   ],
   "id": "8fd1aea45d9571c7",
   "outputs": [
    {
     "name": "stdout",
     "output_type": "stream",
     "text": [
      "Effective window size : 3.000 (s)\n",
      "Averaging across epochs...\n",
      "PSD plot saved as './Image/PSD_plots/Raw\\adr_train_psd_plot.png'\n",
      "Topomap plot saved as './Image/PSD_Topomap_plots/Raw\\adr_train_psd_plot_topo_raw.png'\n",
      "Effective window size : 3.000 (s)\n",
      "Averaging across epochs...\n",
      "PSD plot saved as './Image/PSD_plots/Raw\\adr_test_psd_plot.png'\n",
      "Topomap plot saved as './Image/PSD_Topomap_plots/Raw\\adr_test_psd_plot_topo_raw.png'\n",
      "Effective window size : 2.000 (s)\n",
      "Averaging across epochs...\n",
      "PSD plot saved as './Image/PSD_plots/Raw\\p6_train_psd_plot.png'\n",
      "Topomap plot saved as './Image/PSD_Topomap_plots/Raw\\p6_train_psd_plot_topo_raw.png'\n",
      "Effective window size : 2.000 (s)\n",
      "Averaging across epochs...\n",
      "PSD plot saved as './Image/PSD_plots/Raw\\p6_test_psd_plot.png'\n",
      "Topomap plot saved as './Image/PSD_Topomap_plots/Raw\\p6_test_psd_plot_topo.png'\n",
      "Effective window size : 2.000 (s)\n",
      "Averaging across epochs...\n",
      "PSD plot saved as './Image/PSD_plots/Raw\\p7_train_psd_plot.png'\n",
      "Topomap plot saved as './Image/PSD_Topomap_plots/Raw\\p7_train_psd_plot_topo_raw.png'\n",
      "Effective window size : 2.000 (s)\n",
      "Averaging across epochs...\n",
      "PSD plot saved as './Image/PSD_plots/Raw\\p7_test_psd_plot.png'\n",
      "Topomap plot saved as './Image/PSD_Topomap_plots/Raw\\p7_test_psd_plot_topo.png'\n",
      "Effective window size : 2.000 (s)\n",
      "Averaging across epochs...\n",
      "PSD plot saved as './Image/PSD_plots/Raw\\p8_train_psd_plot.png'\n",
      "Topomap plot saved as './Image/PSD_Topomap_plots/Raw\\p8_train_psd_plot_topo_raw.png'\n",
      "Effective window size : 2.000 (s)\n",
      "Averaging across epochs...\n",
      "PSD plot saved as './Image/PSD_plots/Raw\\p8_test_psd_plot.png'\n",
      "Topomap plot saved as './Image/PSD_Topomap_plots/Raw\\p8_test_psd_plot_topo.png'\n"
     ]
    }
   ],
   "execution_count": 4
  },
  {
   "metadata": {},
   "cell_type": "markdown",
   "source": "## ICA on Raw data",
   "id": "28140d3980d0506f"
  },
  {
   "metadata": {
    "ExecuteTime": {
     "end_time": "2025-01-03T22:50:08.684727Z",
     "start_time": "2025-01-03T22:42:25.674950Z"
    }
   },
   "cell_type": "code",
   "source": [
    "import warnings\n",
    "\n",
    "warnings.filterwarnings(\n",
    "    \"ignore\",\n",
    "    category=RuntimeWarning,\n",
    "    message=\"The data has not been high-pass filtered.*\"\n",
    ")\n",
    "\n",
    "adr_ica_train = mne.preprocessing.ICA(n_components=10, method='infomax', random_state=42, verbose = 'CRITICAL')\n",
    "adr_ica_train.fit(inst=adr_epochs_train)\n",
    "adr_ica_test = mne.preprocessing.ICA(n_components=10, method='infomax', random_state=42, verbose = 'CRITICAL')\n",
    "adr_ica_test.fit(inst=adr_epochs_test)\n",
    "\n",
    "p6_ica_train = mne.preprocessing.ICA(n_components=10, method='infomax', random_state=42, verbose = 'CRITICAL')\n",
    "p6_ica_train.fit(inst=p6_epochs_train)\n",
    "p6_ica_test = mne.preprocessing.ICA(n_components=10, method='infomax', random_state=42, verbose = 'CRITICAL')\n",
    "p6_ica_test.fit(inst=p6_epochs_test)\n",
    "\n",
    "p7_ica_train = mne.preprocessing.ICA(n_components=10, method='infomax', random_state=42, verbose = 'CRITICAL')\n",
    "p7_ica_train.fit(inst=p7_epochs_train)\n",
    "p7_ica_test = mne.preprocessing.ICA(n_components=10, method='infomax', random_state=42, verbose = 'CRITICAL')\n",
    "p7_ica_test.fit(inst=p7_epochs_test)\n",
    "\n",
    "p8_ica_train = mne.preprocessing.ICA(n_components=10, method='infomax', random_state=42, verbose = 'CRITICAL')\n",
    "p8_ica_train.fit(inst=p8_epochs_train)\n",
    "p8_ica_test = mne.preprocessing.ICA(n_components=10, method='infomax', random_state=42, verbose = 'CRITICAL')\n",
    "p8_ica_test.fit(inst=p8_epochs_test)\n",
    "\n",
    "save_ica_component_properties(adr_ica_train, adr_epochs_train, \"adr_train\", output_dir=\"./Image/ICA/Raw Data/ADR Train\")\n",
    "save_ica_component_properties(adr_ica_test,adr_epochs_test, \"adr_test\", output_dir=\"./Image/ICA/Raw Data/ADR Test\")\n",
    "\n",
    "save_ica_component_properties(p6_ica_train, p6_epochs_train, \"p6_train\", output_dir=\"./Image/ICA/Raw Data/P6 Train\")\n",
    "save_ica_component_properties(p6_ica_test,p6_epochs_test, \"p6_test\", output_dir=\"./Image/ICA/Raw Data/P6 Test\")\n",
    "\n",
    "save_ica_component_properties(p7_ica_train,p7_epochs_train, \"p7_train\", output_dir=\"./Image/ICA/Raw Data/P7 Train\")\n",
    "save_ica_component_properties(p7_ica_test,p7_epochs_test, \"p7_test\", output_dir=\"./Image/ICA/Raw Data/P7 Test\")\n",
    "\n",
    "save_ica_component_properties(p8_ica_train, p8_epochs_train, \"p8_train\", output_dir=\"./Image/ICA/Raw Data/P8 Train\")\n",
    "save_ica_component_properties(p8_ica_test,p8_epochs_test, \"p8_test\", output_dir=\"./Image/ICA/Raw Data/P8 Test\")\n"
   ],
   "id": "a6c4d1fe0fc60802",
   "outputs": [
    {
     "name": "stdout",
     "output_type": "stream",
     "text": [
      "Fitting ICA to data using 123 channels (please be patient, this may take a while)\n",
      "Selecting by number: 10 components\n",
      " \n",
      "Fitting ICA took 47.8s.\n",
      "Fitting ICA to data using 123 channels (please be patient, this may take a while)\n",
      "Selecting by number: 10 components\n",
      " \n",
      "Fitting ICA took 39.7s.\n",
      "Fitting ICA to data using 128 channels (please be patient, this may take a while)\n",
      "Selecting by number: 10 components\n",
      " \n",
      "Fitting ICA took 46.3s.\n",
      "Fitting ICA to data using 128 channels (please be patient, this may take a while)\n",
      "Selecting by number: 10 components\n",
      " \n",
      "Fitting ICA took 47.6s.\n",
      "Fitting ICA to data using 127 channels (please be patient, this may take a while)\n",
      "Selecting by number: 10 components\n",
      " \n",
      "Fitting ICA took 43.4s.\n",
      "Fitting ICA to data using 127 channels (please be patient, this may take a while)\n",
      "Selecting by number: 10 components\n",
      " \n",
      "Fitting ICA took 47.9s.\n",
      "Fitting ICA to data using 124 channels (please be patient, this may take a while)\n",
      "Selecting by number: 10 components\n",
      " \n",
      "Fitting ICA took 44.4s.\n",
      "Fitting ICA to data using 124 channels (please be patient, this may take a while)\n",
      "Selecting by number: 10 components\n",
      " \n",
      "Fitting ICA took 41.8s.\n",
      "All ICA component properties saved to: ./Image/ICA/Raw Data/ADR Train\n",
      "All ICA component properties saved to: ./Image/ICA/Raw Data/ADR Test\n",
      "All ICA component properties saved to: ./Image/ICA/Raw Data/P6 Train\n",
      "All ICA component properties saved to: ./Image/ICA/Raw Data/P6 Test\n",
      "All ICA component properties saved to: ./Image/ICA/Raw Data/P7 Train\n",
      "All ICA component properties saved to: ./Image/ICA/Raw Data/P7 Test\n",
      "All ICA component properties saved to: ./Image/ICA/Raw Data/P8 Train\n",
      "All ICA component properties saved to: ./Image/ICA/Raw Data/P8 Test\n"
     ]
    }
   ],
   "execution_count": 5
  },
  {
   "metadata": {},
   "cell_type": "markdown",
   "source": "# Visual Contrast Threshold Prediction",
   "id": "43920bceb28d2e45"
  },
  {
   "metadata": {},
   "cell_type": "markdown",
   "source": "## LDA",
   "id": "d9e6ed76141e10b"
  },
  {
   "metadata": {
    "ExecuteTime": {
     "end_time": "2025-01-03T22:50:48.492178Z",
     "start_time": "2025-01-03T22:50:08.687730Z"
    }
   },
   "cell_type": "code",
   "source": [
    "compute_accuracy_vs_contrast_with_sigmoid(adr_epochs_train, adr_train, adr_epochs_test, adr_test, 'LDA', predict_baseline = False, plot = True, min_samples=5, output_dir ='./Image/Threshold_Prediction/Raw', filename='ADR_LDA', title = 'ADR Frequency Prediction Accuracy vs Contrast (LDA, Raw Data)'\n",
    "                                          )\n",
    "compute_accuracy_vs_contrast_with_sigmoid(p6_epochs_train, p6_train, p6_epochs_test, p6_test, 'LDA', predict_baseline = False, plot = True, min_samples=5, output_dir ='./Image/Threshold_Prediction/Raw', filename='P6_LDA',title = 'P6 Frequency Prediction Accuracy vs Contrast (LDA, Raw Data)'\n",
    "                                          )\n",
    "compute_accuracy_vs_contrast_with_sigmoid(p7_epochs_train, p7_train, p7_epochs_test, p7_test, 'LDA', predict_baseline = False, plot = True, min_samples=5, output_dir ='./Image/Threshold_Prediction/Raw', filename='P7_LDA',title = 'P7 Frequency Prediction Accuracy vs Contrast (LDA, Raw Data)'\n",
    "                                          )\n",
    "compute_accuracy_vs_contrast_with_sigmoid(p8_epochs_train, p8_train, p8_epochs_test, p8_test, 'LDA', predict_baseline = False, plot = True, min_samples=5, output_dir='./Image/Threshold_Prediction/Raw', filename='P8_LDA',title = 'P8 Frequency Prediction Accuracy vs Contrast (LDA, Raw Data)'\n",
    "                                          )"
   ],
   "id": "8d03d0a555f062a2",
   "outputs": [],
   "execution_count": 6
  },
  {
   "metadata": {},
   "cell_type": "markdown",
   "source": "# SVM",
   "id": "61893ffd5e150371"
  },
  {
   "metadata": {
    "ExecuteTime": {
     "end_time": "2025-01-03T22:55:11.075841Z",
     "start_time": "2025-01-03T22:50:48.493182Z"
    }
   },
   "cell_type": "code",
   "source": [
    "compute_accuracy_vs_contrast_with_sigmoid(adr_epochs_train, adr_train, adr_epochs_test, adr_test, 'SVM', predict_baseline = False, plot = True, min_samples=5, output_dir ='./Image/Threshold_Prediction/Raw', filename='ADR_SVM',title = 'ADR Frequency Prediction Accuracy vs Contrast (SVM, Raw Data)'\n",
    "                                          )\n",
    "compute_accuracy_vs_contrast_with_sigmoid(p6_epochs_train, p6_train, p6_epochs_test, p6_test, 'SVM', predict_baseline = False, plot = True, min_samples=5, output_dir ='./Image/Threshold_Prediction/Raw', filename='P6_SVM',title = 'P6 Frequency Prediction Accuracy vs Contrast (SVM, Raw Data)'\n",
    "                                          )\n",
    "compute_accuracy_vs_contrast_with_sigmoid(p7_epochs_train, p7_train, p7_epochs_test, p7_test, 'SVM', predict_baseline = False, plot = True, min_samples=5, output_dir ='./Image/Threshold_Prediction/Raw', filename='P7_SVM',title = 'P7 Frequency Prediction Accuracy vs Contrast (SVM, Raw Data)'\n",
    "                                          )\n",
    "compute_accuracy_vs_contrast_with_sigmoid(p8_epochs_train, p8_train, p8_epochs_test, p8_test, 'SVM', predict_baseline = False, plot = True, min_samples=5, output_dir='./Image/Threshold_Prediction/Raw', filename='P8_SVM',title = 'P8 Frequency Prediction Accuracy vs Contrast (SVM, Raw Data)'\n",
    "                                          )"
   ],
   "id": "1f07ad4cea08e95e",
   "outputs": [],
   "execution_count": 7
  },
  {
   "metadata": {},
   "cell_type": "markdown",
   "source": "## CNN",
   "id": "94cfc8ba170a4eb"
  },
  {
   "metadata": {
    "ExecuteTime": {
     "end_time": "2025-01-03T23:26:06.112638Z",
     "start_time": "2025-01-03T23:24:25.939208Z"
    }
   },
   "cell_type": "code",
   "source": [
    "compute_accuracy_vs_contrast_with_sigmoid(adr_epochs_train, adr_train, adr_epochs_test, adr_test, 'CNN', predict_baseline = False, plot = True, min_samples=5, output_dir ='./Image/Threshold_Prediction/Raw', filename='ADR_CNN',epochs_cnn=100,verbose_cnn=0,title = 'ADR Frequency Prediction Accuracy vs Contrast (CNN, Raw Data)', max_fev=100000\n",
    "                                          )\n",
    "compute_accuracy_vs_contrast_with_sigmoid(p6_epochs_train, p6_train, p6_epochs_test, p6_test, 'CNN', predict_baseline = False, plot = True, min_samples=5, output_dir ='./Image/Threshold_Prediction/Raw', filename='P6_CNN',epochs_cnn=100,verbose_cnn=0,title = 'P6 Frequency Prediction Accuracy vs Contrast (CNN, Raw Data)', max_fev=100000\n",
    "                                          )\n",
    "compute_accuracy_vs_contrast_with_sigmoid(p7_epochs_train, p7_train, p7_epochs_test, p7_test, 'CNN', predict_baseline = False, plot = True, min_samples=5, output_dir ='./Image/Threshold_Prediction/Raw', filename='P7_CNN',epochs_cnn=100,verbose_cnn=0,title = 'P7 Frequency Prediction Accuracy vs Contrast (CNN, Raw Data)', max_fev=100000\n",
    "                                          )\n",
    "compute_accuracy_vs_contrast_with_sigmoid(p8_epochs_train, p8_train, p8_epochs_test, p8_test, 'CNN', predict_baseline = False, plot = True, min_samples=5, output_dir='./Image/Threshold_Prediction/Raw', filename='P8_CNN',epochs_cnn=100,verbose_cnn=0,title = 'P8 Frequency Prediction Accuracy vs Contrast (CNN, Raw Data)', max_fev=100000\n",
    "                                          )"
   ],
   "id": "f476ff9c0b86315e",
   "outputs": [
    {
     "name": "stdout",
     "output_type": "stream",
     "text": [
      "10/10 [==============================] - 0s 6ms/step\n",
      "17/17 [==============================] - 0s 5ms/step\n",
      "17/17 [==============================] - 0s 5ms/step\n",
      "17/17 [==============================] - 0s 4ms/step\n"
     ]
    }
   ],
   "execution_count": 32
  },
  {
   "metadata": {},
   "cell_type": "markdown",
   "source": "## Filtering channels to keep the 60 bottom ones",
   "id": "d44efdde3aaa1f4"
  },
  {
   "metadata": {
    "ExecuteTime": {
     "end_time": "2025-01-03T22:58:00.531043Z",
     "start_time": "2025-01-03T22:57:59.992567Z"
    }
   },
   "cell_type": "code",
   "source": [
    "adr_epochs_train_ch_filter = filter_electrodes(adr_epochs_train)\n",
    "adr_epochs_test_ch_filter = filter_electrodes(adr_epochs_test)\n",
    "\n",
    "p6_epochs_train_ch_filter = filter_electrodes(p6_epochs_train)\n",
    "p6_epochs_test_ch_filter = filter_electrodes(p6_epochs_test)\n",
    "\n",
    "p7_epochs_train_ch_filter = filter_electrodes(p7_epochs_train)\n",
    "p7_epochs_test_ch_filter = filter_electrodes(p7_epochs_test)\n",
    "\n",
    "\n",
    "p8_epochs_train_ch_filter = filter_electrodes(p8_epochs_train)\n",
    "p8_epochs_test_ch_filter = filter_electrodes(p8_epochs_test)"
   ],
   "id": "7b553f49907ff3de",
   "outputs": [],
   "execution_count": 10
  },
  {
   "metadata": {},
   "cell_type": "markdown",
   "source": "# Visual Contrast Threshold Prediction on Raw Data with filtering of occipital electrode region",
   "id": "44d0391fa1a968eb"
  },
  {
   "metadata": {},
   "cell_type": "markdown",
   "source": "## LDA",
   "id": "d598aae5be4ffa78"
  },
  {
   "metadata": {
    "ExecuteTime": {
     "end_time": "2025-01-03T22:58:19.525601Z",
     "start_time": "2025-01-03T22:58:00.532045Z"
    }
   },
   "cell_type": "code",
   "source": [
    "compute_accuracy_vs_contrast_with_sigmoid(adr_epochs_train_ch_filter, adr_train, adr_epochs_test_ch_filter, adr_test, 'LDA', predict_baseline = False, plot = True, min_samples=5, output_dir ='./Image/Threshold_Prediction/Raw_ch_filter', filename='ADR_LDA', title = 'ADR Frequency Prediction Accuracy vs Contrast (LDA, Filtered channels)'\n",
    "                                          )\n",
    "compute_accuracy_vs_contrast_with_sigmoid(p6_epochs_train_ch_filter, p6_train, p6_epochs_test_ch_filter, p6_test, 'LDA', predict_baseline = False, plot = True, min_samples=5, output_dir ='./Image/Threshold_Prediction/Raw_ch_filter', filename='P6_LDA', title = 'P6 Frequency Prediction Accuracy vs Contrast (LDA, Filtered channels)'\n",
    "                                          )\n",
    "compute_accuracy_vs_contrast_with_sigmoid(p7_epochs_train_ch_filter, p7_train, p7_epochs_test_ch_filter, p7_test, 'LDA', predict_baseline = False, plot = True, min_samples=5, output_dir ='./Image/Threshold_Prediction/Raw_ch_filter', filename='P7_LDA', title = 'P7 Frequency Prediction Accuracy vs Contrast (LDA, Filtered channels)'\n",
    "                                          )\n",
    "compute_accuracy_vs_contrast_with_sigmoid(p8_epochs_train_ch_filter, p8_train, p8_epochs_test_ch_filter, p8_test, 'LDA', predict_baseline = False, plot = True, min_samples=5, output_dir='./Image/Threshold_Prediction/Raw_ch_filter', filename='P8_LDA', title = 'P8 Frequency Prediction Accuracy vs Contrast (LDA, Filtered channels)'\n",
    "                                          )"
   ],
   "id": "90207f350743dff2",
   "outputs": [],
   "execution_count": 11
  },
  {
   "metadata": {},
   "cell_type": "markdown",
   "source": "# SVM",
   "id": "fd6765f031863823"
  },
  {
   "metadata": {
    "ExecuteTime": {
     "end_time": "2025-01-03T22:59:09.001720Z",
     "start_time": "2025-01-03T22:58:19.526603Z"
    }
   },
   "cell_type": "code",
   "source": [
    "compute_accuracy_vs_contrast_with_sigmoid(adr_epochs_train_ch_filter, adr_train, adr_epochs_test_ch_filter, adr_test, 'SVM', predict_baseline = False, plot = True, min_samples=5, output_dir ='./Image/Threshold_Prediction/Raw_ch_filter', filename='ADR_SVM', title = 'ADR Frequency Prediction Accuracy vs Contrast (SVM, Filtered channels)'\n",
    "                                          )\n",
    "compute_accuracy_vs_contrast_with_sigmoid(p6_epochs_train_ch_filter, p6_train, p6_epochs_test_ch_filter, p6_test, 'SVM', predict_baseline = False, plot = True, min_samples=5, output_dir ='./Image/Threshold_Prediction/Raw_ch_filter', filename='P6_SVM', title = 'P6 Frequency Prediction Accuracy vs Contrast (SVM, Filtered channels)'\n",
    "                                          )\n",
    "compute_accuracy_vs_contrast_with_sigmoid(p7_epochs_train_ch_filter, p7_train, p7_epochs_test_ch_filter, p7_test, 'SVM', predict_baseline = False, plot = True, min_samples=5, output_dir ='./Image/Threshold_Prediction/Raw_ch_filter', filename='P7_SVM', title = 'P7 Frequency Prediction Accuracy vs Contrast (SVM, Filtered channels)'\n",
    "                                          )\n",
    "compute_accuracy_vs_contrast_with_sigmoid(p8_epochs_train_ch_filter, p8_train, p8_epochs_test_ch_filter, p8_test, 'SVM', predict_baseline = False, plot = True, min_samples=5, output_dir='./Image/Threshold_Prediction/Raw_ch_filter', filename='P8_SVM', title = 'P8 Frequency Prediction Accuracy vs Contrast (SVM, Filtered channels)'\n",
    "                                          )"
   ],
   "id": "ce4312408227933d",
   "outputs": [],
   "execution_count": 12
  },
  {
   "metadata": {},
   "cell_type": "markdown",
   "source": "# CNN",
   "id": "c07a8b5dfeca97a3"
  },
  {
   "metadata": {
    "ExecuteTime": {
     "end_time": "2025-01-03T23:28:34.930475Z",
     "start_time": "2025-01-03T23:26:57.562583Z"
    }
   },
   "cell_type": "code",
   "source": [
    "compute_accuracy_vs_contrast_with_sigmoid(adr_epochs_train_ch_filter, adr_train, adr_epochs_test_ch_filter, adr_test, 'CNN', predict_baseline = False, plot = True, min_samples=5, output_dir ='./Image/Threshold_Prediction/Raw_ch_filter', filename='ADR_CNN',epochs_cnn=100,verbose_cnn=0, title = 'ADR Frequency Prediction Accuracy vs Contrast (CNN, Filtered channels)', max_fev=100000, \n",
    "                                          )\n",
    "compute_accuracy_vs_contrast_with_sigmoid(p6_epochs_train_ch_filter, p6_train, p6_epochs_test_ch_filter, p6_test, 'CNN', predict_baseline = False, plot = True, min_samples=5, output_dir ='./Image/Threshold_Prediction/Raw_ch_filter', filename='P6_CNN',epochs_cnn=100,verbose_cnn=0, title = 'P6 Frequency Prediction Accuracy vs Contrast (CNN, Filtered channels)', max_fev=100000\n",
    "                                          )\n",
    "compute_accuracy_vs_contrast_with_sigmoid(p7_epochs_train_ch_filter, p7_train, p7_epochs_test_ch_filter, p7_test, 'CNN', predict_baseline = False, plot = True, min_samples=5, output_dir ='./Image/Threshold_Prediction/Raw_ch_filter', filename='P7_CNN',epochs_cnn=100,verbose_cnn=0, title = 'P7 Frequency Prediction Accuracy vs Contrast (CNN, Filtered channels)', max_fev=100000\n",
    "                                          )\n",
    "compute_accuracy_vs_contrast_with_sigmoid(p8_epochs_train_ch_filter, p8_train, p8_epochs_test_ch_filter, p8_test, 'CNN', predict_baseline = False, plot = True, min_samples=5, output_dir='./Image/Threshold_Prediction/Raw_ch_filter', filename='P8_CNN',epochs_cnn=100,verbose_cnn=0, title = 'P8 Frequency Prediction Accuracy vs Contrast (CNN, Filtered channels)', max_fev=100000\n",
    "                                          )"
   ],
   "id": "5955f6930ae0d47c",
   "outputs": [
    {
     "name": "stdout",
     "output_type": "stream",
     "text": [
      "10/10 [==============================] - 0s 6ms/step\n",
      "17/17 [==============================] - 0s 5ms/step\n",
      "17/17 [==============================] - 0s 5ms/step\n",
      "17/17 [==============================] - 0s 5ms/step\n"
     ]
    }
   ],
   "execution_count": 34
  },
  {
   "metadata": {},
   "cell_type": "markdown",
   "source": "# RESS Filtering",
   "id": "29047de6b110b50d"
  },
  {
   "metadata": {
    "ExecuteTime": {
     "end_time": "2025-01-03T23:02:22.407046Z",
     "start_time": "2025-01-03T23:00:45.843295Z"
    }
   },
   "cell_type": "code",
   "source": [
    "p8_train_ress_ch_pre_filtered = ress_pipeline(p8_epochs_train_ch_filter, p8_train, target_freq_map={1: 12, 2:20}, fwhm_signal=0.6, fwhm_reference=1.0,\n",
    "                                          tmin=0.0, tmax=2.0, shrinkage=0.01, output_dir= './Image/RESS_matrix', title_prefix=\"p8_train_ch_pre_filtered\")\n",
    "p8_test_ress_ch_pre_filtered = ress_pipeline(p8_epochs_test_ch_filter, p8_test, target_freq_map={1: 12, 2:20}, fwhm_signal=0.6, fwhm_reference=1.0,\n",
    "                                         tmin=0.0, tmax=2.0, shrinkage=0.01, output_dir= './Image/RESS_matrix', title_prefix=\"p8_test_ch_pre_filtered\")\n",
    "\n",
    "p7_train_ress_ch_pre_filtered = ress_pipeline(p7_epochs_train_ch_filter, p7_train, target_freq_map={1: 12, 2:20}, fwhm_signal=0.6, fwhm_reference=1.0,\n",
    "                                          tmin=0.0, tmax=2.0, shrinkage=0.01, output_dir= './Image/RESS_matrix', title_prefix=\"p7_train_ch_pre_filtered\")\n",
    "p7_test_ress_ch_pre_filtered = ress_pipeline(p7_epochs_test_ch_filter, p7_test, target_freq_map={1: 12, 2:20}, fwhm_signal=0.6, fwhm_reference=1.0,\n",
    "                                             tmin=0.0, tmax=2.0, shrinkage=0.01, output_dir= './Image/RESS_matrix', title_prefix=\"p7_test_ch_pre_filtered\")\n",
    "\n",
    "p6_train_ress_ch_pre_filtered = ress_pipeline(p6_epochs_train_ch_filter, p6_train, target_freq_map={1: 12, 2:20}, fwhm_signal=0.6, fwhm_reference=1.0,\n",
    "                                          tmin=0.0, tmax=2.0, shrinkage=0.01, output_dir= './Image/RESS_matrix', title_prefix=\"p6_train_ch_pre_filtered\")\n",
    "p6_test_ress_ch_pre_filtered = ress_pipeline(p6_epochs_test_ch_filter, p6_test, target_freq_map={1: 12, 2:20}, fwhm_signal=0.6, fwhm_reference=1.0,\n",
    "                                             tmin=0.0, tmax=2.0, shrinkage=0.01, output_dir= './Image/RESS_matrix', title_prefix=\"p6_test_ch_pre_filtered\")\n",
    "\n",
    "adr_train_ress_ch_pre_filtered = ress_pipeline(adr_epochs_train_ch_filter, adr_train, target_freq_map={1: 40, 2:48}, fwhm_signal=0.6, fwhm_reference=1.0,\n",
    "                                           tmin=0.0, tmax=3.0, shrinkage=0.01, output_dir= './Image/RESS_matrix', title_prefix=\"adr_train_ch_pre_filtered\")\n",
    "adr_test_ress_ch_pre_filtered = ress_pipeline(adr_epochs_test_ch_filter, adr_test, target_freq_map={1: 40, 2:48}, fwhm_signal=0.6, fwhm_reference=1.0,\n",
    "                                              tmin=0.0, tmax=3.0, shrinkage=0.01, output_dir= './Image/RESS_matrix', title_prefix=\"adr_test_ch_pre_filtered\")"
   ],
   "id": "b6e8dab74c9a42cd",
   "outputs": [
    {
     "name": "stdout",
     "output_type": "stream",
     "text": [
      "\n",
      "Effective window size : 2.000 (s)\n",
      "Averaging across epochs...\n",
      "\n",
      "Processing Frequency ID: 1 -> Target Frequency: 12 Hz\n",
      "Finished processing Frequency ID: 1 -> 12 Hz\n",
      "\n",
      "Processing Frequency ID: 2 -> Target Frequency: 20 Hz\n",
      "Finished processing Frequency ID: 2 -> 20 Hz\n",
      "RESS pipeline completed for all target frequencies.\n",
      "\n",
      "Effective window size : 2.000 (s)\n",
      "Averaging across epochs...\n",
      "\n",
      "Processing Frequency ID: 2 -> Target Frequency: 20 Hz\n",
      "Finished processing Frequency ID: 2 -> 20 Hz\n",
      "\n",
      "Processing Frequency ID: 1 -> Target Frequency: 12 Hz\n",
      "Finished processing Frequency ID: 1 -> 12 Hz\n",
      "RESS pipeline completed for all target frequencies.\n",
      "\n",
      "Effective window size : 2.000 (s)\n",
      "Averaging across epochs...\n",
      "\n",
      "Processing Frequency ID: 2 -> Target Frequency: 20 Hz\n",
      "Finished processing Frequency ID: 2 -> 20 Hz\n",
      "\n",
      "Processing Frequency ID: 1 -> Target Frequency: 12 Hz\n",
      "Finished processing Frequency ID: 1 -> 12 Hz\n",
      "RESS pipeline completed for all target frequencies.\n",
      "\n",
      "Effective window size : 2.000 (s)\n",
      "Averaging across epochs...\n",
      "\n",
      "Processing Frequency ID: 1 -> Target Frequency: 12 Hz\n",
      "Finished processing Frequency ID: 1 -> 12 Hz\n",
      "\n",
      "Processing Frequency ID: 2 -> Target Frequency: 20 Hz\n",
      "Finished processing Frequency ID: 2 -> 20 Hz\n",
      "RESS pipeline completed for all target frequencies.\n",
      "\n",
      "Effective window size : 2.000 (s)\n",
      "Averaging across epochs...\n",
      "\n",
      "Processing Frequency ID: 2 -> Target Frequency: 20 Hz\n",
      "Finished processing Frequency ID: 2 -> 20 Hz\n",
      "\n",
      "Processing Frequency ID: 1 -> Target Frequency: 12 Hz\n",
      "Finished processing Frequency ID: 1 -> 12 Hz\n",
      "RESS pipeline completed for all target frequencies.\n",
      "\n",
      "Effective window size : 2.000 (s)\n",
      "Averaging across epochs...\n",
      "\n",
      "Processing Frequency ID: 2 -> Target Frequency: 20 Hz\n",
      "Finished processing Frequency ID: 2 -> 20 Hz\n",
      "\n",
      "Processing Frequency ID: 1 -> Target Frequency: 12 Hz\n",
      "Finished processing Frequency ID: 1 -> 12 Hz\n",
      "RESS pipeline completed for all target frequencies.\n",
      "\n",
      "Effective window size : 3.000 (s)\n",
      "Averaging across epochs...\n",
      "\n",
      "Processing Frequency ID: 2 -> Target Frequency: 48 Hz\n",
      "Finished processing Frequency ID: 2 -> 48 Hz\n",
      "\n",
      "Processing Frequency ID: 1 -> Target Frequency: 40 Hz\n",
      "Finished processing Frequency ID: 1 -> 40 Hz\n",
      "RESS pipeline completed for all target frequencies.\n",
      "\n",
      "Effective window size : 3.000 (s)\n",
      "Averaging across epochs...\n",
      "\n",
      "Processing Frequency ID: 1 -> Target Frequency: 40 Hz\n",
      "Finished processing Frequency ID: 1 -> 40 Hz\n",
      "\n",
      "Processing Frequency ID: 2 -> Target Frequency: 48 Hz\n",
      "Finished processing Frequency ID: 2 -> 48 Hz\n",
      "RESS pipeline completed for all target frequencies.\n"
     ]
    }
   ],
   "execution_count": 14
  },
  {
   "metadata": {
    "ExecuteTime": {
     "end_time": "2025-01-03T23:03:59.835644Z",
     "start_time": "2025-01-03T23:02:22.408046Z"
    }
   },
   "cell_type": "code",
   "source": [
    "p8_train_ress_raw = ress_pipeline(p8_epochs_train, p8_train, target_freq_map={1: 12, 2:20}, fwhm_signal=0.6, fwhm_reference=1.0,\n",
    "                                              tmin=0.0, tmax=2.0, shrinkage=0.01, output_dir= './Image/RESS_matrix', title_prefix=\"p8_train_raw\")\n",
    "p8_test_ress_raw = ress_pipeline(p8_epochs_test, p8_test, target_freq_map={1: 12, 2:20}, fwhm_signal=0.6, fwhm_reference=1.0,\n",
    "                                             tmin=0.0, tmax=2.0, shrinkage=0.01, output_dir= './Image/RESS_matrix', title_prefix=\"p8_test_raw\")\n",
    "\n",
    "p7_train_ress_raw = ress_pipeline(p7_epochs_train, p7_train, target_freq_map={1: 12, 2:20}, fwhm_signal=0.6, fwhm_reference=1.0,\n",
    "                                              tmin=0.0, tmax=2.0, shrinkage=0.01, output_dir= './Image/RESS_matrix', title_prefix=\"p7_train_raw\")\n",
    "p7_test_ress_raw = ress_pipeline(p7_epochs_test, p7_test, target_freq_map={1: 12, 2:20}, fwhm_signal=0.6, fwhm_reference=1.0,\n",
    "                                 tmin=0.0, tmax=2.0, shrinkage=0.01, output_dir= './Image/RESS_matrix', title_prefix=\"p7_test_raw\")\n",
    "\n",
    "p6_train_ress_raw = ress_pipeline(p6_epochs_train, p6_train, target_freq_map={1: 12, 2:20}, fwhm_signal=0.6, fwhm_reference=1.0,\n",
    "                                              tmin=0.0, tmax=2.0, shrinkage=0.01, output_dir= './Image/RESS_matrix', title_prefix=\"p6_train_raw\")\n",
    "p6_test_ress_raw = ress_pipeline(p6_epochs_test, p6_test, target_freq_map={1: 12, 2:20}, fwhm_signal=0.6, fwhm_reference=1.0,\n",
    "                                 tmin=0.0, tmax=2.0, shrinkage=0.01, output_dir= './Image/RESS_matrix', title_prefix=\"p6_test_raw\")\n",
    "\n",
    "adr_train_ress_raw = ress_pipeline(adr_epochs_train, adr_train, target_freq_map={1: 40, 2:48}, fwhm_signal=0.6, fwhm_reference=1.0,\n",
    "                                               tmin=0.0, tmax=3.0, shrinkage=0.01, output_dir= './Image/RESS_matrix', title_prefix=\"adr_train_raw\")\n",
    "adr_test_ress_raw = ress_pipeline(adr_epochs_test, adr_test, target_freq_map={1: 40, 2:48}, fwhm_signal=0.6, fwhm_reference=1.0,\n",
    "                                  tmin=0.0, tmax=3.0, shrinkage=0.01, output_dir= './Image/RESS_matrix', title_prefix=\"adr_test_raw\")"
   ],
   "id": "4b4d28c67a3a687",
   "outputs": [
    {
     "name": "stdout",
     "output_type": "stream",
     "text": [
      "\n",
      "Effective window size : 2.000 (s)\n",
      "Averaging across epochs...\n",
      "\n",
      "Processing Frequency ID: 1 -> Target Frequency: 12 Hz\n",
      "Finished processing Frequency ID: 1 -> 12 Hz\n",
      "\n",
      "Processing Frequency ID: 2 -> Target Frequency: 20 Hz\n",
      "Finished processing Frequency ID: 2 -> 20 Hz\n",
      "RESS pipeline completed for all target frequencies.\n",
      "\n",
      "Effective window size : 2.000 (s)\n",
      "Averaging across epochs...\n",
      "\n",
      "Processing Frequency ID: 2 -> Target Frequency: 20 Hz\n",
      "Finished processing Frequency ID: 2 -> 20 Hz\n",
      "\n",
      "Processing Frequency ID: 1 -> Target Frequency: 12 Hz\n",
      "Finished processing Frequency ID: 1 -> 12 Hz\n",
      "RESS pipeline completed for all target frequencies.\n",
      "\n",
      "Effective window size : 2.000 (s)\n",
      "Averaging across epochs...\n",
      "\n",
      "Processing Frequency ID: 2 -> Target Frequency: 20 Hz\n",
      "Finished processing Frequency ID: 2 -> 20 Hz\n",
      "\n",
      "Processing Frequency ID: 1 -> Target Frequency: 12 Hz\n",
      "Finished processing Frequency ID: 1 -> 12 Hz\n",
      "RESS pipeline completed for all target frequencies.\n",
      "\n",
      "Effective window size : 2.000 (s)\n",
      "Averaging across epochs...\n",
      "\n",
      "Processing Frequency ID: 1 -> Target Frequency: 12 Hz\n",
      "Finished processing Frequency ID: 1 -> 12 Hz\n",
      "\n",
      "Processing Frequency ID: 2 -> Target Frequency: 20 Hz\n",
      "Finished processing Frequency ID: 2 -> 20 Hz\n",
      "RESS pipeline completed for all target frequencies.\n",
      "\n",
      "Effective window size : 2.000 (s)\n",
      "Averaging across epochs...\n",
      "\n",
      "Processing Frequency ID: 2 -> Target Frequency: 20 Hz\n",
      "Finished processing Frequency ID: 2 -> 20 Hz\n",
      "\n",
      "Processing Frequency ID: 1 -> Target Frequency: 12 Hz\n",
      "Finished processing Frequency ID: 1 -> 12 Hz\n",
      "RESS pipeline completed for all target frequencies.\n",
      "\n",
      "Effective window size : 2.000 (s)\n",
      "Averaging across epochs...\n",
      "\n",
      "Processing Frequency ID: 2 -> Target Frequency: 20 Hz\n",
      "Finished processing Frequency ID: 2 -> 20 Hz\n",
      "\n",
      "Processing Frequency ID: 1 -> Target Frequency: 12 Hz\n",
      "Finished processing Frequency ID: 1 -> 12 Hz\n",
      "RESS pipeline completed for all target frequencies.\n",
      "\n",
      "Effective window size : 3.000 (s)\n",
      "Averaging across epochs...\n",
      "\n",
      "Processing Frequency ID: 2 -> Target Frequency: 48 Hz\n",
      "Finished processing Frequency ID: 2 -> 48 Hz\n",
      "\n",
      "Processing Frequency ID: 1 -> Target Frequency: 40 Hz\n",
      "Finished processing Frequency ID: 1 -> 40 Hz\n",
      "RESS pipeline completed for all target frequencies.\n",
      "\n",
      "Effective window size : 3.000 (s)\n",
      "Averaging across epochs...\n",
      "\n",
      "Processing Frequency ID: 1 -> Target Frequency: 40 Hz\n",
      "Finished processing Frequency ID: 1 -> 40 Hz\n",
      "\n",
      "Processing Frequency ID: 2 -> Target Frequency: 48 Hz\n",
      "Finished processing Frequency ID: 2 -> 48 Hz\n",
      "RESS pipeline completed for all target frequencies.\n"
     ]
    }
   ],
   "execution_count": 15
  },
  {
   "metadata": {},
   "cell_type": "markdown",
   "source": "## Visual Contrast Prediction on channel prefiltered data using ress components(LDA)",
   "id": "f6743982ac8acdd1"
  },
  {
   "metadata": {
    "ExecuteTime": {
     "end_time": "2025-01-03T23:04:01.648252Z",
     "start_time": "2025-01-03T23:03:59.837651Z"
    }
   },
   "cell_type": "code",
   "source": [
    "compute_accuracy_vs_contrast_with_sigmoid(p8_train_ress_ch_pre_filtered, p8_train, p8_test_ress_ch_pre_filtered, p8_test,'LDA', predict_baseline = False, plot = True, ress_filtered_data = True, output_dir='./Image/Threshold_Prediction/RESS_ch_filter',filename='P8_LDA_spatial_filter_12_20_Hz',title = 'P8 Frequency Prediction Accuracy vs Contrast (LDA,  Filtered channels and RESS filter)')\n",
    "compute_accuracy_vs_contrast_with_sigmoid(p7_train_ress_ch_pre_filtered, p7_train, p7_test_ress_ch_pre_filtered, p7_test,'LDA', predict_baseline = False, plot = True, ress_filtered_data = True, output_dir='./Image/Threshold_Prediction/RESS_ch_filter',filename='P7_LDA_spatial_filter_12_20_Hz',title = 'P7 Frequency Prediction Accuracy vs Contrast (LDA,  Filtered channels and RESS filter)')\n",
    "compute_accuracy_vs_contrast_with_sigmoid(p6_train_ress_ch_pre_filtered, p6_train, p6_test_ress_ch_pre_filtered, p6_test,'LDA', predict_baseline = False, plot = True, ress_filtered_data = True, output_dir='./Image/Threshold_Prediction/RESS_ch_filter',filename='P6_LDA_spatial_filter_12_20_Hz',title = 'P6 Frequency Prediction Accuracy vs Contrast (LDA,  Filtered channels and RESS filter)')\n",
    "compute_accuracy_vs_contrast_with_sigmoid(adr_train_ress_ch_pre_filtered, adr_train, adr_test_ress_ch_pre_filtered, adr_test,'LDA', predict_baseline = False, plot = True, ress_filtered_data = True, output_dir='./Image/Threshold_Prediction/RESS_ch_filter',filename='adr_LDA_spatial_filter_40_48_Hz',title = 'ADR Frequency Prediction Accuracy vs Contrast (LDA,  Filtered channels and RESS filter)')"
   ],
   "id": "c381b3db34147c66",
   "outputs": [],
   "execution_count": 16
  },
  {
   "metadata": {},
   "cell_type": "markdown",
   "source": "## Visual Contrast Prediction on Raw data using ress components(LDA)",
   "id": "6899cc3cbab69599"
  },
  {
   "metadata": {
    "ExecuteTime": {
     "end_time": "2025-01-03T23:04:03.312209Z",
     "start_time": "2025-01-03T23:04:01.649482Z"
    }
   },
   "cell_type": "code",
   "source": [
    "compute_accuracy_vs_contrast_with_sigmoid(p8_train_ress_raw, p8_train, p8_test_ress_raw, p8_test,'LDA', predict_baseline = False, plot = True, ress_filtered_data = True, output_dir='./Image/Threshold_Prediction/RESS_raw',filename='P8_LDA_spatial_filter_12_20_Hz',title = 'P8 Frequency Prediction Accuracy vs Contrast (LDA,  RESS filter)')\n",
    "compute_accuracy_vs_contrast_with_sigmoid(p7_train_ress_raw, p7_train, p7_test_ress_raw, p7_test,'LDA', predict_baseline = False, plot = True, ress_filtered_data = True, output_dir='./Image/Threshold_Prediction/RESS_raw',filename='P7_LDA_spatial_filter_12_20_Hz',title = 'P7 Frequency Prediction Accuracy vs Contrast (LDA,  RESS filter)')\n",
    "compute_accuracy_vs_contrast_with_sigmoid(p6_train_ress_raw, p6_train, p6_test_ress_raw, p6_test,'LDA', predict_baseline = False, plot = True, ress_filtered_data = True, output_dir='./Image/Threshold_Prediction/RESS_raw',filename='P6_LDA_spatial_filter_12_20_Hz',title = 'P6 Frequency Prediction Accuracy vs Contrast (LDA,  RESS filter)')\n",
    "compute_accuracy_vs_contrast_with_sigmoid(adr_train_ress_raw, adr_train, adr_test_ress_raw, adr_test,'LDA', predict_baseline = False, plot = True, ress_filtered_data = True, output_dir='./Image/Threshold_Prediction/RESS_raw',filename='adr_LDA_spatial_filter_40_48_Hz', max_fev=1000000,title = 'ADR Frequency Prediction Accuracy vs Contrast (LDA,  RESS filter)')"
   ],
   "id": "e786a037c905fb0a",
   "outputs": [],
   "execution_count": 17
  },
  {
   "metadata": {},
   "cell_type": "markdown",
   "source": "# Baseline Prediction",
   "id": "15346e46a1d03386"
  },
  {
   "metadata": {},
   "cell_type": "markdown",
   "source": "## Prediciton with no channels filtering and no RESS filtering",
   "id": "4a952959463843b6"
  },
  {
   "metadata": {},
   "cell_type": "markdown",
   "source": "LDA",
   "id": "4ba3fa9caa7c66e6"
  },
  {
   "metadata": {
    "ExecuteTime": {
     "end_time": "2025-01-03T23:04:52.654772Z",
     "start_time": "2025-01-03T23:04:03.315225Z"
    }
   },
   "cell_type": "code",
   "source": [
    "adr_epochs_train_augmented, adr_train_metadata = augment_with_shuffled_baseline(adr_epochs_train, adr_train)\n",
    "adr_epochs_test_augmented, adr_test_metadata = augment_with_shuffled_baseline(adr_epochs_test, adr_test)\n",
    "compute_accuracy_vs_contrast_with_sigmoid(adr_epochs_train_augmented, adr_train_metadata, adr_epochs_test_augmented,adr_test_metadata, 'LDA', predict_baseline=True, plot = True , output_dir='./Image/Threshold_Prediction/Baseline/adr', filename= 'adr_LDA',title = 'ADR Stimulus/Baseline Prediction Accuracy vs Contrast (LDA, Raw Data)',max_fev=10000)\n",
    "del adr_epochs_train_augmented, adr_train_metadata, adr_epochs_test_augmented, adr_test_metadata\n",
    "\n",
    "p6_epochs_train_augmented, p6_train_metadata = augment_with_shuffled_baseline(p6_epochs_train, p6_train)\n",
    "p6_epochs_test_augmented, p6_test_metadata = augment_with_shuffled_baseline(p6_epochs_test, p6_test)\n",
    "compute_accuracy_vs_contrast_with_sigmoid(p6_epochs_train_augmented, p6_train_metadata, p6_epochs_test_augmented,p6_test_metadata, 'LDA', predict_baseline=True, plot = True , output_dir='./Image/Threshold_Prediction/Baseline/p6', filename= 'p6_LDA',title = 'P6 Stimulus/Baseline Prediction Accuracy vs Contrast (LDA, Raw Data)')\n",
    "del p6_epochs_train_augmented, p6_train_metadata, p6_epochs_test_augmented, p6_test_metadata\n",
    "\n",
    "p7_epochs_train_augmented, p7_train_metadata = augment_with_shuffled_baseline(p7_epochs_train, p7_train)\n",
    "p7_epochs_test_augmented, p7_test_metadata = augment_with_shuffled_baseline(p7_epochs_test, p7_test)\n",
    "compute_accuracy_vs_contrast_with_sigmoid(p7_epochs_train_augmented, p7_train_metadata, p7_epochs_test_augmented,p7_test_metadata, 'LDA', predict_baseline=True, plot = True , output_dir='./Image/Threshold_Prediction/Baseline/p7', filename= 'p7_LDA',title = 'P7 Stimulus/Baseline Prediction Accuracy vs Contrast (LDA, Raw Data)',max_fev=10000)\n",
    "del p7_epochs_train_augmented, p7_train_metadata, p7_epochs_test_augmented, p7_test_metadata\n",
    "\n",
    "p8_epochs_train_augmented, p8_train_metadata = augment_with_shuffled_baseline(p8_epochs_train, p8_train)\n",
    "p8_epochs_test_augmented, p8_test_metadata = augment_with_shuffled_baseline(p8_epochs_test, p8_test)\n",
    "compute_accuracy_vs_contrast_with_sigmoid(p8_epochs_train_augmented, p8_train_metadata, p8_epochs_test_augmented,p8_test_metadata, 'LDA', predict_baseline=True, plot = True , output_dir='./Image/Threshold_Prediction/Baseline/p8', filename= 'p8_LDA',title = 'P8 Stimulus/Baseline Prediction Accuracy vs Contrast (LDA, Raw Data)')\n",
    "del p8_epochs_train_augmented, p8_train_metadata, p8_epochs_test_augmented, p8_test_metadata\n"
   ],
   "id": "a3e1081aa0e0e464",
   "outputs": [],
   "execution_count": 18
  },
  {
   "metadata": {},
   "cell_type": "markdown",
   "source": "SVM",
   "id": "879b45c43ffb510d"
  },
  {
   "metadata": {
    "ExecuteTime": {
     "end_time": "2025-01-03T23:07:59.333056Z",
     "start_time": "2025-01-03T23:04:52.655722Z"
    }
   },
   "cell_type": "code",
   "source": [
    "adr_epochs_train_augmented, adr_train_metadata = augment_with_shuffled_baseline(adr_epochs_train, adr_train)\n",
    "adr_epochs_test_augmented, adr_test_metadata = augment_with_shuffled_baseline(adr_epochs_test, adr_test)\n",
    "compute_accuracy_vs_contrast_with_sigmoid(adr_epochs_train_augmented, adr_train_metadata, adr_epochs_test_augmented,adr_test_metadata, 'SVM', predict_baseline=True, plot = True , output_dir='./Image/Threshold_Prediction/Baseline/adr', filename= 'adr_SVM',title = 'ADR Stimulus/Baseline Prediction Accuracy vs Contrast (SVM, Raw Data)',max_fev=10000)\n",
    "del adr_epochs_train_augmented, adr_train_metadata, adr_epochs_test_augmented, adr_test_metadata\n",
    "\n",
    "p6_epochs_train_augmented, p6_train_metadata = augment_with_shuffled_baseline(p6_epochs_train, p6_train)\n",
    "p6_epochs_test_augmented, p6_test_metadata = augment_with_shuffled_baseline(p6_epochs_test, p6_test)\n",
    "compute_accuracy_vs_contrast_with_sigmoid(p6_epochs_train_augmented, p6_train_metadata, p6_epochs_test_augmented,p6_test_metadata, 'SVM', predict_baseline=True, plot = True , output_dir='./Image/Threshold_Prediction/Baseline/p6', filename= 'p6_SVM',title = 'P6 Stimulus/Baseline Prediction Accuracy vs Contrast (SVM, Raw Data)')\n",
    "del p6_epochs_train_augmented, p6_train_metadata, p6_epochs_test_augmented, p6_test_metadata\n",
    "\n",
    "p7_epochs_train_augmented, p7_train_metadata = augment_with_shuffled_baseline(p7_epochs_train, p7_train)\n",
    "p7_epochs_test_augmented, p7_test_metadata = augment_with_shuffled_baseline(p7_epochs_test, p7_test)\n",
    "compute_accuracy_vs_contrast_with_sigmoid(p7_epochs_train_augmented, p7_train_metadata, p7_epochs_test_augmented,p7_test_metadata, 'SVM', predict_baseline=True, plot = True , output_dir='./Image/Threshold_Prediction/Baseline/p7', filename= 'p7_SVM',title = 'P7 Stimulus/Baseline Prediction Accuracy vs Contrast (SVM, Raw Data)',max_fev=10000)\n",
    "del p7_epochs_train_augmented, p7_train_metadata, p7_epochs_test_augmented, p7_test_metadata\n",
    "\n",
    "p8_epochs_train_augmented, p8_train_metadata = augment_with_shuffled_baseline(p8_epochs_train, p8_train)\n",
    "p8_epochs_test_augmented, p8_test_metadata = augment_with_shuffled_baseline(p8_epochs_test, p8_test)\n",
    "compute_accuracy_vs_contrast_with_sigmoid(p8_epochs_train_augmented, p8_train_metadata, p8_epochs_test_augmented,p8_test_metadata, 'SVM', predict_baseline=True, plot = True , output_dir='./Image/Threshold_Prediction/Baseline/p8', filename= 'p8_SVM',title = 'P8 Stimulus/Baseline Prediction Accuracy vs Contrast (SVM, Raw Data)')\n",
    "del p8_epochs_train_augmented, p8_train_metadata, p8_epochs_test_augmented, p8_test_metadata\n"
   ],
   "id": "42ea074bd68018bd",
   "outputs": [],
   "execution_count": 19
  },
  {
   "metadata": {},
   "cell_type": "markdown",
   "source": "CNN",
   "id": "a25c2c0d0e48564e"
  },
  {
   "metadata": {
    "ExecuteTime": {
     "end_time": "2025-01-03T23:32:34.634540Z",
     "start_time": "2025-01-03T23:29:02.264183Z"
    }
   },
   "cell_type": "code",
   "source": [
    "adr_epochs_train_augmented, adr_train_metadata = augment_with_shuffled_baseline(adr_epochs_train, adr_train)\n",
    "adr_epochs_test_augmented, adr_test_metadata = augment_with_shuffled_baseline(adr_epochs_test, adr_test)\n",
    "compute_accuracy_vs_contrast_with_sigmoid(adr_epochs_train_augmented, adr_train_metadata, adr_epochs_test_augmented,adr_test_metadata, 'CNN', predict_baseline=True, plot = True , output_dir='./Image/Threshold_Prediction/Baseline/adr', filename= 'adr_CNN',epochs_cnn=100,verbose_cnn=0,title = 'ADR Stimulus/Baseline Prediction Accuracy vs Contrast (CNN, Raw Data)',max_fev=100000)\n",
    "del adr_epochs_train_augmented, adr_train_metadata, adr_epochs_test_augmented, adr_test_metadata\n",
    "\n",
    "p6_epochs_train_augmented, p6_train_metadata = augment_with_shuffled_baseline(p6_epochs_train, p6_train)\n",
    "p6_epochs_test_augmented, p6_test_metadata = augment_with_shuffled_baseline(p6_epochs_test, p6_test)\n",
    "compute_accuracy_vs_contrast_with_sigmoid(p6_epochs_train_augmented, p6_train_metadata, p6_epochs_test_augmented,p6_test_metadata, 'CNN', predict_baseline=True, plot = True , output_dir='./Image/Threshold_Prediction/Baseline/p6', filename= 'p6_CNN',epochs_cnn=100,verbose_cnn=0,title = 'P6 Stimulus/Baseline Prediction Accuracy vs Contrast (CNN, Raw Data)',max_fev=100000)\n",
    "del p6_epochs_train_augmented, p6_train_metadata, p6_epochs_test_augmented, p6_test_metadata\n",
    "\n",
    "p7_epochs_train_augmented, p7_train_metadata = augment_with_shuffled_baseline(p7_epochs_train, p7_train)\n",
    "p7_epochs_test_augmented, p7_test_metadata = augment_with_shuffled_baseline(p7_epochs_test, p7_test)\n",
    "compute_accuracy_vs_contrast_with_sigmoid(p7_epochs_train_augmented, p7_train_metadata, p7_epochs_test_augmented,p7_test_metadata, 'CNN', predict_baseline=True, plot = True , output_dir='./Image/Threshold_Prediction/Baseline/p7', filename= 'p7_CNN',epochs_cnn=100,verbose_cnn=0,title = 'P7 Stimulus/Baseline Prediction Accuracy vs Contrast (CNN, Raw Data)',max_fev=100000)\n",
    "del p7_epochs_train_augmented, p7_train_metadata, p7_epochs_test_augmented, p7_test_metadata\n",
    "\n",
    "p8_epochs_train_augmented, p8_train_metadata = augment_with_shuffled_baseline(p8_epochs_train, p8_train)\n",
    "p8_epochs_test_augmented, p8_test_metadata = augment_with_shuffled_baseline(p8_epochs_test, p8_test)\n",
    "compute_accuracy_vs_contrast_with_sigmoid(p8_epochs_train_augmented, p8_train_metadata, p8_epochs_test_augmented,p8_test_metadata, 'CNN', predict_baseline=True, plot = True , output_dir='./Image/Threshold_Prediction/Baseline/p8', filename= 'p8_CNN',epochs_cnn=100,verbose_cnn=0,title = 'P8 Stimulus/Baseline Prediction Accuracy vs Contrast (CNN, Raw Data)',max_fev=100000)\n",
    "del p8_epochs_train_augmented, p8_train_metadata, p8_epochs_test_augmented, p8_test_metadata\n"
   ],
   "id": "1b42a1abed15cd97",
   "outputs": [
    {
     "name": "stdout",
     "output_type": "stream",
     "text": [
      "20/20 [==============================] - 0s 6ms/step\n",
      "33/33 [==============================] - 0s 6ms/step\n",
      "33/33 [==============================] - 0s 5ms/step\n",
      "33/33 [==============================] - 0s 5ms/step\n"
     ]
    }
   ],
   "execution_count": 35
  },
  {
   "metadata": {},
   "cell_type": "markdown",
   "source": "# Prediction with channels filtering & no RESS filtering",
   "id": "fe9641df365f1d2d"
  },
  {
   "metadata": {},
   "cell_type": "markdown",
   "source": "LDA",
   "id": "10e87644763cf74d"
  },
  {
   "metadata": {
    "ExecuteTime": {
     "end_time": "2025-01-03T23:12:26.593724Z",
     "start_time": "2025-01-03T23:11:32.665046Z"
    }
   },
   "cell_type": "code",
   "source": [
    "p8_epochs_train_ch_filter_augmented, p8_train_metadata = augment_with_shuffled_baseline(p8_epochs_train_ch_filter, p8_train)\n",
    "p8_epochs_test_ch_filter_augmented, p8_test_metadata = augment_with_shuffled_baseline(p8_epochs_test_ch_filter, p8_test)\n",
    "compute_accuracy_vs_contrast_with_sigmoid(p8_epochs_train_ch_filter_augmented, p8_train_metadata, p8_epochs_test_ch_filter_augmented,p8_test_metadata, 'LDA', predict_baseline=True, plot = True , output_dir='./Image/Threshold_Prediction/Baseline/p8', filename= 'p8_ch_filter_LDA',title = 'P8 Stimulus/Baseline Prediction Accuracy vs Contrast (LDA, Filtered channels)', max_fev=100000)\n",
    "\n",
    "del p8_epochs_train_ch_filter_augmented, p8_train_metadata, p8_epochs_test_ch_filter_augmented, p8_test_metadata\n",
    "\n",
    "p7_epochs_train_ch_filter_augmented, p7_train_metadata = augment_with_shuffled_baseline(p7_epochs_train_ch_filter, p7_train)\n",
    "p7_epochs_test_ch_filter_augmented, p7_test_metadata = augment_with_shuffled_baseline(p7_epochs_test_ch_filter, p7_test)\n",
    "compute_accuracy_vs_contrast_with_sigmoid(p7_epochs_train_ch_filter_augmented, p7_train_metadata, p7_epochs_test_ch_filter_augmented,p7_test_metadata, 'LDA', predict_baseline=True, plot = True , output_dir='./Image/Threshold_Prediction/Baseline/p7', filename= 'p7_ch_filter_LDA',title = 'P7 Stimulus/Baseline Prediction Accuracy vs Contrast (LDA, Filtered channels)', max_fev=100000)\n",
    "\n",
    "del p7_epochs_train_ch_filter_augmented, p7_train_metadata, p7_epochs_test_ch_filter_augmented, p7_test_metadata\n",
    "\n",
    "\n",
    "p6_epochs_train_ch_filter_augmented, p6_train_metadata = augment_with_shuffled_baseline(p6_epochs_train_ch_filter, p6_train)\n",
    "p6_epochs_test_ch_filter_augmented, p6_test_metadata = augment_with_shuffled_baseline(p6_epochs_test_ch_filter, p6_test)\n",
    "compute_accuracy_vs_contrast_with_sigmoid(p6_epochs_train_ch_filter_augmented, p6_train_metadata, p6_epochs_test_ch_filter_augmented,p6_test_metadata, 'LDA', predict_baseline=True, plot = True , output_dir='./Image/Threshold_Prediction/Baseline/p6', filename= 'p6_ch_filter_LDA',title = 'P6 Stimulus/Baseline Prediction Accuracy vs Contrast (LDA, Filtered channels)', max_fev=100000)\n",
    "\n",
    "del p6_epochs_train_ch_filter_augmented, p6_train_metadata, p6_epochs_test_ch_filter_augmented, p6_test_metadata\n",
    "\n",
    "adr_epochs_train_ch_filter_augmented, adr_train_metadata = augment_with_shuffled_baseline(adr_epochs_train_ch_filter, adr_train)\n",
    "adr_epochs_test_ch_filter_augmented, adr_test_metadata = augment_with_shuffled_baseline(adr_epochs_test_ch_filter, adr_test)\n",
    "compute_accuracy_vs_contrast_with_sigmoid(adr_epochs_train_ch_filter_augmented, adr_train_metadata, adr_epochs_test_ch_filter_augmented,adr_test_metadata, 'LDA', predict_baseline=True, plot = True , output_dir='./Image/Threshold_Prediction/Baseline/adr', filename= 'adr_ch_filter_LDA',title = 'ADR Stimulus/Baseline Prediction Accuracy vs Contrast (LDA, Filtered channels)', max_fev=10000)\n",
    "\n",
    "del adr_epochs_train_ch_filter_augmented, adr_train_metadata, adr_epochs_test_ch_filter_augmented, adr_test_metadata"
   ],
   "id": "6d77d70205ab35bc",
   "outputs": [],
   "execution_count": 21
  },
  {
   "metadata": {},
   "cell_type": "markdown",
   "source": "SVM",
   "id": "abc52a57228ddf6e"
  },
  {
   "metadata": {
    "ExecuteTime": {
     "end_time": "2025-01-03T23:15:56.325304Z",
     "start_time": "2025-01-03T23:12:26.595170Z"
    }
   },
   "cell_type": "code",
   "source": [
    "p8_epochs_train_ch_filter_augmented, p8_train_metadata = augment_with_shuffled_baseline(p8_epochs_train_ch_filter, p8_train)\n",
    "p8_epochs_test_ch_filter_augmented, p8_test_metadata = augment_with_shuffled_baseline(p8_epochs_test_ch_filter, p8_test)\n",
    "compute_accuracy_vs_contrast_with_sigmoid(p8_epochs_train_ch_filter_augmented, p8_train_metadata, p8_epochs_test_ch_filter_augmented,p8_test_metadata, 'SVM', predict_baseline=True, plot = True , output_dir='./Image/Threshold_Prediction/Baseline/p8', filename= 'p8_ch_filter_SVM',title = 'P8 Stimulus/Baseline Prediction Accuracy vs Contrast (SVM, Filtered channels)')\n",
    "\n",
    "del p8_epochs_train_ch_filter_augmented, p8_train_metadata, p8_epochs_test_ch_filter_augmented, p8_test_metadata\n",
    "\n",
    "p7_epochs_train_ch_filter_augmented, p7_train_metadata = augment_with_shuffled_baseline(p7_epochs_train_ch_filter, p7_train)\n",
    "p7_epochs_test_ch_filter_augmented, p7_test_metadata = augment_with_shuffled_baseline(p7_epochs_test_ch_filter, p7_test)\n",
    "compute_accuracy_vs_contrast_with_sigmoid(p7_epochs_train_ch_filter_augmented, p7_train_metadata, p7_epochs_test_ch_filter_augmented,p7_test_metadata, 'SVM', predict_baseline=True, plot = True , output_dir='./Image/Threshold_Prediction/Baseline/p7', filename= 'p7_ch_filter_SVM',title = 'P7 Stimulus/Baseline Prediction Accuracy vs Contrast (SVM, Filtered channels)', max_fev=10000)\n",
    "\n",
    "del p7_epochs_train_ch_filter_augmented, p7_train_metadata, p7_epochs_test_ch_filter_augmented, p7_test_metadata\n",
    "\n",
    "\n",
    "p6_epochs_train_ch_filter_augmented, p6_train_metadata = augment_with_shuffled_baseline(p6_epochs_train_ch_filter, p6_train)\n",
    "p6_epochs_test_ch_filter_augmented, p6_test_metadata = augment_with_shuffled_baseline(p6_epochs_test_ch_filter, p6_test)\n",
    "compute_accuracy_vs_contrast_with_sigmoid(p6_epochs_train_ch_filter_augmented, p6_train_metadata, p6_epochs_test_ch_filter_augmented,p6_test_metadata, 'SVM', predict_baseline=True, plot = True , output_dir='./Image/Threshold_Prediction/Baseline/p6', filename= 'p6_ch_filter_SVM',title = 'P6 Stimulus/Baseline Prediction Accuracy vs Contrast (SVM, Filtered channels)', max_fev=100000)\n",
    "\n",
    "del p6_epochs_train_ch_filter_augmented, p6_train_metadata, p6_epochs_test_ch_filter_augmented, p6_test_metadata\n",
    "\n",
    "adr_epochs_train_ch_filter_augmented, adr_train_metadata = augment_with_shuffled_baseline(adr_epochs_train_ch_filter, adr_train)\n",
    "adr_epochs_test_ch_filter_augmented, adr_test_metadata = augment_with_shuffled_baseline(adr_epochs_test_ch_filter, adr_test)\n",
    "compute_accuracy_vs_contrast_with_sigmoid(adr_epochs_train_ch_filter_augmented, adr_train_metadata, adr_epochs_test_ch_filter_augmented,adr_test_metadata, 'SVM', predict_baseline=True, plot = True , output_dir='./Image/Threshold_Prediction/Baseline/adr', filename= 'adr_ch_filter_SVM',title = 'ADR Stimulus/Baseline Prediction Accuracy vs Contrast (SVM, Filtered channels)', max_fev=10000)\n",
    "\n",
    "del adr_epochs_train_ch_filter_augmented, adr_train_metadata, adr_epochs_test_ch_filter_augmented, adr_test_metadata"
   ],
   "id": "bed3aa136f5e456b",
   "outputs": [],
   "execution_count": 22
  },
  {
   "metadata": {},
   "cell_type": "markdown",
   "source": "CNN",
   "id": "2af64de2084dbea7"
  },
  {
   "metadata": {
    "ExecuteTime": {
     "end_time": "2025-01-03T23:35:55.215761Z",
     "start_time": "2025-01-03T23:32:34.636539Z"
    }
   },
   "cell_type": "code",
   "source": [
    "p8_epochs_train_ch_filter_augmented, p8_train_metadata = augment_with_shuffled_baseline(p8_epochs_train_ch_filter, p8_train)\n",
    "p8_epochs_test_ch_filter_augmented, p8_test_metadata = augment_with_shuffled_baseline(p8_epochs_test_ch_filter, p8_test)\n",
    "compute_accuracy_vs_contrast_with_sigmoid(p8_epochs_train_ch_filter_augmented, p8_train_metadata, p8_epochs_test_ch_filter_augmented,p8_test_metadata, 'CNN', predict_baseline=True, plot = True , output_dir='./Image/Threshold_Prediction/Baseline/p8', filename= 'p8_ch_filter_CNN',epochs_cnn=100,verbose_cnn=0,title = 'P8 Stimulus/Baseline Prediction Accuracy vs Contrast (CNN, Filtered channels)',max_fev=100000)\n",
    "\n",
    "del p8_epochs_train_ch_filter_augmented, p8_train_metadata, p8_epochs_test_ch_filter_augmented, p8_test_metadata\n",
    "\n",
    "p7_epochs_train_ch_filter_augmented, p7_train_metadata = augment_with_shuffled_baseline(p7_epochs_train_ch_filter, p7_train)\n",
    "p7_epochs_test_ch_filter_augmented, p7_test_metadata = augment_with_shuffled_baseline(p7_epochs_test_ch_filter, p7_test)\n",
    "compute_accuracy_vs_contrast_with_sigmoid(p7_epochs_train_ch_filter_augmented, p7_train_metadata, p7_epochs_test_ch_filter_augmented,p7_test_metadata, 'CNN', predict_baseline=True, plot = True , output_dir='./Image/Threshold_Prediction/Baseline/p7', filename= 'p7_ch_filter_CNN',epochs_cnn=100,verbose_cnn=0,title = 'P7 Stimulus/Baseline Prediction Accuracy vs Contrast (CNN, Filtered channels)',max_fev=100000)\n",
    "\n",
    "del p7_epochs_train_ch_filter_augmented, p7_train_metadata, p7_epochs_test_ch_filter_augmented, p7_test_metadata\n",
    "\n",
    "\n",
    "p6_epochs_train_ch_filter_augmented, p6_train_metadata = augment_with_shuffled_baseline(p6_epochs_train_ch_filter, p6_train)\n",
    "p6_epochs_test_ch_filter_augmented, p6_test_metadata = augment_with_shuffled_baseline(p6_epochs_test_ch_filter, p6_test)\n",
    "compute_accuracy_vs_contrast_with_sigmoid(p6_epochs_train_ch_filter_augmented, p6_train_metadata, p6_epochs_test_ch_filter_augmented,p6_test_metadata, 'CNN', predict_baseline=True, plot = True , output_dir='./Image/Threshold_Prediction/Baseline/p6', filename= 'p6_ch_filter_CNN',epochs_cnn=100,verbose_cnn=0,title = 'P6 Stimulus/Baseline Prediction Accuracy vs Contrast (CNN, Filtered channels)', max_fev=100000)\n",
    "\n",
    "del p6_epochs_train_ch_filter_augmented, p6_train_metadata, p6_epochs_test_ch_filter_augmented, p6_test_metadata\n",
    "\n",
    "adr_epochs_train_ch_filter_augmented, adr_train_metadata = augment_with_shuffled_baseline(adr_epochs_train_ch_filter, adr_train)\n",
    "adr_epochs_test_ch_filter_augmented, adr_test_metadata = augment_with_shuffled_baseline(adr_epochs_test_ch_filter, adr_test)\n",
    "compute_accuracy_vs_contrast_with_sigmoid(adr_epochs_train_ch_filter_augmented, adr_train_metadata, adr_epochs_test_ch_filter_augmented,adr_test_metadata, 'CNN', predict_baseline=True, plot = True , output_dir='./Image/Threshold_Prediction/Baseline/adr', filename= 'adr_ch_filter_CNN',epochs_cnn=100,verbose_cnn=0,title = 'ADR Stimulus/Baseline Prediction Accuracy vs Contrast (CNN, Filtered channels)',max_fev=100000)\n",
    "\n",
    "del adr_epochs_train_ch_filter_augmented, adr_train_metadata, adr_epochs_test_ch_filter_augmented, adr_test_metadata"
   ],
   "id": "8751ded74b6a0f65",
   "outputs": [
    {
     "name": "stdout",
     "output_type": "stream",
     "text": [
      "33/33 [==============================] - 0s 6ms/step\n",
      "33/33 [==============================] - 0s 5ms/step\n"
     ]
    },
    {
     "name": "stderr",
     "output_type": "stream",
     "text": [
      "C:\\Users\\Home\\.conda\\envs\\SP1\\lib\\site-packages\\scipy\\optimize\\_minpack_py.py:881: OptimizeWarning: Covariance of the parameters could not be estimated\n",
      "  warnings.warn('Covariance of the parameters could not be estimated',\n"
     ]
    },
    {
     "name": "stdout",
     "output_type": "stream",
     "text": [
      "33/33 [==============================] - 0s 5ms/step\n",
      "20/20 [==============================] - 0s 6ms/step\n"
     ]
    }
   ],
   "execution_count": 36
  },
  {
   "metadata": {},
   "cell_type": "markdown",
   "source": "## Prediction with channel filtering and RESS Filtering",
   "id": "f144ee522e53f767"
  },
  {
   "metadata": {},
   "cell_type": "markdown",
   "source": "LDA",
   "id": "52b63f9e6d38a060"
  },
  {
   "metadata": {
    "ExecuteTime": {
     "end_time": "2025-01-03T23:16:08.005203Z",
     "start_time": "2025-01-03T23:15:56.328304Z"
    }
   },
   "cell_type": "code",
   "source": [
    "p8_epochs_train_ch_filter_ress_augmented, p8_train_metadata = augment_with_shuffled_baseline(p8_train_ress_ch_pre_filtered, p8_train, ress = True)\n",
    "p8_epochs_test_ch_filter_ress_augmented, p8_test_metadata = augment_with_shuffled_baseline(p8_test_ress_ch_pre_filtered, p8_test, ress = True)\n",
    "compute_accuracy_vs_contrast_with_sigmoid(p8_epochs_train_ch_filter_ress_augmented, p8_train_metadata, p8_epochs_test_ch_filter_ress_augmented,p8_test_metadata, 'LDA', predict_baseline=True, plot = True, ress_filtered_data = True , output_dir='./Image/Threshold_Prediction/Baseline/p8', filename= 'p8_ress_ch_filter',title = 'P8 Stimulus/Baseline Prediction Accuracy vs Contrast (LDA, Filtered channels and RESS Filter)', max_fev=100000)\n",
    "del p8_epochs_train_ch_filter_ress_augmented, p8_train_metadata, p8_epochs_test_ch_filter_ress_augmented, p8_test_metadata\n",
    "\n",
    "p7_epochs_train_ch_filter_ress_augmented, p7_train_metadata = augment_with_shuffled_baseline(p7_train_ress_ch_pre_filtered, p7_train, ress = True)\n",
    "p7_epochs_test_ch_filter_ress_augmented, p7_test_metadata = augment_with_shuffled_baseline(p7_test_ress_ch_pre_filtered, p7_test, ress = True)\n",
    "compute_accuracy_vs_contrast_with_sigmoid(p7_epochs_train_ch_filter_ress_augmented, p7_train_metadata, p7_epochs_test_ch_filter_ress_augmented,p7_test_metadata, 'LDA', predict_baseline=True, plot = True, ress_filtered_data = True , output_dir='./Image/Threshold_Prediction/Baseline/p7', filename= 'p7_ress_ch_filter',title = 'P7 Stimulus/Baseline Prediction Accuracy vs Contrast (LDA, Filtered channels and RESS Filter)', max_fev=500000)\n",
    "del p7_epochs_train_ch_filter_ress_augmented, p7_train_metadata, p7_epochs_test_ch_filter_ress_augmented, p7_test_metadata\n",
    "\n",
    "p6_epochs_train_ch_filter_ress_augmented, p6_train_metadata = augment_with_shuffled_baseline(p6_train_ress_ch_pre_filtered, p6_train, ress = True)\n",
    "p6_epochs_test_ch_filter_ress_augmented, p6_test_metadata = augment_with_shuffled_baseline(p6_test_ress_ch_pre_filtered, p6_test, ress = True)\n",
    "compute_accuracy_vs_contrast_with_sigmoid(p6_epochs_train_ch_filter_ress_augmented, p6_train_metadata, p6_epochs_test_ch_filter_ress_augmented,p6_test_metadata, 'LDA', predict_baseline=True, plot = True, ress_filtered_data = True , output_dir='./Image/Threshold_Prediction/Baseline/p6', filename= 'p6_ress_ch_filter',title = 'P6 Stimulus/Baseline Prediction Accuracy vs Contrast (LDA, Filtered channels and RESS Filter)', max_fev=100000)\n",
    "del p6_epochs_train_ch_filter_ress_augmented, p6_train_metadata, p6_epochs_test_ch_filter_ress_augmented, p6_test_metadata\n",
    "\n",
    "adr_epochs_train_ch_filter_ress_augmented, adr_train_metadata = augment_with_shuffled_baseline(adr_train_ress_ch_pre_filtered, adr_train, ress = True)\n",
    "adr_epochs_test_ch_filter_ress_augmented, adr_test_metadata = augment_with_shuffled_baseline(adr_test_ress_ch_pre_filtered, adr_test, ress = True)\n",
    "compute_accuracy_vs_contrast_with_sigmoid(adr_epochs_train_ch_filter_ress_augmented, adr_train_metadata, adr_epochs_test_ch_filter_ress_augmented,adr_test_metadata, 'LDA', predict_baseline=True, plot = True, ress_filtered_data = True , output_dir='./Image/Threshold_Prediction/Baseline/adr', filename= 'adr_ress_ch_filter',title = 'ADR Stimulus/Baseline Prediction Accuracy vs Contrast (LDA, Filtered channels and RESS Filter)', max_fev=100000)\n",
    "del adr_epochs_train_ch_filter_ress_augmented, adr_train_metadata, adr_epochs_test_ch_filter_ress_augmented, adr_test_metadata\n"
   ],
   "id": "3070b09c170073f",
   "outputs": [
    {
     "name": "stderr",
     "output_type": "stream",
     "text": [
      "C:\\Users\\Home\\.conda\\envs\\SP1\\lib\\site-packages\\scipy\\optimize\\_minpack_py.py:881: OptimizeWarning: Covariance of the parameters could not be estimated\n",
      "  warnings.warn('Covariance of the parameters could not be estimated',\n",
      "C:\\Users\\Home\\Documents\\EPFL\\Semester project\\Code\\visualization.py:386: RuntimeWarning: overflow encountered in exp\n",
      "  return a + (b - a) / (1 + np.exp(-c * (x - d)))\n"
     ]
    }
   ],
   "execution_count": 23
  },
  {
   "metadata": {},
   "cell_type": "markdown",
   "source": "SVM",
   "id": "c668a97482e6efcd"
  },
  {
   "metadata": {},
   "cell_type": "markdown",
   "source": "## Prediction with no channel filtering and ress filtering",
   "id": "78e9213986da6f1"
  },
  {
   "metadata": {},
   "cell_type": "markdown",
   "source": "LDA",
   "id": "460fe2b882dcd307"
  },
  {
   "metadata": {
    "ExecuteTime": {
     "end_time": "2025-01-03T23:17:23.527062Z",
     "start_time": "2025-01-03T23:17:16.616976Z"
    }
   },
   "cell_type": "code",
   "source": [
    "p8_epochs_train_ress_augmented, p8_train_metadata = augment_with_shuffled_baseline(p8_train_ress_raw, p8_train, ress = True)\n",
    "p8_epochs_test_ress_augmented, p8_test_metadata = augment_with_shuffled_baseline(p8_test_ress_raw, p8_test, ress = True)\n",
    "compute_accuracy_vs_contrast_with_sigmoid(p8_epochs_train_ress_augmented, p8_train_metadata, p8_epochs_test_ress_augmented,p8_test_metadata, 'LDA', predict_baseline=True, plot = True, ress_filtered_data = True , output_dir='./Image/Threshold_Prediction/Baseline/p8', filename= 'p8_ress_filter',title = 'P8 Stimulus/Baseline Prediction Accuracy vs Contrast (LDA, Filtered channels and RESS Filter)', max_fev=100000)\n",
    "\n",
    "del p8_epochs_train_ress_augmented, p8_train_metadata, p8_epochs_test_ress_augmented, p8_test_metadata\n",
    "\n",
    "p7_epochs_train_ress_augmented, p7_train_metadata = augment_with_shuffled_baseline(p7_train_ress_raw, p7_train, ress = True)\n",
    "p7_epochs_test_ress_augmented, p7_test_metadata = augment_with_shuffled_baseline(p7_test_ress_raw, p7_test, ress = True)\n",
    "compute_accuracy_vs_contrast_with_sigmoid(p7_epochs_train_ress_augmented, p7_train_metadata, p7_epochs_test_ress_augmented,p7_test_metadata, 'LDA', predict_baseline=True, plot = True, ress_filtered_data = True , output_dir='./Image/Threshold_Prediction/Baseline/p7', filename= 'p7_ress_filter',title = 'P7 Stimulus/Baseline Prediction Accuracy vs Contrast (LDA, Filtered channels and RESS Filter)', max_fev=100000)\n",
    "\n",
    "del p7_epochs_train_ress_augmented, p7_train_metadata, p7_epochs_test_ress_augmented, p7_test_metadata\n",
    "\n",
    "\n",
    "p6_epochs_train_ress_augmented, p6_train_metadata = augment_with_shuffled_baseline(p6_train_ress_raw, p6_train, ress = True)\n",
    "p6_epochs_test_ress_augmented, p6_test_metadata = augment_with_shuffled_baseline(p6_test_ress_raw, p6_test, ress = True)\n",
    "compute_accuracy_vs_contrast_with_sigmoid(p6_epochs_train_ress_augmented, p6_train_metadata, p6_epochs_test_ress_augmented,p6_test_metadata, 'LDA', predict_baseline=True, plot = True, ress_filtered_data = True , output_dir='./Image/Threshold_Prediction/Baseline/p6', filename= 'p6_ress_filter',title = 'P6 Stimulus/Baseline Prediction Accuracy vs Contrast (LDA, Filtered channels and RESS Filter)', max_fev=100000)\n",
    "\n",
    "del p6_epochs_train_ress_augmented, p6_train_metadata, p6_epochs_test_ress_augmented, p6_test_metadata\n",
    "\n",
    "adr_epochs_train_ress_augmented, adr_train_metadata = augment_with_shuffled_baseline(adr_train_ress_raw, adr_train, ress = True)\n",
    "adr_epochs_test_ress_augmented, adr_test_metadata = augment_with_shuffled_baseline(adr_test_ress_raw, adr_test, ress = True)\n",
    "compute_accuracy_vs_contrast_with_sigmoid(adr_epochs_train_ress_augmented, adr_train_metadata, adr_epochs_test_ress_augmented,adr_test_metadata, 'LDA', predict_baseline=True, plot = True, ress_filtered_data = True , output_dir='./Image/Threshold_Prediction/Baseline/adr', filename= 'adr_ress_filter',title = 'ADR Stimulus/Baseline Prediction Accuracy vs Contrast (LDA, Filtered channels and RESS Filter)', max_fev=100000)\n",
    "\n",
    "del adr_epochs_train_ress_augmented, adr_train_metadata, adr_epochs_test_ress_augmented, adr_test_metadata"
   ],
   "id": "ec5e96e9d932731",
   "outputs": [],
   "execution_count": 25
  },
  {
   "metadata": {},
   "cell_type": "markdown",
   "source": "SVM",
   "id": "24e8e033b8123eed"
  },
  {
   "metadata": {},
   "cell_type": "markdown",
   "source": "# Behavior Prediction",
   "id": "67cdf3e294c23797"
  },
  {
   "metadata": {
    "ExecuteTime": {
     "end_time": "2025-01-03T23:17:37.716342Z",
     "start_time": "2025-01-03T23:17:37.677333Z"
    }
   },
   "cell_type": "code",
   "source": [
    "p8_behavior = parse_dv_file('./Data/Behavior/P8_contrast.dv')\n",
    "p7_behavior = parse_dv_file('./Data/Behavior/P7_contrast.dv')\n",
    "p6_behavior = parse_dv_file('./Data/Behavior/P6_contrast.dv')\n",
    "adr_behavior = parse_dv_file('./Data/Behavior/ADR_contrast.dv')"
   ],
   "id": "c0bdec6874c09e00",
   "outputs": [],
   "execution_count": 27
  },
  {
   "metadata": {
    "ExecuteTime": {
     "end_time": "2025-01-03T23:21:26.261886Z",
     "start_time": "2025-01-03T23:21:23.938321Z"
    }
   },
   "cell_type": "code",
   "source": [
    "plot_accuracy_behavior(adr_behavior,'Image/Behavior results', 'adr_behavior', 'ADR Accuracy vs Contrast (Behavior Data)')\n",
    "plot_accuracy_behavior(p6_behavior,'Image/Behavior results', 'p6_behavior', 'P6 Accuracy vs Contrast (Behavior Data)')\n",
    "plot_accuracy_behavior(p7_behavior,'Image/Behavior results', 'p7_behavior', 'P7 Accuracy vs Contrast (Behavior Data)')\n",
    "plot_accuracy_behavior(p8_behavior,'Image/Behavior results', 'p8_behavior', 'P8 Accuracy vs Contrast (Behavior Data)')"
   ],
   "id": "3a96e5b5ee0d905b",
   "outputs": [],
   "execution_count": 29
  }
 ],
 "metadata": {
  "kernelspec": {
   "display_name": "Python 3",
   "language": "python",
   "name": "python3"
  },
  "language_info": {
   "codemirror_mode": {
    "name": "ipython",
    "version": 2
   },
   "file_extension": ".py",
   "mimetype": "text/x-python",
   "name": "python",
   "nbconvert_exporter": "python",
   "pygments_lexer": "ipython2",
   "version": "2.7.6"
  }
 },
 "nbformat": 4,
 "nbformat_minor": 5
}
